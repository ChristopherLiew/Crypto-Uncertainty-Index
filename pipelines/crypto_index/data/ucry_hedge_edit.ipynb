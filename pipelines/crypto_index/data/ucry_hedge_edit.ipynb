{
 "cells": [
  {
   "cell_type": "markdown",
   "metadata": {},
   "source": [
    "## Recompute and insert UCRY hedge data due to Disjointedness "
   ]
  },
  {
   "cell_type": "code",
   "execution_count": 1,
   "metadata": {},
   "outputs": [
    {
     "name": "stdout",
     "output_type": "stream",
     "text": [
      "/Users/christopherliew/Desktop/Y4S1/HT/crypto_uncertainty_index\n"
     ]
    }
   ],
   "source": [
    "import os\n",
    "os.chdir(\"../../..\")\n",
    "print(os.getcwd())\n",
    "import pandas as pd\n",
    "from pathlib import Path\n",
    "from postgres.utils import pd_to_pg"
   ]
  },
  {
   "cell_type": "code",
   "execution_count": 2,
   "metadata": {},
   "outputs": [],
   "source": [
    "data_dir = Path(\"pipelines/crypto_index/data\")\n",
    "part1 = pd.read_csv(data_dir / \"ucry_hedge_index_2014_01_to_06.csv\").drop(columns=[\"Unnamed: 0\"])\n",
    "part2 = pd.read_csv(data_dir / \"ucry_hedge_index_2014_06_to_2021_12.csv\")"
   ]
  },
  {
   "cell_type": "code",
   "execution_count": 3,
   "metadata": {},
   "outputs": [],
   "source": [
    "combi_df = pd.concat([part1, part2], axis=0).sort_values(by=[\"start_date\"]).reset_index(drop=True)"
   ]
  },
  {
   "cell_type": "code",
   "execution_count": 4,
   "metadata": {},
   "outputs": [],
   "source": [
    "mu_1 = combi_df['doc_count'].mean()\n",
    "sig_1 = combi_df['doc_count'].std()\n",
    "ucry_hedge_df = combi_df.copy()\n",
    "ucry_hedge_df['index_value'] = ((combi_df[\"doc_count\"] - mu_1) / sig_1) + 100"
   ]
  },
  {
   "cell_type": "code",
   "execution_count": 10,
   "metadata": {},
   "outputs": [
    {
     "data": {
      "text/html": [
       "<div>\n",
       "<style scoped>\n",
       "    .dataframe tbody tr th:only-of-type {\n",
       "        vertical-align: middle;\n",
       "    }\n",
       "\n",
       "    .dataframe tbody tr th {\n",
       "        vertical-align: top;\n",
       "    }\n",
       "\n",
       "    .dataframe thead th {\n",
       "        text-align: right;\n",
       "    }\n",
       "</style>\n",
       "<table border=\"1\" class=\"dataframe\">\n",
       "  <thead>\n",
       "    <tr style=\"text-align: right;\">\n",
       "      <th></th>\n",
       "      <th>type</th>\n",
       "      <th>start_date</th>\n",
       "      <th>end_date</th>\n",
       "      <th>doc_count</th>\n",
       "      <th>index_value</th>\n",
       "    </tr>\n",
       "  </thead>\n",
       "  <tbody>\n",
       "    <tr>\n",
       "      <th>0</th>\n",
       "      <td>bertweet-hedge</td>\n",
       "      <td>2013-12-30</td>\n",
       "      <td>2014-01-05</td>\n",
       "      <td>10.0</td>\n",
       "      <td>98.865099</td>\n",
       "    </tr>\n",
       "    <tr>\n",
       "      <th>1</th>\n",
       "      <td>bertweet-hedge</td>\n",
       "      <td>2014-01-06</td>\n",
       "      <td>2014-01-12</td>\n",
       "      <td>18.0</td>\n",
       "      <td>98.868875</td>\n",
       "    </tr>\n",
       "    <tr>\n",
       "      <th>2</th>\n",
       "      <td>bertweet-hedge</td>\n",
       "      <td>2014-01-13</td>\n",
       "      <td>2014-01-19</td>\n",
       "      <td>8.0</td>\n",
       "      <td>98.864155</td>\n",
       "    </tr>\n",
       "    <tr>\n",
       "      <th>3</th>\n",
       "      <td>bertweet-hedge</td>\n",
       "      <td>2014-01-20</td>\n",
       "      <td>2014-01-26</td>\n",
       "      <td>71.0</td>\n",
       "      <td>98.893891</td>\n",
       "    </tr>\n",
       "    <tr>\n",
       "      <th>4</th>\n",
       "      <td>bertweet-hedge</td>\n",
       "      <td>2014-01-27</td>\n",
       "      <td>2014-02-02</td>\n",
       "      <td>91.0</td>\n",
       "      <td>98.903331</td>\n",
       "    </tr>\n",
       "    <tr>\n",
       "      <th>...</th>\n",
       "      <td>...</td>\n",
       "      <td>...</td>\n",
       "      <td>...</td>\n",
       "      <td>...</td>\n",
       "      <td>...</td>\n",
       "    </tr>\n",
       "    <tr>\n",
       "      <th>427</th>\n",
       "      <td>bertweet-hedge</td>\n",
       "      <td>2021-11-29</td>\n",
       "      <td>2021-12-05</td>\n",
       "      <td>7976.0</td>\n",
       "      <td>102.625033</td>\n",
       "    </tr>\n",
       "    <tr>\n",
       "      <th>428</th>\n",
       "      <td>bertweet-hedge</td>\n",
       "      <td>2021-12-06</td>\n",
       "      <td>2021-12-12</td>\n",
       "      <td>7790.0</td>\n",
       "      <td>102.537241</td>\n",
       "    </tr>\n",
       "    <tr>\n",
       "      <th>429</th>\n",
       "      <td>bertweet-hedge</td>\n",
       "      <td>2021-12-13</td>\n",
       "      <td>2021-12-19</td>\n",
       "      <td>7782.0</td>\n",
       "      <td>102.533465</td>\n",
       "    </tr>\n",
       "    <tr>\n",
       "      <th>430</th>\n",
       "      <td>bertweet-hedge</td>\n",
       "      <td>2021-12-20</td>\n",
       "      <td>2021-12-26</td>\n",
       "      <td>6714.0</td>\n",
       "      <td>102.029372</td>\n",
       "    </tr>\n",
       "    <tr>\n",
       "      <th>431</th>\n",
       "      <td>bertweet-hedge</td>\n",
       "      <td>2021-12-27</td>\n",
       "      <td>2022-01-02</td>\n",
       "      <td>6000.0</td>\n",
       "      <td>101.692365</td>\n",
       "    </tr>\n",
       "  </tbody>\n",
       "</table>\n",
       "<p>432 rows × 5 columns</p>\n",
       "</div>"
      ],
      "text/plain": [
       "               type  start_date    end_date  doc_count  index_value\n",
       "0    bertweet-hedge  2013-12-30  2014-01-05       10.0    98.865099\n",
       "1    bertweet-hedge  2014-01-06  2014-01-12       18.0    98.868875\n",
       "2    bertweet-hedge  2014-01-13  2014-01-19        8.0    98.864155\n",
       "3    bertweet-hedge  2014-01-20  2014-01-26       71.0    98.893891\n",
       "4    bertweet-hedge  2014-01-27  2014-02-02       91.0    98.903331\n",
       "..              ...         ...         ...        ...          ...\n",
       "427  bertweet-hedge  2021-11-29  2021-12-05     7976.0   102.625033\n",
       "428  bertweet-hedge  2021-12-06  2021-12-12     7790.0   102.537241\n",
       "429  bertweet-hedge  2021-12-13  2021-12-19     7782.0   102.533465\n",
       "430  bertweet-hedge  2021-12-20  2021-12-26     6714.0   102.029372\n",
       "431  bertweet-hedge  2021-12-27  2022-01-02     6000.0   101.692365\n",
       "\n",
       "[432 rows x 5 columns]"
      ]
     },
     "execution_count": 10,
     "metadata": {},
     "output_type": "execute_result"
    }
   ],
   "source": [
    "ucry_hedge_df"
   ]
  },
  {
   "cell_type": "code",
   "execution_count": 6,
   "metadata": {},
   "outputs": [
    {
     "data": {
      "text/plain": [
       "<AxesSubplot:>"
      ]
     },
     "execution_count": 6,
     "metadata": {},
     "output_type": "execute_result"
    },
    {
     "data": {
      "image/png": "[encoded data removed]",
      "text/plain": [
       "<Figure size 432x288 with 1 Axes>"
      ]
     },
     "metadata": {
      "needs_background": "light"
     },
     "output_type": "display_data"
    }
   ],
   "source": [
    "ucry_hedge_df[[\"start_date\", \"index_value\"]].plot()"
   ]
  },
  {
   "cell_type": "code",
   "execution_count": 9,
   "metadata": {},
   "outputs": [
    {
     "name": "stdout",
     "output_type": "stream",
     "text": [
      "2022-03-29 22:20:04,105 INFO sqlalchemy.engine.Engine select pg_catalog.version()\n"
     ]
    },
    {
     "data": {
      "text/html": [
       "<pre style=\"white-space:pre;overflow-x:auto;line-height:normal;font-family:Menlo,'DejaVu Sans Mono',consolas,'Courier New',monospace\"><span style=\"color: #7fbfbf; text-decoration-color: #7fbfbf\">[03/29/22] </span><span style=\"color: #000080; text-decoration-color: #000080\">INFO    </span> select <span style=\"color: #800080; text-decoration-color: #800080; font-weight: bold\">pg_catalog.version</span><span style=\"font-weight: bold\">()</span>                                  <a href=\"file:///Users/christopherliew/Desktop/Y4S1/HT/crypto_uncertainty_index/.venv/crypto-uncertainty-index-SX872G0E-py3.8/lib/python3.8/site-packages/sqlalchemy/engine/base.py\"><span style=\"color: #7f7f7f; text-decoration-color: #7f7f7f\">base.py</span></a><span style=\"color: #7f7f7f; text-decoration-color: #7f7f7f\">:</span><a href=\"file:///Users/christopherliew/Desktop/Y4S1/HT/crypto_uncertainty_index/.venv/crypto-uncertainty-index-SX872G0E-py3.8/lib/python3.8/site-packages/sqlalchemy/engine/base.py#1761\"><span style=\"color: #7f7f7f; text-decoration-color: #7f7f7f\">1761</span></a>\n",
       "</pre>\n"
      ],
      "text/plain": [
       "\u001b[2;36m[03/29/22]\u001b[0m\u001b[2;36m \u001b[0m\u001b[34mINFO    \u001b[0m select \u001b[1;35mpg_catalog.version\u001b[0m\u001b[1m(\u001b[0m\u001b[1m)\u001b[0m                                  \u001b]8;id=603283;file:///Users/christopherliew/Desktop/Y4S1/HT/crypto_uncertainty_index/.venv/crypto-uncertainty-index-SX872G0E-py3.8/lib/python3.8/site-packages/sqlalchemy/engine/base.py\u001b\\\u001b[2mbase.py\u001b[0m\u001b]8;;\u001b\\\u001b[2m:\u001b[0m\u001b]8;id=990479;file:///Users/christopherliew/Desktop/Y4S1/HT/crypto_uncertainty_index/.venv/crypto-uncertainty-index-SX872G0E-py3.8/lib/python3.8/site-packages/sqlalchemy/engine/base.py#1761\u001b\\\u001b[2m1761\u001b[0m\u001b]8;;\u001b\\\n"
      ]
     },
     "metadata": {},
     "output_type": "display_data"
    },
    {
     "name": "stdout",
     "output_type": "stream",
     "text": [
      "2022-03-29 22:20:04,109 INFO sqlalchemy.engine.Engine [raw sql] {}\n"
     ]
    },
    {
     "data": {
      "text/html": [
       "<pre style=\"white-space:pre;overflow-x:auto;line-height:normal;font-family:Menlo,'DejaVu Sans Mono',consolas,'Courier New',monospace\"><span style=\"color: #7fbfbf; text-decoration-color: #7fbfbf\">           </span><span style=\"color: #000080; text-decoration-color: #000080\">INFO    </span> <span style=\"font-weight: bold\">[</span>raw sql<span style=\"font-weight: bold\">]</span> <span style=\"font-weight: bold\">{}</span>                                                 <a href=\"file:///Users/christopherliew/Desktop/Y4S1/HT/crypto_uncertainty_index/.venv/crypto-uncertainty-index-SX872G0E-py3.8/lib/python3.8/site-packages/sqlalchemy/engine/base.py\"><span style=\"color: #7f7f7f; text-decoration-color: #7f7f7f\">base.py</span></a><span style=\"color: #7f7f7f; text-decoration-color: #7f7f7f\">:</span><a href=\"file:///Users/christopherliew/Desktop/Y4S1/HT/crypto_uncertainty_index/.venv/crypto-uncertainty-index-SX872G0E-py3.8/lib/python3.8/site-packages/sqlalchemy/engine/base.py#1766\"><span style=\"color: #7f7f7f; text-decoration-color: #7f7f7f\">1766</span></a>\n",
       "</pre>\n"
      ],
      "text/plain": [
       "\u001b[2;36m          \u001b[0m\u001b[2;36m \u001b[0m\u001b[34mINFO    \u001b[0m \u001b[1m[\u001b[0mraw sql\u001b[1m]\u001b[0m \u001b[1m{\u001b[0m\u001b[1m}\u001b[0m                                                 \u001b]8;id=891227;file:///Users/christopherliew/Desktop/Y4S1/HT/crypto_uncertainty_index/.venv/crypto-uncertainty-index-SX872G0E-py3.8/lib/python3.8/site-packages/sqlalchemy/engine/base.py\u001b\\\u001b[2mbase.py\u001b[0m\u001b]8;;\u001b\\\u001b[2m:\u001b[0m\u001b]8;id=502548;file:///Users/christopherliew/Desktop/Y4S1/HT/crypto_uncertainty_index/.venv/crypto-uncertainty-index-SX872G0E-py3.8/lib/python3.8/site-packages/sqlalchemy/engine/base.py#1766\u001b\\\u001b[2m1766\u001b[0m\u001b]8;;\u001b\\\n"
      ]
     },
     "metadata": {},
     "output_type": "display_data"
    },
    {
     "name": "stdout",
     "output_type": "stream",
     "text": [
      "2022-03-29 22:20:04,113 INFO sqlalchemy.engine.Engine select current_schema()\n"
     ]
    },
    {
     "data": {
      "text/html": [
       "<pre style=\"white-space:pre;overflow-x:auto;line-height:normal;font-family:Menlo,'DejaVu Sans Mono',consolas,'Courier New',monospace\"><span style=\"color: #7fbfbf; text-decoration-color: #7fbfbf\">           </span><span style=\"color: #000080; text-decoration-color: #000080\">INFO    </span> select <span style=\"color: #800080; text-decoration-color: #800080; font-weight: bold\">current_schema</span><span style=\"font-weight: bold\">()</span>                                      <a href=\"file:///Users/christopherliew/Desktop/Y4S1/HT/crypto_uncertainty_index/.venv/crypto-uncertainty-index-SX872G0E-py3.8/lib/python3.8/site-packages/sqlalchemy/engine/base.py\"><span style=\"color: #7f7f7f; text-decoration-color: #7f7f7f\">base.py</span></a><span style=\"color: #7f7f7f; text-decoration-color: #7f7f7f\">:</span><a href=\"file:///Users/christopherliew/Desktop/Y4S1/HT/crypto_uncertainty_index/.venv/crypto-uncertainty-index-SX872G0E-py3.8/lib/python3.8/site-packages/sqlalchemy/engine/base.py#1761\"><span style=\"color: #7f7f7f; text-decoration-color: #7f7f7f\">1761</span></a>\n",
       "</pre>\n"
      ],
      "text/plain": [
       "\u001b[2;36m          \u001b[0m\u001b[2;36m \u001b[0m\u001b[34mINFO    \u001b[0m select \u001b[1;35mcurrent_schema\u001b[0m\u001b[1m(\u001b[0m\u001b[1m)\u001b[0m                                      \u001b]8;id=541872;file:///Users/christopherliew/Desktop/Y4S1/HT/crypto_uncertainty_index/.venv/crypto-uncertainty-index-SX872G0E-py3.8/lib/python3.8/site-packages/sqlalchemy/engine/base.py\u001b\\\u001b[2mbase.py\u001b[0m\u001b]8;;\u001b\\\u001b[2m:\u001b[0m\u001b]8;id=379423;file:///Users/christopherliew/Desktop/Y4S1/HT/crypto_uncertainty_index/.venv/crypto-uncertainty-index-SX872G0E-py3.8/lib/python3.8/site-packages/sqlalchemy/engine/base.py#1761\u001b\\\u001b[2m1761\u001b[0m\u001b]8;;\u001b\\\n"
      ]
     },
     "metadata": {},
     "output_type": "display_data"
    },
    {
     "name": "stdout",
     "output_type": "stream",
     "text": [
      "2022-03-29 22:20:04,115 INFO sqlalchemy.engine.Engine [raw sql] {}\n"
     ]
    },
    {
     "data": {
      "text/html": [
       "<pre style=\"white-space:pre;overflow-x:auto;line-height:normal;font-family:Menlo,'DejaVu Sans Mono',consolas,'Courier New',monospace\"><span style=\"color: #7fbfbf; text-decoration-color: #7fbfbf\">           </span><span style=\"color: #000080; text-decoration-color: #000080\">INFO    </span> <span style=\"font-weight: bold\">[</span>raw sql<span style=\"font-weight: bold\">]</span> <span style=\"font-weight: bold\">{}</span>                                                 <a href=\"file:///Users/christopherliew/Desktop/Y4S1/HT/crypto_uncertainty_index/.venv/crypto-uncertainty-index-SX872G0E-py3.8/lib/python3.8/site-packages/sqlalchemy/engine/base.py\"><span style=\"color: #7f7f7f; text-decoration-color: #7f7f7f\">base.py</span></a><span style=\"color: #7f7f7f; text-decoration-color: #7f7f7f\">:</span><a href=\"file:///Users/christopherliew/Desktop/Y4S1/HT/crypto_uncertainty_index/.venv/crypto-uncertainty-index-SX872G0E-py3.8/lib/python3.8/site-packages/sqlalchemy/engine/base.py#1766\"><span style=\"color: #7f7f7f; text-decoration-color: #7f7f7f\">1766</span></a>\n",
       "</pre>\n"
      ],
      "text/plain": [
       "\u001b[2;36m          \u001b[0m\u001b[2;36m \u001b[0m\u001b[34mINFO    \u001b[0m \u001b[1m[\u001b[0mraw sql\u001b[1m]\u001b[0m \u001b[1m{\u001b[0m\u001b[1m}\u001b[0m                                                 \u001b]8;id=355859;file:///Users/christopherliew/Desktop/Y4S1/HT/crypto_uncertainty_index/.venv/crypto-uncertainty-index-SX872G0E-py3.8/lib/python3.8/site-packages/sqlalchemy/engine/base.py\u001b\\\u001b[2mbase.py\u001b[0m\u001b]8;;\u001b\\\u001b[2m:\u001b[0m\u001b]8;id=866985;file:///Users/christopherliew/Desktop/Y4S1/HT/crypto_uncertainty_index/.venv/crypto-uncertainty-index-SX872G0E-py3.8/lib/python3.8/site-packages/sqlalchemy/engine/base.py#1766\u001b\\\u001b[2m1766\u001b[0m\u001b]8;;\u001b\\\n"
      ]
     },
     "metadata": {},
     "output_type": "display_data"
    },
    {
     "name": "stdout",
     "output_type": "stream",
     "text": [
      "2022-03-29 22:20:04,119 INFO sqlalchemy.engine.Engine show standard_conforming_strings\n"
     ]
    },
    {
     "data": {
      "text/html": [
       "<pre style=\"white-space:pre;overflow-x:auto;line-height:normal;font-family:Menlo,'DejaVu Sans Mono',consolas,'Courier New',monospace\"><span style=\"color: #7fbfbf; text-decoration-color: #7fbfbf\">           </span><span style=\"color: #000080; text-decoration-color: #000080\">INFO    </span> show standard_conforming_strings                             <a href=\"file:///Users/christopherliew/Desktop/Y4S1/HT/crypto_uncertainty_index/.venv/crypto-uncertainty-index-SX872G0E-py3.8/lib/python3.8/site-packages/sqlalchemy/engine/base.py\"><span style=\"color: #7f7f7f; text-decoration-color: #7f7f7f\">base.py</span></a><span style=\"color: #7f7f7f; text-decoration-color: #7f7f7f\">:</span><a href=\"file:///Users/christopherliew/Desktop/Y4S1/HT/crypto_uncertainty_index/.venv/crypto-uncertainty-index-SX872G0E-py3.8/lib/python3.8/site-packages/sqlalchemy/engine/base.py#1761\"><span style=\"color: #7f7f7f; text-decoration-color: #7f7f7f\">1761</span></a>\n",
       "</pre>\n"
      ],
      "text/plain": [
       "\u001b[2;36m          \u001b[0m\u001b[2;36m \u001b[0m\u001b[34mINFO    \u001b[0m show standard_conforming_strings                             \u001b]8;id=702511;file:///Users/christopherliew/Desktop/Y4S1/HT/crypto_uncertainty_index/.venv/crypto-uncertainty-index-SX872G0E-py3.8/lib/python3.8/site-packages/sqlalchemy/engine/base.py\u001b\\\u001b[2mbase.py\u001b[0m\u001b]8;;\u001b\\\u001b[2m:\u001b[0m\u001b]8;id=605473;file:///Users/christopherliew/Desktop/Y4S1/HT/crypto_uncertainty_index/.venv/crypto-uncertainty-index-SX872G0E-py3.8/lib/python3.8/site-packages/sqlalchemy/engine/base.py#1761\u001b\\\u001b[2m1761\u001b[0m\u001b]8;;\u001b\\\n"
      ]
     },
     "metadata": {},
     "output_type": "display_data"
    },
    {
     "name": "stdout",
     "output_type": "stream",
     "text": [
      "2022-03-29 22:20:04,120 INFO sqlalchemy.engine.Engine [raw sql] {}\n"
     ]
    },
    {
     "data": {
      "text/html": [
       "<pre style=\"white-space:pre;overflow-x:auto;line-height:normal;font-family:Menlo,'DejaVu Sans Mono',consolas,'Courier New',monospace\"><span style=\"color: #7fbfbf; text-decoration-color: #7fbfbf\">           </span><span style=\"color: #000080; text-decoration-color: #000080\">INFO    </span> <span style=\"font-weight: bold\">[</span>raw sql<span style=\"font-weight: bold\">]</span> <span style=\"font-weight: bold\">{}</span>                                                 <a href=\"file:///Users/christopherliew/Desktop/Y4S1/HT/crypto_uncertainty_index/.venv/crypto-uncertainty-index-SX872G0E-py3.8/lib/python3.8/site-packages/sqlalchemy/engine/base.py\"><span style=\"color: #7f7f7f; text-decoration-color: #7f7f7f\">base.py</span></a><span style=\"color: #7f7f7f; text-decoration-color: #7f7f7f\">:</span><a href=\"file:///Users/christopherliew/Desktop/Y4S1/HT/crypto_uncertainty_index/.venv/crypto-uncertainty-index-SX872G0E-py3.8/lib/python3.8/site-packages/sqlalchemy/engine/base.py#1766\"><span style=\"color: #7f7f7f; text-decoration-color: #7f7f7f\">1766</span></a>\n",
       "</pre>\n"
      ],
      "text/plain": [
       "\u001b[2;36m          \u001b[0m\u001b[2;36m \u001b[0m\u001b[34mINFO    \u001b[0m \u001b[1m[\u001b[0mraw sql\u001b[1m]\u001b[0m \u001b[1m{\u001b[0m\u001b[1m}\u001b[0m                                                 \u001b]8;id=788076;file:///Users/christopherliew/Desktop/Y4S1/HT/crypto_uncertainty_index/.venv/crypto-uncertainty-index-SX872G0E-py3.8/lib/python3.8/site-packages/sqlalchemy/engine/base.py\u001b\\\u001b[2mbase.py\u001b[0m\u001b]8;;\u001b\\\u001b[2m:\u001b[0m\u001b]8;id=852023;file:///Users/christopherliew/Desktop/Y4S1/HT/crypto_uncertainty_index/.venv/crypto-uncertainty-index-SX872G0E-py3.8/lib/python3.8/site-packages/sqlalchemy/engine/base.py#1766\u001b\\\u001b[2m1766\u001b[0m\u001b]8;;\u001b\\\n"
      ]
     },
     "metadata": {},
     "output_type": "display_data"
    },
    {
     "name": "stdout",
     "output_type": "stream",
     "text": [
      "2022-03-29 22:20:04,125 INFO sqlalchemy.engine.Engine select relname from pg_class c join pg_namespace n on n.oid=c.relnamespace where pg_catalog.pg_table_is_visible(c.oid) and relname=%(name)s\n"
     ]
    },
    {
     "data": {
      "text/html": [
       "<pre style=\"white-space:pre;overflow-x:auto;line-height:normal;font-family:Menlo,'DejaVu Sans Mono',consolas,'Courier New',monospace\"><span style=\"color: #7fbfbf; text-decoration-color: #7fbfbf\">           </span><span style=\"color: #000080; text-decoration-color: #000080\">INFO    </span> select relname from pg_class c join pg_namespace n on        <a href=\"file:///Users/christopherliew/Desktop/Y4S1/HT/crypto_uncertainty_index/.venv/crypto-uncertainty-index-SX872G0E-py3.8/lib/python3.8/site-packages/sqlalchemy/engine/base.py\"><span style=\"color: #7f7f7f; text-decoration-color: #7f7f7f\">base.py</span></a><span style=\"color: #7f7f7f; text-decoration-color: #7f7f7f\">:</span><a href=\"file:///Users/christopherliew/Desktop/Y4S1/HT/crypto_uncertainty_index/.venv/crypto-uncertainty-index-SX872G0E-py3.8/lib/python3.8/site-packages/sqlalchemy/engine/base.py#1761\"><span style=\"color: #7f7f7f; text-decoration-color: #7f7f7f\">1761</span></a>\n",
       "<span style=\"color: #7fbfbf; text-decoration-color: #7fbfbf\">           </span>         n.<span style=\"color: #808000; text-decoration-color: #808000\">oid</span>=<span style=\"color: #800080; text-decoration-color: #800080\">c</span>.relnamespace where                                   <span style=\"color: #7f7f7f; text-decoration-color: #7f7f7f\">            </span>\n",
       "<span style=\"color: #7fbfbf; text-decoration-color: #7fbfbf\">           </span>         <span style=\"color: #800080; text-decoration-color: #800080; font-weight: bold\">pg_catalog.pg_table_is_visible</span><span style=\"font-weight: bold\">(</span>c.oid<span style=\"font-weight: bold\">)</span> and <span style=\"color: #808000; text-decoration-color: #808000\">relname</span>=%<span style=\"font-weight: bold\">(</span>name<span style=\"font-weight: bold\">)</span>s   <span style=\"color: #7f7f7f; text-decoration-color: #7f7f7f\">            </span>\n",
       "</pre>\n"
      ],
      "text/plain": [
       "\u001b[2;36m          \u001b[0m\u001b[2;36m \u001b[0m\u001b[34mINFO    \u001b[0m select relname from pg_class c join pg_namespace n on        \u001b]8;id=909083;file:///Users/christopherliew/Desktop/Y4S1/HT/crypto_uncertainty_index/.venv/crypto-uncertainty-index-SX872G0E-py3.8/lib/python3.8/site-packages/sqlalchemy/engine/base.py\u001b\\\u001b[2mbase.py\u001b[0m\u001b]8;;\u001b\\\u001b[2m:\u001b[0m\u001b]8;id=921616;file:///Users/christopherliew/Desktop/Y4S1/HT/crypto_uncertainty_index/.venv/crypto-uncertainty-index-SX872G0E-py3.8/lib/python3.8/site-packages/sqlalchemy/engine/base.py#1761\u001b\\\u001b[2m1761\u001b[0m\u001b]8;;\u001b\\\n",
       "\u001b[2;36m           \u001b[0m         n.\u001b[33moid\u001b[0m=\u001b[35mc\u001b[0m.relnamespace where                                   \u001b[2m            \u001b[0m\n",
       "\u001b[2;36m           \u001b[0m         \u001b[1;35mpg_catalog.pg_table_is_visible\u001b[0m\u001b[1m(\u001b[0mc.oid\u001b[1m)\u001b[0m and \u001b[33mrelname\u001b[0m=%\u001b[1m(\u001b[0mname\u001b[1m)\u001b[0ms   \u001b[2m            \u001b[0m\n"
      ]
     },
     "metadata": {},
     "output_type": "display_data"
    },
    {
     "name": "stdout",
     "output_type": "stream",
     "text": [
      "2022-03-29 22:20:04,128 INFO sqlalchemy.engine.Engine [generated in 0.00254s] {'name': 'ucry_index'}\n"
     ]
    },
    {
     "data": {
      "text/html": [
       "<pre style=\"white-space:pre;overflow-x:auto;line-height:normal;font-family:Menlo,'DejaVu Sans Mono',consolas,'Courier New',monospace\"><span style=\"color: #7fbfbf; text-decoration-color: #7fbfbf\">           </span><span style=\"color: #000080; text-decoration-color: #000080\">INFO    </span> <span style=\"font-weight: bold\">[</span>generated in <span style=\"color: #008080; text-decoration-color: #008080; font-weight: bold\">0.</span>00254s<span style=\"font-weight: bold\">]</span> <span style=\"font-weight: bold\">{</span><span style=\"color: #008000; text-decoration-color: #008000\">'name'</span>: <span style=\"color: #008000; text-decoration-color: #008000\">'ucry_index'</span><span style=\"font-weight: bold\">}</span>               <a href=\"file:///Users/christopherliew/Desktop/Y4S1/HT/crypto_uncertainty_index/.venv/crypto-uncertainty-index-SX872G0E-py3.8/lib/python3.8/site-packages/sqlalchemy/engine/base.py\"><span style=\"color: #7f7f7f; text-decoration-color: #7f7f7f\">base.py</span></a><span style=\"color: #7f7f7f; text-decoration-color: #7f7f7f\">:</span><a href=\"file:///Users/christopherliew/Desktop/Y4S1/HT/crypto_uncertainty_index/.venv/crypto-uncertainty-index-SX872G0E-py3.8/lib/python3.8/site-packages/sqlalchemy/engine/base.py#1766\"><span style=\"color: #7f7f7f; text-decoration-color: #7f7f7f\">1766</span></a>\n",
       "</pre>\n"
      ],
      "text/plain": [
       "\u001b[2;36m          \u001b[0m\u001b[2;36m \u001b[0m\u001b[34mINFO    \u001b[0m \u001b[1m[\u001b[0mgenerated in \u001b[1;36m0.\u001b[0m00254s\u001b[1m]\u001b[0m \u001b[1m{\u001b[0m\u001b[32m'name'\u001b[0m: \u001b[32m'ucry_index'\u001b[0m\u001b[1m}\u001b[0m               \u001b]8;id=243086;file:///Users/christopherliew/Desktop/Y4S1/HT/crypto_uncertainty_index/.venv/crypto-uncertainty-index-SX872G0E-py3.8/lib/python3.8/site-packages/sqlalchemy/engine/base.py\u001b\\\u001b[2mbase.py\u001b[0m\u001b]8;;\u001b\\\u001b[2m:\u001b[0m\u001b]8;id=673668;file:///Users/christopherliew/Desktop/Y4S1/HT/crypto_uncertainty_index/.venv/crypto-uncertainty-index-SX872G0E-py3.8/lib/python3.8/site-packages/sqlalchemy/engine/base.py#1766\u001b\\\u001b[2m1766\u001b[0m\u001b]8;;\u001b\\\n"
      ]
     },
     "metadata": {},
     "output_type": "display_data"
    },
    {
     "name": "stdout",
     "output_type": "stream",
     "text": [
      "2022-03-29 22:20:04,134 INFO sqlalchemy.engine.Engine BEGIN (implicit)\n"
     ]
    },
    {
     "data": {
      "text/html": [
       "<pre style=\"white-space:pre;overflow-x:auto;line-height:normal;font-family:Menlo,'DejaVu Sans Mono',consolas,'Courier New',monospace\"><span style=\"color: #7fbfbf; text-decoration-color: #7fbfbf\">           </span><span style=\"color: #000080; text-decoration-color: #000080\">INFO    </span> BEGIN <span style=\"font-weight: bold\">(</span>implicit<span style=\"font-weight: bold\">)</span>                                              <a href=\"file:///Users/christopherliew/Desktop/Y4S1/HT/crypto_uncertainty_index/.venv/crypto-uncertainty-index-SX872G0E-py3.8/lib/python3.8/site-packages/sqlalchemy/engine/base.py\"><span style=\"color: #7f7f7f; text-decoration-color: #7f7f7f\">base.py</span></a><span style=\"color: #7f7f7f; text-decoration-color: #7f7f7f\">:</span><a href=\"file:///Users/christopherliew/Desktop/Y4S1/HT/crypto_uncertainty_index/.venv/crypto-uncertainty-index-SX872G0E-py3.8/lib/python3.8/site-packages/sqlalchemy/engine/base.py#942\"><span style=\"color: #7f7f7f; text-decoration-color: #7f7f7f\">942</span></a>\n",
       "</pre>\n"
      ],
      "text/plain": [
       "\u001b[2;36m          \u001b[0m\u001b[2;36m \u001b[0m\u001b[34mINFO    \u001b[0m BEGIN \u001b[1m(\u001b[0mimplicit\u001b[1m)\u001b[0m                                              \u001b]8;id=197583;file:///Users/christopherliew/Desktop/Y4S1/HT/crypto_uncertainty_index/.venv/crypto-uncertainty-index-SX872G0E-py3.8/lib/python3.8/site-packages/sqlalchemy/engine/base.py\u001b\\\u001b[2mbase.py\u001b[0m\u001b]8;;\u001b\\\u001b[2m:\u001b[0m\u001b]8;id=12907;file:///Users/christopherliew/Desktop/Y4S1/HT/crypto_uncertainty_index/.venv/crypto-uncertainty-index-SX872G0E-py3.8/lib/python3.8/site-packages/sqlalchemy/engine/base.py#942\u001b\\\u001b[2m942\u001b[0m\u001b]8;;\u001b\\\n"
      ]
     },
     "metadata": {},
     "output_type": "display_data"
    },
    {
     "name": "stdout",
     "output_type": "stream",
     "text": [
      "2022-03-29 22:20:04,138 INFO sqlalchemy.engine.Engine INSERT INTO ucry_index (type, start_date, end_date, doc_count, index_value) VALUES (%(type)s, %(start_date)s, %(end_date)s, %(doc_count)s, %(index_value)s)\n"
     ]
    },
    {
     "data": {
      "text/html": [
       "<pre style=\"white-space:pre;overflow-x:auto;line-height:normal;font-family:Menlo,'DejaVu Sans Mono',consolas,'Courier New',monospace\"><span style=\"color: #7fbfbf; text-decoration-color: #7fbfbf\">           </span><span style=\"color: #000080; text-decoration-color: #000080\">INFO    </span> INSERT INTO ucry_index <span style=\"font-weight: bold\">(</span>type, start_date, end_date,          <a href=\"file:///Users/christopherliew/Desktop/Y4S1/HT/crypto_uncertainty_index/.venv/crypto-uncertainty-index-SX872G0E-py3.8/lib/python3.8/site-packages/sqlalchemy/engine/base.py\"><span style=\"color: #7f7f7f; text-decoration-color: #7f7f7f\">base.py</span></a><span style=\"color: #7f7f7f; text-decoration-color: #7f7f7f\">:</span><a href=\"file:///Users/christopherliew/Desktop/Y4S1/HT/crypto_uncertainty_index/.venv/crypto-uncertainty-index-SX872G0E-py3.8/lib/python3.8/site-packages/sqlalchemy/engine/base.py#1761\"><span style=\"color: #7f7f7f; text-decoration-color: #7f7f7f\">1761</span></a>\n",
       "<span style=\"color: #7fbfbf; text-decoration-color: #7fbfbf\">           </span>         doc_count, index_value<span style=\"font-weight: bold\">)</span> VALUES <span style=\"font-weight: bold\">(</span>%<span style=\"font-weight: bold\">(</span>type<span style=\"font-weight: bold\">)</span>s, %<span style=\"font-weight: bold\">(</span>start_date<span style=\"font-weight: bold\">)</span>s,    <span style=\"color: #7f7f7f; text-decoration-color: #7f7f7f\">            </span>\n",
       "<span style=\"color: #7fbfbf; text-decoration-color: #7fbfbf\">           </span>         %<span style=\"font-weight: bold\">(</span>end_date<span style=\"font-weight: bold\">)</span>s, %<span style=\"font-weight: bold\">(</span>doc_count<span style=\"font-weight: bold\">)</span>s, %<span style=\"font-weight: bold\">(</span>index_value<span style=\"font-weight: bold\">)</span>s<span style=\"font-weight: bold\">)</span>                <span style=\"color: #7f7f7f; text-decoration-color: #7f7f7f\">            </span>\n",
       "</pre>\n"
      ],
      "text/plain": [
       "\u001b[2;36m          \u001b[0m\u001b[2;36m \u001b[0m\u001b[34mINFO    \u001b[0m INSERT INTO ucry_index \u001b[1m(\u001b[0mtype, start_date, end_date,          \u001b]8;id=607701;file:///Users/christopherliew/Desktop/Y4S1/HT/crypto_uncertainty_index/.venv/crypto-uncertainty-index-SX872G0E-py3.8/lib/python3.8/site-packages/sqlalchemy/engine/base.py\u001b\\\u001b[2mbase.py\u001b[0m\u001b]8;;\u001b\\\u001b[2m:\u001b[0m\u001b]8;id=349262;file:///Users/christopherliew/Desktop/Y4S1/HT/crypto_uncertainty_index/.venv/crypto-uncertainty-index-SX872G0E-py3.8/lib/python3.8/site-packages/sqlalchemy/engine/base.py#1761\u001b\\\u001b[2m1761\u001b[0m\u001b]8;;\u001b\\\n",
       "\u001b[2;36m           \u001b[0m         doc_count, index_value\u001b[1m)\u001b[0m VALUES \u001b[1m(\u001b[0m%\u001b[1m(\u001b[0mtype\u001b[1m)\u001b[0ms, %\u001b[1m(\u001b[0mstart_date\u001b[1m)\u001b[0ms,    \u001b[2m            \u001b[0m\n",
       "\u001b[2;36m           \u001b[0m         %\u001b[1m(\u001b[0mend_date\u001b[1m)\u001b[0ms, %\u001b[1m(\u001b[0mdoc_count\u001b[1m)\u001b[0ms, %\u001b[1m(\u001b[0mindex_value\u001b[1m)\u001b[0ms\u001b[1m)\u001b[0m                \u001b[2m            \u001b[0m\n"
      ]
     },
     "metadata": {},
     "output_type": "display_data"
    },
    {
     "name": "stdout",
     "output_type": "stream",
     "text": [
      "2022-03-29 22:20:04,141 INFO sqlalchemy.engine.Engine [generated in 0.00332s] ({'type': 'bertweet-hedge', 'start_date': '2013-12-30', 'end_date': '2014-01-05', 'doc_count': 10.0, 'index_value': 98.8650989094847}, {'type': 'bertweet-hedge', 'start_date': '2014-01-06', 'end_date': '2014-01-12', 'doc_count': 18.0, 'index_value': 98.86887489142494}, {'type': 'bertweet-hedge', 'start_date': '2014-01-13', 'end_date': '2014-01-19', 'doc_count': 8.0, 'index_value': 98.86415491399964}, {'type': 'bertweet-hedge', 'start_date': '2014-01-20', 'end_date': '2014-01-26', 'doc_count': 71.0, 'index_value': 98.89389077177903}, {'type': 'bertweet-hedge', 'start_date': '2014-01-27', 'end_date': '2014-02-02', 'doc_count': 91.0, 'index_value': 98.90333072662962}, {'type': 'bertweet-hedge', 'start_date': '2014-02-03', 'end_date': '2014-02-09', 'doc_count': 101.0, 'index_value': 98.90805070405493}, {'type': 'bertweet-hedge', 'start_date': '2014-02-10', 'end_date': '2014-02-16', 'doc_count': 101.0, 'index_value': 98.90805070405493}, {'type': 'bertweet-hedge', 'start_date': '2014-02-17', 'end_date': '2014-02-23', 'doc_count': 118.0, 'index_value': 98.91607466567793}  ... displaying 10 of 432 total bound parameter sets ...  {'type': 'bertweet-hedge', 'start_date': '2021-12-20', 'end_date': '2021-12-26', 'doc_count': 6714.0, 'index_value': 102.02937177540522}, {'type': 'bertweet-hedge', 'start_date': '2021-12-27', 'end_date': '2022-01-02', 'doc_count': 6000.0, 'index_value': 101.69236538723887})\n"
     ]
    },
    {
     "data": {
      "text/html": [
       "<pre style=\"white-space:pre;overflow-x:auto;line-height:normal;font-family:Menlo,'DejaVu Sans Mono',consolas,'Courier New',monospace\"><span style=\"color: #7fbfbf; text-decoration-color: #7fbfbf\">           </span><span style=\"color: #000080; text-decoration-color: #000080\">INFO    </span> <span style=\"font-weight: bold\">[</span>generated in <span style=\"color: #008080; text-decoration-color: #008080; font-weight: bold\">0.</span>00332s<span style=\"font-weight: bold\">]</span> <span style=\"font-weight: bold\">({</span><span style=\"color: #008000; text-decoration-color: #008000\">'type'</span>: <span style=\"color: #008000; text-decoration-color: #008000\">'bertweet-hedge'</span>,          <a href=\"file:///Users/christopherliew/Desktop/Y4S1/HT/crypto_uncertainty_index/.venv/crypto-uncertainty-index-SX872G0E-py3.8/lib/python3.8/site-packages/sqlalchemy/engine/base.py\"><span style=\"color: #7f7f7f; text-decoration-color: #7f7f7f\">base.py</span></a><span style=\"color: #7f7f7f; text-decoration-color: #7f7f7f\">:</span><a href=\"file:///Users/christopherliew/Desktop/Y4S1/HT/crypto_uncertainty_index/.venv/crypto-uncertainty-index-SX872G0E-py3.8/lib/python3.8/site-packages/sqlalchemy/engine/base.py#1766\"><span style=\"color: #7f7f7f; text-decoration-color: #7f7f7f\">1766</span></a>\n",
       "<span style=\"color: #7fbfbf; text-decoration-color: #7fbfbf\">           </span>         <span style=\"color: #008000; text-decoration-color: #008000\">'start_date'</span>: <span style=\"color: #008000; text-decoration-color: #008000\">'2013-12-30'</span>, <span style=\"color: #008000; text-decoration-color: #008000\">'end_date'</span>: <span style=\"color: #008000; text-decoration-color: #008000\">'2014-01-05'</span>,        <span style=\"color: #7f7f7f; text-decoration-color: #7f7f7f\">            </span>\n",
       "<span style=\"color: #7fbfbf; text-decoration-color: #7fbfbf\">           </span>         <span style=\"color: #008000; text-decoration-color: #008000\">'doc_count'</span>: <span style=\"color: #008080; text-decoration-color: #008080; font-weight: bold\">10.0</span>, <span style=\"color: #008000; text-decoration-color: #008000\">'index_value'</span>: <span style=\"color: #008080; text-decoration-color: #008080; font-weight: bold\">98.8650989094847</span><span style=\"font-weight: bold\">}</span>,         <span style=\"color: #7f7f7f; text-decoration-color: #7f7f7f\">            </span>\n",
       "<span style=\"color: #7fbfbf; text-decoration-color: #7fbfbf\">           </span>         <span style=\"font-weight: bold\">{</span><span style=\"color: #008000; text-decoration-color: #008000\">'type'</span>: <span style=\"color: #008000; text-decoration-color: #008000\">'bertweet-hedge'</span>, <span style=\"color: #008000; text-decoration-color: #008000\">'start_date'</span>: <span style=\"color: #008000; text-decoration-color: #008000\">'2014-01-06'</span>,       <span style=\"color: #7f7f7f; text-decoration-color: #7f7f7f\">            </span>\n",
       "<span style=\"color: #7fbfbf; text-decoration-color: #7fbfbf\">           </span>         <span style=\"color: #008000; text-decoration-color: #008000\">'end_date'</span>: <span style=\"color: #008000; text-decoration-color: #008000\">'2014-01-12'</span>, <span style=\"color: #008000; text-decoration-color: #008000\">'doc_count'</span>: <span style=\"color: #008080; text-decoration-color: #008080; font-weight: bold\">18.0</span>, <span style=\"color: #008000; text-decoration-color: #008000\">'index_value'</span>:  <span style=\"color: #7f7f7f; text-decoration-color: #7f7f7f\">            </span>\n",
       "<span style=\"color: #7fbfbf; text-decoration-color: #7fbfbf\">           </span>         <span style=\"color: #008080; text-decoration-color: #008080; font-weight: bold\">98.86887489142494</span><span style=\"font-weight: bold\">}</span>, <span style=\"font-weight: bold\">{</span><span style=\"color: #008000; text-decoration-color: #008000\">'type'</span>: <span style=\"color: #008000; text-decoration-color: #008000\">'bertweet-hedge'</span>, <span style=\"color: #008000; text-decoration-color: #008000\">'start_date'</span>: <span style=\"color: #7f7f7f; text-decoration-color: #7f7f7f\">            </span>\n",
       "<span style=\"color: #7fbfbf; text-decoration-color: #7fbfbf\">           </span>         <span style=\"color: #008000; text-decoration-color: #008000\">'2014-01-13'</span>, <span style=\"color: #008000; text-decoration-color: #008000\">'end_date'</span>: <span style=\"color: #008000; text-decoration-color: #008000\">'2014-01-19'</span>, <span style=\"color: #008000; text-decoration-color: #008000\">'doc_count'</span>: <span style=\"color: #008080; text-decoration-color: #008080; font-weight: bold\">8.0</span>,    <span style=\"color: #7f7f7f; text-decoration-color: #7f7f7f\">            </span>\n",
       "<span style=\"color: #7fbfbf; text-decoration-color: #7fbfbf\">           </span>         <span style=\"color: #008000; text-decoration-color: #008000\">'index_value'</span>: <span style=\"color: #008080; text-decoration-color: #008080; font-weight: bold\">98.86415491399964</span><span style=\"font-weight: bold\">}</span>, <span style=\"font-weight: bold\">{</span><span style=\"color: #008000; text-decoration-color: #008000\">'type'</span>:                  <span style=\"color: #7f7f7f; text-decoration-color: #7f7f7f\">            </span>\n",
       "<span style=\"color: #7fbfbf; text-decoration-color: #7fbfbf\">           </span>         <span style=\"color: #008000; text-decoration-color: #008000\">'bertweet-hedge'</span>, <span style=\"color: #008000; text-decoration-color: #008000\">'start_date'</span>: <span style=\"color: #008000; text-decoration-color: #008000\">'2014-01-20'</span>, <span style=\"color: #008000; text-decoration-color: #008000\">'end_date'</span>:    <span style=\"color: #7f7f7f; text-decoration-color: #7f7f7f\">            </span>\n",
       "<span style=\"color: #7fbfbf; text-decoration-color: #7fbfbf\">           </span>         <span style=\"color: #008000; text-decoration-color: #008000\">'2014-01-26'</span>, <span style=\"color: #008000; text-decoration-color: #008000\">'doc_count'</span>: <span style=\"color: #008080; text-decoration-color: #008080; font-weight: bold\">71.0</span>, <span style=\"color: #008000; text-decoration-color: #008000\">'index_value'</span>:              <span style=\"color: #7f7f7f; text-decoration-color: #7f7f7f\">            </span>\n",
       "<span style=\"color: #7fbfbf; text-decoration-color: #7fbfbf\">           </span>         <span style=\"color: #008080; text-decoration-color: #008080; font-weight: bold\">98.89389077177903</span><span style=\"font-weight: bold\">}</span>, <span style=\"font-weight: bold\">{</span><span style=\"color: #008000; text-decoration-color: #008000\">'type'</span>: <span style=\"color: #008000; text-decoration-color: #008000\">'bertweet-hedge'</span>, <span style=\"color: #008000; text-decoration-color: #008000\">'start_date'</span>: <span style=\"color: #7f7f7f; text-decoration-color: #7f7f7f\">            </span>\n",
       "<span style=\"color: #7fbfbf; text-decoration-color: #7fbfbf\">           </span>         <span style=\"color: #008000; text-decoration-color: #008000\">'2014-01-27'</span>, <span style=\"color: #008000; text-decoration-color: #008000\">'end_date'</span>: <span style=\"color: #008000; text-decoration-color: #008000\">'2014-02-02'</span>, <span style=\"color: #008000; text-decoration-color: #008000\">'doc_count'</span>: <span style=\"color: #008080; text-decoration-color: #008080; font-weight: bold\">91.0</span>,   <span style=\"color: #7f7f7f; text-decoration-color: #7f7f7f\">            </span>\n",
       "<span style=\"color: #7fbfbf; text-decoration-color: #7fbfbf\">           </span>         <span style=\"color: #008000; text-decoration-color: #008000\">'index_value'</span>: <span style=\"color: #008080; text-decoration-color: #008080; font-weight: bold\">98.90333072662962</span><span style=\"font-weight: bold\">}</span>, <span style=\"font-weight: bold\">{</span><span style=\"color: #008000; text-decoration-color: #008000\">'type'</span>:                  <span style=\"color: #7f7f7f; text-decoration-color: #7f7f7f\">            </span>\n",
       "<span style=\"color: #7fbfbf; text-decoration-color: #7fbfbf\">           </span>         <span style=\"color: #008000; text-decoration-color: #008000\">'bertweet-hedge'</span>, <span style=\"color: #008000; text-decoration-color: #008000\">'start_date'</span>: <span style=\"color: #008000; text-decoration-color: #008000\">'2014-02-03'</span>, <span style=\"color: #008000; text-decoration-color: #008000\">'end_date'</span>:    <span style=\"color: #7f7f7f; text-decoration-color: #7f7f7f\">            </span>\n",
       "<span style=\"color: #7fbfbf; text-decoration-color: #7fbfbf\">           </span>         <span style=\"color: #008000; text-decoration-color: #008000\">'2014-02-09'</span>, <span style=\"color: #008000; text-decoration-color: #008000\">'doc_count'</span>: <span style=\"color: #008080; text-decoration-color: #008080; font-weight: bold\">101.0</span>, <span style=\"color: #008000; text-decoration-color: #008000\">'index_value'</span>:             <span style=\"color: #7f7f7f; text-decoration-color: #7f7f7f\">            </span>\n",
       "<span style=\"color: #7fbfbf; text-decoration-color: #7fbfbf\">           </span>         <span style=\"color: #008080; text-decoration-color: #008080; font-weight: bold\">98.90805070405493</span><span style=\"font-weight: bold\">}</span>, <span style=\"font-weight: bold\">{</span><span style=\"color: #008000; text-decoration-color: #008000\">'type'</span>: <span style=\"color: #008000; text-decoration-color: #008000\">'bertweet-hedge'</span>, <span style=\"color: #008000; text-decoration-color: #008000\">'start_date'</span>: <span style=\"color: #7f7f7f; text-decoration-color: #7f7f7f\">            </span>\n",
       "<span style=\"color: #7fbfbf; text-decoration-color: #7fbfbf\">           </span>         <span style=\"color: #008000; text-decoration-color: #008000\">'2014-02-10'</span>, <span style=\"color: #008000; text-decoration-color: #008000\">'end_date'</span>: <span style=\"color: #008000; text-decoration-color: #008000\">'2014-02-16'</span>, <span style=\"color: #008000; text-decoration-color: #008000\">'doc_count'</span>: <span style=\"color: #008080; text-decoration-color: #008080; font-weight: bold\">101.0</span>,  <span style=\"color: #7f7f7f; text-decoration-color: #7f7f7f\">            </span>\n",
       "<span style=\"color: #7fbfbf; text-decoration-color: #7fbfbf\">           </span>         <span style=\"color: #008000; text-decoration-color: #008000\">'index_value'</span>: <span style=\"color: #008080; text-decoration-color: #008080; font-weight: bold\">98.90805070405493</span><span style=\"font-weight: bold\">}</span>, <span style=\"font-weight: bold\">{</span><span style=\"color: #008000; text-decoration-color: #008000\">'type'</span>:                  <span style=\"color: #7f7f7f; text-decoration-color: #7f7f7f\">            </span>\n",
       "<span style=\"color: #7fbfbf; text-decoration-color: #7fbfbf\">           </span>         <span style=\"color: #008000; text-decoration-color: #008000\">'bertweet-hedge'</span>, <span style=\"color: #008000; text-decoration-color: #008000\">'start_date'</span>: <span style=\"color: #008000; text-decoration-color: #008000\">'2014-02-17'</span>, <span style=\"color: #008000; text-decoration-color: #008000\">'end_date'</span>:    <span style=\"color: #7f7f7f; text-decoration-color: #7f7f7f\">            </span>\n",
       "<span style=\"color: #7fbfbf; text-decoration-color: #7fbfbf\">           </span>         <span style=\"color: #008000; text-decoration-color: #008000\">'2014-02-23'</span>, <span style=\"color: #008000; text-decoration-color: #008000\">'doc_count'</span>: <span style=\"color: #008080; text-decoration-color: #008080; font-weight: bold\">118.0</span>, <span style=\"color: #008000; text-decoration-color: #008000\">'index_value'</span>:             <span style=\"color: #7f7f7f; text-decoration-color: #7f7f7f\">            </span>\n",
       "<span style=\"color: #7fbfbf; text-decoration-color: #7fbfbf\">           </span>         <span style=\"color: #008080; text-decoration-color: #008080; font-weight: bold\">98.91607466567793</span><span style=\"font-weight: bold\">}</span>  <span style=\"color: #808000; text-decoration-color: #808000\">...</span> displaying <span style=\"color: #008080; text-decoration-color: #008080; font-weight: bold\">10</span> of <span style=\"color: #008080; text-decoration-color: #008080; font-weight: bold\">432</span> total bound     <span style=\"color: #7f7f7f; text-decoration-color: #7f7f7f\">            </span>\n",
       "<span style=\"color: #7fbfbf; text-decoration-color: #7fbfbf\">           </span>         parameter sets <span style=\"color: #808000; text-decoration-color: #808000\">...</span>  <span style=\"font-weight: bold\">{</span><span style=\"color: #008000; text-decoration-color: #008000\">'type'</span>: <span style=\"color: #008000; text-decoration-color: #008000\">'bertweet-hedge'</span>, <span style=\"color: #008000; text-decoration-color: #008000\">'start_date'</span>: <span style=\"color: #7f7f7f; text-decoration-color: #7f7f7f\">            </span>\n",
       "<span style=\"color: #7fbfbf; text-decoration-color: #7fbfbf\">           </span>         <span style=\"color: #008000; text-decoration-color: #008000\">'2021-12-20'</span>, <span style=\"color: #008000; text-decoration-color: #008000\">'end_date'</span>: <span style=\"color: #008000; text-decoration-color: #008000\">'2021-12-26'</span>, <span style=\"color: #008000; text-decoration-color: #008000\">'doc_count'</span>: <span style=\"color: #008080; text-decoration-color: #008080; font-weight: bold\">6714.0</span>, <span style=\"color: #7f7f7f; text-decoration-color: #7f7f7f\">            </span>\n",
       "<span style=\"color: #7fbfbf; text-decoration-color: #7fbfbf\">           </span>         <span style=\"color: #008000; text-decoration-color: #008000\">'index_value'</span>: <span style=\"color: #008080; text-decoration-color: #008080; font-weight: bold\">102.02937177540522</span><span style=\"font-weight: bold\">}</span>, <span style=\"font-weight: bold\">{</span><span style=\"color: #008000; text-decoration-color: #008000\">'type'</span>:                 <span style=\"color: #7f7f7f; text-decoration-color: #7f7f7f\">            </span>\n",
       "<span style=\"color: #7fbfbf; text-decoration-color: #7fbfbf\">           </span>         <span style=\"color: #008000; text-decoration-color: #008000\">'bertweet-hedge'</span>, <span style=\"color: #008000; text-decoration-color: #008000\">'start_date'</span>: <span style=\"color: #008000; text-decoration-color: #008000\">'2021-12-27'</span>, <span style=\"color: #008000; text-decoration-color: #008000\">'end_date'</span>:    <span style=\"color: #7f7f7f; text-decoration-color: #7f7f7f\">            </span>\n",
       "<span style=\"color: #7fbfbf; text-decoration-color: #7fbfbf\">           </span>         <span style=\"color: #008000; text-decoration-color: #008000\">'2022-01-02'</span>, <span style=\"color: #008000; text-decoration-color: #008000\">'doc_count'</span>: <span style=\"color: #008080; text-decoration-color: #008080; font-weight: bold\">6000.0</span>, <span style=\"color: #008000; text-decoration-color: #008000\">'index_value'</span>:            <span style=\"color: #7f7f7f; text-decoration-color: #7f7f7f\">            </span>\n",
       "<span style=\"color: #7fbfbf; text-decoration-color: #7fbfbf\">           </span>         <span style=\"color: #008080; text-decoration-color: #008080; font-weight: bold\">101.69236538723887</span><span style=\"font-weight: bold\">})</span>                                         <span style=\"color: #7f7f7f; text-decoration-color: #7f7f7f\">            </span>\n",
       "</pre>\n"
      ],
      "text/plain": [
       "\u001b[2;36m          \u001b[0m\u001b[2;36m \u001b[0m\u001b[34mINFO    \u001b[0m \u001b[1m[\u001b[0mgenerated in \u001b[1;36m0.\u001b[0m00332s\u001b[1m]\u001b[0m \u001b[1m(\u001b[0m\u001b[1m{\u001b[0m\u001b[32m'type'\u001b[0m: \u001b[32m'bertweet-hedge'\u001b[0m,          \u001b]8;id=401176;file:///Users/christopherliew/Desktop/Y4S1/HT/crypto_uncertainty_index/.venv/crypto-uncertainty-index-SX872G0E-py3.8/lib/python3.8/site-packages/sqlalchemy/engine/base.py\u001b\\\u001b[2mbase.py\u001b[0m\u001b]8;;\u001b\\\u001b[2m:\u001b[0m\u001b]8;id=691208;file:///Users/christopherliew/Desktop/Y4S1/HT/crypto_uncertainty_index/.venv/crypto-uncertainty-index-SX872G0E-py3.8/lib/python3.8/site-packages/sqlalchemy/engine/base.py#1766\u001b\\\u001b[2m1766\u001b[0m\u001b]8;;\u001b\\\n",
       "\u001b[2;36m           \u001b[0m         \u001b[32m'start_date'\u001b[0m: \u001b[32m'2013-12-30'\u001b[0m, \u001b[32m'end_date'\u001b[0m: \u001b[32m'2014-01-05'\u001b[0m,        \u001b[2m            \u001b[0m\n",
       "\u001b[2;36m           \u001b[0m         \u001b[32m'doc_count'\u001b[0m: \u001b[1;36m10.0\u001b[0m, \u001b[32m'index_value'\u001b[0m: \u001b[1;36m98.8650989094847\u001b[0m\u001b[1m}\u001b[0m,         \u001b[2m            \u001b[0m\n",
       "\u001b[2;36m           \u001b[0m         \u001b[1m{\u001b[0m\u001b[32m'type'\u001b[0m: \u001b[32m'bertweet-hedge'\u001b[0m, \u001b[32m'start_date'\u001b[0m: \u001b[32m'2014-01-06'\u001b[0m,       \u001b[2m            \u001b[0m\n",
       "\u001b[2;36m           \u001b[0m         \u001b[32m'end_date'\u001b[0m: \u001b[32m'2014-01-12'\u001b[0m, \u001b[32m'doc_count'\u001b[0m: \u001b[1;36m18.0\u001b[0m, \u001b[32m'index_value'\u001b[0m:  \u001b[2m            \u001b[0m\n",
       "\u001b[2;36m           \u001b[0m         \u001b[1;36m98.86887489142494\u001b[0m\u001b[1m}\u001b[0m, \u001b[1m{\u001b[0m\u001b[32m'type'\u001b[0m: \u001b[32m'bertweet-hedge'\u001b[0m, \u001b[32m'start_date'\u001b[0m: \u001b[2m            \u001b[0m\n",
       "\u001b[2;36m           \u001b[0m         \u001b[32m'2014-01-13'\u001b[0m, \u001b[32m'end_date'\u001b[0m: \u001b[32m'2014-01-19'\u001b[0m, \u001b[32m'doc_count'\u001b[0m: \u001b[1;36m8.0\u001b[0m,    \u001b[2m            \u001b[0m\n",
       "\u001b[2;36m           \u001b[0m         \u001b[32m'index_value'\u001b[0m: \u001b[1;36m98.86415491399964\u001b[0m\u001b[1m}\u001b[0m, \u001b[1m{\u001b[0m\u001b[32m'type'\u001b[0m:                  \u001b[2m            \u001b[0m\n",
       "\u001b[2;36m           \u001b[0m         \u001b[32m'bertweet-hedge'\u001b[0m, \u001b[32m'start_date'\u001b[0m: \u001b[32m'2014-01-20'\u001b[0m, \u001b[32m'end_date'\u001b[0m:    \u001b[2m            \u001b[0m\n",
       "\u001b[2;36m           \u001b[0m         \u001b[32m'2014-01-26'\u001b[0m, \u001b[32m'doc_count'\u001b[0m: \u001b[1;36m71.0\u001b[0m, \u001b[32m'index_value'\u001b[0m:              \u001b[2m            \u001b[0m\n",
       "\u001b[2;36m           \u001b[0m         \u001b[1;36m98.89389077177903\u001b[0m\u001b[1m}\u001b[0m, \u001b[1m{\u001b[0m\u001b[32m'type'\u001b[0m: \u001b[32m'bertweet-hedge'\u001b[0m, \u001b[32m'start_date'\u001b[0m: \u001b[2m            \u001b[0m\n",
       "\u001b[2;36m           \u001b[0m         \u001b[32m'2014-01-27'\u001b[0m, \u001b[32m'end_date'\u001b[0m: \u001b[32m'2014-02-02'\u001b[0m, \u001b[32m'doc_count'\u001b[0m: \u001b[1;36m91.0\u001b[0m,   \u001b[2m            \u001b[0m\n",
       "\u001b[2;36m           \u001b[0m         \u001b[32m'index_value'\u001b[0m: \u001b[1;36m98.90333072662962\u001b[0m\u001b[1m}\u001b[0m, \u001b[1m{\u001b[0m\u001b[32m'type'\u001b[0m:                  \u001b[2m            \u001b[0m\n",
       "\u001b[2;36m           \u001b[0m         \u001b[32m'bertweet-hedge'\u001b[0m, \u001b[32m'start_date'\u001b[0m: \u001b[32m'2014-02-03'\u001b[0m, \u001b[32m'end_date'\u001b[0m:    \u001b[2m            \u001b[0m\n",
       "\u001b[2;36m           \u001b[0m         \u001b[32m'2014-02-09'\u001b[0m, \u001b[32m'doc_count'\u001b[0m: \u001b[1;36m101.0\u001b[0m, \u001b[32m'index_value'\u001b[0m:             \u001b[2m            \u001b[0m\n",
       "\u001b[2;36m           \u001b[0m         \u001b[1;36m98.90805070405493\u001b[0m\u001b[1m}\u001b[0m, \u001b[1m{\u001b[0m\u001b[32m'type'\u001b[0m: \u001b[32m'bertweet-hedge'\u001b[0m, \u001b[32m'start_date'\u001b[0m: \u001b[2m            \u001b[0m\n",
       "\u001b[2;36m           \u001b[0m         \u001b[32m'2014-02-10'\u001b[0m, \u001b[32m'end_date'\u001b[0m: \u001b[32m'2014-02-16'\u001b[0m, \u001b[32m'doc_count'\u001b[0m: \u001b[1;36m101.0\u001b[0m,  \u001b[2m            \u001b[0m\n",
       "\u001b[2;36m           \u001b[0m         \u001b[32m'index_value'\u001b[0m: \u001b[1;36m98.90805070405493\u001b[0m\u001b[1m}\u001b[0m, \u001b[1m{\u001b[0m\u001b[32m'type'\u001b[0m:                  \u001b[2m            \u001b[0m\n",
       "\u001b[2;36m           \u001b[0m         \u001b[32m'bertweet-hedge'\u001b[0m, \u001b[32m'start_date'\u001b[0m: \u001b[32m'2014-02-17'\u001b[0m, \u001b[32m'end_date'\u001b[0m:    \u001b[2m            \u001b[0m\n",
       "\u001b[2;36m           \u001b[0m         \u001b[32m'2014-02-23'\u001b[0m, \u001b[32m'doc_count'\u001b[0m: \u001b[1;36m118.0\u001b[0m, \u001b[32m'index_value'\u001b[0m:             \u001b[2m            \u001b[0m\n",
       "\u001b[2;36m           \u001b[0m         \u001b[1;36m98.91607466567793\u001b[0m\u001b[1m}\u001b[0m  \u001b[33m...\u001b[0m displaying \u001b[1;36m10\u001b[0m of \u001b[1;36m432\u001b[0m total bound     \u001b[2m            \u001b[0m\n",
       "\u001b[2;36m           \u001b[0m         parameter sets \u001b[33m...\u001b[0m  \u001b[1m{\u001b[0m\u001b[32m'type'\u001b[0m: \u001b[32m'bertweet-hedge'\u001b[0m, \u001b[32m'start_date'\u001b[0m: \u001b[2m            \u001b[0m\n",
       "\u001b[2;36m           \u001b[0m         \u001b[32m'2021-12-20'\u001b[0m, \u001b[32m'end_date'\u001b[0m: \u001b[32m'2021-12-26'\u001b[0m, \u001b[32m'doc_count'\u001b[0m: \u001b[1;36m6714.0\u001b[0m, \u001b[2m            \u001b[0m\n",
       "\u001b[2;36m           \u001b[0m         \u001b[32m'index_value'\u001b[0m: \u001b[1;36m102.02937177540522\u001b[0m\u001b[1m}\u001b[0m, \u001b[1m{\u001b[0m\u001b[32m'type'\u001b[0m:                 \u001b[2m            \u001b[0m\n",
       "\u001b[2;36m           \u001b[0m         \u001b[32m'bertweet-hedge'\u001b[0m, \u001b[32m'start_date'\u001b[0m: \u001b[32m'2021-12-27'\u001b[0m, \u001b[32m'end_date'\u001b[0m:    \u001b[2m            \u001b[0m\n",
       "\u001b[2;36m           \u001b[0m         \u001b[32m'2022-01-02'\u001b[0m, \u001b[32m'doc_count'\u001b[0m: \u001b[1;36m6000.0\u001b[0m, \u001b[32m'index_value'\u001b[0m:            \u001b[2m            \u001b[0m\n",
       "\u001b[2;36m           \u001b[0m         \u001b[1;36m101.69236538723887\u001b[0m\u001b[1m}\u001b[0m\u001b[1m)\u001b[0m                                         \u001b[2m            \u001b[0m\n"
      ]
     },
     "metadata": {},
     "output_type": "display_data"
    },
    {
     "name": "stdout",
     "output_type": "stream",
     "text": [
      "2022-03-29 22:20:04,178 INFO sqlalchemy.engine.Engine COMMIT\n"
     ]
    },
    {
     "data": {
      "text/html": [
       "<pre style=\"white-space:pre;overflow-x:auto;line-height:normal;font-family:Menlo,'DejaVu Sans Mono',consolas,'Courier New',monospace\"><span style=\"color: #7fbfbf; text-decoration-color: #7fbfbf\">           </span><span style=\"color: #000080; text-decoration-color: #000080\">INFO    </span> COMMIT                                                       <a href=\"file:///Users/christopherliew/Desktop/Y4S1/HT/crypto_uncertainty_index/.venv/crypto-uncertainty-index-SX872G0E-py3.8/lib/python3.8/site-packages/sqlalchemy/engine/base.py\"><span style=\"color: #7f7f7f; text-decoration-color: #7f7f7f\">base.py</span></a><span style=\"color: #7f7f7f; text-decoration-color: #7f7f7f\">:</span><a href=\"file:///Users/christopherliew/Desktop/Y4S1/HT/crypto_uncertainty_index/.venv/crypto-uncertainty-index-SX872G0E-py3.8/lib/python3.8/site-packages/sqlalchemy/engine/base.py#1002\"><span style=\"color: #7f7f7f; text-decoration-color: #7f7f7f\">1002</span></a>\n",
       "</pre>\n"
      ],
      "text/plain": [
       "\u001b[2;36m          \u001b[0m\u001b[2;36m \u001b[0m\u001b[34mINFO    \u001b[0m COMMIT                                                       \u001b]8;id=10852;file:///Users/christopherliew/Desktop/Y4S1/HT/crypto_uncertainty_index/.venv/crypto-uncertainty-index-SX872G0E-py3.8/lib/python3.8/site-packages/sqlalchemy/engine/base.py\u001b\\\u001b[2mbase.py\u001b[0m\u001b]8;;\u001b\\\u001b[2m:\u001b[0m\u001b]8;id=630728;file:///Users/christopherliew/Desktop/Y4S1/HT/crypto_uncertainty_index/.venv/crypto-uncertainty-index-SX872G0E-py3.8/lib/python3.8/site-packages/sqlalchemy/engine/base.py#1002\u001b\\\u001b[2m1002\u001b[0m\u001b]8;;\u001b\\\n"
      ]
     },
     "metadata": {},
     "output_type": "display_data"
    },
    {
     "data": {
      "text/html": [
       "<pre style=\"white-space:pre;overflow-x:auto;line-height:normal;font-family:Menlo,'DejaVu Sans Mono',consolas,'Courier New',monospace\"><span style=\"color: #7fbfbf; text-decoration-color: #7fbfbf\">           </span><span style=\"color: #000080; text-decoration-color: #000080\">INFO    </span> Number of rows in ucry_index affected: <span style=\"color: #008080; text-decoration-color: #008080; font-weight: bold\">432</span>                    <a href=\"file:///Users/christopherliew/Desktop/Y4S1/HT/crypto_uncertainty_index/postgres/utils.py\"><span style=\"color: #7f7f7f; text-decoration-color: #7f7f7f\">utils.py</span></a><span style=\"color: #7f7f7f; text-decoration-color: #7f7f7f\">:</span><a href=\"file:///Users/christopherliew/Desktop/Y4S1/HT/crypto_uncertainty_index/postgres/utils.py#42\"><span style=\"color: #7f7f7f; text-decoration-color: #7f7f7f\">42</span></a>\n",
       "</pre>\n"
      ],
      "text/plain": [
       "\u001b[2;36m          \u001b[0m\u001b[2;36m \u001b[0m\u001b[34mINFO    \u001b[0m Number of rows in ucry_index affected: \u001b[1;36m432\u001b[0m                    \u001b]8;id=71388;file:///Users/christopherliew/Desktop/Y4S1/HT/crypto_uncertainty_index/postgres/utils.py\u001b\\\u001b[2mutils.py\u001b[0m\u001b]8;;\u001b\\\u001b[2m:\u001b[0m\u001b]8;id=414915;file:///Users/christopherliew/Desktop/Y4S1/HT/crypto_uncertainty_index/postgres/utils.py#42\u001b\\\u001b[2m42\u001b[0m\u001b]8;;\u001b\\\n"
      ]
     },
     "metadata": {},
     "output_type": "display_data"
    }
   ],
   "source": [
    "pd_to_pg(ucry_hedge_df, table_name=\"ucry_index\")"
   ]
  }
 ],
 "metadata": {
  "interpreter": {
   "hash": "26fa31afa754fb971b44a94a9612d34d26997a00d823853c42f1b189c287d4b1"
  },
  "kernelspec": {
   "display_name": "Python 3.8.12 ('crypto-uncertainty-index-SX872G0E-py3.8': poetry)",
   "language": "python",
   "name": "python3"
  },
  "language_info": {
   "codemirror_mode": {
    "name": "ipython",
    "version": 3
   },
   "file_extension": ".py",
   "mimetype": "text/x-python",
   "name": "python",
   "nbconvert_exporter": "python",
   "pygments_lexer": "ipython3",
   "version": "3.8.13"
  },
  "orig_nbformat": 4
 },
 "nbformat": 4,
 "nbformat_minor": 2
}
