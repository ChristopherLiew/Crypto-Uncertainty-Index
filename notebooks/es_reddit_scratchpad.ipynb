{
 "cells": [
  {
   "cell_type": "markdown",
   "metadata": {},
   "source": [
    "## Test Elasticsearch Manager Class + Subreddit Data Extraction and Insertion to ES\n",
    "1. Test ES manager basic functionality.\n",
    "2. Test subreddit extraction and insertion to ES reddit crypto index.\n"
   ]
  },
  {
   "cell_type": "code",
   "execution_count": 1,
   "metadata": {},
   "outputs": [],
   "source": [
    "# Import libraries\n",
    "import os\n",
    "import sys\n",
    "import numpy as np\n",
    "import pandas as pd\n",
    "from tqdm import tqdm\n",
    "from datetime import datetime\n",
    "\n",
    "# Change dir\n",
    "os.getcwd()\n",
    "os.chdir(\"..\")  # Change to root dir to detect other local libs"
   ]
  },
  {
   "cell_type": "code",
   "execution_count": 2,
   "metadata": {},
   "outputs": [],
   "source": [
    "# Import local modules\n",
    "from utils import timer\n",
    "from es.manager import ESManager\n",
    "from data.schema.es_mappings import (\n",
    "    REDDIT_CRYPTO_INDEX_NAME,\n",
    "    reddit_crypto_mapping,\n",
    "    test_reddit_crypto_mapping\n",
    ") "
   ]
  },
  {
   "cell_type": "markdown",
   "metadata": {},
   "source": [
    "### 1. Test Basic ESManager Functionality"
   ]
  },
  {
   "cell_type": "code",
   "execution_count": 3,
   "metadata": {},
   "outputs": [
    {
     "data": {
      "text/html": [
       "<pre style=\"white-space:pre;overflow-x:auto;line-height:normal;font-family:Menlo,'DejaVu Sans Mono',consolas,'Courier New',monospace\"><span style=\"color: #7fbfbf; text-decoration-color: #7fbfbf\">[01/20/22] </span><span style=\"color: #000080; text-decoration-color: #000080\">INFO    </span> <span style=\"color: #808000; text-decoration-color: #808000; font-weight: bold\">GET</span> <span style=\"color: #0000ff; text-decoration-color: #0000ff; text-decoration: underline\">http://localhost:9200/</span> <span style=\"font-weight: bold\">[</span>status:<span style=\"color: #008080; text-decoration-color: #008080; font-weight: bold\">200</span> request:<span style=\"color: #008080; text-decoration-color: #008080; font-weight: bold\">0.</span>022s<span style=\"font-weight: bold\">]</span>        <a href=\"file:///Users/christopherliew/Library/Caches/pypoetry/virtualenvs/crypto-uncertainty-index-NHOdNUJC-py3.8/lib/python3.8/site-packages/elasticsearch/connection/base.py\"><span style=\"color: #7f7f7f; text-decoration-color: #7f7f7f\">base.py</span></a><span style=\"color: #7f7f7f; text-decoration-color: #7f7f7f\">:</span><a href=\"file:///Users/christopherliew/Library/Caches/pypoetry/virtualenvs/crypto-uncertainty-index-NHOdNUJC-py3.8/lib/python3.8/site-packages/elasticsearch/connection/base.py#265\"><span style=\"color: #7f7f7f; text-decoration-color: #7f7f7f\">265</span></a>\n",
       "</pre>\n"
      ],
      "text/plain": [
       "\u001b[2;36m[01/20/22]\u001b[0m\u001b[2;36m \u001b[0m\u001b[34mINFO    \u001b[0m \u001b[1;33mGET\u001b[0m \u001b[4;94mhttp://localhost:9200/\u001b[0m \u001b[1m[\u001b[0mstatus:\u001b[1;36m200\u001b[0m request:\u001b[1;36m0.\u001b[0m022s\u001b[1m]\u001b[0m        \u001b]8;id=449363;file:///Users/christopherliew/Library/Caches/pypoetry/virtualenvs/crypto-uncertainty-index-NHOdNUJC-py3.8/lib/python3.8/site-packages/elasticsearch/connection/base.py\u001b\\\u001b[2mbase.py\u001b[0m\u001b]8;;\u001b\\\u001b[2m:\u001b[0m\u001b]8;id=225271;file:///Users/christopherliew/Library/Caches/pypoetry/virtualenvs/crypto-uncertainty-index-NHOdNUJC-py3.8/lib/python3.8/site-packages/elasticsearch/connection/base.py#265\u001b\\\u001b[2m265\u001b[0m\u001b]8;;\u001b\\\n"
      ]
     },
     "metadata": {},
     "output_type": "display_data"
    },
    {
     "data": {
      "text/html": [
       "<pre style=\"white-space:pre;overflow-x:auto;line-height:normal;font-family:Menlo,'DejaVu Sans Mono',consolas,'Courier New',monospace\"><span style=\"color: #7fbfbf; text-decoration-color: #7fbfbf\">           </span><span style=\"color: #000080; text-decoration-color: #000080\">INFO    </span> <span style=\"color: #808000; text-decoration-color: #808000; font-weight: bold\">HEAD</span> <span style=\"color: #0000ff; text-decoration-color: #0000ff; text-decoration: underline\">http://localhost:9200/</span> <span style=\"font-weight: bold\">[</span>status:<span style=\"color: #008080; text-decoration-color: #008080; font-weight: bold\">200</span> request:<span style=\"color: #008080; text-decoration-color: #008080; font-weight: bold\">0.</span>004s<span style=\"font-weight: bold\">]</span>       <a href=\"file:///Users/christopherliew/Library/Caches/pypoetry/virtualenvs/crypto-uncertainty-index-NHOdNUJC-py3.8/lib/python3.8/site-packages/elasticsearch/connection/base.py\"><span style=\"color: #7f7f7f; text-decoration-color: #7f7f7f\">base.py</span></a><span style=\"color: #7f7f7f; text-decoration-color: #7f7f7f\">:</span><a href=\"file:///Users/christopherliew/Library/Caches/pypoetry/virtualenvs/crypto-uncertainty-index-NHOdNUJC-py3.8/lib/python3.8/site-packages/elasticsearch/connection/base.py#265\"><span style=\"color: #7f7f7f; text-decoration-color: #7f7f7f\">265</span></a>\n",
       "</pre>\n"
      ],
      "text/plain": [
       "\u001b[2;36m          \u001b[0m\u001b[2;36m \u001b[0m\u001b[34mINFO    \u001b[0m \u001b[1;33mHEAD\u001b[0m \u001b[4;94mhttp://localhost:9200/\u001b[0m \u001b[1m[\u001b[0mstatus:\u001b[1;36m200\u001b[0m request:\u001b[1;36m0.\u001b[0m004s\u001b[1m]\u001b[0m       \u001b]8;id=379660;file:///Users/christopherliew/Library/Caches/pypoetry/virtualenvs/crypto-uncertainty-index-NHOdNUJC-py3.8/lib/python3.8/site-packages/elasticsearch/connection/base.py\u001b\\\u001b[2mbase.py\u001b[0m\u001b]8;;\u001b\\\u001b[2m:\u001b[0m\u001b]8;id=375035;file:///Users/christopherliew/Library/Caches/pypoetry/virtualenvs/crypto-uncertainty-index-NHOdNUJC-py3.8/lib/python3.8/site-packages/elasticsearch/connection/base.py#265\u001b\\\u001b[2m265\u001b[0m\u001b]8;;\u001b\\\n"
      ]
     },
     "metadata": {},
     "output_type": "display_data"
    },
    {
     "data": {
      "text/plain": [
       "True"
      ]
     },
     "execution_count": 3,
     "metadata": {},
     "output_type": "execute_result"
    }
   ],
   "source": [
    "# Test Connection\n",
    "es_conn = ESManager()\n",
    "es_conn.get_status()"
   ]
  },
  {
   "cell_type": "code",
   "execution_count": 4,
   "metadata": {},
   "outputs": [],
   "source": [
    "# Test Index Creation\n",
    "TEST_REDDIT_CRYPTO_INDEX_NAME = \"test-\" + REDDIT_CRYPTO_INDEX_NAME"
   ]
  },
  {
   "cell_type": "code",
   "execution_count": 5,
   "metadata": {},
   "outputs": [
    {
     "data": {
      "text/html": [
       "<pre style=\"white-space:pre;overflow-x:auto;line-height:normal;font-family:Menlo,'DejaVu Sans Mono',consolas,'Courier New',monospace\"><span style=\"color: #7fbfbf; text-decoration-color: #7fbfbf\">           </span><span style=\"color: #000080; text-decoration-color: #000080\">INFO    </span>                                                             <a href=\"file:///Users/christopherliew/Desktop/Y4S1/HT/crypto_uncertainty_index/es/manager.py\"><span style=\"color: #7f7f7f; text-decoration-color: #7f7f7f\">manager.py</span></a><span style=\"color: #7f7f7f; text-decoration-color: #7f7f7f\">:</span><a href=\"file:///Users/christopherliew/Desktop/Y4S1/HT/crypto_uncertainty_index/es/manager.py#88\"><span style=\"color: #7f7f7f; text-decoration-color: #7f7f7f\">88</span></a>\n",
       "<span style=\"color: #7fbfbf; text-decoration-color: #7fbfbf\">           </span>                       Creating Index with name: test-reddit-crypto  <span style=\"color: #7f7f7f; text-decoration-color: #7f7f7f\">             </span>\n",
       "<span style=\"color: #7fbfbf; text-decoration-color: #7fbfbf\">           </span>         |                                                           <span style=\"color: #7f7f7f; text-decoration-color: #7f7f7f\">             </span>\n",
       "<span style=\"color: #7fbfbf; text-decoration-color: #7fbfbf\">           </span>                       mapping: <span style=\"font-weight: bold\">{</span><span style=\"color: #008000; text-decoration-color: #008000\">'mappings'</span>: <span style=\"font-weight: bold\">{</span><span style=\"color: #008000; text-decoration-color: #008000\">'properties'</span>: <span style=\"font-weight: bold\">{</span><span style=\"color: #008000; text-decoration-color: #008000\">'id'</span>:   <span style=\"color: #7f7f7f; text-decoration-color: #7f7f7f\">             </span>\n",
       "<span style=\"color: #7fbfbf; text-decoration-color: #7fbfbf\">           </span>         <span style=\"font-weight: bold\">{</span><span style=\"color: #008000; text-decoration-color: #008000\">'type'</span>: <span style=\"color: #008000; text-decoration-color: #008000\">'keyword'</span><span style=\"font-weight: bold\">}</span>, <span style=\"color: #008000; text-decoration-color: #008000\">'subreddit'</span>: <span style=\"font-weight: bold\">{</span><span style=\"color: #008000; text-decoration-color: #008000\">'type'</span>: <span style=\"color: #008000; text-decoration-color: #008000\">'keyword'</span><span style=\"font-weight: bold\">}</span>,      <span style=\"color: #7f7f7f; text-decoration-color: #7f7f7f\">             </span>\n",
       "<span style=\"color: #7fbfbf; text-decoration-color: #7fbfbf\">           </span>         <span style=\"color: #008000; text-decoration-color: #008000\">'create_datetime'</span>: <span style=\"font-weight: bold\">{</span><span style=\"color: #008000; text-decoration-color: #008000\">'type'</span>: <span style=\"color: #008000; text-decoration-color: #008000\">'text'</span><span style=\"font-weight: bold\">}</span>, <span style=\"color: #008000; text-decoration-color: #008000\">'author'</span>: <span style=\"font-weight: bold\">{</span><span style=\"color: #008000; text-decoration-color: #008000\">'type'</span>:     <span style=\"color: #7f7f7f; text-decoration-color: #7f7f7f\">             </span>\n",
       "<span style=\"color: #7fbfbf; text-decoration-color: #7fbfbf\">           </span>         <span style=\"color: #008000; text-decoration-color: #008000\">'keyword'</span><span style=\"font-weight: bold\">}</span>, <span style=\"color: #008000; text-decoration-color: #008000\">'full_text'</span>: <span style=\"font-weight: bold\">{</span><span style=\"color: #008000; text-decoration-color: #008000\">'type'</span>: <span style=\"color: #008000; text-decoration-color: #008000\">'text'</span><span style=\"font-weight: bold\">}</span>, <span style=\"color: #008000; text-decoration-color: #008000\">'type'</span>: <span style=\"font-weight: bold\">{</span><span style=\"color: #008000; text-decoration-color: #008000\">'type'</span>: <span style=\"color: #7f7f7f; text-decoration-color: #7f7f7f\">             </span>\n",
       "<span style=\"color: #7fbfbf; text-decoration-color: #7fbfbf\">           </span>         <span style=\"color: #008000; text-decoration-color: #008000\">'keyword'</span><span style=\"font-weight: bold\">}</span>, <span style=\"color: #008000; text-decoration-color: #008000\">'parent_id'</span>: <span style=\"font-weight: bold\">{</span><span style=\"color: #008000; text-decoration-color: #008000\">'type'</span>: <span style=\"color: #008000; text-decoration-color: #008000\">'keyword'</span><span style=\"font-weight: bold\">}}}</span>, <span style=\"color: #008000; text-decoration-color: #008000\">'settings'</span>: <span style=\"color: #7f7f7f; text-decoration-color: #7f7f7f\">             </span>\n",
       "<span style=\"color: #7fbfbf; text-decoration-color: #7fbfbf\">           </span>         <span style=\"font-weight: bold\">{</span><span style=\"color: #008000; text-decoration-color: #008000\">'number_of_shards'</span>: <span style=\"color: #008080; text-decoration-color: #008080; font-weight: bold\">5</span>, <span style=\"color: #008000; text-decoration-color: #008000\">'number_of_replicas'</span>: <span style=\"color: #008080; text-decoration-color: #008080; font-weight: bold\">1</span><span style=\"font-weight: bold\">}}</span> |         <span style=\"color: #7f7f7f; text-decoration-color: #7f7f7f\">             </span>\n",
       "<span style=\"color: #7fbfbf; text-decoration-color: #7fbfbf\">           </span>                       data of size: <span style=\"color: #008080; text-decoration-color: #008080; font-weight: bold\">0</span>                               <span style=\"color: #7f7f7f; text-decoration-color: #7f7f7f\">             </span>\n",
       "</pre>\n"
      ],
      "text/plain": [
       "\u001b[2;36m          \u001b[0m\u001b[2;36m \u001b[0m\u001b[34mINFO    \u001b[0m                                                             \u001b]8;id=48290;file:///Users/christopherliew/Desktop/Y4S1/HT/crypto_uncertainty_index/es/manager.py\u001b\\\u001b[2mmanager.py\u001b[0m\u001b]8;;\u001b\\\u001b[2m:\u001b[0m\u001b]8;id=976906;file:///Users/christopherliew/Desktop/Y4S1/HT/crypto_uncertainty_index/es/manager.py#88\u001b\\\u001b[2m88\u001b[0m\u001b]8;;\u001b\\\n",
       "\u001b[2;36m           \u001b[0m                       Creating Index with name: test-reddit-crypto  \u001b[2m             \u001b[0m\n",
       "\u001b[2;36m           \u001b[0m         |                                                           \u001b[2m             \u001b[0m\n",
       "\u001b[2;36m           \u001b[0m                       mapping: \u001b[1m{\u001b[0m\u001b[32m'mappings'\u001b[0m: \u001b[1m{\u001b[0m\u001b[32m'properties'\u001b[0m: \u001b[1m{\u001b[0m\u001b[32m'id'\u001b[0m:   \u001b[2m             \u001b[0m\n",
       "\u001b[2;36m           \u001b[0m         \u001b[1m{\u001b[0m\u001b[32m'type'\u001b[0m: \u001b[32m'keyword'\u001b[0m\u001b[1m}\u001b[0m, \u001b[32m'subreddit'\u001b[0m: \u001b[1m{\u001b[0m\u001b[32m'type'\u001b[0m: \u001b[32m'keyword'\u001b[0m\u001b[1m}\u001b[0m,      \u001b[2m             \u001b[0m\n",
       "\u001b[2;36m           \u001b[0m         \u001b[32m'create_datetime'\u001b[0m: \u001b[1m{\u001b[0m\u001b[32m'type'\u001b[0m: \u001b[32m'text'\u001b[0m\u001b[1m}\u001b[0m, \u001b[32m'author'\u001b[0m: \u001b[1m{\u001b[0m\u001b[32m'type'\u001b[0m:     \u001b[2m             \u001b[0m\n",
       "\u001b[2;36m           \u001b[0m         \u001b[32m'keyword'\u001b[0m\u001b[1m}\u001b[0m, \u001b[32m'full_text'\u001b[0m: \u001b[1m{\u001b[0m\u001b[32m'type'\u001b[0m: \u001b[32m'text'\u001b[0m\u001b[1m}\u001b[0m, \u001b[32m'type'\u001b[0m: \u001b[1m{\u001b[0m\u001b[32m'type'\u001b[0m: \u001b[2m             \u001b[0m\n",
       "\u001b[2;36m           \u001b[0m         \u001b[32m'keyword'\u001b[0m\u001b[1m}\u001b[0m, \u001b[32m'parent_id'\u001b[0m: \u001b[1m{\u001b[0m\u001b[32m'type'\u001b[0m: \u001b[32m'keyword'\u001b[0m\u001b[1m}\u001b[0m\u001b[1m}\u001b[0m\u001b[1m}\u001b[0m, \u001b[32m'settings'\u001b[0m: \u001b[2m             \u001b[0m\n",
       "\u001b[2;36m           \u001b[0m         \u001b[1m{\u001b[0m\u001b[32m'number_of_shards'\u001b[0m: \u001b[1;36m5\u001b[0m, \u001b[32m'number_of_replicas'\u001b[0m: \u001b[1;36m1\u001b[0m\u001b[1m}\u001b[0m\u001b[1m}\u001b[0m |         \u001b[2m             \u001b[0m\n",
       "\u001b[2;36m           \u001b[0m                       data of size: \u001b[1;36m0\u001b[0m                               \u001b[2m             \u001b[0m\n"
      ]
     },
     "metadata": {},
     "output_type": "display_data"
    },
    {
     "data": {
      "text/html": [
       "<pre style=\"white-space:pre;overflow-x:auto;line-height:normal;font-family:Menlo,'DejaVu Sans Mono',consolas,'Courier New',monospace\"><span style=\"color: #7fbfbf; text-decoration-color: #7fbfbf\">           </span><span style=\"color: #000080; text-decoration-color: #000080\">INFO    </span> Index Settings: <span style=\"font-weight: bold\">{</span><span style=\"color: #008000; text-decoration-color: #008000\">'number_of_shards'</span>: <span style=\"color: #008080; text-decoration-color: #008080; font-weight: bold\">5</span>,                     <a href=\"file:///Users/christopherliew/Desktop/Y4S1/HT/crypto_uncertainty_index/es/manager.py\"><span style=\"color: #7f7f7f; text-decoration-color: #7f7f7f\">manager.py</span></a><span style=\"color: #7f7f7f; text-decoration-color: #7f7f7f\">:</span><a href=\"file:///Users/christopherliew/Desktop/Y4S1/HT/crypto_uncertainty_index/es/manager.py#94\"><span style=\"color: #7f7f7f; text-decoration-color: #7f7f7f\">94</span></a>\n",
       "<span style=\"color: #7fbfbf; text-decoration-color: #7fbfbf\">           </span>         <span style=\"color: #008000; text-decoration-color: #008000\">'number_of_replicas'</span>: <span style=\"color: #008080; text-decoration-color: #008080; font-weight: bold\">1</span><span style=\"font-weight: bold\">}</span>                                    <span style=\"color: #7f7f7f; text-decoration-color: #7f7f7f\">             </span>\n",
       "</pre>\n"
      ],
      "text/plain": [
       "\u001b[2;36m          \u001b[0m\u001b[2;36m \u001b[0m\u001b[34mINFO    \u001b[0m Index Settings: \u001b[1m{\u001b[0m\u001b[32m'number_of_shards'\u001b[0m: \u001b[1;36m5\u001b[0m,                     \u001b]8;id=114782;file:///Users/christopherliew/Desktop/Y4S1/HT/crypto_uncertainty_index/es/manager.py\u001b\\\u001b[2mmanager.py\u001b[0m\u001b]8;;\u001b\\\u001b[2m:\u001b[0m\u001b]8;id=761689;file:///Users/christopherliew/Desktop/Y4S1/HT/crypto_uncertainty_index/es/manager.py#94\u001b\\\u001b[2m94\u001b[0m\u001b]8;;\u001b\\\n",
       "\u001b[2;36m           \u001b[0m         \u001b[32m'number_of_replicas'\u001b[0m: \u001b[1;36m1\u001b[0m\u001b[1m}\u001b[0m                                    \u001b[2m             \u001b[0m\n"
      ]
     },
     "metadata": {},
     "output_type": "display_data"
    },
    {
     "data": {
      "text/html": [
       "<pre style=\"white-space:pre;overflow-x:auto;line-height:normal;font-family:Menlo,'DejaVu Sans Mono',consolas,'Courier New',monospace\"><span style=\"color: #7fbfbf; text-decoration-color: #7fbfbf\">           </span><span style=\"color: #000080; text-decoration-color: #000080\">INFO    </span> <span style=\"color: #808000; text-decoration-color: #808000; font-weight: bold\">PUT</span> <span style=\"color: #0000ff; text-decoration-color: #0000ff; text-decoration: underline\">http://localhost:9200/test-reddit-crypto</span> <span style=\"font-weight: bold\">[</span>status:<span style=\"color: #008080; text-decoration-color: #008080; font-weight: bold\">200</span>      <a href=\"file:///Users/christopherliew/Library/Caches/pypoetry/virtualenvs/crypto-uncertainty-index-NHOdNUJC-py3.8/lib/python3.8/site-packages/elasticsearch/connection/base.py\"><span style=\"color: #7f7f7f; text-decoration-color: #7f7f7f\">base.py</span></a><span style=\"color: #7f7f7f; text-decoration-color: #7f7f7f\">:</span><a href=\"file:///Users/christopherliew/Library/Caches/pypoetry/virtualenvs/crypto-uncertainty-index-NHOdNUJC-py3.8/lib/python3.8/site-packages/elasticsearch/connection/base.py#265\"><span style=\"color: #7f7f7f; text-decoration-color: #7f7f7f\">265</span></a>\n",
       "<span style=\"color: #7fbfbf; text-decoration-color: #7fbfbf\">           </span>         request:<span style=\"color: #008080; text-decoration-color: #008080; font-weight: bold\">0.</span>265s<span style=\"font-weight: bold\">]</span>                                               <span style=\"color: #7f7f7f; text-decoration-color: #7f7f7f\">           </span>\n",
       "</pre>\n"
      ],
      "text/plain": [
       "\u001b[2;36m          \u001b[0m\u001b[2;36m \u001b[0m\u001b[34mINFO    \u001b[0m \u001b[1;33mPUT\u001b[0m \u001b[4;94mhttp://localhost:9200/test-reddit-crypto\u001b[0m \u001b[1m[\u001b[0mstatus:\u001b[1;36m200\u001b[0m      \u001b]8;id=534983;file:///Users/christopherliew/Library/Caches/pypoetry/virtualenvs/crypto-uncertainty-index-NHOdNUJC-py3.8/lib/python3.8/site-packages/elasticsearch/connection/base.py\u001b\\\u001b[2mbase.py\u001b[0m\u001b]8;;\u001b\\\u001b[2m:\u001b[0m\u001b]8;id=293626;file:///Users/christopherliew/Library/Caches/pypoetry/virtualenvs/crypto-uncertainty-index-NHOdNUJC-py3.8/lib/python3.8/site-packages/elasticsearch/connection/base.py#265\u001b\\\u001b[2m265\u001b[0m\u001b]8;;\u001b\\\n",
       "\u001b[2;36m           \u001b[0m         request:\u001b[1;36m0.\u001b[0m265s\u001b[1m]\u001b[0m                                               \u001b[2m           \u001b[0m\n"
      ]
     },
     "metadata": {},
     "output_type": "display_data"
    },
    {
     "data": {
      "text/html": [
       "<pre style=\"white-space:pre;overflow-x:auto;line-height:normal;font-family:Menlo,'DejaVu Sans Mono',consolas,'Courier New',monospace\"><span style=\"color: #7fbfbf; text-decoration-color: #7fbfbf\">           </span><span style=\"color: #000080; text-decoration-color: #000080\">INFO    </span> <span style=\"font-weight: bold\">{</span><span style=\"color: #008000; text-decoration-color: #008000\">'acknowledged'</span>: <span style=\"color: #00ff00; text-decoration-color: #00ff00; font-style: italic\">True</span>, <span style=\"color: #008000; text-decoration-color: #008000\">'shards_acknowledged'</span>: <span style=\"color: #00ff00; text-decoration-color: #00ff00; font-style: italic\">True</span>,        <a href=\"file:///Users/christopherliew/Desktop/Y4S1/HT/crypto_uncertainty_index/es/manager.py\"><span style=\"color: #7f7f7f; text-decoration-color: #7f7f7f\">manager.py</span></a><span style=\"color: #7f7f7f; text-decoration-color: #7f7f7f\">:</span><a href=\"file:///Users/christopherliew/Desktop/Y4S1/HT/crypto_uncertainty_index/es/manager.py#102\"><span style=\"color: #7f7f7f; text-decoration-color: #7f7f7f\">102</span></a>\n",
       "<span style=\"color: #7fbfbf; text-decoration-color: #7fbfbf\">           </span>         <span style=\"color: #008000; text-decoration-color: #008000\">'index'</span>: <span style=\"color: #008000; text-decoration-color: #008000\">'test-reddit-crypto'</span><span style=\"font-weight: bold\">}</span>                             <span style=\"color: #7f7f7f; text-decoration-color: #7f7f7f\">              </span>\n",
       "</pre>\n"
      ],
      "text/plain": [
       "\u001b[2;36m          \u001b[0m\u001b[2;36m \u001b[0m\u001b[34mINFO    \u001b[0m \u001b[1m{\u001b[0m\u001b[32m'acknowledged'\u001b[0m: \u001b[3;92mTrue\u001b[0m, \u001b[32m'shards_acknowledged'\u001b[0m: \u001b[3;92mTrue\u001b[0m,        \u001b]8;id=457300;file:///Users/christopherliew/Desktop/Y4S1/HT/crypto_uncertainty_index/es/manager.py\u001b\\\u001b[2mmanager.py\u001b[0m\u001b]8;;\u001b\\\u001b[2m:\u001b[0m\u001b]8;id=127141;file:///Users/christopherliew/Desktop/Y4S1/HT/crypto_uncertainty_index/es/manager.py#102\u001b\\\u001b[2m102\u001b[0m\u001b]8;;\u001b\\\n",
       "\u001b[2;36m           \u001b[0m         \u001b[32m'index'\u001b[0m: \u001b[32m'test-reddit-crypto'\u001b[0m\u001b[1m}\u001b[0m                             \u001b[2m              \u001b[0m\n"
      ]
     },
     "metadata": {},
     "output_type": "display_data"
    }
   ],
   "source": [
    "es_conn.create_index(\n",
    "    index=TEST_REDDIT_CRYPTO_INDEX_NAME,\n",
    "    mapping=test_reddit_crypto_mapping\n",
    ")"
   ]
  },
  {
   "cell_type": "code",
   "execution_count": 6,
   "metadata": {},
   "outputs": [
    {
     "data": {
      "text/html": [
       "<pre style=\"white-space:pre;overflow-x:auto;line-height:normal;font-family:Menlo,'DejaVu Sans Mono',consolas,'Courier New',monospace\"><span style=\"color: #7fbfbf; text-decoration-color: #7fbfbf\">           </span><span style=\"color: #000080; text-decoration-color: #000080\">INFO    </span> <span style=\"color: #808000; text-decoration-color: #808000; font-weight: bold\">HEAD</span> <span style=\"color: #0000ff; text-decoration-color: #0000ff; text-decoration: underline\">http://localhost:9200/test-reddit-crypto</span> <span style=\"font-weight: bold\">[</span>status:<span style=\"color: #008080; text-decoration-color: #008080; font-weight: bold\">200</span>     <a href=\"file:///Users/christopherliew/Library/Caches/pypoetry/virtualenvs/crypto-uncertainty-index-NHOdNUJC-py3.8/lib/python3.8/site-packages/elasticsearch/connection/base.py\"><span style=\"color: #7f7f7f; text-decoration-color: #7f7f7f\">base.py</span></a><span style=\"color: #7f7f7f; text-decoration-color: #7f7f7f\">:</span><a href=\"file:///Users/christopherliew/Library/Caches/pypoetry/virtualenvs/crypto-uncertainty-index-NHOdNUJC-py3.8/lib/python3.8/site-packages/elasticsearch/connection/base.py#265\"><span style=\"color: #7f7f7f; text-decoration-color: #7f7f7f\">265</span></a>\n",
       "<span style=\"color: #7fbfbf; text-decoration-color: #7fbfbf\">           </span>         request:<span style=\"color: #008080; text-decoration-color: #008080; font-weight: bold\">0.</span>004s<span style=\"font-weight: bold\">]</span>                                               <span style=\"color: #7f7f7f; text-decoration-color: #7f7f7f\">           </span>\n",
       "</pre>\n"
      ],
      "text/plain": [
       "\u001b[2;36m          \u001b[0m\u001b[2;36m \u001b[0m\u001b[34mINFO    \u001b[0m \u001b[1;33mHEAD\u001b[0m \u001b[4;94mhttp://localhost:9200/test-reddit-crypto\u001b[0m \u001b[1m[\u001b[0mstatus:\u001b[1;36m200\u001b[0m     \u001b]8;id=632876;file:///Users/christopherliew/Library/Caches/pypoetry/virtualenvs/crypto-uncertainty-index-NHOdNUJC-py3.8/lib/python3.8/site-packages/elasticsearch/connection/base.py\u001b\\\u001b[2mbase.py\u001b[0m\u001b]8;;\u001b\\\u001b[2m:\u001b[0m\u001b]8;id=907645;file:///Users/christopherliew/Library/Caches/pypoetry/virtualenvs/crypto-uncertainty-index-NHOdNUJC-py3.8/lib/python3.8/site-packages/elasticsearch/connection/base.py#265\u001b\\\u001b[2m265\u001b[0m\u001b]8;;\u001b\\\n",
       "\u001b[2;36m           \u001b[0m         request:\u001b[1;36m0.\u001b[0m004s\u001b[1m]\u001b[0m                                               \u001b[2m           \u001b[0m\n"
      ]
     },
     "metadata": {},
     "output_type": "display_data"
    },
    {
     "data": {
      "text/plain": [
       "True"
      ]
     },
     "execution_count": 6,
     "metadata": {},
     "output_type": "execute_result"
    }
   ],
   "source": [
    "es_conn.index_is_exist(index=TEST_REDDIT_CRYPTO_INDEX_NAME)"
   ]
  },
  {
   "cell_type": "code",
   "execution_count": 7,
   "metadata": {},
   "outputs": [
    {
     "name": "stdout",
     "output_type": "stream",
     "text": [
      "Function `gen_dummy_reddit_data` took: 1.1920928955078125e-06 seconds\n"
     ]
    }
   ],
   "source": [
    "# Test Data: Dummy Reddit Comment and Submission for Testing\n",
    "\n",
    "@timer\n",
    "def gen_dummy_reddit_data(num: int = 1000):\n",
    "    schema = reddit_crypto_mapping[\"mappings\"][\"properties\"]\n",
    "    for i in tqdm(range(num)):\n",
    "        d = {\n",
    "            \"_id\": str(i),\n",
    "            \"_index\": TEST_REDDIT_CRYPTO_INDEX_NAME,\n",
    "            \"_type\": \"_doc\",\n",
    "            \"_source\": {key: \"Hello Monkey Zoo Kangeroo\" for key in schema}\n",
    "        }\n",
    "        yield d\n",
    "\n",
    "# Gen dummy Data\n",
    "dummy_data = gen_dummy_reddit_data(888)"
   ]
  },
  {
   "cell_type": "code",
   "execution_count": 8,
   "metadata": {},
   "outputs": [
    {
     "name": "stderr",
     "output_type": "stream",
     "text": [
      "  0%|          | 0/888 [00:00<?, ?it/s]"
     ]
    },
    {
     "data": {
      "text/html": [
       "<pre style=\"white-space:pre;overflow-x:auto;line-height:normal;font-family:Menlo,'DejaVu Sans Mono',consolas,'Courier New',monospace\"><span style=\"color: #7fbfbf; text-decoration-color: #7fbfbf\">           </span><span style=\"color: #000080; text-decoration-color: #000080\">INFO    </span> <span style=\"color: #808000; text-decoration-color: #808000; font-weight: bold\">POST</span> <span style=\"color: #0000ff; text-decoration-color: #0000ff; text-decoration: underline\">http://localhost:9200/test-reddit-crypto/_bulk</span>           <a href=\"file:///Users/christopherliew/Library/Caches/pypoetry/virtualenvs/crypto-uncertainty-index-NHOdNUJC-py3.8/lib/python3.8/site-packages/elasticsearch/connection/base.py\"><span style=\"color: #7f7f7f; text-decoration-color: #7f7f7f\">base.py</span></a><span style=\"color: #7f7f7f; text-decoration-color: #7f7f7f\">:</span><a href=\"file:///Users/christopherliew/Library/Caches/pypoetry/virtualenvs/crypto-uncertainty-index-NHOdNUJC-py3.8/lib/python3.8/site-packages/elasticsearch/connection/base.py#265\"><span style=\"color: #7f7f7f; text-decoration-color: #7f7f7f\">265</span></a>\n",
       "<span style=\"color: #7fbfbf; text-decoration-color: #7fbfbf\">           </span>         <span style=\"font-weight: bold\">[</span>status:<span style=\"color: #008080; text-decoration-color: #008080; font-weight: bold\">200</span> request:<span style=\"color: #008080; text-decoration-color: #008080; font-weight: bold\">0.</span>067s<span style=\"font-weight: bold\">]</span>                                   <span style=\"color: #7f7f7f; text-decoration-color: #7f7f7f\">           </span>\n",
       "</pre>\n"
      ],
      "text/plain": [
       "\u001b[2;36m          \u001b[0m\u001b[2;36m \u001b[0m\u001b[34mINFO    \u001b[0m \u001b[1;33mPOST\u001b[0m \u001b[4;94mhttp://localhost:9200/test-reddit-crypto/_bulk\u001b[0m           \u001b]8;id=239050;file:///Users/christopherliew/Library/Caches/pypoetry/virtualenvs/crypto-uncertainty-index-NHOdNUJC-py3.8/lib/python3.8/site-packages/elasticsearch/connection/base.py\u001b\\\u001b[2mbase.py\u001b[0m\u001b]8;;\u001b\\\u001b[2m:\u001b[0m\u001b]8;id=251165;file:///Users/christopherliew/Library/Caches/pypoetry/virtualenvs/crypto-uncertainty-index-NHOdNUJC-py3.8/lib/python3.8/site-packages/elasticsearch/connection/base.py#265\u001b\\\u001b[2m265\u001b[0m\u001b]8;;\u001b\\\n",
       "\u001b[2;36m           \u001b[0m         \u001b[1m[\u001b[0mstatus:\u001b[1;36m200\u001b[0m request:\u001b[1;36m0.\u001b[0m067s\u001b[1m]\u001b[0m                                   \u001b[2m           \u001b[0m\n"
      ]
     },
     "metadata": {},
     "output_type": "display_data"
    },
    {
     "name": "stderr",
     "output_type": "stream",
     "text": [
      "100%|██████████| 888/888 [00:00<00:00, 10757.11it/s]\n"
     ]
    },
    {
     "data": {
      "text/html": [
       "<pre style=\"white-space:pre;overflow-x:auto;line-height:normal;font-family:Menlo,'DejaVu Sans Mono',consolas,'Courier New',monospace\"><span style=\"color: #7fbfbf; text-decoration-color: #7fbfbf\">           </span><span style=\"color: #000080; text-decoration-color: #000080\">INFO    </span> <span style=\"color: #808000; text-decoration-color: #808000; font-weight: bold\">POST</span> <span style=\"color: #0000ff; text-decoration-color: #0000ff; text-decoration: underline\">http://localhost:9200/test-reddit-crypto/_bulk</span>           <a href=\"file:///Users/christopherliew/Library/Caches/pypoetry/virtualenvs/crypto-uncertainty-index-NHOdNUJC-py3.8/lib/python3.8/site-packages/elasticsearch/connection/base.py\"><span style=\"color: #7f7f7f; text-decoration-color: #7f7f7f\">base.py</span></a><span style=\"color: #7f7f7f; text-decoration-color: #7f7f7f\">:</span><a href=\"file:///Users/christopherliew/Library/Caches/pypoetry/virtualenvs/crypto-uncertainty-index-NHOdNUJC-py3.8/lib/python3.8/site-packages/elasticsearch/connection/base.py#265\"><span style=\"color: #7f7f7f; text-decoration-color: #7f7f7f\">265</span></a>\n",
       "<span style=\"color: #7fbfbf; text-decoration-color: #7fbfbf\">           </span>         <span style=\"font-weight: bold\">[</span>status:<span style=\"color: #008080; text-decoration-color: #008080; font-weight: bold\">200</span> request:<span style=\"color: #008080; text-decoration-color: #008080; font-weight: bold\">0.</span>063s<span style=\"font-weight: bold\">]</span>                                   <span style=\"color: #7f7f7f; text-decoration-color: #7f7f7f\">           </span>\n",
       "</pre>\n"
      ],
      "text/plain": [
       "\u001b[2;36m          \u001b[0m\u001b[2;36m \u001b[0m\u001b[34mINFO    \u001b[0m \u001b[1;33mPOST\u001b[0m \u001b[4;94mhttp://localhost:9200/test-reddit-crypto/_bulk\u001b[0m           \u001b]8;id=124874;file:///Users/christopherliew/Library/Caches/pypoetry/virtualenvs/crypto-uncertainty-index-NHOdNUJC-py3.8/lib/python3.8/site-packages/elasticsearch/connection/base.py\u001b\\\u001b[2mbase.py\u001b[0m\u001b]8;;\u001b\\\u001b[2m:\u001b[0m\u001b]8;id=734446;file:///Users/christopherliew/Library/Caches/pypoetry/virtualenvs/crypto-uncertainty-index-NHOdNUJC-py3.8/lib/python3.8/site-packages/elasticsearch/connection/base.py#265\u001b\\\u001b[2m265\u001b[0m\u001b]8;;\u001b\\\n",
       "\u001b[2;36m           \u001b[0m         \u001b[1m[\u001b[0mstatus:\u001b[1;36m200\u001b[0m request:\u001b[1;36m0.\u001b[0m063s\u001b[1m]\u001b[0m                                   \u001b[2m           \u001b[0m\n"
      ]
     },
     "metadata": {},
     "output_type": "display_data"
    },
    {
     "data": {
      "text/html": [
       "<pre style=\"white-space:pre;overflow-x:auto;line-height:normal;font-family:Menlo,'DejaVu Sans Mono',consolas,'Courier New',monospace\"><span style=\"color: #7fbfbf; text-decoration-color: #7fbfbf\">           </span><span style=\"color: #000080; text-decoration-color: #000080\">INFO    </span> <span style=\"font-weight: bold\">(</span><span style=\"color: #008080; text-decoration-color: #008080; font-weight: bold\">888</span>, <span style=\"font-weight: bold\">[])</span>                                                  <a href=\"file:///Users/christopherliew/Desktop/Y4S1/HT/crypto_uncertainty_index/es/manager.py\"><span style=\"color: #7f7f7f; text-decoration-color: #7f7f7f\">manager.py</span></a><span style=\"color: #7f7f7f; text-decoration-color: #7f7f7f\">:</span><a href=\"file:///Users/christopherliew/Desktop/Y4S1/HT/crypto_uncertainty_index/es/manager.py#118\"><span style=\"color: #7f7f7f; text-decoration-color: #7f7f7f\">118</span></a>\n",
       "</pre>\n"
      ],
      "text/plain": [
       "\u001b[2;36m          \u001b[0m\u001b[2;36m \u001b[0m\u001b[34mINFO    \u001b[0m \u001b[1m(\u001b[0m\u001b[1;36m888\u001b[0m, \u001b[1m[\u001b[0m\u001b[1m]\u001b[0m\u001b[1m)\u001b[0m                                                  \u001b]8;id=679332;file:///Users/christopherliew/Desktop/Y4S1/HT/crypto_uncertainty_index/es/manager.py\u001b\\\u001b[2mmanager.py\u001b[0m\u001b]8;;\u001b\\\u001b[2m:\u001b[0m\u001b]8;id=560894;file:///Users/christopherliew/Desktop/Y4S1/HT/crypto_uncertainty_index/es/manager.py#118\u001b\\\u001b[2m118\u001b[0m\u001b]8;;\u001b\\\n"
      ]
     },
     "metadata": {},
     "output_type": "display_data"
    }
   ],
   "source": [
    "es_conn.bulk_insert_data(index=TEST_REDDIT_CRYPTO_INDEX_NAME, data=dummy_data)"
   ]
  },
  {
   "cell_type": "code",
   "execution_count": 9,
   "metadata": {},
   "outputs": [
    {
     "data": {
      "text/html": [
       "<pre style=\"white-space:pre;overflow-x:auto;line-height:normal;font-family:Menlo,'DejaVu Sans Mono',consolas,'Courier New',monospace\"><span style=\"color: #7fbfbf; text-decoration-color: #7fbfbf\">           </span><span style=\"color: #000080; text-decoration-color: #000080\">INFO    </span> <span style=\"color: #808000; text-decoration-color: #808000; font-weight: bold\">POST</span> <span style=\"color: #0000ff; text-decoration-color: #0000ff; text-decoration: underline\">http://localhost:9200/test-reddit-crypto/_search</span>         <a href=\"file:///Users/christopherliew/Library/Caches/pypoetry/virtualenvs/crypto-uncertainty-index-NHOdNUJC-py3.8/lib/python3.8/site-packages/elasticsearch/connection/base.py\"><span style=\"color: #7f7f7f; text-decoration-color: #7f7f7f\">base.py</span></a><span style=\"color: #7f7f7f; text-decoration-color: #7f7f7f\">:</span><a href=\"file:///Users/christopherliew/Library/Caches/pypoetry/virtualenvs/crypto-uncertainty-index-NHOdNUJC-py3.8/lib/python3.8/site-packages/elasticsearch/connection/base.py#265\"><span style=\"color: #7f7f7f; text-decoration-color: #7f7f7f\">265</span></a>\n",
       "<span style=\"color: #7fbfbf; text-decoration-color: #7fbfbf\">           </span>         <span style=\"font-weight: bold\">[</span>status:<span style=\"color: #008080; text-decoration-color: #008080; font-weight: bold\">200</span> request:<span style=\"color: #008080; text-decoration-color: #008080; font-weight: bold\">0.</span>017s<span style=\"font-weight: bold\">]</span>                                   <span style=\"color: #7f7f7f; text-decoration-color: #7f7f7f\">           </span>\n",
       "</pre>\n"
      ],
      "text/plain": [
       "\u001b[2;36m          \u001b[0m\u001b[2;36m \u001b[0m\u001b[34mINFO    \u001b[0m \u001b[1;33mPOST\u001b[0m \u001b[4;94mhttp://localhost:9200/test-reddit-crypto/_search\u001b[0m         \u001b]8;id=187955;file:///Users/christopherliew/Library/Caches/pypoetry/virtualenvs/crypto-uncertainty-index-NHOdNUJC-py3.8/lib/python3.8/site-packages/elasticsearch/connection/base.py\u001b\\\u001b[2mbase.py\u001b[0m\u001b]8;;\u001b\\\u001b[2m:\u001b[0m\u001b]8;id=894158;file:///Users/christopherliew/Library/Caches/pypoetry/virtualenvs/crypto-uncertainty-index-NHOdNUJC-py3.8/lib/python3.8/site-packages/elasticsearch/connection/base.py#265\u001b\\\u001b[2m265\u001b[0m\u001b]8;;\u001b\\\n",
       "\u001b[2;36m           \u001b[0m         \u001b[1m[\u001b[0mstatus:\u001b[1;36m200\u001b[0m request:\u001b[1;36m0.\u001b[0m017s\u001b[1m]\u001b[0m                                   \u001b[2m           \u001b[0m\n"
      ]
     },
     "metadata": {},
     "output_type": "display_data"
    },
    {
     "data": {
      "text/plain": [
       "[]"
      ]
     },
     "execution_count": 9,
     "metadata": {},
     "output_type": "execute_result"
    }
   ],
   "source": [
    "# Test Querying\n",
    "test_query = {\n",
    "    \"query\": {\n",
    "        \"match_all\": {}\n",
    "    }\n",
    "}\n",
    "\n",
    "res = es_conn.run_match_query(index=TEST_REDDIT_CRYPTO_INDEX_NAME, query=test_query)\n",
    "res[:2]"
   ]
  },
  {
   "cell_type": "code",
   "execution_count": 10,
   "metadata": {},
   "outputs": [
    {
     "data": {
      "text/html": [
       "<pre style=\"white-space:pre;overflow-x:auto;line-height:normal;font-family:Menlo,'DejaVu Sans Mono',consolas,'Courier New',monospace\"><span style=\"color: #7fbfbf; text-decoration-color: #7fbfbf\">           </span><span style=\"color: #000080; text-decoration-color: #000080\">INFO    </span> <span style=\"color: #808000; text-decoration-color: #808000; font-weight: bold\">DELETE</span> <span style=\"color: #0000ff; text-decoration-color: #0000ff; text-decoration: underline\">http://localhost:9200/test-reddit-crypto</span> <span style=\"font-weight: bold\">[</span>status:<span style=\"color: #008080; text-decoration-color: #008080; font-weight: bold\">200</span>   <a href=\"file:///Users/christopherliew/Library/Caches/pypoetry/virtualenvs/crypto-uncertainty-index-NHOdNUJC-py3.8/lib/python3.8/site-packages/elasticsearch/connection/base.py\"><span style=\"color: #7f7f7f; text-decoration-color: #7f7f7f\">base.py</span></a><span style=\"color: #7f7f7f; text-decoration-color: #7f7f7f\">:</span><a href=\"file:///Users/christopherliew/Library/Caches/pypoetry/virtualenvs/crypto-uncertainty-index-NHOdNUJC-py3.8/lib/python3.8/site-packages/elasticsearch/connection/base.py#265\"><span style=\"color: #7f7f7f; text-decoration-color: #7f7f7f\">265</span></a>\n",
       "<span style=\"color: #7fbfbf; text-decoration-color: #7fbfbf\">           </span>         request:<span style=\"color: #008080; text-decoration-color: #008080; font-weight: bold\">0.</span>129s<span style=\"font-weight: bold\">]</span>                                               <span style=\"color: #7f7f7f; text-decoration-color: #7f7f7f\">           </span>\n",
       "</pre>\n"
      ],
      "text/plain": [
       "\u001b[2;36m          \u001b[0m\u001b[2;36m \u001b[0m\u001b[34mINFO    \u001b[0m \u001b[1;33mDELETE\u001b[0m \u001b[4;94mhttp://localhost:9200/test-reddit-crypto\u001b[0m \u001b[1m[\u001b[0mstatus:\u001b[1;36m200\u001b[0m   \u001b]8;id=728575;file:///Users/christopherliew/Library/Caches/pypoetry/virtualenvs/crypto-uncertainty-index-NHOdNUJC-py3.8/lib/python3.8/site-packages/elasticsearch/connection/base.py\u001b\\\u001b[2mbase.py\u001b[0m\u001b]8;;\u001b\\\u001b[2m:\u001b[0m\u001b]8;id=768478;file:///Users/christopherliew/Library/Caches/pypoetry/virtualenvs/crypto-uncertainty-index-NHOdNUJC-py3.8/lib/python3.8/site-packages/elasticsearch/connection/base.py#265\u001b\\\u001b[2m265\u001b[0m\u001b]8;;\u001b\\\n",
       "\u001b[2;36m           \u001b[0m         request:\u001b[1;36m0.\u001b[0m129s\u001b[1m]\u001b[0m                                               \u001b[2m           \u001b[0m\n"
      ]
     },
     "metadata": {},
     "output_type": "display_data"
    },
    {
     "data": {
      "text/html": [
       "<pre style=\"white-space:pre;overflow-x:auto;line-height:normal;font-family:Menlo,'DejaVu Sans Mono',consolas,'Courier New',monospace\"><span style=\"color: #7fbfbf; text-decoration-color: #7fbfbf\">           </span><span style=\"color: #000080; text-decoration-color: #000080\">INFO    </span> <span style=\"font-weight: bold\">{</span><span style=\"color: #008000; text-decoration-color: #008000\">'acknowledged'</span>: <span style=\"color: #00ff00; text-decoration-color: #00ff00; font-style: italic\">True</span><span style=\"font-weight: bold\">}</span>                                     <a href=\"file:///Users/christopherliew/Desktop/Y4S1/HT/crypto_uncertainty_index/es/manager.py\"><span style=\"color: #7f7f7f; text-decoration-color: #7f7f7f\">manager.py</span></a><span style=\"color: #7f7f7f; text-decoration-color: #7f7f7f\">:</span><a href=\"file:///Users/christopherliew/Desktop/Y4S1/HT/crypto_uncertainty_index/es/manager.py#126\"><span style=\"color: #7f7f7f; text-decoration-color: #7f7f7f\">126</span></a>\n",
       "</pre>\n"
      ],
      "text/plain": [
       "\u001b[2;36m          \u001b[0m\u001b[2;36m \u001b[0m\u001b[34mINFO    \u001b[0m \u001b[1m{\u001b[0m\u001b[32m'acknowledged'\u001b[0m: \u001b[3;92mTrue\u001b[0m\u001b[1m}\u001b[0m                                     \u001b]8;id=888505;file:///Users/christopherliew/Desktop/Y4S1/HT/crypto_uncertainty_index/es/manager.py\u001b\\\u001b[2mmanager.py\u001b[0m\u001b]8;;\u001b\\\u001b[2m:\u001b[0m\u001b]8;id=969209;file:///Users/christopherliew/Desktop/Y4S1/HT/crypto_uncertainty_index/es/manager.py#126\u001b\\\u001b[2m126\u001b[0m\u001b]8;;\u001b\\\n"
      ]
     },
     "metadata": {},
     "output_type": "display_data"
    }
   ],
   "source": [
    "# Test Index Deletion\n",
    "es_conn.delete_index(index=TEST_REDDIT_CRYPTO_INDEX_NAME)"
   ]
  },
  {
   "cell_type": "markdown",
   "metadata": {},
   "source": [
    "### 2. Reddit Extraction and Insertion Pipeline Test"
   ]
  },
  {
   "cell_type": "code",
   "execution_count": 11,
   "metadata": {},
   "outputs": [],
   "source": [
    "# Pull Test Data\n",
    "from config.reddit_data_cfg import CRYPTO_SUBREDDITS\n",
    "from data.extract.reddit_extract import *"
   ]
  },
  {
   "cell_type": "code",
   "execution_count": 12,
   "metadata": {},
   "outputs": [
    {
     "name": "stdout",
     "output_type": "stream",
     "text": [
      "TEST DETAILS:\n",
      "Subreddit=['CryptoCurrency']\n",
      "Start Date=2021-01-14 00:00:00\n",
      "End Date=2021-01-19 00:00:00\n",
      "Date Range=5 days, 0:00:00\n",
      "\n"
     ]
    }
   ],
   "source": [
    "# Pull out CryptoCurrency\n",
    "test_subreddit = [CRYPTO_SUBREDDITS[6]]\n",
    "\n",
    "# Pull Configs\n",
    "test_start_date = datetime.strptime(\"2021-01-14\", \"%Y-%m-%d\")\n",
    "test_end_date = datetime.strptime(\"2021-01-19\", \"%Y-%m-%d\")\n",
    "\n",
    "print(f\"\"\"TEST DETAILS:\n",
    "Subreddit={test_subreddit}\n",
    "Start Date={test_start_date}\n",
    "End Date={test_end_date}\n",
    "Date Range={test_end_date - test_start_date}\n",
    "\"\"\")"
   ]
  },
  {
   "cell_type": "code",
   "execution_count": 13,
   "metadata": {},
   "outputs": [
    {
     "name": "stderr",
     "output_type": "stream",
     "text": [
      "  0%|          | 0/1 [00:00<?, ?it/s]"
     ]
    },
    {
     "data": {
      "text/html": [
       "<pre style=\"white-space:pre;overflow-x:auto;line-height:normal;font-family:Menlo,'DejaVu Sans Mono',consolas,'Courier New',monospace\"><span style=\"color: #7fbfbf; text-decoration-color: #7fbfbf\">           </span><span style=\"color: #000080; text-decoration-color: #000080\">INFO    </span> Pulling data from <span style=\"color: #808000; text-decoration-color: #808000\">subreddit</span>=<span style=\"color: #800080; text-decoration-color: #800080\">CryptoCurrency</span>          <a href=\"file:///Users/christopherliew/Desktop/Y4S1/HT/crypto_uncertainty_index/data/extract/reddit_extract.py\"><span style=\"color: #7f7f7f; text-decoration-color: #7f7f7f\">reddit_extract.py</span></a><span style=\"color: #7f7f7f; text-decoration-color: #7f7f7f\">:</span><a href=\"file:///Users/christopherliew/Desktop/Y4S1/HT/crypto_uncertainty_index/data/extract/reddit_extract.py#110\"><span style=\"color: #7f7f7f; text-decoration-color: #7f7f7f\">110</span></a>\n",
       "<span style=\"color: #7fbfbf; text-decoration-color: #7fbfbf\">           </span>                          for dates between <span style=\"color: #008080; text-decoration-color: #008080; font-weight: bold\">2021</span>-<span style=\"color: #008080; text-decoration-color: #008080; font-weight: bold\">01</span>-<span style=\"color: #008080; text-decoration-color: #008080; font-weight: bold\">14</span>       <span style=\"color: #7f7f7f; text-decoration-color: #7f7f7f\">                     </span>\n",
       "<span style=\"color: #7fbfbf; text-decoration-color: #7fbfbf\">           </span>         <span style=\"color: #00ff00; text-decoration-color: #00ff00; font-weight: bold\">00:00:00</span> and <span style=\"color: #008080; text-decoration-color: #008080; font-weight: bold\">2021</span>-<span style=\"color: #008080; text-decoration-color: #008080; font-weight: bold\">01</span>-<span style=\"color: #008080; text-decoration-color: #008080; font-weight: bold\">19</span> <span style=\"color: #00ff00; text-decoration-color: #00ff00; font-weight: bold\">00:00:00</span>                    <span style=\"color: #7f7f7f; text-decoration-color: #7f7f7f\">                     </span>\n",
       "</pre>\n"
      ],
      "text/plain": [
       "\u001b[2;36m          \u001b[0m\u001b[2;36m \u001b[0m\u001b[34mINFO    \u001b[0m Pulling data from \u001b[33msubreddit\u001b[0m=\u001b[35mCryptoCurrency\u001b[0m          \u001b]8;id=172854;file:///Users/christopherliew/Desktop/Y4S1/HT/crypto_uncertainty_index/data/extract/reddit_extract.py\u001b\\\u001b[2mreddit_extract.py\u001b[0m\u001b]8;;\u001b\\\u001b[2m:\u001b[0m\u001b]8;id=821149;file:///Users/christopherliew/Desktop/Y4S1/HT/crypto_uncertainty_index/data/extract/reddit_extract.py#110\u001b\\\u001b[2m110\u001b[0m\u001b]8;;\u001b\\\n",
       "\u001b[2;36m           \u001b[0m                          for dates between \u001b[1;36m2021\u001b[0m-\u001b[1;36m01\u001b[0m-\u001b[1;36m14\u001b[0m       \u001b[2m                     \u001b[0m\n",
       "\u001b[2;36m           \u001b[0m         \u001b[1;92m00:00:00\u001b[0m and \u001b[1;36m2021\u001b[0m-\u001b[1;36m01\u001b[0m-\u001b[1;36m19\u001b[0m \u001b[1;92m00:00:00\u001b[0m                    \u001b[2m                     \u001b[0m\n"
      ]
     },
     "metadata": {},
     "output_type": "display_data"
    },
    {
     "data": {
      "text/html": [
       "<pre style=\"white-space:pre;overflow-x:auto;line-height:normal;font-family:Menlo,'DejaVu Sans Mono',consolas,'Courier New',monospace\"><span style=\"color: #7fbfbf; text-decoration-color: #7fbfbf\">           </span><span style=\"color: #000080; text-decoration-color: #000080\">INFO    </span> Retrieving <span style=\"color: #0000ff; text-decoration-color: #0000ff; text-decoration: underline\">https://api.pushshift.io/reddit/search/submission/</span> <a href=\"file:///Users/christopherliew/Library/Caches/pypoetry/virtualenvs/crypto-uncertainty-index-NHOdNUJC-py3.8/lib/python3.8/site-packages/snscrape/base.py\"><span style=\"color: #7f7f7f; text-decoration-color: #7f7f7f\">base.py</span></a><span style=\"color: #7f7f7f; text-decoration-color: #7f7f7f\">:</span><a href=\"file:///Users/christopherliew/Library/Caches/pypoetry/virtualenvs/crypto-uncertainty-index-NHOdNUJC-py3.8/lib/python3.8/site-packages/snscrape/base.py#168\"><span style=\"color: #7f7f7f; text-decoration-color: #7f7f7f\">168</span></a>\n",
       "<span style=\"color: #7fbfbf; text-decoration-color: #7fbfbf\">           </span>         <span style=\"color: #0000ff; text-decoration-color: #0000ff; text-decoration: underline\">?subreddit=CryptoCurrency&amp;size=1000&amp;before=2021-01-19+00%3A00</span> <span style=\"color: #7f7f7f; text-decoration-color: #7f7f7f\">           </span>\n",
       "<span style=\"color: #7fbfbf; text-decoration-color: #7fbfbf\">           </span>         <span style=\"color: #0000ff; text-decoration-color: #0000ff; text-decoration: underline\">%3A00&amp;after=2021-01-14+00%3A00%3A00&amp;sort=desc</span>                 <span style=\"color: #7f7f7f; text-decoration-color: #7f7f7f\">           </span>\n",
       "</pre>\n"
      ],
      "text/plain": [
       "\u001b[2;36m          \u001b[0m\u001b[2;36m \u001b[0m\u001b[34mINFO    \u001b[0m Retrieving \u001b[4;94mhttps://api.pushshift.io/reddit/search/submission/\u001b[0m \u001b]8;id=69315;file:///Users/christopherliew/Library/Caches/pypoetry/virtualenvs/crypto-uncertainty-index-NHOdNUJC-py3.8/lib/python3.8/site-packages/snscrape/base.py\u001b\\\u001b[2mbase.py\u001b[0m\u001b]8;;\u001b\\\u001b[2m:\u001b[0m\u001b]8;id=263547;file:///Users/christopherliew/Library/Caches/pypoetry/virtualenvs/crypto-uncertainty-index-NHOdNUJC-py3.8/lib/python3.8/site-packages/snscrape/base.py#168\u001b\\\u001b[2m168\u001b[0m\u001b]8;;\u001b\\\n",
       "\u001b[2;36m           \u001b[0m         \u001b[4;94m?\u001b[0m\u001b[4;94msubreddit\u001b[0m\u001b[4;94m=\u001b[0m\u001b[4;94mCryptoCurrency\u001b[0m\u001b[4;94m&\u001b[0m\u001b[4;94msize\u001b[0m\u001b[4;94m=\u001b[0m\u001b[4;94m1000\u001b[0m\u001b[4;94m&\u001b[0m\u001b[4;94mbefore\u001b[0m\u001b[4;94m=\u001b[0m\u001b[4;94m2021\u001b[0m\u001b[4;94m-01-19+00%3A00\u001b[0m \u001b[2m           \u001b[0m\n",
       "\u001b[2;36m           \u001b[0m         \u001b[4;94m%3A00&\u001b[0m\u001b[4;94mafter\u001b[0m\u001b[4;94m=\u001b[0m\u001b[4;94m2021\u001b[0m\u001b[4;94m-01-14+00%3A00%3A00&\u001b[0m\u001b[4;94msort\u001b[0m\u001b[4;94m=\u001b[0m\u001b[4;94mdesc\u001b[0m                 \u001b[2m           \u001b[0m\n"
      ]
     },
     "metadata": {},
     "output_type": "display_data"
    },
    {
     "data": {
      "text/html": [
       "<pre style=\"white-space:pre;overflow-x:auto;line-height:normal;font-family:Menlo,'DejaVu Sans Mono',consolas,'Courier New',monospace\"><span style=\"color: #7fbfbf; text-decoration-color: #7fbfbf\">           </span><span style=\"color: #000080; text-decoration-color: #000080\">INFO    </span> Retrieved <span style=\"color: #0000ff; text-decoration-color: #0000ff; text-decoration: underline\">https://api.pushshift.io/reddit/search/submission/?</span> <a href=\"file:///Users/christopherliew/Library/Caches/pypoetry/virtualenvs/crypto-uncertainty-index-NHOdNUJC-py3.8/lib/python3.8/site-packages/snscrape/base.py\"><span style=\"color: #7f7f7f; text-decoration-color: #7f7f7f\">base.py</span></a><span style=\"color: #7f7f7f; text-decoration-color: #7f7f7f\">:</span><a href=\"file:///Users/christopherliew/Library/Caches/pypoetry/virtualenvs/crypto-uncertainty-index-NHOdNUJC-py3.8/lib/python3.8/site-packages/snscrape/base.py#184\"><span style=\"color: #7f7f7f; text-decoration-color: #7f7f7f\">184</span></a>\n",
       "<span style=\"color: #7fbfbf; text-decoration-color: #7fbfbf\">           </span>         <span style=\"color: #0000ff; text-decoration-color: #0000ff; text-decoration: underline\">subreddit=CryptoCurrency&amp;size=1000&amp;before=2021-01-19+00%3A00%</span> <span style=\"color: #7f7f7f; text-decoration-color: #7f7f7f\">           </span>\n",
       "<span style=\"color: #7fbfbf; text-decoration-color: #7fbfbf\">           </span>         <span style=\"color: #0000ff; text-decoration-color: #0000ff; text-decoration: underline\">3A00&amp;after=2021-01-14+00%3A00%3A00&amp;sort=desc:</span> <span style=\"color: #008080; text-decoration-color: #008080; font-weight: bold\">200</span>             <span style=\"color: #7f7f7f; text-decoration-color: #7f7f7f\">           </span>\n",
       "</pre>\n"
      ],
      "text/plain": [
       "\u001b[2;36m          \u001b[0m\u001b[2;36m \u001b[0m\u001b[34mINFO    \u001b[0m Retrieved \u001b[4;94mhttps://api.pushshift.io/reddit/search/submission/?\u001b[0m \u001b]8;id=888354;file:///Users/christopherliew/Library/Caches/pypoetry/virtualenvs/crypto-uncertainty-index-NHOdNUJC-py3.8/lib/python3.8/site-packages/snscrape/base.py\u001b\\\u001b[2mbase.py\u001b[0m\u001b]8;;\u001b\\\u001b[2m:\u001b[0m\u001b]8;id=115119;file:///Users/christopherliew/Library/Caches/pypoetry/virtualenvs/crypto-uncertainty-index-NHOdNUJC-py3.8/lib/python3.8/site-packages/snscrape/base.py#184\u001b\\\u001b[2m184\u001b[0m\u001b]8;;\u001b\\\n",
       "\u001b[2;36m           \u001b[0m         \u001b[4;94msubreddit\u001b[0m\u001b[4;94m=\u001b[0m\u001b[4;94mCryptoCurrency\u001b[0m\u001b[4;94m&\u001b[0m\u001b[4;94msize\u001b[0m\u001b[4;94m=\u001b[0m\u001b[4;94m1000\u001b[0m\u001b[4;94m&\u001b[0m\u001b[4;94mbefore\u001b[0m\u001b[4;94m=\u001b[0m\u001b[4;94m2021\u001b[0m\u001b[4;94m-01-19+00%3A00%\u001b[0m \u001b[2m           \u001b[0m\n",
       "\u001b[2;36m           \u001b[0m         \u001b[4;94m3A00&\u001b[0m\u001b[4;94mafter\u001b[0m\u001b[4;94m=\u001b[0m\u001b[4;94m2021\u001b[0m\u001b[4;94m-01-14+00%3A00%3A00&\u001b[0m\u001b[4;94msort\u001b[0m\u001b[4;94m=\u001b[0m\u001b[4;94mdesc\u001b[0m\u001b[4;94m:\u001b[0m \u001b[1;36m200\u001b[0m             \u001b[2m           \u001b[0m\n"
      ]
     },
     "metadata": {},
     "output_type": "display_data"
    },
    {
     "data": {
      "text/html": [
       "<pre style=\"white-space:pre;overflow-x:auto;line-height:normal;font-family:Menlo,'DejaVu Sans Mono',consolas,'Courier New',monospace\"><span style=\"color: #7fbfbf; text-decoration-color: #7fbfbf\">           </span><span style=\"color: #000080; text-decoration-color: #000080\">INFO    </span> Retrieving <span style=\"color: #0000ff; text-decoration-color: #0000ff; text-decoration: underline\">https://api.pushshift.io/reddit/search/comment/?su</span> <a href=\"file:///Users/christopherliew/Library/Caches/pypoetry/virtualenvs/crypto-uncertainty-index-NHOdNUJC-py3.8/lib/python3.8/site-packages/snscrape/base.py\"><span style=\"color: #7f7f7f; text-decoration-color: #7f7f7f\">base.py</span></a><span style=\"color: #7f7f7f; text-decoration-color: #7f7f7f\">:</span><a href=\"file:///Users/christopherliew/Library/Caches/pypoetry/virtualenvs/crypto-uncertainty-index-NHOdNUJC-py3.8/lib/python3.8/site-packages/snscrape/base.py#168\"><span style=\"color: #7f7f7f; text-decoration-color: #7f7f7f\">168</span></a>\n",
       "<span style=\"color: #7fbfbf; text-decoration-color: #7fbfbf\">           </span>         <span style=\"color: #0000ff; text-decoration-color: #0000ff; text-decoration: underline\">breddit=CryptoCurrency&amp;size=1000&amp;before=2021-01-19+00%3A00%3A</span> <span style=\"color: #7f7f7f; text-decoration-color: #7f7f7f\">           </span>\n",
       "<span style=\"color: #7fbfbf; text-decoration-color: #7fbfbf\">           </span>         <span style=\"color: #0000ff; text-decoration-color: #0000ff; text-decoration: underline\">00&amp;after=2021-01-14+00%3A00%3A00&amp;sort=desc</span>                    <span style=\"color: #7f7f7f; text-decoration-color: #7f7f7f\">           </span>\n",
       "</pre>\n"
      ],
      "text/plain": [
       "\u001b[2;36m          \u001b[0m\u001b[2;36m \u001b[0m\u001b[34mINFO    \u001b[0m Retrieving \u001b[4;94mhttps://api.pushshift.io/reddit/search/comment/?\u001b[0m\u001b[4;94msu\u001b[0m \u001b]8;id=668820;file:///Users/christopherliew/Library/Caches/pypoetry/virtualenvs/crypto-uncertainty-index-NHOdNUJC-py3.8/lib/python3.8/site-packages/snscrape/base.py\u001b\\\u001b[2mbase.py\u001b[0m\u001b]8;;\u001b\\\u001b[2m:\u001b[0m\u001b]8;id=510599;file:///Users/christopherliew/Library/Caches/pypoetry/virtualenvs/crypto-uncertainty-index-NHOdNUJC-py3.8/lib/python3.8/site-packages/snscrape/base.py#168\u001b\\\u001b[2m168\u001b[0m\u001b]8;;\u001b\\\n",
       "\u001b[2;36m           \u001b[0m         \u001b[4;94mbreddit\u001b[0m\u001b[4;94m=\u001b[0m\u001b[4;94mCryptoCurrency\u001b[0m\u001b[4;94m&\u001b[0m\u001b[4;94msize\u001b[0m\u001b[4;94m=\u001b[0m\u001b[4;94m1000\u001b[0m\u001b[4;94m&\u001b[0m\u001b[4;94mbefore\u001b[0m\u001b[4;94m=\u001b[0m\u001b[4;94m2021\u001b[0m\u001b[4;94m-01-19+00%3A00%3A\u001b[0m \u001b[2m           \u001b[0m\n",
       "\u001b[2;36m           \u001b[0m         \u001b[4;94m00&\u001b[0m\u001b[4;94mafter\u001b[0m\u001b[4;94m=\u001b[0m\u001b[4;94m2021\u001b[0m\u001b[4;94m-01-14+00%3A00%3A00&\u001b[0m\u001b[4;94msort\u001b[0m\u001b[4;94m=\u001b[0m\u001b[4;94mdesc\u001b[0m                    \u001b[2m           \u001b[0m\n"
      ]
     },
     "metadata": {},
     "output_type": "display_data"
    },
    {
     "data": {
      "text/html": [
       "<pre style=\"white-space:pre;overflow-x:auto;line-height:normal;font-family:Menlo,'DejaVu Sans Mono',consolas,'Courier New',monospace\"><span style=\"color: #7fbfbf; text-decoration-color: #7fbfbf\">           </span><span style=\"color: #000080; text-decoration-color: #000080\">INFO    </span> Retrieved <span style=\"color: #0000ff; text-decoration-color: #0000ff; text-decoration: underline\">https://api.pushshift.io/reddit/search/comment/?sub</span> <a href=\"file:///Users/christopherliew/Library/Caches/pypoetry/virtualenvs/crypto-uncertainty-index-NHOdNUJC-py3.8/lib/python3.8/site-packages/snscrape/base.py\"><span style=\"color: #7f7f7f; text-decoration-color: #7f7f7f\">base.py</span></a><span style=\"color: #7f7f7f; text-decoration-color: #7f7f7f\">:</span><a href=\"file:///Users/christopherliew/Library/Caches/pypoetry/virtualenvs/crypto-uncertainty-index-NHOdNUJC-py3.8/lib/python3.8/site-packages/snscrape/base.py#184\"><span style=\"color: #7f7f7f; text-decoration-color: #7f7f7f\">184</span></a>\n",
       "<span style=\"color: #7fbfbf; text-decoration-color: #7fbfbf\">           </span>         <span style=\"color: #0000ff; text-decoration-color: #0000ff; text-decoration: underline\">reddit=CryptoCurrency&amp;size=1000&amp;before=2021-01-19+00%3A00%3A0</span> <span style=\"color: #7f7f7f; text-decoration-color: #7f7f7f\">           </span>\n",
       "<span style=\"color: #7fbfbf; text-decoration-color: #7fbfbf\">           </span>         <span style=\"color: #0000ff; text-decoration-color: #0000ff; text-decoration: underline\">0&amp;after=2021-01-14+00%3A00%3A00&amp;sort=desc:</span> <span style=\"color: #008080; text-decoration-color: #008080; font-weight: bold\">200</span>                <span style=\"color: #7f7f7f; text-decoration-color: #7f7f7f\">           </span>\n",
       "</pre>\n"
      ],
      "text/plain": [
       "\u001b[2;36m          \u001b[0m\u001b[2;36m \u001b[0m\u001b[34mINFO    \u001b[0m Retrieved \u001b[4;94mhttps://api.pushshift.io/reddit/search/comment/?\u001b[0m\u001b[4;94msub\u001b[0m \u001b]8;id=347760;file:///Users/christopherliew/Library/Caches/pypoetry/virtualenvs/crypto-uncertainty-index-NHOdNUJC-py3.8/lib/python3.8/site-packages/snscrape/base.py\u001b\\\u001b[2mbase.py\u001b[0m\u001b]8;;\u001b\\\u001b[2m:\u001b[0m\u001b]8;id=853195;file:///Users/christopherliew/Library/Caches/pypoetry/virtualenvs/crypto-uncertainty-index-NHOdNUJC-py3.8/lib/python3.8/site-packages/snscrape/base.py#184\u001b\\\u001b[2m184\u001b[0m\u001b]8;;\u001b\\\n",
       "\u001b[2;36m           \u001b[0m         \u001b[4;94mreddit\u001b[0m\u001b[4;94m=\u001b[0m\u001b[4;94mCryptoCurrency\u001b[0m\u001b[4;94m&\u001b[0m\u001b[4;94msize\u001b[0m\u001b[4;94m=\u001b[0m\u001b[4;94m1000\u001b[0m\u001b[4;94m&\u001b[0m\u001b[4;94mbefore\u001b[0m\u001b[4;94m=\u001b[0m\u001b[4;94m2021\u001b[0m\u001b[4;94m-01-19+00%3A00%3A0\u001b[0m \u001b[2m           \u001b[0m\n",
       "\u001b[2;36m           \u001b[0m         \u001b[4;94m0&\u001b[0m\u001b[4;94mafter\u001b[0m\u001b[4;94m=\u001b[0m\u001b[4;94m2021\u001b[0m\u001b[4;94m-01-14+00%3A00%3A00&\u001b[0m\u001b[4;94msort\u001b[0m\u001b[4;94m=\u001b[0m\u001b[4;94mdesc\u001b[0m\u001b[4;94m:\u001b[0m \u001b[1;36m200\u001b[0m                \u001b[2m           \u001b[0m\n"
      ]
     },
     "metadata": {},
     "output_type": "display_data"
    },
    {
     "data": {
      "text/html": [
       "<pre style=\"white-space:pre;overflow-x:auto;line-height:normal;font-family:Menlo,'DejaVu Sans Mono',consolas,'Courier New',monospace\"><span style=\"color: #7fbfbf; text-decoration-color: #7fbfbf\">           </span><span style=\"color: #000080; text-decoration-color: #000080\">INFO    </span> Retrieving <span style=\"color: #0000ff; text-decoration-color: #0000ff; text-decoration: underline\">https://api.pushshift.io/reddit/search/comment/?su</span> <a href=\"file:///Users/christopherliew/Library/Caches/pypoetry/virtualenvs/crypto-uncertainty-index-NHOdNUJC-py3.8/lib/python3.8/site-packages/snscrape/base.py\"><span style=\"color: #7f7f7f; text-decoration-color: #7f7f7f\">base.py</span></a><span style=\"color: #7f7f7f; text-decoration-color: #7f7f7f\">:</span><a href=\"file:///Users/christopherliew/Library/Caches/pypoetry/virtualenvs/crypto-uncertainty-index-NHOdNUJC-py3.8/lib/python3.8/site-packages/snscrape/base.py#168\"><span style=\"color: #7f7f7f; text-decoration-color: #7f7f7f\">168</span></a>\n",
       "<span style=\"color: #7fbfbf; text-decoration-color: #7fbfbf\">           </span>         <span style=\"color: #0000ff; text-decoration-color: #0000ff; text-decoration: underline\">breddit=CryptoCurrency&amp;size=1000&amp;before=1611013713&amp;after=2021</span> <span style=\"color: #7f7f7f; text-decoration-color: #7f7f7f\">           </span>\n",
       "<span style=\"color: #7fbfbf; text-decoration-color: #7fbfbf\">           </span>         <span style=\"color: #0000ff; text-decoration-color: #0000ff; text-decoration: underline\">-01-14+00%3A00%3A00&amp;sort=desc</span>                                 <span style=\"color: #7f7f7f; text-decoration-color: #7f7f7f\">           </span>\n",
       "</pre>\n"
      ],
      "text/plain": [
       "\u001b[2;36m          \u001b[0m\u001b[2;36m \u001b[0m\u001b[34mINFO    \u001b[0m Retrieving \u001b[4;94mhttps://api.pushshift.io/reddit/search/comment/?\u001b[0m\u001b[4;94msu\u001b[0m \u001b]8;id=718918;file:///Users/christopherliew/Library/Caches/pypoetry/virtualenvs/crypto-uncertainty-index-NHOdNUJC-py3.8/lib/python3.8/site-packages/snscrape/base.py\u001b\\\u001b[2mbase.py\u001b[0m\u001b]8;;\u001b\\\u001b[2m:\u001b[0m\u001b]8;id=214270;file:///Users/christopherliew/Library/Caches/pypoetry/virtualenvs/crypto-uncertainty-index-NHOdNUJC-py3.8/lib/python3.8/site-packages/snscrape/base.py#168\u001b\\\u001b[2m168\u001b[0m\u001b]8;;\u001b\\\n",
       "\u001b[2;36m           \u001b[0m         \u001b[4;94mbreddit\u001b[0m\u001b[4;94m=\u001b[0m\u001b[4;94mCryptoCurrency\u001b[0m\u001b[4;94m&\u001b[0m\u001b[4;94msize\u001b[0m\u001b[4;94m=\u001b[0m\u001b[4;94m1000\u001b[0m\u001b[4;94m&\u001b[0m\u001b[4;94mbefore\u001b[0m\u001b[4;94m=\u001b[0m\u001b[4;94m1611013713\u001b[0m\u001b[4;94m&\u001b[0m\u001b[4;94mafter\u001b[0m\u001b[4;94m=\u001b[0m\u001b[4;94m2021\u001b[0m \u001b[2m           \u001b[0m\n",
       "\u001b[2;36m           \u001b[0m         \u001b[4;94m-01-14+00%3A00%3A00&\u001b[0m\u001b[4;94msort\u001b[0m\u001b[4;94m=\u001b[0m\u001b[4;94mdesc\u001b[0m                                 \u001b[2m           \u001b[0m\n"
      ]
     },
     "metadata": {},
     "output_type": "display_data"
    },
    {
     "data": {
      "text/html": [
       "<pre style=\"white-space:pre;overflow-x:auto;line-height:normal;font-family:Menlo,'DejaVu Sans Mono',consolas,'Courier New',monospace\"><span style=\"color: #7fbfbf; text-decoration-color: #7fbfbf\">           </span><span style=\"color: #000080; text-decoration-color: #000080\">INFO    </span> Retrieved <span style=\"color: #0000ff; text-decoration-color: #0000ff; text-decoration: underline\">https://api.pushshift.io/reddit/search/comment/?sub</span> <a href=\"file:///Users/christopherliew/Library/Caches/pypoetry/virtualenvs/crypto-uncertainty-index-NHOdNUJC-py3.8/lib/python3.8/site-packages/snscrape/base.py\"><span style=\"color: #7f7f7f; text-decoration-color: #7f7f7f\">base.py</span></a><span style=\"color: #7f7f7f; text-decoration-color: #7f7f7f\">:</span><a href=\"file:///Users/christopherliew/Library/Caches/pypoetry/virtualenvs/crypto-uncertainty-index-NHOdNUJC-py3.8/lib/python3.8/site-packages/snscrape/base.py#184\"><span style=\"color: #7f7f7f; text-decoration-color: #7f7f7f\">184</span></a>\n",
       "<span style=\"color: #7fbfbf; text-decoration-color: #7fbfbf\">           </span>         <span style=\"color: #0000ff; text-decoration-color: #0000ff; text-decoration: underline\">reddit=CryptoCurrency&amp;size=1000&amp;before=1611013713&amp;after=2021-</span> <span style=\"color: #7f7f7f; text-decoration-color: #7f7f7f\">           </span>\n",
       "<span style=\"color: #7fbfbf; text-decoration-color: #7fbfbf\">           </span>         <span style=\"color: #0000ff; text-decoration-color: #0000ff; text-decoration: underline\">01-14+00%3A00%3A00&amp;sort=desc:</span> <span style=\"color: #008080; text-decoration-color: #008080; font-weight: bold\">200</span>                             <span style=\"color: #7f7f7f; text-decoration-color: #7f7f7f\">           </span>\n",
       "</pre>\n"
      ],
      "text/plain": [
       "\u001b[2;36m          \u001b[0m\u001b[2;36m \u001b[0m\u001b[34mINFO    \u001b[0m Retrieved \u001b[4;94mhttps://api.pushshift.io/reddit/search/comment/?\u001b[0m\u001b[4;94msub\u001b[0m \u001b]8;id=522484;file:///Users/christopherliew/Library/Caches/pypoetry/virtualenvs/crypto-uncertainty-index-NHOdNUJC-py3.8/lib/python3.8/site-packages/snscrape/base.py\u001b\\\u001b[2mbase.py\u001b[0m\u001b]8;;\u001b\\\u001b[2m:\u001b[0m\u001b]8;id=313490;file:///Users/christopherliew/Library/Caches/pypoetry/virtualenvs/crypto-uncertainty-index-NHOdNUJC-py3.8/lib/python3.8/site-packages/snscrape/base.py#184\u001b\\\u001b[2m184\u001b[0m\u001b]8;;\u001b\\\n",
       "\u001b[2;36m           \u001b[0m         \u001b[4;94mreddit\u001b[0m\u001b[4;94m=\u001b[0m\u001b[4;94mCryptoCurrency\u001b[0m\u001b[4;94m&\u001b[0m\u001b[4;94msize\u001b[0m\u001b[4;94m=\u001b[0m\u001b[4;94m1000\u001b[0m\u001b[4;94m&\u001b[0m\u001b[4;94mbefore\u001b[0m\u001b[4;94m=\u001b[0m\u001b[4;94m1611013713\u001b[0m\u001b[4;94m&\u001b[0m\u001b[4;94mafter\u001b[0m\u001b[4;94m=\u001b[0m\u001b[4;94m2021\u001b[0m\u001b[4;94m-\u001b[0m \u001b[2m           \u001b[0m\n",
       "\u001b[2;36m           \u001b[0m         \u001b[4;94m01-14+00%3A00%3A00&\u001b[0m\u001b[4;94msort\u001b[0m\u001b[4;94m=\u001b[0m\u001b[4;94mdesc\u001b[0m\u001b[4;94m:\u001b[0m \u001b[1;36m200\u001b[0m                             \u001b[2m           \u001b[0m\n"
      ]
     },
     "metadata": {},
     "output_type": "display_data"
    },
    {
     "data": {
      "text/html": [
       "<pre style=\"white-space:pre;overflow-x:auto;line-height:normal;font-family:Menlo,'DejaVu Sans Mono',consolas,'Courier New',monospace\"><span style=\"color: #7fbfbf; text-decoration-color: #7fbfbf\">           </span><span style=\"color: #000080; text-decoration-color: #000080\">INFO    </span> Retrieving <span style=\"color: #0000ff; text-decoration-color: #0000ff; text-decoration: underline\">https://api.pushshift.io/reddit/search/comment/?su</span> <a href=\"file:///Users/christopherliew/Library/Caches/pypoetry/virtualenvs/crypto-uncertainty-index-NHOdNUJC-py3.8/lib/python3.8/site-packages/snscrape/base.py\"><span style=\"color: #7f7f7f; text-decoration-color: #7f7f7f\">base.py</span></a><span style=\"color: #7f7f7f; text-decoration-color: #7f7f7f\">:</span><a href=\"file:///Users/christopherliew/Library/Caches/pypoetry/virtualenvs/crypto-uncertainty-index-NHOdNUJC-py3.8/lib/python3.8/site-packages/snscrape/base.py#168\"><span style=\"color: #7f7f7f; text-decoration-color: #7f7f7f\">168</span></a>\n",
       "<span style=\"color: #7fbfbf; text-decoration-color: #7fbfbf\">           </span>         <span style=\"color: #0000ff; text-decoration-color: #0000ff; text-decoration: underline\">breddit=CryptoCurrency&amp;size=1000&amp;before=1611013098&amp;after=2021</span> <span style=\"color: #7f7f7f; text-decoration-color: #7f7f7f\">           </span>\n",
       "<span style=\"color: #7fbfbf; text-decoration-color: #7fbfbf\">           </span>         <span style=\"color: #0000ff; text-decoration-color: #0000ff; text-decoration: underline\">-01-14+00%3A00%3A00&amp;sort=desc</span>                                 <span style=\"color: #7f7f7f; text-decoration-color: #7f7f7f\">           </span>\n",
       "</pre>\n"
      ],
      "text/plain": [
       "\u001b[2;36m          \u001b[0m\u001b[2;36m \u001b[0m\u001b[34mINFO    \u001b[0m Retrieving \u001b[4;94mhttps://api.pushshift.io/reddit/search/comment/?\u001b[0m\u001b[4;94msu\u001b[0m \u001b]8;id=966614;file:///Users/christopherliew/Library/Caches/pypoetry/virtualenvs/crypto-uncertainty-index-NHOdNUJC-py3.8/lib/python3.8/site-packages/snscrape/base.py\u001b\\\u001b[2mbase.py\u001b[0m\u001b]8;;\u001b\\\u001b[2m:\u001b[0m\u001b]8;id=537802;file:///Users/christopherliew/Library/Caches/pypoetry/virtualenvs/crypto-uncertainty-index-NHOdNUJC-py3.8/lib/python3.8/site-packages/snscrape/base.py#168\u001b\\\u001b[2m168\u001b[0m\u001b]8;;\u001b\\\n",
       "\u001b[2;36m           \u001b[0m         \u001b[4;94mbreddit\u001b[0m\u001b[4;94m=\u001b[0m\u001b[4;94mCryptoCurrency\u001b[0m\u001b[4;94m&\u001b[0m\u001b[4;94msize\u001b[0m\u001b[4;94m=\u001b[0m\u001b[4;94m1000\u001b[0m\u001b[4;94m&\u001b[0m\u001b[4;94mbefore\u001b[0m\u001b[4;94m=\u001b[0m\u001b[4;94m1611013098\u001b[0m\u001b[4;94m&\u001b[0m\u001b[4;94mafter\u001b[0m\u001b[4;94m=\u001b[0m\u001b[4;94m2021\u001b[0m \u001b[2m           \u001b[0m\n",
       "\u001b[2;36m           \u001b[0m         \u001b[4;94m-01-14+00%3A00%3A00&\u001b[0m\u001b[4;94msort\u001b[0m\u001b[4;94m=\u001b[0m\u001b[4;94mdesc\u001b[0m                                 \u001b[2m           \u001b[0m\n"
      ]
     },
     "metadata": {},
     "output_type": "display_data"
    },
    {
     "data": {
      "text/html": [
       "<pre style=\"white-space:pre;overflow-x:auto;line-height:normal;font-family:Menlo,'DejaVu Sans Mono',consolas,'Courier New',monospace\"><span style=\"color: #7fbfbf; text-decoration-color: #7fbfbf\">           </span><span style=\"color: #000080; text-decoration-color: #000080\">INFO    </span> Retrieved <span style=\"color: #0000ff; text-decoration-color: #0000ff; text-decoration: underline\">https://api.pushshift.io/reddit/search/comment/?sub</span> <a href=\"file:///Users/christopherliew/Library/Caches/pypoetry/virtualenvs/crypto-uncertainty-index-NHOdNUJC-py3.8/lib/python3.8/site-packages/snscrape/base.py\"><span style=\"color: #7f7f7f; text-decoration-color: #7f7f7f\">base.py</span></a><span style=\"color: #7f7f7f; text-decoration-color: #7f7f7f\">:</span><a href=\"file:///Users/christopherliew/Library/Caches/pypoetry/virtualenvs/crypto-uncertainty-index-NHOdNUJC-py3.8/lib/python3.8/site-packages/snscrape/base.py#184\"><span style=\"color: #7f7f7f; text-decoration-color: #7f7f7f\">184</span></a>\n",
       "<span style=\"color: #7fbfbf; text-decoration-color: #7fbfbf\">           </span>         <span style=\"color: #0000ff; text-decoration-color: #0000ff; text-decoration: underline\">reddit=CryptoCurrency&amp;size=1000&amp;before=1611013098&amp;after=2021-</span> <span style=\"color: #7f7f7f; text-decoration-color: #7f7f7f\">           </span>\n",
       "<span style=\"color: #7fbfbf; text-decoration-color: #7fbfbf\">           </span>         <span style=\"color: #0000ff; text-decoration-color: #0000ff; text-decoration: underline\">01-14+00%3A00%3A00&amp;sort=desc:</span> <span style=\"color: #008080; text-decoration-color: #008080; font-weight: bold\">200</span>                             <span style=\"color: #7f7f7f; text-decoration-color: #7f7f7f\">           </span>\n",
       "</pre>\n"
      ],
      "text/plain": [
       "\u001b[2;36m          \u001b[0m\u001b[2;36m \u001b[0m\u001b[34mINFO    \u001b[0m Retrieved \u001b[4;94mhttps://api.pushshift.io/reddit/search/comment/?\u001b[0m\u001b[4;94msub\u001b[0m \u001b]8;id=769103;file:///Users/christopherliew/Library/Caches/pypoetry/virtualenvs/crypto-uncertainty-index-NHOdNUJC-py3.8/lib/python3.8/site-packages/snscrape/base.py\u001b\\\u001b[2mbase.py\u001b[0m\u001b]8;;\u001b\\\u001b[2m:\u001b[0m\u001b]8;id=934313;file:///Users/christopherliew/Library/Caches/pypoetry/virtualenvs/crypto-uncertainty-index-NHOdNUJC-py3.8/lib/python3.8/site-packages/snscrape/base.py#184\u001b\\\u001b[2m184\u001b[0m\u001b]8;;\u001b\\\n",
       "\u001b[2;36m           \u001b[0m         \u001b[4;94mreddit\u001b[0m\u001b[4;94m=\u001b[0m\u001b[4;94mCryptoCurrency\u001b[0m\u001b[4;94m&\u001b[0m\u001b[4;94msize\u001b[0m\u001b[4;94m=\u001b[0m\u001b[4;94m1000\u001b[0m\u001b[4;94m&\u001b[0m\u001b[4;94mbefore\u001b[0m\u001b[4;94m=\u001b[0m\u001b[4;94m1611013098\u001b[0m\u001b[4;94m&\u001b[0m\u001b[4;94mafter\u001b[0m\u001b[4;94m=\u001b[0m\u001b[4;94m2021\u001b[0m\u001b[4;94m-\u001b[0m \u001b[2m           \u001b[0m\n",
       "\u001b[2;36m           \u001b[0m         \u001b[4;94m01-14+00%3A00%3A00&\u001b[0m\u001b[4;94msort\u001b[0m\u001b[4;94m=\u001b[0m\u001b[4;94mdesc\u001b[0m\u001b[4;94m:\u001b[0m \u001b[1;36m200\u001b[0m                             \u001b[2m           \u001b[0m\n"
      ]
     },
     "metadata": {},
     "output_type": "display_data"
    },
    {
     "data": {
      "text/html": [
       "<pre style=\"white-space:pre;overflow-x:auto;line-height:normal;font-family:Menlo,'DejaVu Sans Mono',consolas,'Courier New',monospace\"><span style=\"color: #7fbfbf; text-decoration-color: #7fbfbf\">           </span><span style=\"color: #000080; text-decoration-color: #000080\">INFO    </span> Retrieving <span style=\"color: #0000ff; text-decoration-color: #0000ff; text-decoration: underline\">https://api.pushshift.io/reddit/search/comment/?su</span> <a href=\"file:///Users/christopherliew/Library/Caches/pypoetry/virtualenvs/crypto-uncertainty-index-NHOdNUJC-py3.8/lib/python3.8/site-packages/snscrape/base.py\"><span style=\"color: #7f7f7f; text-decoration-color: #7f7f7f\">base.py</span></a><span style=\"color: #7f7f7f; text-decoration-color: #7f7f7f\">:</span><a href=\"file:///Users/christopherliew/Library/Caches/pypoetry/virtualenvs/crypto-uncertainty-index-NHOdNUJC-py3.8/lib/python3.8/site-packages/snscrape/base.py#168\"><span style=\"color: #7f7f7f; text-decoration-color: #7f7f7f\">168</span></a>\n",
       "<span style=\"color: #7fbfbf; text-decoration-color: #7fbfbf\">           </span>         <span style=\"color: #0000ff; text-decoration-color: #0000ff; text-decoration: underline\">breddit=CryptoCurrency&amp;size=1000&amp;before=1611012313&amp;after=2021</span> <span style=\"color: #7f7f7f; text-decoration-color: #7f7f7f\">           </span>\n",
       "<span style=\"color: #7fbfbf; text-decoration-color: #7fbfbf\">           </span>         <span style=\"color: #0000ff; text-decoration-color: #0000ff; text-decoration: underline\">-01-14+00%3A00%3A00&amp;sort=desc</span>                                 <span style=\"color: #7f7f7f; text-decoration-color: #7f7f7f\">           </span>\n",
       "</pre>\n"
      ],
      "text/plain": [
       "\u001b[2;36m          \u001b[0m\u001b[2;36m \u001b[0m\u001b[34mINFO    \u001b[0m Retrieving \u001b[4;94mhttps://api.pushshift.io/reddit/search/comment/?\u001b[0m\u001b[4;94msu\u001b[0m \u001b]8;id=874583;file:///Users/christopherliew/Library/Caches/pypoetry/virtualenvs/crypto-uncertainty-index-NHOdNUJC-py3.8/lib/python3.8/site-packages/snscrape/base.py\u001b\\\u001b[2mbase.py\u001b[0m\u001b]8;;\u001b\\\u001b[2m:\u001b[0m\u001b]8;id=332920;file:///Users/christopherliew/Library/Caches/pypoetry/virtualenvs/crypto-uncertainty-index-NHOdNUJC-py3.8/lib/python3.8/site-packages/snscrape/base.py#168\u001b\\\u001b[2m168\u001b[0m\u001b]8;;\u001b\\\n",
       "\u001b[2;36m           \u001b[0m         \u001b[4;94mbreddit\u001b[0m\u001b[4;94m=\u001b[0m\u001b[4;94mCryptoCurrency\u001b[0m\u001b[4;94m&\u001b[0m\u001b[4;94msize\u001b[0m\u001b[4;94m=\u001b[0m\u001b[4;94m1000\u001b[0m\u001b[4;94m&\u001b[0m\u001b[4;94mbefore\u001b[0m\u001b[4;94m=\u001b[0m\u001b[4;94m1611012313\u001b[0m\u001b[4;94m&\u001b[0m\u001b[4;94mafter\u001b[0m\u001b[4;94m=\u001b[0m\u001b[4;94m2021\u001b[0m \u001b[2m           \u001b[0m\n",
       "\u001b[2;36m           \u001b[0m         \u001b[4;94m-01-14+00%3A00%3A00&\u001b[0m\u001b[4;94msort\u001b[0m\u001b[4;94m=\u001b[0m\u001b[4;94mdesc\u001b[0m                                 \u001b[2m           \u001b[0m\n"
      ]
     },
     "metadata": {},
     "output_type": "display_data"
    },
    {
     "data": {
      "text/html": [
       "<pre style=\"white-space:pre;overflow-x:auto;line-height:normal;font-family:Menlo,'DejaVu Sans Mono',consolas,'Courier New',monospace\"><span style=\"color: #7fbfbf; text-decoration-color: #7fbfbf\">           </span><span style=\"color: #000080; text-decoration-color: #000080\">INFO    </span> Retrieved <span style=\"color: #0000ff; text-decoration-color: #0000ff; text-decoration: underline\">https://api.pushshift.io/reddit/search/comment/?sub</span> <a href=\"file:///Users/christopherliew/Library/Caches/pypoetry/virtualenvs/crypto-uncertainty-index-NHOdNUJC-py3.8/lib/python3.8/site-packages/snscrape/base.py\"><span style=\"color: #7f7f7f; text-decoration-color: #7f7f7f\">base.py</span></a><span style=\"color: #7f7f7f; text-decoration-color: #7f7f7f\">:</span><a href=\"file:///Users/christopherliew/Library/Caches/pypoetry/virtualenvs/crypto-uncertainty-index-NHOdNUJC-py3.8/lib/python3.8/site-packages/snscrape/base.py#184\"><span style=\"color: #7f7f7f; text-decoration-color: #7f7f7f\">184</span></a>\n",
       "<span style=\"color: #7fbfbf; text-decoration-color: #7fbfbf\">           </span>         <span style=\"color: #0000ff; text-decoration-color: #0000ff; text-decoration: underline\">reddit=CryptoCurrency&amp;size=1000&amp;before=1611012313&amp;after=2021-</span> <span style=\"color: #7f7f7f; text-decoration-color: #7f7f7f\">           </span>\n",
       "<span style=\"color: #7fbfbf; text-decoration-color: #7fbfbf\">           </span>         <span style=\"color: #0000ff; text-decoration-color: #0000ff; text-decoration: underline\">01-14+00%3A00%3A00&amp;sort=desc:</span> <span style=\"color: #008080; text-decoration-color: #008080; font-weight: bold\">200</span>                             <span style=\"color: #7f7f7f; text-decoration-color: #7f7f7f\">           </span>\n",
       "</pre>\n"
      ],
      "text/plain": [
       "\u001b[2;36m          \u001b[0m\u001b[2;36m \u001b[0m\u001b[34mINFO    \u001b[0m Retrieved \u001b[4;94mhttps://api.pushshift.io/reddit/search/comment/?\u001b[0m\u001b[4;94msub\u001b[0m \u001b]8;id=248234;file:///Users/christopherliew/Library/Caches/pypoetry/virtualenvs/crypto-uncertainty-index-NHOdNUJC-py3.8/lib/python3.8/site-packages/snscrape/base.py\u001b\\\u001b[2mbase.py\u001b[0m\u001b]8;;\u001b\\\u001b[2m:\u001b[0m\u001b]8;id=184718;file:///Users/christopherliew/Library/Caches/pypoetry/virtualenvs/crypto-uncertainty-index-NHOdNUJC-py3.8/lib/python3.8/site-packages/snscrape/base.py#184\u001b\\\u001b[2m184\u001b[0m\u001b]8;;\u001b\\\n",
       "\u001b[2;36m           \u001b[0m         \u001b[4;94mreddit\u001b[0m\u001b[4;94m=\u001b[0m\u001b[4;94mCryptoCurrency\u001b[0m\u001b[4;94m&\u001b[0m\u001b[4;94msize\u001b[0m\u001b[4;94m=\u001b[0m\u001b[4;94m1000\u001b[0m\u001b[4;94m&\u001b[0m\u001b[4;94mbefore\u001b[0m\u001b[4;94m=\u001b[0m\u001b[4;94m1611012313\u001b[0m\u001b[4;94m&\u001b[0m\u001b[4;94mafter\u001b[0m\u001b[4;94m=\u001b[0m\u001b[4;94m2021\u001b[0m\u001b[4;94m-\u001b[0m \u001b[2m           \u001b[0m\n",
       "\u001b[2;36m           \u001b[0m         \u001b[4;94m01-14+00%3A00%3A00&\u001b[0m\u001b[4;94msort\u001b[0m\u001b[4;94m=\u001b[0m\u001b[4;94mdesc\u001b[0m\u001b[4;94m:\u001b[0m \u001b[1;36m200\u001b[0m                             \u001b[2m           \u001b[0m\n"
      ]
     },
     "metadata": {},
     "output_type": "display_data"
    },
    {
     "data": {
      "text/html": [
       "<pre style=\"white-space:pre;overflow-x:auto;line-height:normal;font-family:Menlo,'DejaVu Sans Mono',consolas,'Courier New',monospace\"><span style=\"color: #7fbfbf; text-decoration-color: #7fbfbf\">           </span><span style=\"color: #000080; text-decoration-color: #000080\">INFO    </span> Retrieving <span style=\"color: #0000ff; text-decoration-color: #0000ff; text-decoration: underline\">https://api.pushshift.io/reddit/search/comment/?su</span> <a href=\"file:///Users/christopherliew/Library/Caches/pypoetry/virtualenvs/crypto-uncertainty-index-NHOdNUJC-py3.8/lib/python3.8/site-packages/snscrape/base.py\"><span style=\"color: #7f7f7f; text-decoration-color: #7f7f7f\">base.py</span></a><span style=\"color: #7f7f7f; text-decoration-color: #7f7f7f\">:</span><a href=\"file:///Users/christopherliew/Library/Caches/pypoetry/virtualenvs/crypto-uncertainty-index-NHOdNUJC-py3.8/lib/python3.8/site-packages/snscrape/base.py#168\"><span style=\"color: #7f7f7f; text-decoration-color: #7f7f7f\">168</span></a>\n",
       "<span style=\"color: #7fbfbf; text-decoration-color: #7fbfbf\">           </span>         <span style=\"color: #0000ff; text-decoration-color: #0000ff; text-decoration: underline\">breddit=CryptoCurrency&amp;size=1000&amp;before=1611011413&amp;after=2021</span> <span style=\"color: #7f7f7f; text-decoration-color: #7f7f7f\">           </span>\n",
       "<span style=\"color: #7fbfbf; text-decoration-color: #7fbfbf\">           </span>         <span style=\"color: #0000ff; text-decoration-color: #0000ff; text-decoration: underline\">-01-14+00%3A00%3A00&amp;sort=desc</span>                                 <span style=\"color: #7f7f7f; text-decoration-color: #7f7f7f\">           </span>\n",
       "</pre>\n"
      ],
      "text/plain": [
       "\u001b[2;36m          \u001b[0m\u001b[2;36m \u001b[0m\u001b[34mINFO    \u001b[0m Retrieving \u001b[4;94mhttps://api.pushshift.io/reddit/search/comment/?\u001b[0m\u001b[4;94msu\u001b[0m \u001b]8;id=281129;file:///Users/christopherliew/Library/Caches/pypoetry/virtualenvs/crypto-uncertainty-index-NHOdNUJC-py3.8/lib/python3.8/site-packages/snscrape/base.py\u001b\\\u001b[2mbase.py\u001b[0m\u001b]8;;\u001b\\\u001b[2m:\u001b[0m\u001b]8;id=285224;file:///Users/christopherliew/Library/Caches/pypoetry/virtualenvs/crypto-uncertainty-index-NHOdNUJC-py3.8/lib/python3.8/site-packages/snscrape/base.py#168\u001b\\\u001b[2m168\u001b[0m\u001b]8;;\u001b\\\n",
       "\u001b[2;36m           \u001b[0m         \u001b[4;94mbreddit\u001b[0m\u001b[4;94m=\u001b[0m\u001b[4;94mCryptoCurrency\u001b[0m\u001b[4;94m&\u001b[0m\u001b[4;94msize\u001b[0m\u001b[4;94m=\u001b[0m\u001b[4;94m1000\u001b[0m\u001b[4;94m&\u001b[0m\u001b[4;94mbefore\u001b[0m\u001b[4;94m=\u001b[0m\u001b[4;94m1611011413\u001b[0m\u001b[4;94m&\u001b[0m\u001b[4;94mafter\u001b[0m\u001b[4;94m=\u001b[0m\u001b[4;94m2021\u001b[0m \u001b[2m           \u001b[0m\n",
       "\u001b[2;36m           \u001b[0m         \u001b[4;94m-01-14+00%3A00%3A00&\u001b[0m\u001b[4;94msort\u001b[0m\u001b[4;94m=\u001b[0m\u001b[4;94mdesc\u001b[0m                                 \u001b[2m           \u001b[0m\n"
      ]
     },
     "metadata": {},
     "output_type": "display_data"
    },
    {
     "data": {
      "text/html": [
       "<pre style=\"white-space:pre;overflow-x:auto;line-height:normal;font-family:Menlo,'DejaVu Sans Mono',consolas,'Courier New',monospace\"><span style=\"color: #7fbfbf; text-decoration-color: #7fbfbf\">           </span><span style=\"color: #000080; text-decoration-color: #000080\">INFO    </span> Retrieved <span style=\"color: #0000ff; text-decoration-color: #0000ff; text-decoration: underline\">https://api.pushshift.io/reddit/search/comment/?sub</span> <a href=\"file:///Users/christopherliew/Library/Caches/pypoetry/virtualenvs/crypto-uncertainty-index-NHOdNUJC-py3.8/lib/python3.8/site-packages/snscrape/base.py\"><span style=\"color: #7f7f7f; text-decoration-color: #7f7f7f\">base.py</span></a><span style=\"color: #7f7f7f; text-decoration-color: #7f7f7f\">:</span><a href=\"file:///Users/christopherliew/Library/Caches/pypoetry/virtualenvs/crypto-uncertainty-index-NHOdNUJC-py3.8/lib/python3.8/site-packages/snscrape/base.py#184\"><span style=\"color: #7f7f7f; text-decoration-color: #7f7f7f\">184</span></a>\n",
       "<span style=\"color: #7fbfbf; text-decoration-color: #7fbfbf\">           </span>         <span style=\"color: #0000ff; text-decoration-color: #0000ff; text-decoration: underline\">reddit=CryptoCurrency&amp;size=1000&amp;before=1611011413&amp;after=2021-</span> <span style=\"color: #7f7f7f; text-decoration-color: #7f7f7f\">           </span>\n",
       "<span style=\"color: #7fbfbf; text-decoration-color: #7fbfbf\">           </span>         <span style=\"color: #0000ff; text-decoration-color: #0000ff; text-decoration: underline\">01-14+00%3A00%3A00&amp;sort=desc:</span> <span style=\"color: #008080; text-decoration-color: #008080; font-weight: bold\">200</span>                             <span style=\"color: #7f7f7f; text-decoration-color: #7f7f7f\">           </span>\n",
       "</pre>\n"
      ],
      "text/plain": [
       "\u001b[2;36m          \u001b[0m\u001b[2;36m \u001b[0m\u001b[34mINFO    \u001b[0m Retrieved \u001b[4;94mhttps://api.pushshift.io/reddit/search/comment/?\u001b[0m\u001b[4;94msub\u001b[0m \u001b]8;id=492269;file:///Users/christopherliew/Library/Caches/pypoetry/virtualenvs/crypto-uncertainty-index-NHOdNUJC-py3.8/lib/python3.8/site-packages/snscrape/base.py\u001b\\\u001b[2mbase.py\u001b[0m\u001b]8;;\u001b\\\u001b[2m:\u001b[0m\u001b]8;id=143911;file:///Users/christopherliew/Library/Caches/pypoetry/virtualenvs/crypto-uncertainty-index-NHOdNUJC-py3.8/lib/python3.8/site-packages/snscrape/base.py#184\u001b\\\u001b[2m184\u001b[0m\u001b]8;;\u001b\\\n",
       "\u001b[2;36m           \u001b[0m         \u001b[4;94mreddit\u001b[0m\u001b[4;94m=\u001b[0m\u001b[4;94mCryptoCurrency\u001b[0m\u001b[4;94m&\u001b[0m\u001b[4;94msize\u001b[0m\u001b[4;94m=\u001b[0m\u001b[4;94m1000\u001b[0m\u001b[4;94m&\u001b[0m\u001b[4;94mbefore\u001b[0m\u001b[4;94m=\u001b[0m\u001b[4;94m1611011413\u001b[0m\u001b[4;94m&\u001b[0m\u001b[4;94mafter\u001b[0m\u001b[4;94m=\u001b[0m\u001b[4;94m2021\u001b[0m\u001b[4;94m-\u001b[0m \u001b[2m           \u001b[0m\n",
       "\u001b[2;36m           \u001b[0m         \u001b[4;94m01-14+00%3A00%3A00&\u001b[0m\u001b[4;94msort\u001b[0m\u001b[4;94m=\u001b[0m\u001b[4;94mdesc\u001b[0m\u001b[4;94m:\u001b[0m \u001b[1;36m200\u001b[0m                             \u001b[2m           \u001b[0m\n"
      ]
     },
     "metadata": {},
     "output_type": "display_data"
    },
    {
     "data": {
      "text/html": [
       "<pre style=\"white-space:pre;overflow-x:auto;line-height:normal;font-family:Menlo,'DejaVu Sans Mono',consolas,'Courier New',monospace\"><span style=\"color: #7fbfbf; text-decoration-color: #7fbfbf\">           </span><span style=\"color: #000080; text-decoration-color: #000080\">INFO    </span> Retrieving <span style=\"color: #0000ff; text-decoration-color: #0000ff; text-decoration: underline\">https://api.pushshift.io/reddit/search/comment/?su</span> <a href=\"file:///Users/christopherliew/Library/Caches/pypoetry/virtualenvs/crypto-uncertainty-index-NHOdNUJC-py3.8/lib/python3.8/site-packages/snscrape/base.py\"><span style=\"color: #7f7f7f; text-decoration-color: #7f7f7f\">base.py</span></a><span style=\"color: #7f7f7f; text-decoration-color: #7f7f7f\">:</span><a href=\"file:///Users/christopherliew/Library/Caches/pypoetry/virtualenvs/crypto-uncertainty-index-NHOdNUJC-py3.8/lib/python3.8/site-packages/snscrape/base.py#168\"><span style=\"color: #7f7f7f; text-decoration-color: #7f7f7f\">168</span></a>\n",
       "<span style=\"color: #7fbfbf; text-decoration-color: #7fbfbf\">           </span>         <span style=\"color: #0000ff; text-decoration-color: #0000ff; text-decoration: underline\">breddit=CryptoCurrency&amp;size=1000&amp;before=1611010744&amp;after=2021</span> <span style=\"color: #7f7f7f; text-decoration-color: #7f7f7f\">           </span>\n",
       "<span style=\"color: #7fbfbf; text-decoration-color: #7fbfbf\">           </span>         <span style=\"color: #0000ff; text-decoration-color: #0000ff; text-decoration: underline\">-01-14+00%3A00%3A00&amp;sort=desc</span>                                 <span style=\"color: #7f7f7f; text-decoration-color: #7f7f7f\">           </span>\n",
       "</pre>\n"
      ],
      "text/plain": [
       "\u001b[2;36m          \u001b[0m\u001b[2;36m \u001b[0m\u001b[34mINFO    \u001b[0m Retrieving \u001b[4;94mhttps://api.pushshift.io/reddit/search/comment/?\u001b[0m\u001b[4;94msu\u001b[0m \u001b]8;id=539379;file:///Users/christopherliew/Library/Caches/pypoetry/virtualenvs/crypto-uncertainty-index-NHOdNUJC-py3.8/lib/python3.8/site-packages/snscrape/base.py\u001b\\\u001b[2mbase.py\u001b[0m\u001b]8;;\u001b\\\u001b[2m:\u001b[0m\u001b]8;id=115195;file:///Users/christopherliew/Library/Caches/pypoetry/virtualenvs/crypto-uncertainty-index-NHOdNUJC-py3.8/lib/python3.8/site-packages/snscrape/base.py#168\u001b\\\u001b[2m168\u001b[0m\u001b]8;;\u001b\\\n",
       "\u001b[2;36m           \u001b[0m         \u001b[4;94mbreddit\u001b[0m\u001b[4;94m=\u001b[0m\u001b[4;94mCryptoCurrency\u001b[0m\u001b[4;94m&\u001b[0m\u001b[4;94msize\u001b[0m\u001b[4;94m=\u001b[0m\u001b[4;94m1000\u001b[0m\u001b[4;94m&\u001b[0m\u001b[4;94mbefore\u001b[0m\u001b[4;94m=\u001b[0m\u001b[4;94m1611010744\u001b[0m\u001b[4;94m&\u001b[0m\u001b[4;94mafter\u001b[0m\u001b[4;94m=\u001b[0m\u001b[4;94m2021\u001b[0m \u001b[2m           \u001b[0m\n",
       "\u001b[2;36m           \u001b[0m         \u001b[4;94m-01-14+00%3A00%3A00&\u001b[0m\u001b[4;94msort\u001b[0m\u001b[4;94m=\u001b[0m\u001b[4;94mdesc\u001b[0m                                 \u001b[2m           \u001b[0m\n"
      ]
     },
     "metadata": {},
     "output_type": "display_data"
    },
    {
     "data": {
      "text/html": [
       "<pre style=\"white-space:pre;overflow-x:auto;line-height:normal;font-family:Menlo,'DejaVu Sans Mono',consolas,'Courier New',monospace\"><span style=\"color: #7fbfbf; text-decoration-color: #7fbfbf\">           </span><span style=\"color: #000080; text-decoration-color: #000080\">INFO    </span> Retrieved <span style=\"color: #0000ff; text-decoration-color: #0000ff; text-decoration: underline\">https://api.pushshift.io/reddit/search/comment/?sub</span> <a href=\"file:///Users/christopherliew/Library/Caches/pypoetry/virtualenvs/crypto-uncertainty-index-NHOdNUJC-py3.8/lib/python3.8/site-packages/snscrape/base.py\"><span style=\"color: #7f7f7f; text-decoration-color: #7f7f7f\">base.py</span></a><span style=\"color: #7f7f7f; text-decoration-color: #7f7f7f\">:</span><a href=\"file:///Users/christopherliew/Library/Caches/pypoetry/virtualenvs/crypto-uncertainty-index-NHOdNUJC-py3.8/lib/python3.8/site-packages/snscrape/base.py#184\"><span style=\"color: #7f7f7f; text-decoration-color: #7f7f7f\">184</span></a>\n",
       "<span style=\"color: #7fbfbf; text-decoration-color: #7fbfbf\">           </span>         <span style=\"color: #0000ff; text-decoration-color: #0000ff; text-decoration: underline\">reddit=CryptoCurrency&amp;size=1000&amp;before=1611010744&amp;after=2021-</span> <span style=\"color: #7f7f7f; text-decoration-color: #7f7f7f\">           </span>\n",
       "<span style=\"color: #7fbfbf; text-decoration-color: #7fbfbf\">           </span>         <span style=\"color: #0000ff; text-decoration-color: #0000ff; text-decoration: underline\">01-14+00%3A00%3A00&amp;sort=desc:</span> <span style=\"color: #008080; text-decoration-color: #008080; font-weight: bold\">200</span>                             <span style=\"color: #7f7f7f; text-decoration-color: #7f7f7f\">           </span>\n",
       "</pre>\n"
      ],
      "text/plain": [
       "\u001b[2;36m          \u001b[0m\u001b[2;36m \u001b[0m\u001b[34mINFO    \u001b[0m Retrieved \u001b[4;94mhttps://api.pushshift.io/reddit/search/comment/?\u001b[0m\u001b[4;94msub\u001b[0m \u001b]8;id=656453;file:///Users/christopherliew/Library/Caches/pypoetry/virtualenvs/crypto-uncertainty-index-NHOdNUJC-py3.8/lib/python3.8/site-packages/snscrape/base.py\u001b\\\u001b[2mbase.py\u001b[0m\u001b]8;;\u001b\\\u001b[2m:\u001b[0m\u001b]8;id=502562;file:///Users/christopherliew/Library/Caches/pypoetry/virtualenvs/crypto-uncertainty-index-NHOdNUJC-py3.8/lib/python3.8/site-packages/snscrape/base.py#184\u001b\\\u001b[2m184\u001b[0m\u001b]8;;\u001b\\\n",
       "\u001b[2;36m           \u001b[0m         \u001b[4;94mreddit\u001b[0m\u001b[4;94m=\u001b[0m\u001b[4;94mCryptoCurrency\u001b[0m\u001b[4;94m&\u001b[0m\u001b[4;94msize\u001b[0m\u001b[4;94m=\u001b[0m\u001b[4;94m1000\u001b[0m\u001b[4;94m&\u001b[0m\u001b[4;94mbefore\u001b[0m\u001b[4;94m=\u001b[0m\u001b[4;94m1611010744\u001b[0m\u001b[4;94m&\u001b[0m\u001b[4;94mafter\u001b[0m\u001b[4;94m=\u001b[0m\u001b[4;94m2021\u001b[0m\u001b[4;94m-\u001b[0m \u001b[2m           \u001b[0m\n",
       "\u001b[2;36m           \u001b[0m         \u001b[4;94m01-14+00%3A00%3A00&\u001b[0m\u001b[4;94msort\u001b[0m\u001b[4;94m=\u001b[0m\u001b[4;94mdesc\u001b[0m\u001b[4;94m:\u001b[0m \u001b[1;36m200\u001b[0m                             \u001b[2m           \u001b[0m\n"
      ]
     },
     "metadata": {},
     "output_type": "display_data"
    },
    {
     "data": {
      "text/html": [
       "<pre style=\"white-space:pre;overflow-x:auto;line-height:normal;font-family:Menlo,'DejaVu Sans Mono',consolas,'Courier New',monospace\"><span style=\"color: #7fbfbf; text-decoration-color: #7fbfbf\">           </span><span style=\"color: #000080; text-decoration-color: #000080\">INFO    </span> Retrieving <span style=\"color: #0000ff; text-decoration-color: #0000ff; text-decoration: underline\">https://api.pushshift.io/reddit/search/comment/?su</span> <a href=\"file:///Users/christopherliew/Library/Caches/pypoetry/virtualenvs/crypto-uncertainty-index-NHOdNUJC-py3.8/lib/python3.8/site-packages/snscrape/base.py\"><span style=\"color: #7f7f7f; text-decoration-color: #7f7f7f\">base.py</span></a><span style=\"color: #7f7f7f; text-decoration-color: #7f7f7f\">:</span><a href=\"file:///Users/christopherliew/Library/Caches/pypoetry/virtualenvs/crypto-uncertainty-index-NHOdNUJC-py3.8/lib/python3.8/site-packages/snscrape/base.py#168\"><span style=\"color: #7f7f7f; text-decoration-color: #7f7f7f\">168</span></a>\n",
       "<span style=\"color: #7fbfbf; text-decoration-color: #7fbfbf\">           </span>         <span style=\"color: #0000ff; text-decoration-color: #0000ff; text-decoration: underline\">breddit=CryptoCurrency&amp;size=1000&amp;before=1611009962&amp;after=2021</span> <span style=\"color: #7f7f7f; text-decoration-color: #7f7f7f\">           </span>\n",
       "<span style=\"color: #7fbfbf; text-decoration-color: #7fbfbf\">           </span>         <span style=\"color: #0000ff; text-decoration-color: #0000ff; text-decoration: underline\">-01-14+00%3A00%3A00&amp;sort=desc</span>                                 <span style=\"color: #7f7f7f; text-decoration-color: #7f7f7f\">           </span>\n",
       "</pre>\n"
      ],
      "text/plain": [
       "\u001b[2;36m          \u001b[0m\u001b[2;36m \u001b[0m\u001b[34mINFO    \u001b[0m Retrieving \u001b[4;94mhttps://api.pushshift.io/reddit/search/comment/?\u001b[0m\u001b[4;94msu\u001b[0m \u001b]8;id=403349;file:///Users/christopherliew/Library/Caches/pypoetry/virtualenvs/crypto-uncertainty-index-NHOdNUJC-py3.8/lib/python3.8/site-packages/snscrape/base.py\u001b\\\u001b[2mbase.py\u001b[0m\u001b]8;;\u001b\\\u001b[2m:\u001b[0m\u001b]8;id=340788;file:///Users/christopherliew/Library/Caches/pypoetry/virtualenvs/crypto-uncertainty-index-NHOdNUJC-py3.8/lib/python3.8/site-packages/snscrape/base.py#168\u001b\\\u001b[2m168\u001b[0m\u001b]8;;\u001b\\\n",
       "\u001b[2;36m           \u001b[0m         \u001b[4;94mbreddit\u001b[0m\u001b[4;94m=\u001b[0m\u001b[4;94mCryptoCurrency\u001b[0m\u001b[4;94m&\u001b[0m\u001b[4;94msize\u001b[0m\u001b[4;94m=\u001b[0m\u001b[4;94m1000\u001b[0m\u001b[4;94m&\u001b[0m\u001b[4;94mbefore\u001b[0m\u001b[4;94m=\u001b[0m\u001b[4;94m1611009962\u001b[0m\u001b[4;94m&\u001b[0m\u001b[4;94mafter\u001b[0m\u001b[4;94m=\u001b[0m\u001b[4;94m2021\u001b[0m \u001b[2m           \u001b[0m\n",
       "\u001b[2;36m           \u001b[0m         \u001b[4;94m-01-14+00%3A00%3A00&\u001b[0m\u001b[4;94msort\u001b[0m\u001b[4;94m=\u001b[0m\u001b[4;94mdesc\u001b[0m                                 \u001b[2m           \u001b[0m\n"
      ]
     },
     "metadata": {},
     "output_type": "display_data"
    },
    {
     "data": {
      "text/html": [
       "<pre style=\"white-space:pre;overflow-x:auto;line-height:normal;font-family:Menlo,'DejaVu Sans Mono',consolas,'Courier New',monospace\"><span style=\"color: #7fbfbf; text-decoration-color: #7fbfbf\">           </span><span style=\"color: #000080; text-decoration-color: #000080\">INFO    </span> Retrieved <span style=\"color: #0000ff; text-decoration-color: #0000ff; text-decoration: underline\">https://api.pushshift.io/reddit/search/comment/?sub</span> <a href=\"file:///Users/christopherliew/Library/Caches/pypoetry/virtualenvs/crypto-uncertainty-index-NHOdNUJC-py3.8/lib/python3.8/site-packages/snscrape/base.py\"><span style=\"color: #7f7f7f; text-decoration-color: #7f7f7f\">base.py</span></a><span style=\"color: #7f7f7f; text-decoration-color: #7f7f7f\">:</span><a href=\"file:///Users/christopherliew/Library/Caches/pypoetry/virtualenvs/crypto-uncertainty-index-NHOdNUJC-py3.8/lib/python3.8/site-packages/snscrape/base.py#184\"><span style=\"color: #7f7f7f; text-decoration-color: #7f7f7f\">184</span></a>\n",
       "<span style=\"color: #7fbfbf; text-decoration-color: #7fbfbf\">           </span>         <span style=\"color: #0000ff; text-decoration-color: #0000ff; text-decoration: underline\">reddit=CryptoCurrency&amp;size=1000&amp;before=1611009962&amp;after=2021-</span> <span style=\"color: #7f7f7f; text-decoration-color: #7f7f7f\">           </span>\n",
       "<span style=\"color: #7fbfbf; text-decoration-color: #7fbfbf\">           </span>         <span style=\"color: #0000ff; text-decoration-color: #0000ff; text-decoration: underline\">01-14+00%3A00%3A00&amp;sort=desc:</span> <span style=\"color: #008080; text-decoration-color: #008080; font-weight: bold\">200</span>                             <span style=\"color: #7f7f7f; text-decoration-color: #7f7f7f\">           </span>\n",
       "</pre>\n"
      ],
      "text/plain": [
       "\u001b[2;36m          \u001b[0m\u001b[2;36m \u001b[0m\u001b[34mINFO    \u001b[0m Retrieved \u001b[4;94mhttps://api.pushshift.io/reddit/search/comment/?\u001b[0m\u001b[4;94msub\u001b[0m \u001b]8;id=140019;file:///Users/christopherliew/Library/Caches/pypoetry/virtualenvs/crypto-uncertainty-index-NHOdNUJC-py3.8/lib/python3.8/site-packages/snscrape/base.py\u001b\\\u001b[2mbase.py\u001b[0m\u001b]8;;\u001b\\\u001b[2m:\u001b[0m\u001b]8;id=395718;file:///Users/christopherliew/Library/Caches/pypoetry/virtualenvs/crypto-uncertainty-index-NHOdNUJC-py3.8/lib/python3.8/site-packages/snscrape/base.py#184\u001b\\\u001b[2m184\u001b[0m\u001b]8;;\u001b\\\n",
       "\u001b[2;36m           \u001b[0m         \u001b[4;94mreddit\u001b[0m\u001b[4;94m=\u001b[0m\u001b[4;94mCryptoCurrency\u001b[0m\u001b[4;94m&\u001b[0m\u001b[4;94msize\u001b[0m\u001b[4;94m=\u001b[0m\u001b[4;94m1000\u001b[0m\u001b[4;94m&\u001b[0m\u001b[4;94mbefore\u001b[0m\u001b[4;94m=\u001b[0m\u001b[4;94m1611009962\u001b[0m\u001b[4;94m&\u001b[0m\u001b[4;94mafter\u001b[0m\u001b[4;94m=\u001b[0m\u001b[4;94m2021\u001b[0m\u001b[4;94m-\u001b[0m \u001b[2m           \u001b[0m\n",
       "\u001b[2;36m           \u001b[0m         \u001b[4;94m01-14+00%3A00%3A00&\u001b[0m\u001b[4;94msort\u001b[0m\u001b[4;94m=\u001b[0m\u001b[4;94mdesc\u001b[0m\u001b[4;94m:\u001b[0m \u001b[1;36m200\u001b[0m                             \u001b[2m           \u001b[0m\n"
      ]
     },
     "metadata": {},
     "output_type": "display_data"
    },
    {
     "data": {
      "text/html": [
       "<pre style=\"white-space:pre;overflow-x:auto;line-height:normal;font-family:Menlo,'DejaVu Sans Mono',consolas,'Courier New',monospace\"><span style=\"color: #7fbfbf; text-decoration-color: #7fbfbf\">           </span><span style=\"color: #000080; text-decoration-color: #000080\">INFO    </span> Retrieving <span style=\"color: #0000ff; text-decoration-color: #0000ff; text-decoration: underline\">https://api.pushshift.io/reddit/search/comment/?su</span> <a href=\"file:///Users/christopherliew/Library/Caches/pypoetry/virtualenvs/crypto-uncertainty-index-NHOdNUJC-py3.8/lib/python3.8/site-packages/snscrape/base.py\"><span style=\"color: #7f7f7f; text-decoration-color: #7f7f7f\">base.py</span></a><span style=\"color: #7f7f7f; text-decoration-color: #7f7f7f\">:</span><a href=\"file:///Users/christopherliew/Library/Caches/pypoetry/virtualenvs/crypto-uncertainty-index-NHOdNUJC-py3.8/lib/python3.8/site-packages/snscrape/base.py#168\"><span style=\"color: #7f7f7f; text-decoration-color: #7f7f7f\">168</span></a>\n",
       "<span style=\"color: #7fbfbf; text-decoration-color: #7fbfbf\">           </span>         <span style=\"color: #0000ff; text-decoration-color: #0000ff; text-decoration: underline\">breddit=CryptoCurrency&amp;size=1000&amp;before=1611009357&amp;after=2021</span> <span style=\"color: #7f7f7f; text-decoration-color: #7f7f7f\">           </span>\n",
       "<span style=\"color: #7fbfbf; text-decoration-color: #7fbfbf\">           </span>         <span style=\"color: #0000ff; text-decoration-color: #0000ff; text-decoration: underline\">-01-14+00%3A00%3A00&amp;sort=desc</span>                                 <span style=\"color: #7f7f7f; text-decoration-color: #7f7f7f\">           </span>\n",
       "</pre>\n"
      ],
      "text/plain": [
       "\u001b[2;36m          \u001b[0m\u001b[2;36m \u001b[0m\u001b[34mINFO    \u001b[0m Retrieving \u001b[4;94mhttps://api.pushshift.io/reddit/search/comment/?\u001b[0m\u001b[4;94msu\u001b[0m \u001b]8;id=118661;file:///Users/christopherliew/Library/Caches/pypoetry/virtualenvs/crypto-uncertainty-index-NHOdNUJC-py3.8/lib/python3.8/site-packages/snscrape/base.py\u001b\\\u001b[2mbase.py\u001b[0m\u001b]8;;\u001b\\\u001b[2m:\u001b[0m\u001b]8;id=766170;file:///Users/christopherliew/Library/Caches/pypoetry/virtualenvs/crypto-uncertainty-index-NHOdNUJC-py3.8/lib/python3.8/site-packages/snscrape/base.py#168\u001b\\\u001b[2m168\u001b[0m\u001b]8;;\u001b\\\n",
       "\u001b[2;36m           \u001b[0m         \u001b[4;94mbreddit\u001b[0m\u001b[4;94m=\u001b[0m\u001b[4;94mCryptoCurrency\u001b[0m\u001b[4;94m&\u001b[0m\u001b[4;94msize\u001b[0m\u001b[4;94m=\u001b[0m\u001b[4;94m1000\u001b[0m\u001b[4;94m&\u001b[0m\u001b[4;94mbefore\u001b[0m\u001b[4;94m=\u001b[0m\u001b[4;94m1611009357\u001b[0m\u001b[4;94m&\u001b[0m\u001b[4;94mafter\u001b[0m\u001b[4;94m=\u001b[0m\u001b[4;94m2021\u001b[0m \u001b[2m           \u001b[0m\n",
       "\u001b[2;36m           \u001b[0m         \u001b[4;94m-01-14+00%3A00%3A00&\u001b[0m\u001b[4;94msort\u001b[0m\u001b[4;94m=\u001b[0m\u001b[4;94mdesc\u001b[0m                                 \u001b[2m           \u001b[0m\n"
      ]
     },
     "metadata": {},
     "output_type": "display_data"
    },
    {
     "data": {
      "text/html": [
       "<pre style=\"white-space:pre;overflow-x:auto;line-height:normal;font-family:Menlo,'DejaVu Sans Mono',consolas,'Courier New',monospace\"><span style=\"color: #7fbfbf; text-decoration-color: #7fbfbf\">           </span><span style=\"color: #000080; text-decoration-color: #000080\">INFO    </span> Retrieved <span style=\"color: #0000ff; text-decoration-color: #0000ff; text-decoration: underline\">https://api.pushshift.io/reddit/search/comment/?sub</span> <a href=\"file:///Users/christopherliew/Library/Caches/pypoetry/virtualenvs/crypto-uncertainty-index-NHOdNUJC-py3.8/lib/python3.8/site-packages/snscrape/base.py\"><span style=\"color: #7f7f7f; text-decoration-color: #7f7f7f\">base.py</span></a><span style=\"color: #7f7f7f; text-decoration-color: #7f7f7f\">:</span><a href=\"file:///Users/christopherliew/Library/Caches/pypoetry/virtualenvs/crypto-uncertainty-index-NHOdNUJC-py3.8/lib/python3.8/site-packages/snscrape/base.py#184\"><span style=\"color: #7f7f7f; text-decoration-color: #7f7f7f\">184</span></a>\n",
       "<span style=\"color: #7fbfbf; text-decoration-color: #7fbfbf\">           </span>         <span style=\"color: #0000ff; text-decoration-color: #0000ff; text-decoration: underline\">reddit=CryptoCurrency&amp;size=1000&amp;before=1611009357&amp;after=2021-</span> <span style=\"color: #7f7f7f; text-decoration-color: #7f7f7f\">           </span>\n",
       "<span style=\"color: #7fbfbf; text-decoration-color: #7fbfbf\">           </span>         <span style=\"color: #0000ff; text-decoration-color: #0000ff; text-decoration: underline\">01-14+00%3A00%3A00&amp;sort=desc:</span> <span style=\"color: #008080; text-decoration-color: #008080; font-weight: bold\">200</span>                             <span style=\"color: #7f7f7f; text-decoration-color: #7f7f7f\">           </span>\n",
       "</pre>\n"
      ],
      "text/plain": [
       "\u001b[2;36m          \u001b[0m\u001b[2;36m \u001b[0m\u001b[34mINFO    \u001b[0m Retrieved \u001b[4;94mhttps://api.pushshift.io/reddit/search/comment/?\u001b[0m\u001b[4;94msub\u001b[0m \u001b]8;id=523905;file:///Users/christopherliew/Library/Caches/pypoetry/virtualenvs/crypto-uncertainty-index-NHOdNUJC-py3.8/lib/python3.8/site-packages/snscrape/base.py\u001b\\\u001b[2mbase.py\u001b[0m\u001b]8;;\u001b\\\u001b[2m:\u001b[0m\u001b]8;id=434566;file:///Users/christopherliew/Library/Caches/pypoetry/virtualenvs/crypto-uncertainty-index-NHOdNUJC-py3.8/lib/python3.8/site-packages/snscrape/base.py#184\u001b\\\u001b[2m184\u001b[0m\u001b]8;;\u001b\\\n",
       "\u001b[2;36m           \u001b[0m         \u001b[4;94mreddit\u001b[0m\u001b[4;94m=\u001b[0m\u001b[4;94mCryptoCurrency\u001b[0m\u001b[4;94m&\u001b[0m\u001b[4;94msize\u001b[0m\u001b[4;94m=\u001b[0m\u001b[4;94m1000\u001b[0m\u001b[4;94m&\u001b[0m\u001b[4;94mbefore\u001b[0m\u001b[4;94m=\u001b[0m\u001b[4;94m1611009357\u001b[0m\u001b[4;94m&\u001b[0m\u001b[4;94mafter\u001b[0m\u001b[4;94m=\u001b[0m\u001b[4;94m2021\u001b[0m\u001b[4;94m-\u001b[0m \u001b[2m           \u001b[0m\n",
       "\u001b[2;36m           \u001b[0m         \u001b[4;94m01-14+00%3A00%3A00&\u001b[0m\u001b[4;94msort\u001b[0m\u001b[4;94m=\u001b[0m\u001b[4;94mdesc\u001b[0m\u001b[4;94m:\u001b[0m \u001b[1;36m200\u001b[0m                             \u001b[2m           \u001b[0m\n"
      ]
     },
     "metadata": {},
     "output_type": "display_data"
    },
    {
     "data": {
      "text/html": [
       "<pre style=\"white-space:pre;overflow-x:auto;line-height:normal;font-family:Menlo,'DejaVu Sans Mono',consolas,'Courier New',monospace\"><span style=\"color: #7fbfbf; text-decoration-color: #7fbfbf\">           </span><span style=\"color: #000080; text-decoration-color: #000080\">INFO    </span> Retrieving <span style=\"color: #0000ff; text-decoration-color: #0000ff; text-decoration: underline\">https://api.pushshift.io/reddit/search/comment/?su</span> <a href=\"file:///Users/christopherliew/Library/Caches/pypoetry/virtualenvs/crypto-uncertainty-index-NHOdNUJC-py3.8/lib/python3.8/site-packages/snscrape/base.py\"><span style=\"color: #7f7f7f; text-decoration-color: #7f7f7f\">base.py</span></a><span style=\"color: #7f7f7f; text-decoration-color: #7f7f7f\">:</span><a href=\"file:///Users/christopherliew/Library/Caches/pypoetry/virtualenvs/crypto-uncertainty-index-NHOdNUJC-py3.8/lib/python3.8/site-packages/snscrape/base.py#168\"><span style=\"color: #7f7f7f; text-decoration-color: #7f7f7f\">168</span></a>\n",
       "<span style=\"color: #7fbfbf; text-decoration-color: #7fbfbf\">           </span>         <span style=\"color: #0000ff; text-decoration-color: #0000ff; text-decoration: underline\">breddit=CryptoCurrency&amp;size=1000&amp;before=1611008632&amp;after=2021</span> <span style=\"color: #7f7f7f; text-decoration-color: #7f7f7f\">           </span>\n",
       "<span style=\"color: #7fbfbf; text-decoration-color: #7fbfbf\">           </span>         <span style=\"color: #0000ff; text-decoration-color: #0000ff; text-decoration: underline\">-01-14+00%3A00%3A00&amp;sort=desc</span>                                 <span style=\"color: #7f7f7f; text-decoration-color: #7f7f7f\">           </span>\n",
       "</pre>\n"
      ],
      "text/plain": [
       "\u001b[2;36m          \u001b[0m\u001b[2;36m \u001b[0m\u001b[34mINFO    \u001b[0m Retrieving \u001b[4;94mhttps://api.pushshift.io/reddit/search/comment/?\u001b[0m\u001b[4;94msu\u001b[0m \u001b]8;id=259930;file:///Users/christopherliew/Library/Caches/pypoetry/virtualenvs/crypto-uncertainty-index-NHOdNUJC-py3.8/lib/python3.8/site-packages/snscrape/base.py\u001b\\\u001b[2mbase.py\u001b[0m\u001b]8;;\u001b\\\u001b[2m:\u001b[0m\u001b]8;id=995874;file:///Users/christopherliew/Library/Caches/pypoetry/virtualenvs/crypto-uncertainty-index-NHOdNUJC-py3.8/lib/python3.8/site-packages/snscrape/base.py#168\u001b\\\u001b[2m168\u001b[0m\u001b]8;;\u001b\\\n",
       "\u001b[2;36m           \u001b[0m         \u001b[4;94mbreddit\u001b[0m\u001b[4;94m=\u001b[0m\u001b[4;94mCryptoCurrency\u001b[0m\u001b[4;94m&\u001b[0m\u001b[4;94msize\u001b[0m\u001b[4;94m=\u001b[0m\u001b[4;94m1000\u001b[0m\u001b[4;94m&\u001b[0m\u001b[4;94mbefore\u001b[0m\u001b[4;94m=\u001b[0m\u001b[4;94m1611008632\u001b[0m\u001b[4;94m&\u001b[0m\u001b[4;94mafter\u001b[0m\u001b[4;94m=\u001b[0m\u001b[4;94m2021\u001b[0m \u001b[2m           \u001b[0m\n",
       "\u001b[2;36m           \u001b[0m         \u001b[4;94m-01-14+00%3A00%3A00&\u001b[0m\u001b[4;94msort\u001b[0m\u001b[4;94m=\u001b[0m\u001b[4;94mdesc\u001b[0m                                 \u001b[2m           \u001b[0m\n"
      ]
     },
     "metadata": {},
     "output_type": "display_data"
    },
    {
     "data": {
      "text/html": [
       "<pre style=\"white-space:pre;overflow-x:auto;line-height:normal;font-family:Menlo,'DejaVu Sans Mono',consolas,'Courier New',monospace\"><span style=\"color: #7fbfbf; text-decoration-color: #7fbfbf\">           </span><span style=\"color: #000080; text-decoration-color: #000080\">INFO    </span> Retrieved <span style=\"color: #0000ff; text-decoration-color: #0000ff; text-decoration: underline\">https://api.pushshift.io/reddit/search/comment/?sub</span> <a href=\"file:///Users/christopherliew/Library/Caches/pypoetry/virtualenvs/crypto-uncertainty-index-NHOdNUJC-py3.8/lib/python3.8/site-packages/snscrape/base.py\"><span style=\"color: #7f7f7f; text-decoration-color: #7f7f7f\">base.py</span></a><span style=\"color: #7f7f7f; text-decoration-color: #7f7f7f\">:</span><a href=\"file:///Users/christopherliew/Library/Caches/pypoetry/virtualenvs/crypto-uncertainty-index-NHOdNUJC-py3.8/lib/python3.8/site-packages/snscrape/base.py#184\"><span style=\"color: #7f7f7f; text-decoration-color: #7f7f7f\">184</span></a>\n",
       "<span style=\"color: #7fbfbf; text-decoration-color: #7fbfbf\">           </span>         <span style=\"color: #0000ff; text-decoration-color: #0000ff; text-decoration: underline\">reddit=CryptoCurrency&amp;size=1000&amp;before=1611008632&amp;after=2021-</span> <span style=\"color: #7f7f7f; text-decoration-color: #7f7f7f\">           </span>\n",
       "<span style=\"color: #7fbfbf; text-decoration-color: #7fbfbf\">           </span>         <span style=\"color: #0000ff; text-decoration-color: #0000ff; text-decoration: underline\">01-14+00%3A00%3A00&amp;sort=desc:</span> <span style=\"color: #008080; text-decoration-color: #008080; font-weight: bold\">200</span>                             <span style=\"color: #7f7f7f; text-decoration-color: #7f7f7f\">           </span>\n",
       "</pre>\n"
      ],
      "text/plain": [
       "\u001b[2;36m          \u001b[0m\u001b[2;36m \u001b[0m\u001b[34mINFO    \u001b[0m Retrieved \u001b[4;94mhttps://api.pushshift.io/reddit/search/comment/?\u001b[0m\u001b[4;94msub\u001b[0m \u001b]8;id=923381;file:///Users/christopherliew/Library/Caches/pypoetry/virtualenvs/crypto-uncertainty-index-NHOdNUJC-py3.8/lib/python3.8/site-packages/snscrape/base.py\u001b\\\u001b[2mbase.py\u001b[0m\u001b]8;;\u001b\\\u001b[2m:\u001b[0m\u001b]8;id=81830;file:///Users/christopherliew/Library/Caches/pypoetry/virtualenvs/crypto-uncertainty-index-NHOdNUJC-py3.8/lib/python3.8/site-packages/snscrape/base.py#184\u001b\\\u001b[2m184\u001b[0m\u001b]8;;\u001b\\\n",
       "\u001b[2;36m           \u001b[0m         \u001b[4;94mreddit\u001b[0m\u001b[4;94m=\u001b[0m\u001b[4;94mCryptoCurrency\u001b[0m\u001b[4;94m&\u001b[0m\u001b[4;94msize\u001b[0m\u001b[4;94m=\u001b[0m\u001b[4;94m1000\u001b[0m\u001b[4;94m&\u001b[0m\u001b[4;94mbefore\u001b[0m\u001b[4;94m=\u001b[0m\u001b[4;94m1611008632\u001b[0m\u001b[4;94m&\u001b[0m\u001b[4;94mafter\u001b[0m\u001b[4;94m=\u001b[0m\u001b[4;94m2021\u001b[0m\u001b[4;94m-\u001b[0m \u001b[2m           \u001b[0m\n",
       "\u001b[2;36m           \u001b[0m         \u001b[4;94m01-14+00%3A00%3A00&\u001b[0m\u001b[4;94msort\u001b[0m\u001b[4;94m=\u001b[0m\u001b[4;94mdesc\u001b[0m\u001b[4;94m:\u001b[0m \u001b[1;36m200\u001b[0m                             \u001b[2m           \u001b[0m\n"
      ]
     },
     "metadata": {},
     "output_type": "display_data"
    },
    {
     "data": {
      "text/html": [
       "<pre style=\"white-space:pre;overflow-x:auto;line-height:normal;font-family:Menlo,'DejaVu Sans Mono',consolas,'Courier New',monospace\"><span style=\"color: #7fbfbf; text-decoration-color: #7fbfbf\">           </span><span style=\"color: #000080; text-decoration-color: #000080\">INFO    </span> Retrieving <span style=\"color: #0000ff; text-decoration-color: #0000ff; text-decoration: underline\">https://api.pushshift.io/reddit/search/comment/?su</span> <a href=\"file:///Users/christopherliew/Library/Caches/pypoetry/virtualenvs/crypto-uncertainty-index-NHOdNUJC-py3.8/lib/python3.8/site-packages/snscrape/base.py\"><span style=\"color: #7f7f7f; text-decoration-color: #7f7f7f\">base.py</span></a><span style=\"color: #7f7f7f; text-decoration-color: #7f7f7f\">:</span><a href=\"file:///Users/christopherliew/Library/Caches/pypoetry/virtualenvs/crypto-uncertainty-index-NHOdNUJC-py3.8/lib/python3.8/site-packages/snscrape/base.py#168\"><span style=\"color: #7f7f7f; text-decoration-color: #7f7f7f\">168</span></a>\n",
       "<span style=\"color: #7fbfbf; text-decoration-color: #7fbfbf\">           </span>         <span style=\"color: #0000ff; text-decoration-color: #0000ff; text-decoration: underline\">breddit=CryptoCurrency&amp;size=1000&amp;before=1611007880&amp;after=2021</span> <span style=\"color: #7f7f7f; text-decoration-color: #7f7f7f\">           </span>\n",
       "<span style=\"color: #7fbfbf; text-decoration-color: #7fbfbf\">           </span>         <span style=\"color: #0000ff; text-decoration-color: #0000ff; text-decoration: underline\">-01-14+00%3A00%3A00&amp;sort=desc</span>                                 <span style=\"color: #7f7f7f; text-decoration-color: #7f7f7f\">           </span>\n",
       "</pre>\n"
      ],
      "text/plain": [
       "\u001b[2;36m          \u001b[0m\u001b[2;36m \u001b[0m\u001b[34mINFO    \u001b[0m Retrieving \u001b[4;94mhttps://api.pushshift.io/reddit/search/comment/?\u001b[0m\u001b[4;94msu\u001b[0m \u001b]8;id=866314;file:///Users/christopherliew/Library/Caches/pypoetry/virtualenvs/crypto-uncertainty-index-NHOdNUJC-py3.8/lib/python3.8/site-packages/snscrape/base.py\u001b\\\u001b[2mbase.py\u001b[0m\u001b]8;;\u001b\\\u001b[2m:\u001b[0m\u001b]8;id=496750;file:///Users/christopherliew/Library/Caches/pypoetry/virtualenvs/crypto-uncertainty-index-NHOdNUJC-py3.8/lib/python3.8/site-packages/snscrape/base.py#168\u001b\\\u001b[2m168\u001b[0m\u001b]8;;\u001b\\\n",
       "\u001b[2;36m           \u001b[0m         \u001b[4;94mbreddit\u001b[0m\u001b[4;94m=\u001b[0m\u001b[4;94mCryptoCurrency\u001b[0m\u001b[4;94m&\u001b[0m\u001b[4;94msize\u001b[0m\u001b[4;94m=\u001b[0m\u001b[4;94m1000\u001b[0m\u001b[4;94m&\u001b[0m\u001b[4;94mbefore\u001b[0m\u001b[4;94m=\u001b[0m\u001b[4;94m1611007880\u001b[0m\u001b[4;94m&\u001b[0m\u001b[4;94mafter\u001b[0m\u001b[4;94m=\u001b[0m\u001b[4;94m2021\u001b[0m \u001b[2m           \u001b[0m\n",
       "\u001b[2;36m           \u001b[0m         \u001b[4;94m-01-14+00%3A00%3A00&\u001b[0m\u001b[4;94msort\u001b[0m\u001b[4;94m=\u001b[0m\u001b[4;94mdesc\u001b[0m                                 \u001b[2m           \u001b[0m\n"
      ]
     },
     "metadata": {},
     "output_type": "display_data"
    },
    {
     "data": {
      "text/html": [
       "<pre style=\"white-space:pre;overflow-x:auto;line-height:normal;font-family:Menlo,'DejaVu Sans Mono',consolas,'Courier New',monospace\"><span style=\"color: #7fbfbf; text-decoration-color: #7fbfbf\">           </span><span style=\"color: #000080; text-decoration-color: #000080\">INFO    </span> Retrieved <span style=\"color: #0000ff; text-decoration-color: #0000ff; text-decoration: underline\">https://api.pushshift.io/reddit/search/comment/?sub</span> <a href=\"file:///Users/christopherliew/Library/Caches/pypoetry/virtualenvs/crypto-uncertainty-index-NHOdNUJC-py3.8/lib/python3.8/site-packages/snscrape/base.py\"><span style=\"color: #7f7f7f; text-decoration-color: #7f7f7f\">base.py</span></a><span style=\"color: #7f7f7f; text-decoration-color: #7f7f7f\">:</span><a href=\"file:///Users/christopherliew/Library/Caches/pypoetry/virtualenvs/crypto-uncertainty-index-NHOdNUJC-py3.8/lib/python3.8/site-packages/snscrape/base.py#184\"><span style=\"color: #7f7f7f; text-decoration-color: #7f7f7f\">184</span></a>\n",
       "<span style=\"color: #7fbfbf; text-decoration-color: #7fbfbf\">           </span>         <span style=\"color: #0000ff; text-decoration-color: #0000ff; text-decoration: underline\">reddit=CryptoCurrency&amp;size=1000&amp;before=1611007880&amp;after=2021-</span> <span style=\"color: #7f7f7f; text-decoration-color: #7f7f7f\">           </span>\n",
       "<span style=\"color: #7fbfbf; text-decoration-color: #7fbfbf\">           </span>         <span style=\"color: #0000ff; text-decoration-color: #0000ff; text-decoration: underline\">01-14+00%3A00%3A00&amp;sort=desc:</span> <span style=\"color: #008080; text-decoration-color: #008080; font-weight: bold\">200</span>                             <span style=\"color: #7f7f7f; text-decoration-color: #7f7f7f\">           </span>\n",
       "</pre>\n"
      ],
      "text/plain": [
       "\u001b[2;36m          \u001b[0m\u001b[2;36m \u001b[0m\u001b[34mINFO    \u001b[0m Retrieved \u001b[4;94mhttps://api.pushshift.io/reddit/search/comment/?\u001b[0m\u001b[4;94msub\u001b[0m \u001b]8;id=949398;file:///Users/christopherliew/Library/Caches/pypoetry/virtualenvs/crypto-uncertainty-index-NHOdNUJC-py3.8/lib/python3.8/site-packages/snscrape/base.py\u001b\\\u001b[2mbase.py\u001b[0m\u001b]8;;\u001b\\\u001b[2m:\u001b[0m\u001b]8;id=901300;file:///Users/christopherliew/Library/Caches/pypoetry/virtualenvs/crypto-uncertainty-index-NHOdNUJC-py3.8/lib/python3.8/site-packages/snscrape/base.py#184\u001b\\\u001b[2m184\u001b[0m\u001b]8;;\u001b\\\n",
       "\u001b[2;36m           \u001b[0m         \u001b[4;94mreddit\u001b[0m\u001b[4;94m=\u001b[0m\u001b[4;94mCryptoCurrency\u001b[0m\u001b[4;94m&\u001b[0m\u001b[4;94msize\u001b[0m\u001b[4;94m=\u001b[0m\u001b[4;94m1000\u001b[0m\u001b[4;94m&\u001b[0m\u001b[4;94mbefore\u001b[0m\u001b[4;94m=\u001b[0m\u001b[4;94m1611007880\u001b[0m\u001b[4;94m&\u001b[0m\u001b[4;94mafter\u001b[0m\u001b[4;94m=\u001b[0m\u001b[4;94m2021\u001b[0m\u001b[4;94m-\u001b[0m \u001b[2m           \u001b[0m\n",
       "\u001b[2;36m           \u001b[0m         \u001b[4;94m01-14+00%3A00%3A00&\u001b[0m\u001b[4;94msort\u001b[0m\u001b[4;94m=\u001b[0m\u001b[4;94mdesc\u001b[0m\u001b[4;94m:\u001b[0m \u001b[1;36m200\u001b[0m                             \u001b[2m           \u001b[0m\n"
      ]
     },
     "metadata": {},
     "output_type": "display_data"
    },
    {
     "data": {
      "text/html": [
       "<pre style=\"white-space:pre;overflow-x:auto;line-height:normal;font-family:Menlo,'DejaVu Sans Mono',consolas,'Courier New',monospace\"><span style=\"color: #7fbfbf; text-decoration-color: #7fbfbf\">           </span><span style=\"color: #000080; text-decoration-color: #000080\">INFO    </span> Successfully pulled data from                       <a href=\"file:///Users/christopherliew/Desktop/Y4S1/HT/crypto_uncertainty_index/data/extract/reddit_extract.py\"><span style=\"color: #7f7f7f; text-decoration-color: #7f7f7f\">reddit_extract.py</span></a><span style=\"color: #7f7f7f; text-decoration-color: #7f7f7f\">:</span><a href=\"file:///Users/christopherliew/Desktop/Y4S1/HT/crypto_uncertainty_index/data/extract/reddit_extract.py#122\"><span style=\"color: #7f7f7f; text-decoration-color: #7f7f7f\">122</span></a>\n",
       "<span style=\"color: #7fbfbf; text-decoration-color: #7fbfbf\">           </span>         <span style=\"color: #808000; text-decoration-color: #808000\">subreddit</span>=<span style=\"color: #800080; text-decoration-color: #800080\">CryptoCurrency</span>                            <span style=\"color: #7f7f7f; text-decoration-color: #7f7f7f\">                     </span>\n",
       "</pre>\n"
      ],
      "text/plain": [
       "\u001b[2;36m          \u001b[0m\u001b[2;36m \u001b[0m\u001b[34mINFO    \u001b[0m Successfully pulled data from                       \u001b]8;id=175753;file:///Users/christopherliew/Desktop/Y4S1/HT/crypto_uncertainty_index/data/extract/reddit_extract.py\u001b\\\u001b[2mreddit_extract.py\u001b[0m\u001b]8;;\u001b\\\u001b[2m:\u001b[0m\u001b]8;id=871310;file:///Users/christopherliew/Desktop/Y4S1/HT/crypto_uncertainty_index/data/extract/reddit_extract.py#122\u001b\\\u001b[2m122\u001b[0m\u001b]8;;\u001b\\\n",
       "\u001b[2;36m           \u001b[0m         \u001b[33msubreddit\u001b[0m=\u001b[35mCryptoCurrency\u001b[0m                            \u001b[2m                     \u001b[0m\n"
      ]
     },
     "metadata": {},
     "output_type": "display_data"
    },
    {
     "name": "stderr",
     "output_type": "stream",
     "text": [
      "100%|██████████| 1/1 [00:22<00:00, 22.10s/it]\n"
     ]
    },
    {
     "data": {
      "text/html": [
       "<pre style=\"white-space:pre;overflow-x:auto;line-height:normal;font-family:Menlo,'DejaVu Sans Mono',consolas,'Courier New',monospace\"><span style=\"color: #7fbfbf; text-decoration-color: #7fbfbf\">           </span><span style=\"color: #000080; text-decoration-color: #000080\">INFO    </span> All subreddit sucessfully pulled                    <a href=\"file:///Users/christopherliew/Desktop/Y4S1/HT/crypto_uncertainty_index/data/extract/reddit_extract.py\"><span style=\"color: #7f7f7f; text-decoration-color: #7f7f7f\">reddit_extract.py</span></a><span style=\"color: #7f7f7f; text-decoration-color: #7f7f7f\">:</span><a href=\"file:///Users/christopherliew/Desktop/Y4S1/HT/crypto_uncertainty_index/data/extract/reddit_extract.py#124\"><span style=\"color: #7f7f7f; text-decoration-color: #7f7f7f\">124</span></a>\n",
       "</pre>\n"
      ],
      "text/plain": [
       "\u001b[2;36m          \u001b[0m\u001b[2;36m \u001b[0m\u001b[34mINFO    \u001b[0m All subreddit sucessfully pulled                    \u001b]8;id=372327;file:///Users/christopherliew/Desktop/Y4S1/HT/crypto_uncertainty_index/data/extract/reddit_extract.py\u001b\\\u001b[2mreddit_extract.py\u001b[0m\u001b]8;;\u001b\\\u001b[2m:\u001b[0m\u001b]8;id=696402;file:///Users/christopherliew/Desktop/Y4S1/HT/crypto_uncertainty_index/data/extract/reddit_extract.py#124\u001b\\\u001b[2m124\u001b[0m\u001b]8;;\u001b\\\n"
      ]
     },
     "metadata": {},
     "output_type": "display_data"
    }
   ],
   "source": [
    "# Test get_all_crypto_subreddit_date\n",
    "results = get_all_crypto_subreddit_data(subreddits=test_subreddit,\n",
    "                                        start_date=test_start_date,\n",
    "                                        end_date=test_end_date)"
   ]
  },
  {
   "cell_type": "code",
   "execution_count": 14,
   "metadata": {},
   "outputs": [
    {
     "name": "stdout",
     "output_type": "stream",
     "text": [
      "Number of entries from subreddits: 1001\n"
     ]
    }
   ],
   "source": [
    "print(f\"Number of entries from subreddits: {len(results[test_subreddit[0]])}\")"
   ]
  },
  {
   "cell_type": "code",
   "execution_count": 15,
   "metadata": {},
   "outputs": [
    {
     "data": {
      "text/html": [
       "<pre style=\"white-space:pre;overflow-x:auto;line-height:normal;font-family:Menlo,'DejaVu Sans Mono',consolas,'Courier New',monospace\"><span style=\"color: #7fbfbf; text-decoration-color: #7fbfbf\">           </span><span style=\"color: #000080; text-decoration-color: #000080\">INFO    </span> Inserting data from CryptoCurrency to ES             <a href=\"file:///Users/christopherliew/Desktop/Y4S1/HT/crypto_uncertainty_index/data/extract/reddit_extract.py\"><span style=\"color: #7f7f7f; text-decoration-color: #7f7f7f\">reddit_extract.py</span></a><span style=\"color: #7f7f7f; text-decoration-color: #7f7f7f\">:</span><a href=\"file:///Users/christopherliew/Desktop/Y4S1/HT/crypto_uncertainty_index/data/extract/reddit_extract.py#78\"><span style=\"color: #7f7f7f; text-decoration-color: #7f7f7f\">78</span></a>\n",
       "</pre>\n"
      ],
      "text/plain": [
       "\u001b[2;36m          \u001b[0m\u001b[2;36m \u001b[0m\u001b[34mINFO    \u001b[0m Inserting data from CryptoCurrency to ES             \u001b]8;id=950735;file:///Users/christopherliew/Desktop/Y4S1/HT/crypto_uncertainty_index/data/extract/reddit_extract.py\u001b\\\u001b[2mreddit_extract.py\u001b[0m\u001b]8;;\u001b\\\u001b[2m:\u001b[0m\u001b]8;id=271225;file:///Users/christopherliew/Desktop/Y4S1/HT/crypto_uncertainty_index/data/extract/reddit_extract.py#78\u001b\\\u001b[2m78\u001b[0m\u001b]8;;\u001b\\\n"
      ]
     },
     "metadata": {},
     "output_type": "display_data"
    },
    {
     "data": {
      "text/html": [
       "<pre style=\"white-space:pre;overflow-x:auto;line-height:normal;font-family:Menlo,'DejaVu Sans Mono',consolas,'Courier New',monospace\"><span style=\"color: #7fbfbf; text-decoration-color: #7fbfbf\">           </span><span style=\"color: #000080; text-decoration-color: #000080\">INFO    </span> <span style=\"color: #808000; text-decoration-color: #808000; font-weight: bold\">GET</span> <span style=\"color: #0000ff; text-decoration-color: #0000ff; text-decoration: underline\">http://localhost:9200/</span> <span style=\"font-weight: bold\">[</span>status:<span style=\"color: #008080; text-decoration-color: #008080; font-weight: bold\">200</span> request:<span style=\"color: #008080; text-decoration-color: #008080; font-weight: bold\">0.</span>023s<span style=\"font-weight: bold\">]</span>        <a href=\"file:///Users/christopherliew/Library/Caches/pypoetry/virtualenvs/crypto-uncertainty-index-NHOdNUJC-py3.8/lib/python3.8/site-packages/elasticsearch/connection/base.py\"><span style=\"color: #7f7f7f; text-decoration-color: #7f7f7f\">base.py</span></a><span style=\"color: #7f7f7f; text-decoration-color: #7f7f7f\">:</span><a href=\"file:///Users/christopherliew/Library/Caches/pypoetry/virtualenvs/crypto-uncertainty-index-NHOdNUJC-py3.8/lib/python3.8/site-packages/elasticsearch/connection/base.py#265\"><span style=\"color: #7f7f7f; text-decoration-color: #7f7f7f\">265</span></a>\n",
       "</pre>\n"
      ],
      "text/plain": [
       "\u001b[2;36m          \u001b[0m\u001b[2;36m \u001b[0m\u001b[34mINFO    \u001b[0m \u001b[1;33mGET\u001b[0m \u001b[4;94mhttp://localhost:9200/\u001b[0m \u001b[1m[\u001b[0mstatus:\u001b[1;36m200\u001b[0m request:\u001b[1;36m0.\u001b[0m023s\u001b[1m]\u001b[0m        \u001b]8;id=313240;file:///Users/christopherliew/Library/Caches/pypoetry/virtualenvs/crypto-uncertainty-index-NHOdNUJC-py3.8/lib/python3.8/site-packages/elasticsearch/connection/base.py\u001b\\\u001b[2mbase.py\u001b[0m\u001b]8;;\u001b\\\u001b[2m:\u001b[0m\u001b]8;id=26922;file:///Users/christopherliew/Library/Caches/pypoetry/virtualenvs/crypto-uncertainty-index-NHOdNUJC-py3.8/lib/python3.8/site-packages/elasticsearch/connection/base.py#265\u001b\\\u001b[2m265\u001b[0m\u001b]8;;\u001b\\\n"
      ]
     },
     "metadata": {},
     "output_type": "display_data"
    },
    {
     "data": {
      "text/html": [
       "<pre style=\"white-space:pre;overflow-x:auto;line-height:normal;font-family:Menlo,'DejaVu Sans Mono',consolas,'Courier New',monospace\"><span style=\"color: #7fbfbf; text-decoration-color: #7fbfbf\">           </span><span style=\"color: #000080; text-decoration-color: #000080\">INFO    </span> <span style=\"color: #808000; text-decoration-color: #808000; font-weight: bold\">HEAD</span> <span style=\"color: #0000ff; text-decoration-color: #0000ff; text-decoration: underline\">http://localhost:9200/reddit-crypto</span> <span style=\"font-weight: bold\">[</span>status:<span style=\"color: #008080; text-decoration-color: #008080; font-weight: bold\">200</span>          <a href=\"file:///Users/christopherliew/Library/Caches/pypoetry/virtualenvs/crypto-uncertainty-index-NHOdNUJC-py3.8/lib/python3.8/site-packages/elasticsearch/connection/base.py\"><span style=\"color: #7f7f7f; text-decoration-color: #7f7f7f\">base.py</span></a><span style=\"color: #7f7f7f; text-decoration-color: #7f7f7f\">:</span><a href=\"file:///Users/christopherliew/Library/Caches/pypoetry/virtualenvs/crypto-uncertainty-index-NHOdNUJC-py3.8/lib/python3.8/site-packages/elasticsearch/connection/base.py#265\"><span style=\"color: #7f7f7f; text-decoration-color: #7f7f7f\">265</span></a>\n",
       "<span style=\"color: #7fbfbf; text-decoration-color: #7fbfbf\">           </span>         request:<span style=\"color: #008080; text-decoration-color: #008080; font-weight: bold\">0.</span>004s<span style=\"font-weight: bold\">]</span>                                               <span style=\"color: #7f7f7f; text-decoration-color: #7f7f7f\">           </span>\n",
       "</pre>\n"
      ],
      "text/plain": [
       "\u001b[2;36m          \u001b[0m\u001b[2;36m \u001b[0m\u001b[34mINFO    \u001b[0m \u001b[1;33mHEAD\u001b[0m \u001b[4;94mhttp://localhost:9200/reddit-crypto\u001b[0m \u001b[1m[\u001b[0mstatus:\u001b[1;36m200\u001b[0m          \u001b]8;id=756274;file:///Users/christopherliew/Library/Caches/pypoetry/virtualenvs/crypto-uncertainty-index-NHOdNUJC-py3.8/lib/python3.8/site-packages/elasticsearch/connection/base.py\u001b\\\u001b[2mbase.py\u001b[0m\u001b]8;;\u001b\\\u001b[2m:\u001b[0m\u001b]8;id=654987;file:///Users/christopherliew/Library/Caches/pypoetry/virtualenvs/crypto-uncertainty-index-NHOdNUJC-py3.8/lib/python3.8/site-packages/elasticsearch/connection/base.py#265\u001b\\\u001b[2m265\u001b[0m\u001b]8;;\u001b\\\n",
       "\u001b[2;36m           \u001b[0m         request:\u001b[1;36m0.\u001b[0m004s\u001b[1m]\u001b[0m                                               \u001b[2m           \u001b[0m\n"
      ]
     },
     "metadata": {},
     "output_type": "display_data"
    },
    {
     "data": {
      "text/html": [
       "<pre style=\"white-space:pre;overflow-x:auto;line-height:normal;font-family:Menlo,'DejaVu Sans Mono',consolas,'Courier New',monospace\"><span style=\"color: #7fbfbf; text-decoration-color: #7fbfbf\">           </span><span style=\"color: #000080; text-decoration-color: #000080\">INFO    </span> Generating ES compatible documents                   <a href=\"file:///Users/christopherliew/Desktop/Y4S1/HT/crypto_uncertainty_index/data/extract/reddit_extract.py\"><span style=\"color: #7f7f7f; text-decoration-color: #7f7f7f\">reddit_extract.py</span></a><span style=\"color: #7f7f7f; text-decoration-color: #7f7f7f\">:</span><a href=\"file:///Users/christopherliew/Desktop/Y4S1/HT/crypto_uncertainty_index/data/extract/reddit_extract.py#83\"><span style=\"color: #7f7f7f; text-decoration-color: #7f7f7f\">83</span></a>\n",
       "</pre>\n"
      ],
      "text/plain": [
       "\u001b[2;36m          \u001b[0m\u001b[2;36m \u001b[0m\u001b[34mINFO    \u001b[0m Generating ES compatible documents                   \u001b]8;id=589956;file:///Users/christopherliew/Desktop/Y4S1/HT/crypto_uncertainty_index/data/extract/reddit_extract.py\u001b\\\u001b[2mreddit_extract.py\u001b[0m\u001b]8;;\u001b\\\u001b[2m:\u001b[0m\u001b]8;id=744812;file:///Users/christopherliew/Desktop/Y4S1/HT/crypto_uncertainty_index/data/extract/reddit_extract.py#83\u001b\\\u001b[2m83\u001b[0m\u001b]8;;\u001b\\\n"
      ]
     },
     "metadata": {},
     "output_type": "display_data"
    },
    {
     "data": {
      "text/html": [
       "<pre style=\"white-space:pre;overflow-x:auto;line-height:normal;font-family:Menlo,'DejaVu Sans Mono',consolas,'Courier New',monospace\"><span style=\"color: #7fbfbf; text-decoration-color: #7fbfbf\">           </span><span style=\"color: #000080; text-decoration-color: #000080\">INFO    </span> Documents generated. Inserting documents into ES.    <a href=\"file:///Users/christopherliew/Desktop/Y4S1/HT/crypto_uncertainty_index/data/extract/reddit_extract.py\"><span style=\"color: #7f7f7f; text-decoration-color: #7f7f7f\">reddit_extract.py</span></a><span style=\"color: #7f7f7f; text-decoration-color: #7f7f7f\">:</span><a href=\"file:///Users/christopherliew/Desktop/Y4S1/HT/crypto_uncertainty_index/data/extract/reddit_extract.py#91\"><span style=\"color: #7f7f7f; text-decoration-color: #7f7f7f\">91</span></a>\n",
       "</pre>\n"
      ],
      "text/plain": [
       "\u001b[2;36m          \u001b[0m\u001b[2;36m \u001b[0m\u001b[34mINFO    \u001b[0m Documents generated. Inserting documents into ES.    \u001b]8;id=825096;file:///Users/christopherliew/Desktop/Y4S1/HT/crypto_uncertainty_index/data/extract/reddit_extract.py\u001b\\\u001b[2mreddit_extract.py\u001b[0m\u001b]8;;\u001b\\\u001b[2m:\u001b[0m\u001b]8;id=401668;file:///Users/christopherliew/Desktop/Y4S1/HT/crypto_uncertainty_index/data/extract/reddit_extract.py#91\u001b\\\u001b[2m91\u001b[0m\u001b]8;;\u001b\\\n"
      ]
     },
     "metadata": {},
     "output_type": "display_data"
    },
    {
     "data": {
      "text/html": [
       "<pre style=\"white-space:pre;overflow-x:auto;line-height:normal;font-family:Menlo,'DejaVu Sans Mono',consolas,'Courier New',monospace\"><span style=\"color: #7fbfbf; text-decoration-color: #7fbfbf\">           </span><span style=\"color: #000080; text-decoration-color: #000080\">INFO    </span> <span style=\"color: #808000; text-decoration-color: #808000; font-weight: bold\">POST</span> <span style=\"color: #0000ff; text-decoration-color: #0000ff; text-decoration: underline\">http://localhost:9200/reddit-crypto/_bulk</span> <span style=\"font-weight: bold\">[</span>status:<span style=\"color: #008080; text-decoration-color: #008080; font-weight: bold\">200</span>    <a href=\"file:///Users/christopherliew/Library/Caches/pypoetry/virtualenvs/crypto-uncertainty-index-NHOdNUJC-py3.8/lib/python3.8/site-packages/elasticsearch/connection/base.py\"><span style=\"color: #7f7f7f; text-decoration-color: #7f7f7f\">base.py</span></a><span style=\"color: #7f7f7f; text-decoration-color: #7f7f7f\">:</span><a href=\"file:///Users/christopherliew/Library/Caches/pypoetry/virtualenvs/crypto-uncertainty-index-NHOdNUJC-py3.8/lib/python3.8/site-packages/elasticsearch/connection/base.py#265\"><span style=\"color: #7f7f7f; text-decoration-color: #7f7f7f\">265</span></a>\n",
       "<span style=\"color: #7fbfbf; text-decoration-color: #7fbfbf\">           </span>         request:<span style=\"color: #008080; text-decoration-color: #008080; font-weight: bold\">0.</span>193s<span style=\"font-weight: bold\">]</span>                                               <span style=\"color: #7f7f7f; text-decoration-color: #7f7f7f\">           </span>\n",
       "</pre>\n"
      ],
      "text/plain": [
       "\u001b[2;36m          \u001b[0m\u001b[2;36m \u001b[0m\u001b[34mINFO    \u001b[0m \u001b[1;33mPOST\u001b[0m \u001b[4;94mhttp://localhost:9200/reddit-crypto/_bulk\u001b[0m \u001b[1m[\u001b[0mstatus:\u001b[1;36m200\u001b[0m    \u001b]8;id=899492;file:///Users/christopherliew/Library/Caches/pypoetry/virtualenvs/crypto-uncertainty-index-NHOdNUJC-py3.8/lib/python3.8/site-packages/elasticsearch/connection/base.py\u001b\\\u001b[2mbase.py\u001b[0m\u001b]8;;\u001b\\\u001b[2m:\u001b[0m\u001b]8;id=608551;file:///Users/christopherliew/Library/Caches/pypoetry/virtualenvs/crypto-uncertainty-index-NHOdNUJC-py3.8/lib/python3.8/site-packages/elasticsearch/connection/base.py#265\u001b\\\u001b[2m265\u001b[0m\u001b]8;;\u001b\\\n",
       "\u001b[2;36m           \u001b[0m         request:\u001b[1;36m0.\u001b[0m193s\u001b[1m]\u001b[0m                                               \u001b[2m           \u001b[0m\n"
      ]
     },
     "metadata": {},
     "output_type": "display_data"
    },
    {
     "data": {
      "text/html": [
       "<pre style=\"white-space:pre;overflow-x:auto;line-height:normal;font-family:Menlo,'DejaVu Sans Mono',consolas,'Courier New',monospace\"><span style=\"color: #7fbfbf; text-decoration-color: #7fbfbf\">           </span><span style=\"color: #000080; text-decoration-color: #000080\">INFO    </span> <span style=\"color: #808000; text-decoration-color: #808000; font-weight: bold\">POST</span> <span style=\"color: #0000ff; text-decoration-color: #0000ff; text-decoration: underline\">http://localhost:9200/reddit-crypto/_bulk</span> <span style=\"font-weight: bold\">[</span>status:<span style=\"color: #008080; text-decoration-color: #008080; font-weight: bold\">200</span>    <a href=\"file:///Users/christopherliew/Library/Caches/pypoetry/virtualenvs/crypto-uncertainty-index-NHOdNUJC-py3.8/lib/python3.8/site-packages/elasticsearch/connection/base.py\"><span style=\"color: #7f7f7f; text-decoration-color: #7f7f7f\">base.py</span></a><span style=\"color: #7f7f7f; text-decoration-color: #7f7f7f\">:</span><a href=\"file:///Users/christopherliew/Library/Caches/pypoetry/virtualenvs/crypto-uncertainty-index-NHOdNUJC-py3.8/lib/python3.8/site-packages/elasticsearch/connection/base.py#265\"><span style=\"color: #7f7f7f; text-decoration-color: #7f7f7f\">265</span></a>\n",
       "<span style=\"color: #7fbfbf; text-decoration-color: #7fbfbf\">           </span>         request:<span style=\"color: #008080; text-decoration-color: #008080; font-weight: bold\">0.</span>132s<span style=\"font-weight: bold\">]</span>                                               <span style=\"color: #7f7f7f; text-decoration-color: #7f7f7f\">           </span>\n",
       "</pre>\n"
      ],
      "text/plain": [
       "\u001b[2;36m          \u001b[0m\u001b[2;36m \u001b[0m\u001b[34mINFO    \u001b[0m \u001b[1;33mPOST\u001b[0m \u001b[4;94mhttp://localhost:9200/reddit-crypto/_bulk\u001b[0m \u001b[1m[\u001b[0mstatus:\u001b[1;36m200\u001b[0m    \u001b]8;id=657988;file:///Users/christopherliew/Library/Caches/pypoetry/virtualenvs/crypto-uncertainty-index-NHOdNUJC-py3.8/lib/python3.8/site-packages/elasticsearch/connection/base.py\u001b\\\u001b[2mbase.py\u001b[0m\u001b]8;;\u001b\\\u001b[2m:\u001b[0m\u001b]8;id=43418;file:///Users/christopherliew/Library/Caches/pypoetry/virtualenvs/crypto-uncertainty-index-NHOdNUJC-py3.8/lib/python3.8/site-packages/elasticsearch/connection/base.py#265\u001b\\\u001b[2m265\u001b[0m\u001b]8;;\u001b\\\n",
       "\u001b[2;36m           \u001b[0m         request:\u001b[1;36m0.\u001b[0m132s\u001b[1m]\u001b[0m                                               \u001b[2m           \u001b[0m\n"
      ]
     },
     "metadata": {},
     "output_type": "display_data"
    },
    {
     "data": {
      "text/html": [
       "<pre style=\"white-space:pre;overflow-x:auto;line-height:normal;font-family:Menlo,'DejaVu Sans Mono',consolas,'Courier New',monospace\"><span style=\"color: #7fbfbf; text-decoration-color: #7fbfbf\">           </span><span style=\"color: #000080; text-decoration-color: #000080\">INFO    </span> <span style=\"color: #808000; text-decoration-color: #808000; font-weight: bold\">POST</span> <span style=\"color: #0000ff; text-decoration-color: #0000ff; text-decoration: underline\">http://localhost:9200/reddit-crypto/_bulk</span> <span style=\"font-weight: bold\">[</span>status:<span style=\"color: #008080; text-decoration-color: #008080; font-weight: bold\">200</span>    <a href=\"file:///Users/christopherliew/Library/Caches/pypoetry/virtualenvs/crypto-uncertainty-index-NHOdNUJC-py3.8/lib/python3.8/site-packages/elasticsearch/connection/base.py\"><span style=\"color: #7f7f7f; text-decoration-color: #7f7f7f\">base.py</span></a><span style=\"color: #7f7f7f; text-decoration-color: #7f7f7f\">:</span><a href=\"file:///Users/christopherliew/Library/Caches/pypoetry/virtualenvs/crypto-uncertainty-index-NHOdNUJC-py3.8/lib/python3.8/site-packages/elasticsearch/connection/base.py#265\"><span style=\"color: #7f7f7f; text-decoration-color: #7f7f7f\">265</span></a>\n",
       "<span style=\"color: #7fbfbf; text-decoration-color: #7fbfbf\">           </span>         request:<span style=\"color: #008080; text-decoration-color: #008080; font-weight: bold\">0.</span>006s<span style=\"font-weight: bold\">]</span>                                               <span style=\"color: #7f7f7f; text-decoration-color: #7f7f7f\">           </span>\n",
       "</pre>\n"
      ],
      "text/plain": [
       "\u001b[2;36m          \u001b[0m\u001b[2;36m \u001b[0m\u001b[34mINFO    \u001b[0m \u001b[1;33mPOST\u001b[0m \u001b[4;94mhttp://localhost:9200/reddit-crypto/_bulk\u001b[0m \u001b[1m[\u001b[0mstatus:\u001b[1;36m200\u001b[0m    \u001b]8;id=784251;file:///Users/christopherliew/Library/Caches/pypoetry/virtualenvs/crypto-uncertainty-index-NHOdNUJC-py3.8/lib/python3.8/site-packages/elasticsearch/connection/base.py\u001b\\\u001b[2mbase.py\u001b[0m\u001b]8;;\u001b\\\u001b[2m:\u001b[0m\u001b]8;id=38819;file:///Users/christopherliew/Library/Caches/pypoetry/virtualenvs/crypto-uncertainty-index-NHOdNUJC-py3.8/lib/python3.8/site-packages/elasticsearch/connection/base.py#265\u001b\\\u001b[2m265\u001b[0m\u001b]8;;\u001b\\\n",
       "\u001b[2;36m           \u001b[0m         request:\u001b[1;36m0.\u001b[0m006s\u001b[1m]\u001b[0m                                               \u001b[2m           \u001b[0m\n"
      ]
     },
     "metadata": {},
     "output_type": "display_data"
    },
    {
     "data": {
      "text/html": [
       "<pre style=\"white-space:pre;overflow-x:auto;line-height:normal;font-family:Menlo,'DejaVu Sans Mono',consolas,'Courier New',monospace\"><span style=\"color: #7fbfbf; text-decoration-color: #7fbfbf\">           </span><span style=\"color: #000080; text-decoration-color: #000080\">INFO    </span> <span style=\"font-weight: bold\">(</span><span style=\"color: #008080; text-decoration-color: #008080; font-weight: bold\">1001</span>, <span style=\"font-weight: bold\">[])</span>                                                 <a href=\"file:///Users/christopherliew/Desktop/Y4S1/HT/crypto_uncertainty_index/es/manager.py\"><span style=\"color: #7f7f7f; text-decoration-color: #7f7f7f\">manager.py</span></a><span style=\"color: #7f7f7f; text-decoration-color: #7f7f7f\">:</span><a href=\"file:///Users/christopherliew/Desktop/Y4S1/HT/crypto_uncertainty_index/es/manager.py#118\"><span style=\"color: #7f7f7f; text-decoration-color: #7f7f7f\">118</span></a>\n",
       "</pre>\n"
      ],
      "text/plain": [
       "\u001b[2;36m          \u001b[0m\u001b[2;36m \u001b[0m\u001b[34mINFO    \u001b[0m \u001b[1m(\u001b[0m\u001b[1;36m1001\u001b[0m, \u001b[1m[\u001b[0m\u001b[1m]\u001b[0m\u001b[1m)\u001b[0m                                                 \u001b]8;id=882131;file:///Users/christopherliew/Desktop/Y4S1/HT/crypto_uncertainty_index/es/manager.py\u001b\\\u001b[2mmanager.py\u001b[0m\u001b]8;;\u001b\\\u001b[2m:\u001b[0m\u001b]8;id=664998;file:///Users/christopherliew/Desktop/Y4S1/HT/crypto_uncertainty_index/es/manager.py#118\u001b\\\u001b[2m118\u001b[0m\u001b]8;;\u001b\\\n"
      ]
     },
     "metadata": {},
     "output_type": "display_data"
    },
    {
     "data": {
      "text/html": [
       "<pre style=\"white-space:pre;overflow-x:auto;line-height:normal;font-family:Menlo,'DejaVu Sans Mono',consolas,'Courier New',monospace\"><span style=\"color: #7fbfbf; text-decoration-color: #7fbfbf\">           </span><span style=\"color: #000080; text-decoration-color: #000080\">INFO    </span> Insertion complete!                                  <a href=\"file:///Users/christopherliew/Desktop/Y4S1/HT/crypto_uncertainty_index/data/extract/reddit_extract.py\"><span style=\"color: #7f7f7f; text-decoration-color: #7f7f7f\">reddit_extract.py</span></a><span style=\"color: #7f7f7f; text-decoration-color: #7f7f7f\">:</span><a href=\"file:///Users/christopherliew/Desktop/Y4S1/HT/crypto_uncertainty_index/data/extract/reddit_extract.py#94\"><span style=\"color: #7f7f7f; text-decoration-color: #7f7f7f\">94</span></a>\n",
       "</pre>\n"
      ],
      "text/plain": [
       "\u001b[2;36m          \u001b[0m\u001b[2;36m \u001b[0m\u001b[34mINFO    \u001b[0m Insertion complete!                                  \u001b]8;id=404178;file:///Users/christopherliew/Desktop/Y4S1/HT/crypto_uncertainty_index/data/extract/reddit_extract.py\u001b\\\u001b[2mreddit_extract.py\u001b[0m\u001b]8;;\u001b\\\u001b[2m:\u001b[0m\u001b]8;id=556977;file:///Users/christopherliew/Desktop/Y4S1/HT/crypto_uncertainty_index/data/extract/reddit_extract.py#94\u001b\\\u001b[2m94\u001b[0m\u001b]8;;\u001b\\\n"
      ]
     },
     "metadata": {},
     "output_type": "display_data"
    }
   ],
   "source": [
    "# Test insert_reddit_to_es\n",
    "insert_reddit_to_es(results)"
   ]
  },
  {
   "cell_type": "code",
   "execution_count": 17,
   "metadata": {},
   "outputs": [
    {
     "data": {
      "text/html": [
       "<pre style=\"white-space:pre;overflow-x:auto;line-height:normal;font-family:Menlo,'DejaVu Sans Mono',consolas,'Courier New',monospace\"><span style=\"color: #7fbfbf; text-decoration-color: #7fbfbf\">           </span><span style=\"color: #000080; text-decoration-color: #000080\">INFO    </span> <span style=\"color: #808000; text-decoration-color: #808000; font-weight: bold\">POST</span> <span style=\"color: #0000ff; text-decoration-color: #0000ff; text-decoration: underline\">http://localhost:9200/reddit-crypto/_search</span> <span style=\"font-weight: bold\">[</span>status:<span style=\"color: #008080; text-decoration-color: #008080; font-weight: bold\">200</span>  <a href=\"file:///Users/christopherliew/Library/Caches/pypoetry/virtualenvs/crypto-uncertainty-index-NHOdNUJC-py3.8/lib/python3.8/site-packages/elasticsearch/connection/base.py\"><span style=\"color: #7f7f7f; text-decoration-color: #7f7f7f\">base.py</span></a><span style=\"color: #7f7f7f; text-decoration-color: #7f7f7f\">:</span><a href=\"file:///Users/christopherliew/Library/Caches/pypoetry/virtualenvs/crypto-uncertainty-index-NHOdNUJC-py3.8/lib/python3.8/site-packages/elasticsearch/connection/base.py#265\"><span style=\"color: #7f7f7f; text-decoration-color: #7f7f7f\">265</span></a>\n",
       "<span style=\"color: #7fbfbf; text-decoration-color: #7fbfbf\">           </span>         request:<span style=\"color: #008080; text-decoration-color: #008080; font-weight: bold\">0.</span>225s<span style=\"font-weight: bold\">]</span>                                               <span style=\"color: #7f7f7f; text-decoration-color: #7f7f7f\">           </span>\n",
       "</pre>\n"
      ],
      "text/plain": [
       "\u001b[2;36m          \u001b[0m\u001b[2;36m \u001b[0m\u001b[34mINFO    \u001b[0m \u001b[1;33mPOST\u001b[0m \u001b[4;94mhttp://localhost:9200/reddit-crypto/_search\u001b[0m \u001b[1m[\u001b[0mstatus:\u001b[1;36m200\u001b[0m  \u001b]8;id=329349;file:///Users/christopherliew/Library/Caches/pypoetry/virtualenvs/crypto-uncertainty-index-NHOdNUJC-py3.8/lib/python3.8/site-packages/elasticsearch/connection/base.py\u001b\\\u001b[2mbase.py\u001b[0m\u001b]8;;\u001b\\\u001b[2m:\u001b[0m\u001b]8;id=429755;file:///Users/christopherliew/Library/Caches/pypoetry/virtualenvs/crypto-uncertainty-index-NHOdNUJC-py3.8/lib/python3.8/site-packages/elasticsearch/connection/base.py#265\u001b\\\u001b[2m265\u001b[0m\u001b]8;;\u001b\\\n",
       "\u001b[2;36m           \u001b[0m         request:\u001b[1;36m0.\u001b[0m225s\u001b[1m]\u001b[0m                                               \u001b[2m           \u001b[0m\n"
      ]
     },
     "metadata": {},
     "output_type": "display_data"
    },
    {
     "data": {
      "text/plain": [
       "[{'_index': 'reddit-crypto',\n",
       "  '_type': '_doc',\n",
       "  '_id': 'gpjKc34BDZWeY8f_1qZO',\n",
       "  '_score': 1.0,\n",
       "  '_source': {'id': 't1_gjrvq98',\n",
       "   'subreddit': 'CryptoCurrency',\n",
       "   'create_datetime': '2021-01-18T23:59:46+00:00',\n",
       "   'author': 'afterthefuture',\n",
       "   'full_text': \"good man. keep giving us heads up like these.\\n\\nI think the volume seems to be low on this break out. I am 50/50 now on this break. Will move my stops even tighter. It doesn't seem to be explosive one.\",\n",
       "   'type': 'comment',\n",
       "   'parent_id': 't1_gjrv2m9'}},\n",
       " {'_index': 'reddit-crypto',\n",
       "  '_type': '_doc',\n",
       "  '_id': 'iZjKc34BDZWeY8f_1qZO',\n",
       "  '_score': 1.0,\n",
       "  '_source': {'id': 't1_gjrvlgi',\n",
       "   'subreddit': 'CryptoCurrency',\n",
       "   'create_datetime': '2021-01-18T23:58:34+00:00',\n",
       "   'author': 'stop_rebelling',\n",
       "   'full_text': \"Everybody tbh. It was 100k then and now I'm getting emails about 250k lol.\",\n",
       "   'type': 'comment',\n",
       "   'parent_id': 't1_gjrusnd'}},\n",
       " {'_index': 'reddit-crypto',\n",
       "  '_type': '_doc',\n",
       "  '_id': 'ipjKc34BDZWeY8f_1qZO',\n",
       "  '_score': 1.0,\n",
       "  '_source': {'id': 't1_gjrvl41',\n",
       "   'subreddit': 'CryptoCurrency',\n",
       "   'create_datetime': '2021-01-18T23:58:29+00:00',\n",
       "   'author': 'GroenAlsHaze',\n",
       "   'full_text': 'Im contemplating staking my etherem for eth 2.0 on Binance. Good or bad move?',\n",
       "   'type': 'comment',\n",
       "   'parent_id': 't3_kzicgl'}}]"
      ]
     },
     "execution_count": 17,
     "metadata": {},
     "output_type": "execute_result"
    }
   ],
   "source": [
    "# Test Insertion by Querying\n",
    "res = es_conn.run_match_query(index=REDDIT_CRYPTO_INDEX_NAME, query=test_query)\n",
    "res[:3]"
   ]
  }
 ],
 "metadata": {
  "interpreter": {
   "hash": "40354f9ee00c19d325c1c6e0f5cc51f41bba3780af5a1f7f7f66a447c2385437"
  },
  "kernelspec": {
   "display_name": "Python 3.8.9 64-bit ('crypto-uncertainty-index-ZrkDytKL-py3.8': poetry)",
   "language": "python",
   "name": "python3"
  },
  "language_info": {
   "codemirror_mode": {
    "name": "ipython",
    "version": 3
   },
   "file_extension": ".py",
   "mimetype": "text/x-python",
   "name": "python",
   "nbconvert_exporter": "python",
   "pygments_lexer": "ipython3",
   "version": "3.8.12"
  },
  "orig_nbformat": 4
 },
 "nbformat": 4,
 "nbformat_minor": 2
}
