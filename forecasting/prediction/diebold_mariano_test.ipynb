{
 "cells": [
  {
   "cell_type": "markdown",
   "metadata": {},
   "source": [
    "## Diebold Mariano Test\n",
    "1. Data Preparation: Load Forecasts and Actual Values for h = 1, 4, 12\n",
    "2. Check if errors are covariance stationary\n",
    "3. If stationary perform DB test against the Benchmark (Naive Mean Model)"
   ]
  },
  {
   "cell_type": "code",
   "execution_count": 1,
   "metadata": {},
   "outputs": [
    {
     "name": "stdout",
     "output_type": "stream",
     "text": [
      "/Users/christopherliew/Desktop/Y4S1/HT/crypto_uncertainty_index\n"
     ]
    },
    {
     "name": "stderr",
     "output_type": "stream",
     "text": [
      "/Users/christopherliew/Desktop/Y4S1/HT/crypto_uncertainty_index/.venv/crypto-uncertainty-index-SX872G0E-py3.8/lib/python3.8/site-packages/darts/timeseries.py:39: FutureWarning: pandas.Int64Index is deprecated and will be removed from pandas in a future version. Use pandas.Index with the appropriate dtype instead.\n",
      "  VALID_INDEX_TYPES = (pd.DatetimeIndex, pd.RangeIndex, pd.Int64Index)\n",
      "/Users/christopherliew/Desktop/Y4S1/HT/crypto_uncertainty_index/.venv/crypto-uncertainty-index-SX872G0E-py3.8/lib/python3.8/site-packages/darts/timeseries.py:512: FutureWarning: pandas.Int64Index is deprecated and will be removed from pandas in a future version. Use pandas.Index with the appropriate dtype instead.\n",
      "  times: Union[pd.DatetimeIndex, pd.Int64Index],\n",
      "/Users/christopherliew/Desktop/Y4S1/HT/crypto_uncertainty_index/.venv/crypto-uncertainty-index-SX872G0E-py3.8/lib/python3.8/site-packages/darts/timeseries.py:738: FutureWarning: pandas.Int64Index is deprecated and will be removed from pandas in a future version. Use pandas.Index with the appropriate dtype instead.\n",
      "  def time_index(self) -> Union[pd.DatetimeIndex, pd.Int64Index]:\n",
      "/Users/christopherliew/Desktop/Y4S1/HT/crypto_uncertainty_index/.venv/crypto-uncertainty-index-SX872G0E-py3.8/lib/python3.8/site-packages/darts/timeseries.py:2947: FutureWarning: pandas.Int64Index is deprecated and will be removed from pandas in a future version. Use pandas.Index with the appropriate dtype instead.\n",
      "  pd.Int64Index,\n"
     ]
    }
   ],
   "source": [
    "# NB config\n",
    "%load_ext autoreload\n",
    "%autoreload 2\n",
    "\n",
    "# Load Libraries\n",
    "import os\n",
    "import importlib\n",
    "import warnings\n",
    "\n",
    "os.chdir(\"../../\")\n",
    "print(os.getcwd())\n",
    "import numpy as np\n",
    "import pandas as pd\n",
    "from pathlib import Path\n",
    "from darts import TimeSeries\n",
    "from darts.metrics import (\n",
    "    rmse,\n",
    ")\n",
    "from arch.unitroot import ADF, DFGLS, KPSS\n",
    "from pprint import pprint\n",
    "\n",
    "dm_test = importlib.import_module(\n",
    "    \"forecasting.time_series_tests.Diebold-Mariano-Test.dm_test\"\n",
    ")\n",
    "\n",
    "warnings.filterwarnings(\"ignore\")"
   ]
  },
  {
   "cell_type": "code",
   "execution_count": 2,
   "metadata": {},
   "outputs": [],
   "source": [
    "# Data Dir\n",
    "data_dir = Path(\"forecasting/data/modelling\")\n",
    "\n",
    "# BTC-USD data\n",
    "btc_usd_fp = data_dir / \"btc_usd_weekly.csv\"\n",
    "btc_usd_df = pd.read_csv(btc_usd_fp)\n",
    "\n",
    "# h = 1 (Weekly Price Returns)\n",
    "btc_usd_df[\"Price Returns (h=1)\"] = np.log1p(btc_usd_df[[\"Price\"]].pct_change(1))\n",
    "\n",
    "# h = 4 (4 Week Price Returns)\n",
    "btc_usd_df[\"Price Returns (h=4)\"] = np.log1p(btc_usd_df[[\"Price\"]].pct_change(4))\n",
    "\n",
    "# h = 12 (12 Week Price Returns)\n",
    "btc_usd_df[\"Price Returns (h=12)\"] = np.log1p(btc_usd_df[[\"Price\"]].pct_change(12))\n",
    "\n",
    "# Create TimeSeries\n",
    "# h = 1 (Weekly Price Returns)\n",
    "btc_usd1_ts = TimeSeries.from_dataframe(\n",
    "    btc_usd_df[[\"Date\", \"Price Returns (h=1)\"]].dropna(), time_col=\"Date\"\n",
    ")\n",
    "\n",
    "# h = 4 (4 Week Price Returns)\n",
    "btc_usd4_ts = TimeSeries.from_dataframe(\n",
    "    btc_usd_df[[\"Date\", \"Price Returns (h=4)\"]].dropna(), time_col=\"Date\"\n",
    ")\n",
    "\n",
    "# h = 12 (12 Week Price Returns)\n",
    "btc_usd12_ts = TimeSeries.from_dataframe(\n",
    "    btc_usd_df[[\"Date\", \"Price Returns (h=12)\"]].dropna(), time_col=\"Date\"\n",
    ")"
   ]
  },
  {
   "cell_type": "markdown",
   "metadata": {},
   "source": [
    "### Load Forecasts"
   ]
  },
  {
   "cell_type": "code",
   "execution_count": 3,
   "metadata": {},
   "outputs": [],
   "source": [
    "rf_forecasts_dir = Path(\"forecasting/data/forecasts/random_forest\")\n",
    "\n",
    "# Model A\n",
    "rfA1_forecast = TimeSeries.from_csv(\n",
    "    rf_forecasts_dir / \"model_A\" / \"rf_model_A_h1.csv\", time_col=\"time\"\n",
    ")\n",
    "rfA4_forecast = TimeSeries.from_csv(\n",
    "    rf_forecasts_dir / \"model_A\" / \"rf_model_A_h4.csv\", time_col=\"time\"\n",
    ")\n",
    "rfA12_forecast = TimeSeries.from_csv(\n",
    "    rf_forecasts_dir / \"model_A\" / \"rf_model_A_h12.csv\", time_col=\"time\"\n",
    ")\n",
    "\n",
    "# Model B\n",
    "rfB1_forecast = TimeSeries.from_csv(\n",
    "    rf_forecasts_dir / \"model_B\" / \"rf_model_B_h1.csv\", time_col=\"time\"\n",
    ")\n",
    "rfB4_forecast = TimeSeries.from_csv(\n",
    "    rf_forecasts_dir / \"model_B\" / \"rf_model_B_h4.csv\", time_col=\"time\"\n",
    ")\n",
    "rfB12_forecast = TimeSeries.from_csv(\n",
    "    rf_forecasts_dir / \"model_B\" / \"rf_model_B_h12.csv\", time_col=\"time\"\n",
    ")\n",
    "\n",
    "# Model C\n",
    "rfC1_forecast = TimeSeries.from_csv(\n",
    "    rf_forecasts_dir / \"model_C\" / \"rf_model_C_h1.csv\", time_col=\"time\"\n",
    ")\n",
    "rfC4_forecast = TimeSeries.from_csv(\n",
    "    rf_forecasts_dir / \"model_C\" / \"rf_model_C_h4.csv\", time_col=\"time\"\n",
    ")\n",
    "rfC12_forecast = TimeSeries.from_csv(\n",
    "    rf_forecasts_dir / \"model_C\" / \"rf_model_C_h12.csv\", time_col=\"time\"\n",
    ")\n",
    "\n",
    "# Model D\n",
    "rfD1_forecast = TimeSeries.from_csv(\n",
    "    rf_forecasts_dir / \"model_D\" / \"rf_model_D_h1.csv\", time_col=\"time\"\n",
    ")\n",
    "rfD4_forecast = TimeSeries.from_csv(\n",
    "    rf_forecasts_dir / \"model_D\" / \"rf_model_D_h4.csv\", time_col=\"time\"\n",
    ")\n",
    "rfD12_forecast = TimeSeries.from_csv(\n",
    "    rf_forecasts_dir / \"model_D\" / \"rf_model_D_h12.csv\", time_col=\"time\"\n",
    ")\n",
    "\n",
    "# Model E\n",
    "rfE1_forecast = TimeSeries.from_csv(\n",
    "    rf_forecasts_dir / \"model_E\" / \"rf_model_E_h1.csv\", time_col=\"time\"\n",
    ")\n",
    "rfE4_forecast = TimeSeries.from_csv(\n",
    "    rf_forecasts_dir / \"model_E\" / \"rf_model_E_h4.csv\", time_col=\"time\"\n",
    ")\n",
    "rfE12_forecast = TimeSeries.from_csv(\n",
    "    rf_forecasts_dir / \"model_E\" / \"rf_model_E_h12.csv\", time_col=\"time\"\n",
    ")\n",
    "\n",
    "# Model F\n",
    "rfF1_forecast = TimeSeries.from_csv(\n",
    "    rf_forecasts_dir / \"model_F\" / \"rf_model_F_h1.csv\", time_col=\"time\"\n",
    ")\n",
    "rfF4_forecast = TimeSeries.from_csv(\n",
    "    rf_forecasts_dir / \"model_F\" / \"rf_model_F_h4.csv\", time_col=\"time\"\n",
    ")\n",
    "rfF12_forecast = TimeSeries.from_csv(\n",
    "    rf_forecasts_dir / \"model_F\" / \"rf_model_F_h12.csv\", time_col=\"time\"\n",
    ")"
   ]
  },
  {
   "cell_type": "code",
   "execution_count": 4,
   "metadata": {},
   "outputs": [],
   "source": [
    "# Benchmark\n",
    "bench_forecast_dir = Path(\"forecasting/data/forecasts/mean_model\")\n",
    "\n",
    "mean1_forecast = TimeSeries.from_csv(\n",
    "    bench_forecast_dir / \"mean_model_h1.csv\", time_col=\"time\"\n",
    ")\n",
    "mean4_forecast = TimeSeries.from_csv(\n",
    "    bench_forecast_dir / \"mean_model_h4.csv\", time_col=\"time\"\n",
    ")\n",
    "mean12_forecast = TimeSeries.from_csv(\n",
    "    bench_forecast_dir / \"mean_model_h12.csv\", time_col=\"time\"\n",
    ")"
   ]
  },
  {
   "cell_type": "code",
   "execution_count": 17,
   "metadata": {},
   "outputs": [],
   "source": [
    "def mse_custom(y_actual: TimeSeries, y_pred: TimeSeries):\n",
    "    y_actual_red = y_actual.slice_intersect(y_pred).all_values().squeeze(-1)\n",
    "    y_pred_red = y_pred.all_values().squeeze(-1)\n",
    "    mse = (y_actual_red - y_pred_red) ** 2\n",
    "    return mse"
   ]
  },
  {
   "cell_type": "markdown",
   "metadata": {},
   "source": [
    "### Check Loss Differential Covariance Stationarity\n",
    "\n",
    "#### 1. h1 models"
   ]
  },
  {
   "cell_type": "code",
   "execution_count": 19,
   "metadata": {},
   "outputs": [],
   "source": [
    "# Compute H1 Losses\n",
    "\n",
    "bench1_loss = mse_custom(btc_usd1_ts, mean1_forecast)\n",
    "rfA1_loss = mse_custom(btc_usd1_ts, rfA1_forecast)\n",
    "rfB1_loss = mse_custom(btc_usd1_ts, rfB1_forecast)\n",
    "rfC1_loss = mse_custom(btc_usd1_ts, rfC1_forecast)\n",
    "rfD1_loss = mse_custom(btc_usd1_ts, rfD1_forecast)\n",
    "rfE1_loss = mse_custom(btc_usd1_ts, rfE1_forecast)\n",
    "rfF1_loss = mse_custom(btc_usd1_ts, rfF1_forecast)\n",
    "\n",
    "h1_names = [\"benchmark\", \"RF-A\", \"RF-B\", \"RF-C\", \"RF-D\", \"RF-E\", \"RF-F\"]\n",
    "h1_losses = [\n",
    "    rfA1_loss,\n",
    "    rfB1_loss,\n",
    "    rfC1_loss,\n",
    "    rfD1_loss,\n",
    "    rfE1_loss,\n",
    "    rfF1_loss,\n",
    "    bench1_loss,\n",
    "]"
   ]
  },
  {
   "cell_type": "code",
   "execution_count": 20,
   "metadata": {},
   "outputs": [
    {
     "name": "stdout",
     "output_type": "stream",
     "text": [
      "{'RF-A': {'is_stationary': True,\n",
      "          'num_lags': 0,\n",
      "          'p_val': 5.172068710681032e-17,\n",
      "          'stat': -9.999853411787617},\n",
      " 'RF-B': {'is_stationary': True,\n",
      "          'num_lags': 0,\n",
      "          'p_val': 1.425797375440484e-17,\n",
      "          'stat': -10.286097678437486},\n",
      " 'RF-C': {'is_stationary': True,\n",
      "          'num_lags': 0,\n",
      "          'p_val': 4.331680096277558e-17,\n",
      "          'stat': -10.038894573865408},\n",
      " 'RF-D': {'is_stationary': True,\n",
      "          'num_lags': 0,\n",
      "          'p_val': 9.269312766980521e-17,\n",
      "          'stat': -9.872121420379186},\n",
      " 'RF-E': {'is_stationary': True,\n",
      "          'num_lags': 0,\n",
      "          'p_val': 3.685236559596351e-17,\n",
      "          'stat': -10.074572992938437},\n",
      " 'RF-F': {'is_stationary': True,\n",
      "          'num_lags': 0,\n",
      "          'p_val': 1.6849156796746067e-16,\n",
      "          'stat': -9.742382828709273},\n",
      " 'benchmark': {'is_stationary': True,\n",
      "               'num_lags': 0,\n",
      "               'p_val': 6.344495682848364e-17,\n",
      "               'stat': -9.954997782358976}}\n"
     ]
    }
   ],
   "source": [
    "# Check Stationarity\n",
    "h1_cov_stat_res = {}\n",
    "\n",
    "for name, i in zip(h1_names, h1_losses):\n",
    "    computed = DFGLS(i)\n",
    "    summary = {\n",
    "        \"stat\": computed.stat,\n",
    "        \"p_val\": computed.pvalue,\n",
    "        \"num_lags\": computed.lags,\n",
    "        \"is_stationary\": computed.pvalue < 0.05,\n",
    "    }\n",
    "    h1_cov_stat_res[name] = summary\n",
    "\n",
    "pprint(h1_cov_stat_res)"
   ]
  },
  {
   "cell_type": "markdown",
   "metadata": {},
   "source": [
    "#### 2. h4 models"
   ]
  },
  {
   "cell_type": "code",
   "execution_count": 21,
   "metadata": {},
   "outputs": [],
   "source": [
    "# Compute H4 Losses\n",
    "\n",
    "bench4_loss = mse_custom(btc_usd4_ts, mean4_forecast)\n",
    "rfA4_loss = mse_custom(btc_usd4_ts, rfA4_forecast)\n",
    "rfB4_loss = mse_custom(btc_usd4_ts, rfB4_forecast)\n",
    "rfC4_loss = mse_custom(btc_usd4_ts, rfC4_forecast)\n",
    "rfD4_loss = mse_custom(btc_usd4_ts, rfD4_forecast)\n",
    "rfE4_loss = mse_custom(btc_usd4_ts, rfE4_forecast)\n",
    "rfF4_loss = mse_custom(btc_usd4_ts, rfF4_forecast)\n",
    "\n",
    "h4_names = [\"benchmark\", \"RF-A\", \"RF-B\", \"RF-C\", \"RF-D\", \"RF-E\", \"RF-F\"]\n",
    "h4_losses = [\n",
    "    rfA4_loss,\n",
    "    rfB4_loss,\n",
    "    rfC4_loss,\n",
    "    rfD4_loss,\n",
    "    rfE4_loss,\n",
    "    rfF4_loss,\n",
    "    bench4_loss,\n",
    "]"
   ]
  },
  {
   "cell_type": "code",
   "execution_count": 22,
   "metadata": {},
   "outputs": [
    {
     "name": "stdout",
     "output_type": "stream",
     "text": [
      "{'RF-A': {'is_stationary': True,\n",
      "          'num_lags': 0,\n",
      "          'p_val': 3.29725323614587e-13,\n",
      "          'stat': -8.162629820379635},\n",
      " 'RF-B': {'is_stationary': True,\n",
      "          'num_lags': 0,\n",
      "          'p_val': 2.8013589633756594e-12,\n",
      "          'stat': -7.72861401073712},\n",
      " 'RF-C': {'is_stationary': True,\n",
      "          'num_lags': 0,\n",
      "          'p_val': 1.495161828548182e-12,\n",
      "          'stat': -7.8557989488988875},\n",
      " 'RF-D': {'is_stationary': True,\n",
      "          'num_lags': 0,\n",
      "          'p_val': 1.6134730938826566e-12,\n",
      "          'stat': -7.840367486119828},\n",
      " 'RF-E': {'is_stationary': True,\n",
      "          'num_lags': 0,\n",
      "          'p_val': 5.272817801317614e-12,\n",
      "          'stat': -7.6005584212679},\n",
      " 'RF-F': {'is_stationary': True,\n",
      "          'num_lags': 1,\n",
      "          'p_val': 2.495638125548336e-10,\n",
      "          'stat': -6.817152485821982},\n",
      " 'benchmark': {'is_stationary': True,\n",
      "               'num_lags': 0,\n",
      "               'p_val': 1.2170999919668754e-12,\n",
      "               'stat': -7.897502579220049}}\n"
     ]
    }
   ],
   "source": [
    "# Check Stationarity\n",
    "h4_cov_stat_res = {}\n",
    "\n",
    "for name, i in zip(h4_names, h4_losses):\n",
    "    computed = DFGLS(i)\n",
    "    summary = {\n",
    "        \"stat\": computed.stat,\n",
    "        \"p_val\": computed.pvalue,\n",
    "        \"num_lags\": computed.lags,\n",
    "        \"is_stationary\": computed.pvalue < 0.05,\n",
    "    }\n",
    "    h4_cov_stat_res[name] = summary\n",
    "\n",
    "pprint(h4_cov_stat_res)"
   ]
  },
  {
   "cell_type": "markdown",
   "metadata": {},
   "source": [
    "#### 3. h12 models"
   ]
  },
  {
   "cell_type": "code",
   "execution_count": 23,
   "metadata": {},
   "outputs": [],
   "source": [
    "# Compute H12 Losses\n",
    "\n",
    "bench12_loss = mse_custom(btc_usd12_ts, mean12_forecast)\n",
    "rfA12_loss = mse_custom(btc_usd12_ts, rfA12_forecast)\n",
    "rfB12_loss = mse_custom(btc_usd12_ts, rfB12_forecast)\n",
    "rfC12_loss = mse_custom(btc_usd12_ts, rfC12_forecast)\n",
    "rfD12_loss = mse_custom(btc_usd12_ts, rfD12_forecast)\n",
    "rfE12_loss = mse_custom(btc_usd12_ts, rfE12_forecast)\n",
    "rfF12_loss = mse_custom(btc_usd12_ts, rfF12_forecast)\n",
    "\n",
    "h12_names = [\"benchmark\", \"RF-A\", \"RF-B\", \"RF-C\", \"RF-D\", \"RF-E\", \"RF-F\"]\n",
    "h12_losses = [\n",
    "    rfA12_loss,\n",
    "    rfB12_loss,\n",
    "    rfC12_loss,\n",
    "    rfD12_loss,\n",
    "    rfE12_loss,\n",
    "    rfF12_loss,\n",
    "    bench12_loss,\n",
    "]"
   ]
  },
  {
   "cell_type": "code",
   "execution_count": 24,
   "metadata": {},
   "outputs": [
    {
     "name": "stdout",
     "output_type": "stream",
     "text": [
      "{'RF-A': {'is_stationary': True,\n",
      "          'num_lags': 0,\n",
      "          'p_val': 4.87174246392154e-13,\n",
      "          'stat': -8.083286035911724},\n",
      " 'RF-B': {'is_stationary': True,\n",
      "          'num_lags': 0,\n",
      "          'p_val': 9.33248022506735e-13,\n",
      "          'stat': -7.9513470667898165},\n",
      " 'RF-C': {'is_stationary': True,\n",
      "          'num_lags': 0,\n",
      "          'p_val': 9.058506357552613e-13,\n",
      "          'stat': -7.957390430772302},\n",
      " 'RF-D': {'is_stationary': True,\n",
      "          'num_lags': 1,\n",
      "          'p_val': 1.5694477933406433e-08,\n",
      "          'stat': -5.958055470837175},\n",
      " 'RF-E': {'is_stationary': True,\n",
      "          'num_lags': 0,\n",
      "          'p_val': 9.641843795249509e-11,\n",
      "          'stat': -7.011122546974434},\n",
      " 'RF-F': {'is_stationary': True,\n",
      "          'num_lags': 0,\n",
      "          'p_val': 0.010407773083322787,\n",
      "          'stat': -2.56698739979719},\n",
      " 'benchmark': {'is_stationary': True,\n",
      "               'num_lags': 0,\n",
      "               'p_val': 1.6373088473036544e-13,\n",
      "               'stat': -8.305183716013877}}\n"
     ]
    }
   ],
   "source": [
    "# Check Stationarity\n",
    "h12_cov_stat_res = {}\n",
    "\n",
    "for name, i in zip(h12_names, h12_losses):\n",
    "    computed = DFGLS(i)\n",
    "    summary = {\n",
    "        \"stat\": computed.stat,\n",
    "        \"p_val\": computed.pvalue,\n",
    "        \"num_lags\": computed.lags,\n",
    "        \"is_stationary\": computed.pvalue < 0.05,\n",
    "    }\n",
    "    h12_cov_stat_res[name] = summary\n",
    "\n",
    "pprint(h12_cov_stat_res)"
   ]
  },
  {
   "cell_type": "markdown",
   "metadata": {},
   "source": [
    "### Diebold Mariano Test for Equivalent Forecasts\n",
    "\n",
    "#### 1. H1 models"
   ]
  },
  {
   "cell_type": "code",
   "execution_count": null,
   "metadata": {},
   "outputs": [],
   "source": [
    "# Concat Timeseries data to ensure that they match in terms of time frame"
   ]
  },
  {
   "cell_type": "markdown",
   "metadata": {},
   "source": [
    "#### 2. H4 models"
   ]
  },
  {
   "cell_type": "code",
   "execution_count": null,
   "metadata": {},
   "outputs": [],
   "source": []
  },
  {
   "cell_type": "markdown",
   "metadata": {},
   "source": [
    "#### 3. H12 models"
   ]
  },
  {
   "cell_type": "code",
   "execution_count": null,
   "metadata": {},
   "outputs": [],
   "source": []
  }
 ],
 "metadata": {
  "interpreter": {
   "hash": "26fa31afa754fb971b44a94a9612d34d26997a00d823853c42f1b189c287d4b1"
  },
  "kernelspec": {
   "display_name": "Python 3.8.12 ('crypto-uncertainty-index-SX872G0E-py3.8': poetry)",
   "language": "python",
   "name": "python3"
  },
  "language_info": {
   "name": "python",
   "version": "3.8.13"
  },
  "orig_nbformat": 4
 },
 "nbformat": 4,
 "nbformat_minor": 2
}
