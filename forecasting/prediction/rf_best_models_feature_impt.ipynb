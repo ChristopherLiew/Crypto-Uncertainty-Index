{
 "cells": [
  {
   "cell_type": "code",
   "execution_count": 1,
   "metadata": {},
   "outputs": [
    {
     "name": "stderr",
     "output_type": "stream",
     "text": [
      "/Users/christopherliew/Desktop/Y4S1/HT/crypto_uncertainty_index/.venv/crypto-uncertainty-index-SX872G0E-py3.8/lib/python3.8/site-packages/darts/timeseries.py:39: FutureWarning: pandas.Int64Index is deprecated and will be removed from pandas in a future version. Use pandas.Index with the appropriate dtype instead.\n",
      "  VALID_INDEX_TYPES = (pd.DatetimeIndex, pd.RangeIndex, pd.Int64Index)\n",
      "/Users/christopherliew/Desktop/Y4S1/HT/crypto_uncertainty_index/.venv/crypto-uncertainty-index-SX872G0E-py3.8/lib/python3.8/site-packages/darts/timeseries.py:512: FutureWarning: pandas.Int64Index is deprecated and will be removed from pandas in a future version. Use pandas.Index with the appropriate dtype instead.\n",
      "  times: Union[pd.DatetimeIndex, pd.Int64Index],\n",
      "/Users/christopherliew/Desktop/Y4S1/HT/crypto_uncertainty_index/.venv/crypto-uncertainty-index-SX872G0E-py3.8/lib/python3.8/site-packages/darts/timeseries.py:738: FutureWarning: pandas.Int64Index is deprecated and will be removed from pandas in a future version. Use pandas.Index with the appropriate dtype instead.\n",
      "  def time_index(self) -> Union[pd.DatetimeIndex, pd.Int64Index]:\n",
      "/Users/christopherliew/Desktop/Y4S1/HT/crypto_uncertainty_index/.venv/crypto-uncertainty-index-SX872G0E-py3.8/lib/python3.8/site-packages/darts/timeseries.py:2947: FutureWarning: pandas.Int64Index is deprecated and will be removed from pandas in a future version. Use pandas.Index with the appropriate dtype instead.\n",
      "  pd.Int64Index,\n",
      "/Users/christopherliew/Desktop/Y4S1/HT/crypto_uncertainty_index/.venv/crypto-uncertainty-index-SX872G0E-py3.8/lib/python3.8/site-packages/darts/utils/timeseries_generation.py:25: FutureWarning: pandas.Int64Index is deprecated and will be removed from pandas in a future version. Use pandas.Index with the appropriate dtype instead.\n",
      "  ) -> Union[pd.DatetimeIndex, pd.Int64Index]:\n",
      "Importing plotly failed. Interactive plots will not work.\n",
      "/Users/christopherliew/Desktop/Y4S1/HT/crypto_uncertainty_index/.venv/crypto-uncertainty-index-SX872G0E-py3.8/lib/python3.8/site-packages/darts/utils/data/encoder_base.py:19: FutureWarning: pandas.Int64Index is deprecated and will be removed from pandas in a future version. Use pandas.Index with the appropriate dtype instead.\n",
      "  SupportedIndex = Union[pd.DatetimeIndex, pd.Int64Index, pd.RangeIndex]\n"
     ]
    }
   ],
   "source": [
    "# NB config\n",
    "%load_ext autoreload\n",
    "%autoreload 2\n",
    "\n",
    "# Load Libraries\n",
    "import os\n",
    "import ast\n",
    "os.chdir(\"../../\")\n",
    "from typing import Any, List, Dict, Union\n",
    "import pandas as pd\n",
    "import numpy as np\n",
    "from pathlib import Path\n",
    "from darts import TimeSeries\n",
    "from darts.metrics import (\n",
    "    rmse,\n",
    ")\n",
    "from tqdm import tqdm\n",
    "from darts import concatenate\n",
    "from darts.models.forecasting.random_forest import (\n",
    "    RandomForest,\n",
    ")\n",
    "from sklearn.model_selection import ParameterGrid\n",
    "import warnings\n",
    "\n",
    "warnings.filterwarnings(\"ignore\")"
   ]
  },
  {
   "cell_type": "code",
   "execution_count": 11,
   "metadata": {},
   "outputs": [],
   "source": [
    "# Data Dir\n",
    "data_dir = Path(\"forecasting/data/modelling\")\n",
    "\n",
    "# BTC-USD data\n",
    "btc_usd_fp = data_dir / \"btc_usd_weekly.csv\"\n",
    "btc_usd_df = pd.read_csv(btc_usd_fp)\n",
    "\n",
    "# UCRY Indices data\n",
    "ucry_fp = data_dir / \"ucry_indices_weekly.csv\"\n",
    "ucry_df = pd.read_csv(ucry_fp)\n",
    "\n",
    "# Best Model Paths\n",
    "model_res_dir = Path(\"forecasting/data/forecasts/random_forest\")\n",
    "model_res_dicts = model_res_dir.rglob(\"*results.csv\")\n",
    "model_res_df = pd.concat([pd.read_csv(f) for f in model_res_dicts])\n",
    "model_res_df[\"model\"] = model_res_df[\"model\"].map({\n",
    "    \"A\": \"baseline\",\n",
    "    \"B\": \"A\",\n",
    "    \"F\": \"B\",\n",
    "    \"C\": \"C\",\n",
    "    \"D\": \"D\",\n",
    "    \"G\": \"E\",\n",
    "    \"E\": \"Goodbye\",\n",
    "})\n",
    "model_res_df.drop(columns=[\"Unnamed: 0\"], inplace=True)"
   ]
  },
  {
   "cell_type": "code",
   "execution_count": 4,
   "metadata": {},
   "outputs": [],
   "source": [
    "# h = 1 (Weekly Price Returns)\n",
    "btc_usd_df[\"Price Returns (h=1)\"] = np.log1p(btc_usd_df[[\"Price\"]].pct_change(1))\n",
    "\n",
    "# h = 4 (4 Week Price Returns)\n",
    "btc_usd_df[\"Price Returns (h=4)\"] = np.log1p(btc_usd_df[[\"Price\"]].pct_change(4))\n",
    "\n",
    "# h = 12 (12 Week Price Returns)\n",
    "btc_usd_df[\"Price Returns (h=12)\"] = np.log1p(btc_usd_df[[\"Price\"]].pct_change(12))\n",
    "\n",
    "# Create TimeSeries\n",
    "# h = 1 (Weekly Price Returns)\n",
    "btc_usd1_ts = TimeSeries.from_dataframe(\n",
    "    btc_usd_df[[\"Date\", \"Price Returns (h=1)\"]].dropna(), time_col=\"Date\"\n",
    ")\n",
    "\n",
    "# h = 4 (4 Week Price Returns)\n",
    "btc_usd4_ts = TimeSeries.from_dataframe(\n",
    "    btc_usd_df[[\"Date\", \"Price Returns (h=4)\"]].dropna(), time_col=\"Date\"\n",
    ")\n",
    "\n",
    "# h = 12 (12 Week Price Returns)\n",
    "btc_usd12_ts = TimeSeries.from_dataframe(\n",
    "    btc_usd_df[[\"Date\", \"Price Returns (h=12)\"]].dropna(), time_col=\"Date\"\n",
    ")"
   ]
  },
  {
   "cell_type": "code",
   "execution_count": 5,
   "metadata": {},
   "outputs": [],
   "source": [
    "def gen_log_price_returns(\n",
    "    series: pd.DataFrame, h: int, date_col: str = \"Date\", var_col: str = \"Price\"\n",
    ") -> TimeSeries:\n",
    "    new_col_name = f\"Price Returns (h={h})\"\n",
    "    series[new_col_name] = np.log1p(series[[var_col]].pct_change(h))\n",
    "    new_ts = TimeSeries.from_dataframe(\n",
    "        series[[date_col, new_col_name]].dropna(), time_col=date_col\n",
    "    )\n",
    "    return new_ts"
   ]
  },
  {
   "cell_type": "code",
   "execution_count": 6,
   "metadata": {},
   "outputs": [],
   "source": [
    "# Price\n",
    "price_ts = TimeSeries.from_dataframe(btc_usd_df[[\"Date\", \"Price\"]], time_col=\"Date\")\n",
    "\n",
    "# Volume\n",
    "vol_ts = TimeSeries.from_dataframe(btc_usd_df[[\"Date\", \"Volume\"]], time_col=\"Date\")"
   ]
  },
  {
   "cell_type": "code",
   "execution_count": 54,
   "metadata": {},
   "outputs": [],
   "source": [
    "# Create TimeSeries\n",
    "sel_cols = [\"Date\", \"Index Value\"]\n",
    "time_col = \"Date\"\n",
    "\n",
    "# Lucey Price\n",
    "lucey_price = TimeSeries.from_dataframe(\n",
    "    ucry_df[ucry_df.Index == \"Lucey-Original-Price\"].reset_index()[sel_cols],\n",
    "    time_col=time_col,\n",
    ")\n",
    "\n",
    "# Lucey Reddit Price\n",
    "lucey_reddit_price = TimeSeries.from_dataframe(\n",
    "    ucry_df[ucry_df.Index == \"Lucey-Reddit-Price\"].reset_index()[sel_cols],\n",
    "    time_col=time_col,\n",
    ")\n",
    "\n",
    "# LDA Price\n",
    "lda_price = TimeSeries.from_dataframe(\n",
    "    ucry_df[ucry_df.Index == \"LDA-Reddit-Price\"].reset_index()[sel_cols],\n",
    "    time_col=time_col,\n",
    ")\n",
    "\n",
    "# Top2Vec Price\n",
    "t2v_price = TimeSeries.from_dataframe(\n",
    "    ucry_df[ucry_df.Index == \"Top2Vec-Reddit-Price\"].reset_index()[sel_cols],\n",
    "    time_col=time_col,\n",
    ")\n",
    "\n",
    "# Hedge\n",
    "hedge = TimeSeries.from_dataframe(\n",
    "    ucry_df[ucry_df.Index == \"BERTweet-Hedge\"].reset_index()[sel_cols], time_col=time_col\n",
    ")\n",
    "\n",
    "# VCRIX\n",
    "vcrix = TimeSeries.from_dataframe(\n",
    "    ucry_df[ucry_df.Index == \"VCRIX\"].reset_index()[sel_cols], time_col=time_col\n",
    ")"
   ]
  },
  {
   "cell_type": "code",
   "execution_count": 8,
   "metadata": {},
   "outputs": [],
   "source": [
    "# Split into Train and Test\n",
    "split_date = pd.Timestamp(\"20190527\")"
   ]
  },
  {
   "cell_type": "code",
   "execution_count": 34,
   "metadata": {},
   "outputs": [],
   "source": [
    "def hist_forecast_RF(\n",
    "    series: TimeSeries,\n",
    "    past_covariates: TimeSeries,\n",
    "    forecast_horizon: int,\n",
    "    best_params: Dict[str, Any],\n",
    "    lags: int,\n",
    "    lags_past_covariates: int,\n",
    "    verbose: bool = False,\n",
    "    split_date: pd.Timestamp = split_date,\n",
    "):\n",
    "\n",
    "    model = RandomForest(\n",
    "        lags=lags, lags_past_covariates=lags_past_covariates, **best_params\n",
    "    )\n",
    "    hist_forecast = model.historical_forecasts(\n",
    "        series=series,\n",
    "        past_covariates=past_covariates,\n",
    "        forecast_horizon=forecast_horizon,\n",
    "        stride=1,\n",
    "        start=split_date,\n",
    "        verbose=verbose,\n",
    "    )\n",
    "    return hist_forecast, model"
   ]
  },
  {
   "cell_type": "code",
   "execution_count": 60,
   "metadata": {},
   "outputs": [],
   "source": [
    "def get_feat_impt(model_name: str, horizon:int, past_cov_list: List[TimeSeries]):\n",
    "    # Baseline h1\n",
    "    import ast\n",
    "    _params = ast.literal_eval(\n",
    "        model_res_df[(model_res_df[\"model\"] == model_name) & (model_res_df[\"horizon\"] == horizon)][\"best_params\"].iloc[0]\n",
    "    )\n",
    "\n",
    "    print(f\"Params: {_params}\")\n",
    "\n",
    "    # Generate Features\n",
    "    target_cov = gen_log_price_returns(btc_usd_df, horizon)\n",
    "    past_cov_list = list(\n",
    "        map(lambda x: x.slice_intersect(target_cov), past_cov_list)\n",
    "    )\n",
    "    past_cov_list_tidy = concatenate(past_cov_list, axis=1)\n",
    "\n",
    "    # Run Historical Forecast\n",
    "    hist_forecast, hist_model = hist_forecast_RF(\n",
    "        target_cov,\n",
    "        past_cov_list_tidy,\n",
    "        horizon,\n",
    "        _params,\n",
    "        1,\n",
    "        1,\n",
    "        True,\n",
    "        split_date,\n",
    "    )\n",
    "\n",
    "    # backtest\n",
    "    rf_model = RandomForest(\n",
    "                lags=1, lags_past_covariates=1, **_params\n",
    "            )\n",
    "    error = rf_model.backtest(\n",
    "        series=target_cov,\n",
    "        past_covariates=past_cov_list_tidy,\n",
    "        forecast_horizon=horizon,\n",
    "        stride=1,\n",
    "        start=split_date,\n",
    "        metric=rmse,\n",
    "        reduction=np.mean,\n",
    "        verbose=True,\n",
    "    )\n",
    "    print(f\"RMSE: {error}\")\n",
    "\n",
    "    # Feature Importances\n",
    "    print(f\"Number of Features: {hist_model.model.n_features_in_}\")\n",
    "    print(f\"Feature Importances: {hist_model.model.feature_importances_}\")"
   ]
  },
  {
   "cell_type": "code",
   "execution_count": 62,
   "metadata": {},
   "outputs": [
    {
     "name": "stdout",
     "output_type": "stream",
     "text": [
      "Params: {'criterion': 'squared_error', 'max_depth': 2, 'max_features': 0.3333333333333333, 'n_estimators': 100, 'n_jobs': -1, 'oob_score': True, 'random_state': 42}\n"
     ]
    },
    {
     "data": {
      "application/vnd.jupyter.widget-view+json": {
       "model_id": "10e8d92e6d9445baa53e80a0eda86e41",
       "version_major": 2,
       "version_minor": 0
      },
      "text/plain": [
       "  0%|          | 0/136 [00:00<?, ?it/s]"
      ]
     },
     "metadata": {},
     "output_type": "display_data"
    },
    {
     "data": {
      "application/vnd.jupyter.widget-view+json": {
       "model_id": "9bbd1dc917504de4ae284029b1512e39",
       "version_major": 2,
       "version_minor": 0
      },
      "text/plain": [
       "  0%|          | 0/136 [00:00<?, ?it/s]"
      ]
     },
     "metadata": {},
     "output_type": "display_data"
    },
    {
     "name": "stdout",
     "output_type": "stream",
     "text": [
      "RMSE: 0.0777166203366237\n",
      "Number of Features: 3\n",
      "Feature Importances: [0.3887802  0.30690305 0.30431675]\n"
     ]
    }
   ],
   "source": [
    "# Baseline\n",
    "get_feat_impt(\"baseline\", 1, [price_ts, vol_ts])"
   ]
  },
  {
   "cell_type": "code",
   "execution_count": 94,
   "metadata": {},
   "outputs": [
    {
     "name": "stdout",
     "output_type": "stream",
     "text": [
      "Params: {'criterion': 'squared_error', 'max_depth': 2, 'max_features': 0.3333333333333333, 'n_estimators': 100, 'n_jobs': -1, 'oob_score': True, 'random_state': 42}\n"
     ]
    },
    {
     "data": {
      "application/vnd.jupyter.widget-view+json": {
       "model_id": "496bc2e17bab4fd8a2db644d50217662",
       "version_major": 2,
       "version_minor": 0
      },
      "text/plain": [
       "  0%|          | 0/135 [00:00<?, ?it/s]"
      ]
     },
     "metadata": {},
     "output_type": "display_data"
    }
   ],
   "source": [
    "get_feat_impt(\"baseline\", 2, [price_ts, vol_ts])"
   ]
  },
  {
   "cell_type": "code",
   "execution_count": null,
   "metadata": {},
   "outputs": [],
   "source": [
    "get_feat_impt(\"baseline\", 3, [price_ts, vol_ts])"
   ]
  },
  {
   "cell_type": "code",
   "execution_count": 66,
   "metadata": {},
   "outputs": [
    {
     "name": "stdout",
     "output_type": "stream",
     "text": [
      "Params: {'criterion': 'squared_error', 'max_depth': 2, 'max_features': 'auto', 'n_estimators': 50, 'n_jobs': -1, 'oob_score': True, 'random_state': 42}\n"
     ]
    },
    {
     "data": {
      "application/vnd.jupyter.widget-view+json": {
       "model_id": "244d7948aaae40f9a2bfeeedb148cb39",
       "version_major": 2,
       "version_minor": 0
      },
      "text/plain": [
       "  0%|          | 0/133 [00:00<?, ?it/s]"
      ]
     },
     "metadata": {},
     "output_type": "display_data"
    },
    {
     "data": {
      "application/vnd.jupyter.widget-view+json": {
       "model_id": "36cc29fa8adf45819b7ac5e4fe960532",
       "version_major": 2,
       "version_minor": 0
      },
      "text/plain": [
       "  0%|          | 0/133 [00:00<?, ?it/s]"
      ]
     },
     "metadata": {},
     "output_type": "display_data"
    },
    {
     "name": "stdout",
     "output_type": "stream",
     "text": [
      "RMSE: 0.1788357924547611\n",
      "Number of Features: 3\n",
      "Feature Importances: [1. 0. 0.]\n"
     ]
    }
   ],
   "source": [
    "get_feat_impt(\"baseline\", 4, [price_ts, vol_ts])"
   ]
  },
  {
   "cell_type": "code",
   "execution_count": 67,
   "metadata": {},
   "outputs": [
    {
     "name": "stdout",
     "output_type": "stream",
     "text": [
      "Params: {'criterion': 'squared_error', 'max_depth': 2, 'max_features': 'auto', 'n_estimators': 50, 'n_jobs': -1, 'oob_score': True, 'random_state': 42}\n"
     ]
    },
    {
     "data": {
      "application/vnd.jupyter.widget-view+json": {
       "model_id": "191c80e4091d422a93a98e1bf2b7a52a",
       "version_major": 2,
       "version_minor": 0
      },
      "text/plain": [
       "  0%|          | 0/133 [00:00<?, ?it/s]"
      ]
     },
     "metadata": {},
     "output_type": "display_data"
    },
    {
     "data": {
      "application/vnd.jupyter.widget-view+json": {
       "model_id": "4d257005a7a04fba955f05e7ca113135",
       "version_major": 2,
       "version_minor": 0
      },
      "text/plain": [
       "  0%|          | 0/133 [00:00<?, ?it/s]"
      ]
     },
     "metadata": {},
     "output_type": "display_data"
    },
    {
     "name": "stdout",
     "output_type": "stream",
     "text": [
      "RMSE: 0.1788357924547611\n",
      "Number of Features: 3\n",
      "Feature Importances: [1. 0. 0.]\n"
     ]
    }
   ],
   "source": [
    "get_feat_impt(\"baseline\", 4, [price_ts, vol_ts])"
   ]
  },
  {
   "cell_type": "markdown",
   "metadata": {},
   "source": [
    "### Interesting Models:\n",
    "#### Model A (Lucey Price) for h = 1, 4, 12"
   ]
  },
  {
   "cell_type": "code",
   "execution_count": 63,
   "metadata": {},
   "outputs": [
    {
     "name": "stdout",
     "output_type": "stream",
     "text": [
      "Params: {'criterion': 'squared_error', 'max_depth': 2, 'max_features': 0.3333333333333333, 'n_estimators': 100, 'n_jobs': -1, 'oob_score': True, 'random_state': 42}\n"
     ]
    },
    {
     "data": {
      "application/vnd.jupyter.widget-view+json": {
       "model_id": "0fb6ac139fe047d4971c5990f5d80579",
       "version_major": 2,
       "version_minor": 0
      },
      "text/plain": [
       "  0%|          | 0/136 [00:00<?, ?it/s]"
      ]
     },
     "metadata": {},
     "output_type": "display_data"
    },
    {
     "data": {
      "application/vnd.jupyter.widget-view+json": {
       "model_id": "24fc60d204e94819aee96598e4f39334",
       "version_major": 2,
       "version_minor": 0
      },
      "text/plain": [
       "  0%|          | 0/136 [00:00<?, ?it/s]"
      ]
     },
     "metadata": {},
     "output_type": "display_data"
    },
    {
     "name": "stdout",
     "output_type": "stream",
     "text": [
      "RMSE: 0.07779467099198285\n",
      "Number of Features: 4\n",
      "Feature Importances: [0.23914738 0.27608274 0.27819808 0.20657181]\n"
     ]
    }
   ],
   "source": [
    "get_feat_impt(\"A\", 1, [price_ts, vol_ts, lucey_price])"
   ]
  },
  {
   "cell_type": "code",
   "execution_count": 86,
   "metadata": {},
   "outputs": [
    {
     "name": "stdout",
     "output_type": "stream",
     "text": [
      "Params: {'criterion': 'squared_error', 'max_depth': 2, 'max_features': 0.3333333333333333, 'n_estimators': 50, 'n_jobs': -1, 'oob_score': True, 'random_state': 42}\n"
     ]
    },
    {
     "data": {
      "application/vnd.jupyter.widget-view+json": {
       "model_id": "17ecbf12b54a47dc9ffb31e26fb7f109",
       "version_major": 2,
       "version_minor": 0
      },
      "text/plain": [
       "  0%|          | 0/135 [00:00<?, ?it/s]"
      ]
     },
     "metadata": {},
     "output_type": "display_data"
    },
    {
     "data": {
      "application/vnd.jupyter.widget-view+json": {
       "model_id": "469e3ba7c08c4f009bc5d7d66b9c0723",
       "version_major": 2,
       "version_minor": 0
      },
      "text/plain": [
       "  0%|          | 0/135 [00:00<?, ?it/s]"
      ]
     },
     "metadata": {},
     "output_type": "display_data"
    },
    {
     "name": "stdout",
     "output_type": "stream",
     "text": [
      "RMSE: 0.12455057928328443\n",
      "Number of Features: 4\n",
      "Feature Importances: [0.4063012  0.1527314  0.26330312 0.17766428]\n"
     ]
    }
   ],
   "source": [
    "get_feat_impt(\"A\", 2, [price_ts, vol_ts, lucey_price])"
   ]
  },
  {
   "cell_type": "code",
   "execution_count": 87,
   "metadata": {},
   "outputs": [
    {
     "name": "stdout",
     "output_type": "stream",
     "text": [
      "Params: {'criterion': 'squared_error', 'max_depth': 2, 'max_features': 'auto', 'n_estimators': 300, 'n_jobs': -1, 'oob_score': True, 'random_state': 42}\n"
     ]
    },
    {
     "data": {
      "application/vnd.jupyter.widget-view+json": {
       "model_id": "d422d97269ee43a6adad89c2ef1e45f1",
       "version_major": 2,
       "version_minor": 0
      },
      "text/plain": [
       "  0%|          | 0/134 [00:00<?, ?it/s]"
      ]
     },
     "metadata": {},
     "output_type": "display_data"
    },
    {
     "data": {
      "application/vnd.jupyter.widget-view+json": {
       "model_id": "6a075844db994365b9c82297322e50a6",
       "version_major": 2,
       "version_minor": 0
      },
      "text/plain": [
       "  0%|          | 0/134 [00:00<?, ?it/s]"
      ]
     },
     "metadata": {},
     "output_type": "display_data"
    },
    {
     "name": "stdout",
     "output_type": "stream",
     "text": [
      "RMSE: 0.15732407642776403\n",
      "Number of Features: 4\n",
      "Feature Importances: [0.98977688 0.         0.00526075 0.00496238]\n"
     ]
    }
   ],
   "source": [
    "get_feat_impt(\"A\", 3, [price_ts, vol_ts, lucey_price])"
   ]
  },
  {
   "cell_type": "code",
   "execution_count": 68,
   "metadata": {},
   "outputs": [
    {
     "name": "stdout",
     "output_type": "stream",
     "text": [
      "Params: {'criterion': 'squared_error', 'max_depth': 2, 'max_features': 'auto', 'n_estimators': 300, 'n_jobs': -1, 'oob_score': True, 'random_state': 42}\n"
     ]
    },
    {
     "data": {
      "application/vnd.jupyter.widget-view+json": {
       "model_id": "c3652e646a1448bb829990f929a386ef",
       "version_major": 2,
       "version_minor": 0
      },
      "text/plain": [
       "  0%|          | 0/133 [00:00<?, ?it/s]"
      ]
     },
     "metadata": {},
     "output_type": "display_data"
    },
    {
     "data": {
      "application/vnd.jupyter.widget-view+json": {
       "model_id": "f154e3761a6749f48bd95f7903ea6631",
       "version_major": 2,
       "version_minor": 0
      },
      "text/plain": [
       "  0%|          | 0/133 [00:00<?, ?it/s]"
      ]
     },
     "metadata": {},
     "output_type": "display_data"
    },
    {
     "name": "stdout",
     "output_type": "stream",
     "text": [
      "RMSE: 0.17750674161824984\n",
      "Number of Features: 4\n",
      "Feature Importances: [9.99739051e-01 0.00000000e+00 0.00000000e+00 2.60948913e-04]\n"
     ]
    }
   ],
   "source": [
    "get_feat_impt(\"A\", 4, [price_ts, vol_ts, lucey_price])"
   ]
  },
  {
   "cell_type": "code",
   "execution_count": 69,
   "metadata": {},
   "outputs": [
    {
     "name": "stdout",
     "output_type": "stream",
     "text": [
      "Params: {'criterion': 'squared_error', 'max_depth': 2, 'max_features': 'auto', 'n_estimators': 300, 'n_jobs': -1, 'oob_score': True, 'random_state': 42}\n"
     ]
    },
    {
     "data": {
      "application/vnd.jupyter.widget-view+json": {
       "model_id": "b0f7d97ea90643a29d1bfcccf0426bcb",
       "version_major": 2,
       "version_minor": 0
      },
      "text/plain": [
       "  0%|          | 0/125 [00:00<?, ?it/s]"
      ]
     },
     "metadata": {},
     "output_type": "display_data"
    },
    {
     "data": {
      "application/vnd.jupyter.widget-view+json": {
       "model_id": "b0ee4236027a4db2b2614ce5a504c42a",
       "version_major": 2,
       "version_minor": 0
      },
      "text/plain": [
       "  0%|          | 0/125 [00:00<?, ?it/s]"
      ]
     },
     "metadata": {},
     "output_type": "display_data"
    },
    {
     "name": "stdout",
     "output_type": "stream",
     "text": [
      "RMSE: 0.35923502268501584\n",
      "Number of Features: 4\n",
      "Feature Importances: [1. 0. 0. 0.]\n"
     ]
    }
   ],
   "source": [
    "get_feat_impt(\"A\", 12, [price_ts, vol_ts, lucey_price])"
   ]
  },
  {
   "cell_type": "markdown",
   "metadata": {},
   "source": [
    "### Interesting Models:\n",
    "#### Model B (VCRIX) for h = 1, 4, 12\n",
    "Concatenation is different (FIX if necessary)"
   ]
  },
  {
   "cell_type": "code",
   "execution_count": 72,
   "metadata": {},
   "outputs": [],
   "source": [
    "# get_feat_impt(\"B\", 1, [vcrix,price_ts, vol_ts, ])"
   ]
  },
  {
   "cell_type": "code",
   "execution_count": 73,
   "metadata": {},
   "outputs": [],
   "source": [
    "# get_feat_impt(\"B\", 4, [price_ts, vol_ts, vcrix])"
   ]
  },
  {
   "cell_type": "code",
   "execution_count": 74,
   "metadata": {},
   "outputs": [],
   "source": [
    "# get_feat_impt(\"B\", 12, [price_ts, vol_ts, vcrix])"
   ]
  },
  {
   "cell_type": "markdown",
   "metadata": {},
   "source": [
    "### Interesting Models:\n",
    "#### Model C (Reddit Lucey Price) for h = 1, 4, 12"
   ]
  },
  {
   "cell_type": "code",
   "execution_count": 77,
   "metadata": {},
   "outputs": [
    {
     "name": "stdout",
     "output_type": "stream",
     "text": [
      "Params: {'criterion': 'squared_error', 'max_depth': 5, 'max_features': 0.3333333333333333, 'n_estimators': 100, 'n_jobs': -1, 'oob_score': True, 'random_state': 42}\n"
     ]
    },
    {
     "data": {
      "application/vnd.jupyter.widget-view+json": {
       "model_id": "a8db8d10bb424bf5bd4b25a681f5b635",
       "version_major": 2,
       "version_minor": 0
      },
      "text/plain": [
       "  0%|          | 0/136 [00:00<?, ?it/s]"
      ]
     },
     "metadata": {},
     "output_type": "display_data"
    },
    {
     "data": {
      "application/vnd.jupyter.widget-view+json": {
       "model_id": "ad825fe2a9b14be38994f8b8fb946c20",
       "version_major": 2,
       "version_minor": 0
      },
      "text/plain": [
       "  0%|          | 0/136 [00:00<?, ?it/s]"
      ]
     },
     "metadata": {},
     "output_type": "display_data"
    },
    {
     "name": "stdout",
     "output_type": "stream",
     "text": [
      "RMSE: 0.07850194870249745\n",
      "Number of Features: 4\n",
      "Feature Importances: [0.25179375 0.22702638 0.26879421 0.25238565]\n"
     ]
    }
   ],
   "source": [
    "get_feat_impt(\"C\", 1, [price_ts, vol_ts, lucey_reddit_price])"
   ]
  },
  {
   "cell_type": "code",
   "execution_count": 88,
   "metadata": {},
   "outputs": [
    {
     "name": "stdout",
     "output_type": "stream",
     "text": [
      "Params: {'criterion': 'squared_error', 'max_depth': 2, 'max_features': 0.3333333333333333, 'n_estimators': 50, 'n_jobs': -1, 'oob_score': True, 'random_state': 42}\n"
     ]
    },
    {
     "data": {
      "application/vnd.jupyter.widget-view+json": {
       "model_id": "628e398e76314644bbb011bfc7d54ca4",
       "version_major": 2,
       "version_minor": 0
      },
      "text/plain": [
       "  0%|          | 0/135 [00:00<?, ?it/s]"
      ]
     },
     "metadata": {},
     "output_type": "display_data"
    },
    {
     "data": {
      "application/vnd.jupyter.widget-view+json": {
       "model_id": "74928f01dc9243e49e22fcd1329acc41",
       "version_major": 2,
       "version_minor": 0
      },
      "text/plain": [
       "  0%|          | 0/135 [00:00<?, ?it/s]"
      ]
     },
     "metadata": {},
     "output_type": "display_data"
    },
    {
     "name": "stdout",
     "output_type": "stream",
     "text": [
      "RMSE: 0.1228124671523976\n",
      "Number of Features: 4\n",
      "Feature Importances: [0.41163471 0.14707532 0.26340312 0.17788685]\n"
     ]
    }
   ],
   "source": [
    "get_feat_impt(\"C\", 2, [price_ts, vol_ts, lucey_reddit_price])"
   ]
  },
  {
   "cell_type": "code",
   "execution_count": 89,
   "metadata": {},
   "outputs": [
    {
     "name": "stdout",
     "output_type": "stream",
     "text": [
      "Params: {'criterion': 'squared_error', 'max_depth': 2, 'max_features': 'auto', 'n_estimators': 300, 'n_jobs': -1, 'oob_score': True, 'random_state': 42}\n"
     ]
    },
    {
     "data": {
      "application/vnd.jupyter.widget-view+json": {
       "model_id": "e8c976e988b9461f8bc6ca876eb8aa8b",
       "version_major": 2,
       "version_minor": 0
      },
      "text/plain": [
       "  0%|          | 0/134 [00:00<?, ?it/s]"
      ]
     },
     "metadata": {},
     "output_type": "display_data"
    },
    {
     "data": {
      "application/vnd.jupyter.widget-view+json": {
       "model_id": "b1d9f631763d4e6f86997a83c42b5fb0",
       "version_major": 2,
       "version_minor": 0
      },
      "text/plain": [
       "  0%|          | 0/134 [00:00<?, ?it/s]"
      ]
     },
     "metadata": {},
     "output_type": "display_data"
    },
    {
     "name": "stdout",
     "output_type": "stream",
     "text": [
      "RMSE: 0.15684366253348267\n",
      "Number of Features: 4\n",
      "Feature Importances: [0.98155624 0.         0.00533332 0.01311044]\n"
     ]
    }
   ],
   "source": [
    "get_feat_impt(\"C\", 3, [price_ts, vol_ts, lucey_reddit_price])"
   ]
  },
  {
   "cell_type": "code",
   "execution_count": 78,
   "metadata": {},
   "outputs": [
    {
     "name": "stdout",
     "output_type": "stream",
     "text": [
      "Params: {'criterion': 'squared_error', 'max_depth': 2, 'max_features': 'auto', 'n_estimators': 300, 'n_jobs': -1, 'oob_score': True, 'random_state': 42}\n"
     ]
    },
    {
     "data": {
      "application/vnd.jupyter.widget-view+json": {
       "model_id": "ed46ddc771fd4677af16050afc887310",
       "version_major": 2,
       "version_minor": 0
      },
      "text/plain": [
       "  0%|          | 0/133 [00:00<?, ?it/s]"
      ]
     },
     "metadata": {},
     "output_type": "display_data"
    },
    {
     "data": {
      "application/vnd.jupyter.widget-view+json": {
       "model_id": "04870284fd814f8aaa5ebd378d552d89",
       "version_major": 2,
       "version_minor": 0
      },
      "text/plain": [
       "  0%|          | 0/133 [00:00<?, ?it/s]"
      ]
     },
     "metadata": {},
     "output_type": "display_data"
    },
    {
     "name": "stdout",
     "output_type": "stream",
     "text": [
      "RMSE: 0.17470873853751404\n",
      "Number of Features: 4\n",
      "Feature Importances: [0.99122737 0.         0.         0.00877263]\n"
     ]
    }
   ],
   "source": [
    "get_feat_impt(\"C\", 4, [price_ts, vol_ts, lucey_reddit_price])"
   ]
  },
  {
   "cell_type": "code",
   "execution_count": 79,
   "metadata": {},
   "outputs": [
    {
     "name": "stdout",
     "output_type": "stream",
     "text": [
      "Params: {'criterion': 'squared_error', 'max_depth': 2, 'max_features': 'auto', 'n_estimators': 300, 'n_jobs': -1, 'oob_score': True, 'random_state': 42}\n"
     ]
    },
    {
     "data": {
      "application/vnd.jupyter.widget-view+json": {
       "model_id": "4aa90aa3dfc2453b81f750746ac484c3",
       "version_major": 2,
       "version_minor": 0
      },
      "text/plain": [
       "  0%|          | 0/125 [00:00<?, ?it/s]"
      ]
     },
     "metadata": {},
     "output_type": "display_data"
    },
    {
     "data": {
      "application/vnd.jupyter.widget-view+json": {
       "model_id": "452b691eb2ea43f68c4a1c52bf677d22",
       "version_major": 2,
       "version_minor": 0
      },
      "text/plain": [
       "  0%|          | 0/125 [00:00<?, ?it/s]"
      ]
     },
     "metadata": {},
     "output_type": "display_data"
    },
    {
     "name": "stdout",
     "output_type": "stream",
     "text": [
      "RMSE: 0.35997238732261466\n",
      "Number of Features: 4\n",
      "Feature Importances: [1. 0. 0. 0.]\n"
     ]
    }
   ],
   "source": [
    "get_feat_impt(\"C\", 12, [price_ts, vol_ts, lucey_reddit_price])"
   ]
  },
  {
   "cell_type": "markdown",
   "metadata": {},
   "source": [
    "### Interesting Models:\n",
    "#### Model D (Reddit LDA Price) for h = 1, 4, 12"
   ]
  },
  {
   "cell_type": "code",
   "execution_count": 80,
   "metadata": {},
   "outputs": [
    {
     "name": "stdout",
     "output_type": "stream",
     "text": [
      "Params: {'criterion': 'squared_error', 'max_depth': 2, 'max_features': 0.3333333333333333, 'n_estimators': 50, 'n_jobs': -1, 'oob_score': True, 'random_state': 42}\n"
     ]
    },
    {
     "data": {
      "application/vnd.jupyter.widget-view+json": {
       "model_id": "39fd955f2ca64581bea4d65517144af3",
       "version_major": 2,
       "version_minor": 0
      },
      "text/plain": [
       "  0%|          | 0/136 [00:00<?, ?it/s]"
      ]
     },
     "metadata": {},
     "output_type": "display_data"
    },
    {
     "data": {
      "application/vnd.jupyter.widget-view+json": {
       "model_id": "20c834122cf74890a8b7fcdea6893ab2",
       "version_major": 2,
       "version_minor": 0
      },
      "text/plain": [
       "  0%|          | 0/136 [00:00<?, ?it/s]"
      ]
     },
     "metadata": {},
     "output_type": "display_data"
    },
    {
     "name": "stdout",
     "output_type": "stream",
     "text": [
      "RMSE: 0.07632478912524142\n",
      "Number of Features: 4\n",
      "Feature Importances: [0.25771206 0.23298394 0.25865248 0.25065152]\n"
     ]
    }
   ],
   "source": [
    "get_feat_impt(\"D\", 1, [price_ts, vol_ts, lda_price])"
   ]
  },
  {
   "cell_type": "code",
   "execution_count": 90,
   "metadata": {},
   "outputs": [
    {
     "name": "stdout",
     "output_type": "stream",
     "text": [
      "Params: {'criterion': 'squared_error', 'max_depth': 2, 'max_features': 0.3333333333333333, 'n_estimators': 50, 'n_jobs': -1, 'oob_score': True, 'random_state': 42}\n"
     ]
    },
    {
     "data": {
      "application/vnd.jupyter.widget-view+json": {
       "model_id": "939f3d34c8bd4767bfa1388edb782fc0",
       "version_major": 2,
       "version_minor": 0
      },
      "text/plain": [
       "  0%|          | 0/135 [00:00<?, ?it/s]"
      ]
     },
     "metadata": {},
     "output_type": "display_data"
    },
    {
     "data": {
      "application/vnd.jupyter.widget-view+json": {
       "model_id": "d3e681a3cc6f468ab5902bffea85758a",
       "version_major": 2,
       "version_minor": 0
      },
      "text/plain": [
       "  0%|          | 0/135 [00:00<?, ?it/s]"
      ]
     },
     "metadata": {},
     "output_type": "display_data"
    },
    {
     "name": "stdout",
     "output_type": "stream",
     "text": [
      "RMSE: 0.12364009260363573\n",
      "Number of Features: 4\n",
      "Feature Importances: [0.41378543 0.14110466 0.25711264 0.18799727]\n"
     ]
    }
   ],
   "source": [
    "get_feat_impt(\"D\", 2, [price_ts, vol_ts, lda_price])"
   ]
  },
  {
   "cell_type": "code",
   "execution_count": 91,
   "metadata": {},
   "outputs": [
    {
     "name": "stdout",
     "output_type": "stream",
     "text": [
      "Params: {'criterion': 'squared_error', 'max_depth': 2, 'max_features': 'auto', 'n_estimators': 300, 'n_jobs': -1, 'oob_score': True, 'random_state': 42}\n"
     ]
    },
    {
     "data": {
      "application/vnd.jupyter.widget-view+json": {
       "model_id": "74fb1da5d6af42d0a2c6d7c4b8844d3d",
       "version_major": 2,
       "version_minor": 0
      },
      "text/plain": [
       "  0%|          | 0/134 [00:00<?, ?it/s]"
      ]
     },
     "metadata": {},
     "output_type": "display_data"
    },
    {
     "data": {
      "application/vnd.jupyter.widget-view+json": {
       "model_id": "a875c3432ba547c5b05300e290cc1789",
       "version_major": 2,
       "version_minor": 0
      },
      "text/plain": [
       "  0%|          | 0/134 [00:00<?, ?it/s]"
      ]
     },
     "metadata": {},
     "output_type": "display_data"
    },
    {
     "name": "stdout",
     "output_type": "stream",
     "text": [
      "RMSE: 0.15612787805091816\n",
      "Number of Features: 4\n",
      "Feature Importances: [0.9716971  0.         0.00330616 0.02499674]\n"
     ]
    }
   ],
   "source": [
    "get_feat_impt(\"D\", 3, [price_ts, vol_ts, lda_price])"
   ]
  },
  {
   "cell_type": "code",
   "execution_count": 81,
   "metadata": {},
   "outputs": [
    {
     "name": "stdout",
     "output_type": "stream",
     "text": [
      "Params: {'criterion': 'squared_error', 'max_depth': 2, 'max_features': 'auto', 'n_estimators': 300, 'n_jobs': -1, 'oob_score': True, 'random_state': 42}\n"
     ]
    },
    {
     "data": {
      "application/vnd.jupyter.widget-view+json": {
       "model_id": "128fbec202dd468283ae7de62cdf9cce",
       "version_major": 2,
       "version_minor": 0
      },
      "text/plain": [
       "  0%|          | 0/133 [00:00<?, ?it/s]"
      ]
     },
     "metadata": {},
     "output_type": "display_data"
    },
    {
     "data": {
      "application/vnd.jupyter.widget-view+json": {
       "model_id": "5fe00284d6d24d6781723f1001c02a4c",
       "version_major": 2,
       "version_minor": 0
      },
      "text/plain": [
       "  0%|          | 0/133 [00:00<?, ?it/s]"
      ]
     },
     "metadata": {},
     "output_type": "display_data"
    },
    {
     "name": "stdout",
     "output_type": "stream",
     "text": [
      "RMSE: 0.1769109175629804\n",
      "Number of Features: 4\n",
      "Feature Importances: [0.98659012 0.         0.         0.01340988]\n"
     ]
    }
   ],
   "source": [
    "get_feat_impt(\"D\", 4, [price_ts, vol_ts, lda_price])"
   ]
  },
  {
   "cell_type": "code",
   "execution_count": 82,
   "metadata": {},
   "outputs": [
    {
     "name": "stdout",
     "output_type": "stream",
     "text": [
      "Params: {'criterion': 'squared_error', 'max_depth': 2, 'max_features': 'auto', 'n_estimators': 300, 'n_jobs': -1, 'oob_score': True, 'random_state': 42}\n"
     ]
    },
    {
     "data": {
      "application/vnd.jupyter.widget-view+json": {
       "model_id": "828edb2ec9e34230ae4e548345002fb6",
       "version_major": 2,
       "version_minor": 0
      },
      "text/plain": [
       "  0%|          | 0/125 [00:00<?, ?it/s]"
      ]
     },
     "metadata": {},
     "output_type": "display_data"
    },
    {
     "data": {
      "application/vnd.jupyter.widget-view+json": {
       "model_id": "a9504b468278460e9b652f80eb9e38ff",
       "version_major": 2,
       "version_minor": 0
      },
      "text/plain": [
       "  0%|          | 0/125 [00:00<?, ?it/s]"
      ]
     },
     "metadata": {},
     "output_type": "display_data"
    },
    {
     "name": "stdout",
     "output_type": "stream",
     "text": [
      "RMSE: 0.35985160802393995\n",
      "Number of Features: 4\n",
      "Feature Importances: [1. 0. 0. 0.]\n"
     ]
    }
   ],
   "source": [
    "get_feat_impt(\"D\", 12, [price_ts, vol_ts, lda_price])"
   ]
  },
  {
   "cell_type": "markdown",
   "metadata": {},
   "source": [
    "### Interesting Models:\n",
    "#### Model E (Hedge) for h = 1, 4, 12"
   ]
  },
  {
   "cell_type": "code",
   "execution_count": 83,
   "metadata": {},
   "outputs": [
    {
     "name": "stdout",
     "output_type": "stream",
     "text": [
      "Params: {'criterion': 'squared_error', 'max_depth': 2, 'max_features': 0.3333333333333333, 'n_estimators': 100, 'n_jobs': -1, 'oob_score': True, 'random_state': 42}\n"
     ]
    },
    {
     "data": {
      "application/vnd.jupyter.widget-view+json": {
       "model_id": "24f95e8be7fd4139ab406c3dc4ccac25",
       "version_major": 2,
       "version_minor": 0
      },
      "text/plain": [
       "  0%|          | 0/136 [00:00<?, ?it/s]"
      ]
     },
     "metadata": {},
     "output_type": "display_data"
    },
    {
     "data": {
      "application/vnd.jupyter.widget-view+json": {
       "model_id": "e5df871c35694baaa10c5f6527ade4d4",
       "version_major": 2,
       "version_minor": 0
      },
      "text/plain": [
       "  0%|          | 0/136 [00:00<?, ?it/s]"
      ]
     },
     "metadata": {},
     "output_type": "display_data"
    },
    {
     "name": "stdout",
     "output_type": "stream",
     "text": [
      "RMSE: 0.07667054651478186\n",
      "Number of Features: 4\n",
      "Feature Importances: [0.22617194 0.24804106 0.26122378 0.26456322]\n"
     ]
    }
   ],
   "source": [
    "get_feat_impt(\"E\", 1, [price_ts, vol_ts, hedge])"
   ]
  },
  {
   "cell_type": "code",
   "execution_count": 92,
   "metadata": {},
   "outputs": [
    {
     "name": "stdout",
     "output_type": "stream",
     "text": [
      "Params: {'criterion': 'squared_error', 'max_depth': 2, 'max_features': 0.3333333333333333, 'n_estimators': 50, 'n_jobs': -1, 'oob_score': True, 'random_state': 42}\n"
     ]
    },
    {
     "data": {
      "application/vnd.jupyter.widget-view+json": {
       "model_id": "e0db24462aaf47ffb3ddea795455eb7a",
       "version_major": 2,
       "version_minor": 0
      },
      "text/plain": [
       "  0%|          | 0/135 [00:00<?, ?it/s]"
      ]
     },
     "metadata": {},
     "output_type": "display_data"
    },
    {
     "data": {
      "application/vnd.jupyter.widget-view+json": {
       "model_id": "3bcb594a24374d94a5bde840c4b3fcaf",
       "version_major": 2,
       "version_minor": 0
      },
      "text/plain": [
       "  0%|          | 0/135 [00:00<?, ?it/s]"
      ]
     },
     "metadata": {},
     "output_type": "display_data"
    },
    {
     "name": "stdout",
     "output_type": "stream",
     "text": [
      "RMSE: 0.12138960096652898\n",
      "Number of Features: 4\n",
      "Feature Importances: [0.40427614 0.13590459 0.24999874 0.20982053]\n"
     ]
    }
   ],
   "source": [
    "get_feat_impt(\"E\", 2, [price_ts, vol_ts, hedge])"
   ]
  },
  {
   "cell_type": "code",
   "execution_count": 93,
   "metadata": {},
   "outputs": [
    {
     "name": "stdout",
     "output_type": "stream",
     "text": [
      "Params: {'criterion': 'squared_error', 'max_depth': 2, 'max_features': 'auto', 'n_estimators': 300, 'n_jobs': -1, 'oob_score': True, 'random_state': 42}\n"
     ]
    },
    {
     "data": {
      "application/vnd.jupyter.widget-view+json": {
       "model_id": "97374c5ef9da421d85ea99394767e89e",
       "version_major": 2,
       "version_minor": 0
      },
      "text/plain": [
       "  0%|          | 0/134 [00:00<?, ?it/s]"
      ]
     },
     "metadata": {},
     "output_type": "display_data"
    },
    {
     "data": {
      "application/vnd.jupyter.widget-view+json": {
       "model_id": "6a82aa48561643cabde5aae8a801aea5",
       "version_major": 2,
       "version_minor": 0
      },
      "text/plain": [
       "  0%|          | 0/134 [00:00<?, ?it/s]"
      ]
     },
     "metadata": {},
     "output_type": "display_data"
    },
    {
     "name": "stdout",
     "output_type": "stream",
     "text": [
      "RMSE: 0.1575044958558237\n",
      "Number of Features: 4\n",
      "Feature Importances: [0.99188437 0.         0.00396965 0.00414599]\n"
     ]
    }
   ],
   "source": [
    "get_feat_impt(\"E\", 3, [price_ts, vol_ts, hedge])"
   ]
  },
  {
   "cell_type": "code",
   "execution_count": 84,
   "metadata": {},
   "outputs": [
    {
     "name": "stdout",
     "output_type": "stream",
     "text": [
      "Params: {'criterion': 'squared_error', 'max_depth': 2, 'max_features': 'auto', 'n_estimators': 300, 'n_jobs': -1, 'oob_score': True, 'random_state': 42}\n"
     ]
    },
    {
     "data": {
      "application/vnd.jupyter.widget-view+json": {
       "model_id": "ad08e1c41b8f49008075e94bc9765c1c",
       "version_major": 2,
       "version_minor": 0
      },
      "text/plain": [
       "  0%|          | 0/133 [00:00<?, ?it/s]"
      ]
     },
     "metadata": {},
     "output_type": "display_data"
    },
    {
     "data": {
      "application/vnd.jupyter.widget-view+json": {
       "model_id": "1e6b8dbf0e5f44f4bce21d8fca8c100f",
       "version_major": 2,
       "version_minor": 0
      },
      "text/plain": [
       "  0%|          | 0/133 [00:00<?, ?it/s]"
      ]
     },
     "metadata": {},
     "output_type": "display_data"
    },
    {
     "name": "stdout",
     "output_type": "stream",
     "text": [
      "RMSE: 0.17591040128711788\n",
      "Number of Features: 4\n",
      "Feature Importances: [0.9989627 0.        0.        0.0010373]\n"
     ]
    }
   ],
   "source": [
    "get_feat_impt(\"E\", 4, [price_ts, vol_ts, hedge])"
   ]
  },
  {
   "cell_type": "code",
   "execution_count": 85,
   "metadata": {},
   "outputs": [
    {
     "name": "stdout",
     "output_type": "stream",
     "text": [
      "Params: {'criterion': 'squared_error', 'max_depth': 2, 'max_features': 'auto', 'n_estimators': 300, 'n_jobs': -1, 'oob_score': True, 'random_state': 42}\n"
     ]
    },
    {
     "data": {
      "application/vnd.jupyter.widget-view+json": {
       "model_id": "0224506b6893499685a2c4cb6f8d0af1",
       "version_major": 2,
       "version_minor": 0
      },
      "text/plain": [
       "  0%|          | 0/125 [00:00<?, ?it/s]"
      ]
     },
     "metadata": {},
     "output_type": "display_data"
    },
    {
     "data": {
      "application/vnd.jupyter.widget-view+json": {
       "model_id": "84818a2751cf481ca2a9da7141d0080a",
       "version_major": 2,
       "version_minor": 0
      },
      "text/plain": [
       "  0%|          | 0/125 [00:00<?, ?it/s]"
      ]
     },
     "metadata": {},
     "output_type": "display_data"
    },
    {
     "name": "stdout",
     "output_type": "stream",
     "text": [
      "RMSE: 0.35988912246314664\n",
      "Number of Features: 4\n",
      "Feature Importances: [1. 0. 0. 0.]\n"
     ]
    }
   ],
   "source": [
    "get_feat_impt(\"E\", 12, [price_ts, vol_ts, hedge])"
   ]
  }
 ],
 "metadata": {
  "interpreter": {
   "hash": "26fa31afa754fb971b44a94a9612d34d26997a00d823853c42f1b189c287d4b1"
  },
  "kernelspec": {
   "display_name": "Python 3.8.12 ('crypto-uncertainty-index-SX872G0E-py3.8': poetry)",
   "language": "python",
   "name": "python3"
  },
  "language_info": {
   "codemirror_mode": {
    "name": "ipython",
    "version": 3
   },
   "file_extension": ".py",
   "mimetype": "text/x-python",
   "name": "python",
   "nbconvert_exporter": "python",
   "pygments_lexer": "ipython3",
   "version": "3.8.13"
  },
  "orig_nbformat": 4
 },
 "nbformat": 4,
 "nbformat_minor": 2
}
