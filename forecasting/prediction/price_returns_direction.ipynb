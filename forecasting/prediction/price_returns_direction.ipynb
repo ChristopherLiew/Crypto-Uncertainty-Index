{
 "cells": [
  {
   "cell_type": "markdown",
   "metadata": {},
   "source": [
    "## BTC-USD Price Returns Direction Prediction\n",
    "1. Approach 1: Based on Forecasted Value by our Existing Model\n",
    "   1. Data Preparation\n",
    "   2. Classification\n",
    "   3. Evaluation\n",
    "      1. Classification Error\n",
    "      2. Better than 0.5 (Coin Flip)?\n",
    "\n",
    "\n",
    "2. [KIV] Approach 2: Train a classifier using Market and Uncertainty Indices data"
   ]
  },
  {
   "cell_type": "code",
   "execution_count": 41,
   "metadata": {},
   "outputs": [
    {
     "name": "stdout",
     "output_type": "stream",
     "text": [
      "The autoreload extension is already loaded. To reload it, use:\n",
      "  %reload_ext autoreload\n",
      "/Users/christopherliew/Desktop/Y4S1\n"
     ]
    }
   ],
   "source": [
    "# NB config\n",
    "%load_ext autoreload\n",
    "%autoreload 2\n",
    "\n",
    "# Load Libraries\n",
    "import os\n",
    "import altair as alt\n",
    "import importlib\n",
    "import warnings\n",
    "\n",
    "os.chdir(\"../../\")\n",
    "print(os.getcwd())\n",
    "import numpy as np\n",
    "import pandas as pd\n",
    "from typing import List, Dict\n",
    "from pathlib import Path\n",
    "from sklearn.metrics import classification_report\n",
    "\n",
    "dm_test = importlib.import_module(\"Diebold-Mariano-Test.dm_test\")\n",
    "\n",
    "warnings.filterwarnings(\"ignore\")"
   ]
  },
  {
   "cell_type": "markdown",
   "metadata": {},
   "source": [
    "### 1. Approach 1\n",
    "\n",
    "#### Data Preparation\n",
    "* Generate Price Returns for h = 1 to 12 (Y-Actual)\n",
    "* Get Forecasts for h = 1 to 12 (Y-Pred)\n",
    "* Create 12 dataframes for each pair of (Y-Actual, Y-Pred)"
   ]
  },
  {
   "cell_type": "code",
   "execution_count": 2,
   "metadata": {},
   "outputs": [],
   "source": [
    "def gen_log_price_returns(\n",
    "    series: pd.DataFrame,\n",
    "    h: int,\n",
    "    var_col: str = \"Price\",\n",
    "    drop_cols: List[str] = [\"Volume\"],\n",
    ") -> pd.DataFrame:\n",
    "    new_col_name = \"price_return\"\n",
    "    series[new_col_name] = np.log1p(series[[var_col]].pct_change(h))\n",
    "    drop_cols.append(var_col)\n",
    "    return series.drop(columns=drop_cols).rename(columns={\"Date\": \"time\"})"
   ]
  },
  {
   "cell_type": "code",
   "execution_count": 21,
   "metadata": {},
   "outputs": [],
   "source": [
    "# Load Data\n",
    "# Data Dir\n",
    "data_dir = Path(\"forecasting/data/modelling\")\n",
    "\n",
    "# BTC-USD data\n",
    "btc_usd_fp = data_dir / \"btc_usd_weekly.csv\"\n",
    "btc_usd_df = pd.read_csv(btc_usd_fp)\n",
    "\n",
    "# Generate Log Price Returns for multi-horizons\n",
    "y_actual_dict = {}\n",
    "\n",
    "for i in range(0, 12):\n",
    "    y_actual_dict[i] = gen_log_price_returns(btc_usd_df, i + 1)"
   ]
  },
  {
   "cell_type": "code",
   "execution_count": 22,
   "metadata": {},
   "outputs": [],
   "source": [
    "# Generate Directions\n",
    "\n",
    "y_actual_clf_dict = {}\n",
    "\n",
    "for i, df in y_actual_dict.items():\n",
    "    df[\"direction\"] = df[\"price_return\"].apply(\n",
    "        lambda x: \"positive\" if x >= 0 else \"negative\"\n",
    "    )\n",
    "    y_actual_clf_dict[i] = df"
   ]
  },
  {
   "cell_type": "code",
   "execution_count": 23,
   "metadata": {},
   "outputs": [],
   "source": [
    "# Get Predictions for h = 1 to 12\n",
    "forecast_dir = Path(\"forecasting/data/forecasts/random_forest\")\n",
    "\n",
    "\n",
    "def get_forecast_fps(dir: Path, keyword: str = \"rf_model\") -> List[Path]:\n",
    "    return list(filter(lambda x: keyword in str(x), list(dir.glob(\"*.csv\"))))\n",
    "\n",
    "\n",
    "# Model A\n",
    "model_A_dir = forecast_dir / \"model_A\"\n",
    "model_A_forecast_dict = {\n",
    "    k: pd.read_csv(fp) for k, fp in enumerate(get_forecast_fps(model_A_dir))\n",
    "}\n",
    "\n",
    "# Model B\n",
    "model_B_dir = forecast_dir / \"model_B\"\n",
    "model_B_forecast_dict = {\n",
    "    k: pd.read_csv(fp) for k, fp in enumerate(get_forecast_fps(model_B_dir))\n",
    "}\n",
    "\n",
    "# Model C\n",
    "model_C_dir = forecast_dir / \"model_C\"\n",
    "model_C_forecast_dict = {\n",
    "    k: pd.read_csv(fp) for k, fp in enumerate(get_forecast_fps(model_C_dir))\n",
    "}\n",
    "\n",
    "# Model D\n",
    "model_D_dir = forecast_dir / \"model_D\"\n",
    "model_D_forecast_dict = {\n",
    "    k: pd.read_csv(fp) for k, fp in enumerate(get_forecast_fps(model_D_dir))\n",
    "}\n",
    "\n",
    "# Model E\n",
    "model_E_dir = forecast_dir / \"model_E\"\n",
    "model_E_forecast_dict = {\n",
    "    k: pd.read_csv(fp) for k, fp in enumerate(get_forecast_fps(model_E_dir))\n",
    "}\n",
    "\n",
    "# Model F\n",
    "model_F_dir = forecast_dir / \"model_F\"\n",
    "model_F_forecast_dict = {\n",
    "    k: pd.read_csv(fp) for k, fp in enumerate(get_forecast_fps(model_F_dir))\n",
    "}"
   ]
  },
  {
   "cell_type": "markdown",
   "metadata": {},
   "source": [
    "### Classification"
   ]
  },
  {
   "cell_type": "code",
   "execution_count": 25,
   "metadata": {},
   "outputs": [],
   "source": [
    "# Process Forecast Dict helper\n",
    "\n",
    "\n",
    "def classify_multi_h(\n",
    "    forecast_dict: Dict[int, pd.DataFrame],\n",
    "    col_name: str = \"price_return\",\n",
    "    threshold: float = 0.0,\n",
    "):\n",
    "    results = {}\n",
    "    for k, df in forecast_dict.items():\n",
    "        df[\"direction\"] = df[col_name].apply(\n",
    "            lambda x: \"positive\" if x >= threshold else \"negative\"\n",
    "        )\n",
    "        results[k] = df\n",
    "    return results"
   ]
  },
  {
   "cell_type": "code",
   "execution_count": 29,
   "metadata": {},
   "outputs": [],
   "source": [
    "# Compute classification results\n",
    "\n",
    "\n",
    "def get_clf_res(truth_dict, pred_dict, clf_col: str = \"direction\"):\n",
    "    assert truth_dict.keys() == pred_dict.keys()\n",
    "    reports = {}\n",
    "    for i in list(truth_dict.keys()):\n",
    "        combined_df = (\n",
    "            pred_dict[i]\n",
    "            .merge(truth_dict[i], on=\"time\", suffixes=(\"_pred\", \"_truth\"))\n",
    "            .dropna()\n",
    "        )\n",
    "        reports[i + 1] = pd.DataFrame(\n",
    "            classification_report(\n",
    "                combined_df[clf_col + \"_pred\"],\n",
    "                combined_df[clf_col + \"_truth\"],\n",
    "                output_dict=True,\n",
    "            )\n",
    "        )\n",
    "    return reports"
   ]
  },
  {
   "cell_type": "code",
   "execution_count": 33,
   "metadata": {},
   "outputs": [
    {
     "name": "stdout",
     "output_type": "stream",
     "text": [
      "            negative   positive  accuracy   macro avg  weighted avg\n",
      "precision   0.280702   0.661972  0.492188    0.471337      0.542825\n",
      "recall      0.400000   0.534091  0.492188    0.467045      0.492188\n",
      "f1-score    0.329897   0.591195  0.492188    0.460546      0.509539\n",
      "support    40.000000  88.000000  0.492188  128.000000    128.000000\n",
      "            negative   positive  accuracy   macro avg  weighted avg\n",
      "precision   0.418182   0.666667  0.559055    0.542424      0.574708\n",
      "recall      0.489362   0.600000  0.559055    0.544681      0.559055\n",
      "f1-score    0.450980   0.631579  0.559055    0.541280      0.564743\n",
      "support    47.000000  80.000000  0.559055  127.000000    127.000000\n",
      "            negative   positive  accuracy   macro avg  weighted avg\n",
      "precision   0.681818   0.786517   0.75188    0.734168      0.747944\n",
      "recall      0.612245   0.833333   0.75188    0.722789      0.751880\n",
      "f1-score    0.645161   0.809249   0.75188    0.727205      0.748795\n",
      "support    49.000000  84.000000   0.75188  133.000000    133.000000\n"
     ]
    }
   ],
   "source": [
    "# Model A\n",
    "model_A_clf = classify_multi_h(model_A_forecast_dict)\n",
    "\n",
    "model_A_results = get_clf_res(y_actual_clf_dict, model_A_clf)\n",
    "\n",
    "# Inspect Results for h = 1, 4 and 12\n",
    "print(model_A_results[1])\n",
    "print(model_A_results[4])\n",
    "print(model_A_results[12])"
   ]
  },
  {
   "cell_type": "code",
   "execution_count": 34,
   "metadata": {},
   "outputs": [
    {
     "name": "stdout",
     "output_type": "stream",
     "text": [
      "            negative   positive  accuracy   macro avg  weighted avg\n",
      "precision   0.321429   0.591549  0.472441    0.456489      0.491583\n",
      "recall      0.382979   0.525000  0.472441    0.453989      0.472441\n",
      "f1-score    0.349515   0.556291  0.472441    0.452903      0.479768\n",
      "support    47.000000  80.000000  0.472441  127.000000    127.000000\n",
      "            negative   positive  accuracy   macro avg  weighted avg\n",
      "precision   0.385965   0.794521  0.615385    0.590243      0.678239\n",
      "recall      0.594595   0.623656  0.615385    0.609125      0.615385\n",
      "f1-score    0.468085   0.698795  0.615385    0.583440      0.633132\n",
      "support    37.000000  93.000000  0.615385  130.000000    130.000000\n",
      "            negative   positive  accuracy   macro avg  weighted avg\n",
      "precision   0.863636   0.952381  0.921875    0.908009      0.923262\n",
      "recall      0.904762   0.930233  0.921875    0.917497      0.921875\n",
      "f1-score    0.883721   0.941176  0.921875    0.912449      0.922324\n",
      "support    42.000000  86.000000  0.921875  128.000000    128.000000\n"
     ]
    }
   ],
   "source": [
    "# Model B\n",
    "model_B_clf = classify_multi_h(model_B_forecast_dict)\n",
    "\n",
    "model_B_results = get_clf_res(y_actual_clf_dict, model_B_clf)\n",
    "\n",
    "# Inspect Results for h = 1, 4 and 12\n",
    "print(model_B_results[1])\n",
    "print(model_B_results[4])\n",
    "print(model_B_results[12])"
   ]
  },
  {
   "cell_type": "code",
   "execution_count": 35,
   "metadata": {},
   "outputs": [
    {
     "name": "stdout",
     "output_type": "stream",
     "text": [
      "            negative   positive  accuracy   macro avg  weighted avg\n",
      "precision   0.321429   0.608696      0.48    0.465062      0.505280\n",
      "recall      0.400000   0.525000      0.48    0.462500      0.480000\n",
      "f1-score    0.356436   0.563758      0.48    0.460097      0.489122\n",
      "support    45.000000  80.000000      0.48  125.000000    125.000000\n",
      "            negative   positive  accuracy   macro avg  weighted avg\n",
      "precision   0.388889   0.694444  0.563492    0.541667      0.590168\n",
      "recall      0.488372   0.602410  0.563492    0.545391      0.563492\n",
      "f1-score    0.432990   0.645161  0.563492    0.539075      0.572754\n",
      "support    43.000000  83.000000  0.563492  126.000000    126.000000\n",
      "            negative   positive  accuracy   macro avg  weighted avg\n",
      "precision   0.363636   0.673913  0.573529    0.518775      0.568967\n",
      "recall      0.347826   0.688889  0.573529    0.518357      0.573529\n",
      "f1-score    0.355556   0.681319  0.573529    0.518437      0.571134\n",
      "support    46.000000  90.000000  0.573529  136.000000    136.000000\n"
     ]
    }
   ],
   "source": [
    "# Model C\n",
    "model_C_clf = classify_multi_h(model_C_forecast_dict)\n",
    "\n",
    "model_C_results = get_clf_res(y_actual_clf_dict, model_C_clf)\n",
    "\n",
    "# Inspect Results for h = 1, 4 and 12\n",
    "print(model_C_results[1])\n",
    "print(model_C_results[4])\n",
    "print(model_C_results[12])"
   ]
  },
  {
   "cell_type": "code",
   "execution_count": 40,
   "metadata": {},
   "outputs": [
    {
     "data": {
      "text/plain": [
       "{1:             negative   positive  accuracy   macro avg  weighted avg\n",
       " precision   0.321429   0.608696      0.48    0.465062      0.505280\n",
       " recall      0.400000   0.525000      0.48    0.462500      0.480000\n",
       " f1-score    0.356436   0.563758      0.48    0.460097      0.489122\n",
       " support    45.000000  80.000000      0.48  125.000000    125.000000,\n",
       " 2:             negative   positive  accuracy   macro avg  weighted avg\n",
       " precision   0.283019   0.640000  0.492188    0.461509      0.522866\n",
       " recall      0.357143   0.558140  0.492188    0.457641      0.492188\n",
       " f1-score    0.315789   0.596273  0.492188    0.456031      0.504240\n",
       " support    42.000000  86.000000  0.492188  128.000000    128.000000,\n",
       " 3:             negative   positive  accuracy   macro avg  weighted avg\n",
       " precision   0.377778   0.634146  0.543307    0.505962      0.539270\n",
       " recall      0.361702   0.650000  0.543307    0.505851      0.543307\n",
       " f1-score    0.369565   0.641975  0.543307    0.505770      0.541162\n",
       " support    47.000000  80.000000  0.543307  127.000000    127.000000,\n",
       " 4:             negative   positive  accuracy   macro avg  weighted avg\n",
       " precision   0.388889   0.694444  0.563492    0.541667      0.590168\n",
       " recall      0.488372   0.602410  0.563492    0.545391      0.563492\n",
       " f1-score    0.432990   0.645161  0.563492    0.539075      0.572754\n",
       " support    43.000000  83.000000  0.563492  126.000000    126.000000,\n",
       " 5:             negative   positive  accuracy   macro avg  weighted avg\n",
       " precision   0.517857   0.780822  0.666667    0.649340      0.689090\n",
       " recall      0.644444   0.678571  0.666667    0.661508      0.666667\n",
       " f1-score    0.574257   0.726115  0.666667    0.650186      0.673141\n",
       " support    45.000000  84.000000  0.666667  129.000000    129.000000,\n",
       " 6:             negative   positive  accuracy   macro avg  weighted avg\n",
       " precision   0.792453   0.911392  0.863636    0.851923      0.867241\n",
       " recall      0.857143   0.867470  0.863636    0.862306      0.863636\n",
       " f1-score    0.823529   0.888889  0.863636    0.856209      0.864627\n",
       " support    49.000000  83.000000  0.863636  132.000000    132.000000,\n",
       " 7:             negative   positive  accuracy   macro avg  weighted avg\n",
       " precision   0.811321   0.862500  0.842105    0.836910      0.841720\n",
       " recall      0.796296   0.873418  0.842105    0.834857      0.842105\n",
       " f1-score    0.803738   0.867925  0.842105    0.835831      0.841864\n",
       " support    54.000000  79.000000  0.842105  133.000000    133.000000,\n",
       " 8:             negative   positive  accuracy   macro avg  weighted avg\n",
       " precision   0.588235   0.975000  0.824427    0.781618      0.880523\n",
       " recall      0.937500   0.787879  0.824427    0.862689      0.824427\n",
       " f1-score    0.722892   0.871508  0.824427    0.797200      0.835205\n",
       " support    32.000000  99.000000  0.824427  131.000000    131.000000,\n",
       " 9:             negative   positive  accuracy   macro avg  weighted avg\n",
       " precision   0.739130   0.964286  0.884615    0.851708      0.900203\n",
       " recall      0.918919   0.870968  0.884615    0.894943      0.884615\n",
       " f1-score    0.819277   0.915254  0.884615    0.867266      0.887938\n",
       " support    37.000000  93.000000  0.884615  130.000000    130.000000,\n",
       " 10:             negative   positive  accuracy   macro avg  weighted avg\n",
       " precision   0.600000   0.831461  0.753731    0.715730      0.758913\n",
       " recall      0.642857   0.804348  0.753731    0.723602      0.753731\n",
       " f1-score    0.620690   0.817680  0.753731    0.719185      0.755936\n",
       " support    42.000000  92.000000  0.753731  134.000000    134.000000,\n",
       " 11:             negative   positive  accuracy   macro avg  weighted avg\n",
       " precision   0.545455   0.725275  0.666667    0.635365      0.660007\n",
       " recall      0.489796   0.767442  0.666667    0.628619      0.666667\n",
       " f1-score    0.516129   0.745763  0.666667    0.630946      0.662414\n",
       " support    49.000000  86.000000  0.666667  135.000000    135.000000,\n",
       " 12:             negative   positive  accuracy   macro avg  weighted avg\n",
       " precision   0.363636   0.673913  0.573529    0.518775      0.568967\n",
       " recall      0.347826   0.688889  0.573529    0.518357      0.573529\n",
       " f1-score    0.355556   0.681319  0.573529    0.518437      0.571134\n",
       " support    46.000000  90.000000  0.573529  136.000000    136.000000}"
      ]
     },
     "execution_count": 40,
     "metadata": {},
     "output_type": "execute_result"
    }
   ],
   "source": [
    "model_C_results"
   ]
  },
  {
   "cell_type": "code",
   "execution_count": 36,
   "metadata": {},
   "outputs": [
    {
     "name": "stdout",
     "output_type": "stream",
     "text": [
      "            negative   positive  accuracy   macro avg  weighted avg\n",
      "precision   0.372881   0.630137  0.515152    0.501509      0.534641\n",
      "recall      0.448980   0.554217  0.515152    0.501598      0.515152\n",
      "f1-score    0.407407   0.589744  0.515152    0.498575      0.522058\n",
      "support    49.000000  83.000000  0.515152  132.000000    132.000000\n",
      "            negative   positive  accuracy   macro avg  weighted avg\n",
      "precision   0.385965   0.794521  0.615385    0.590243      0.678239\n",
      "recall      0.594595   0.623656  0.615385    0.609125      0.615385\n",
      "f1-score    0.468085   0.698795  0.615385    0.583440      0.633132\n",
      "support    37.000000  93.000000  0.615385  130.000000    130.000000\n",
      "            negative   positive  accuracy   macro avg  weighted avg\n",
      "precision   0.818182   0.894118  0.868217    0.856150      0.867628\n",
      "recall      0.800000   0.904762  0.868217    0.852381      0.868217\n",
      "f1-score    0.808989   0.899408  0.868217    0.854199      0.867867\n",
      "support    45.000000  84.000000  0.868217  129.000000    129.000000\n"
     ]
    }
   ],
   "source": [
    "# Model D\n",
    "model_D_clf = classify_multi_h(model_D_forecast_dict)\n",
    "\n",
    "model_D_results = get_clf_res(y_actual_clf_dict, model_D_clf)\n",
    "\n",
    "# Inspect Results for h = 1, 4 and 12\n",
    "print(model_D_results[1])\n",
    "print(model_D_results[4])\n",
    "print(model_D_results[12])"
   ]
  },
  {
   "cell_type": "code",
   "execution_count": 37,
   "metadata": {},
   "outputs": [
    {
     "name": "stdout",
     "output_type": "stream",
     "text": [
      "            negative   positive  accuracy   macro avg  weighted avg\n",
      "precision   0.315789   0.625000  0.488372    0.470395      0.517136\n",
      "recall      0.400000   0.535714  0.488372    0.467857      0.488372\n",
      "f1-score    0.352941   0.576923  0.488372    0.464932      0.498790\n",
      "support    45.000000  84.000000  0.488372  129.000000    129.000000\n",
      "            negative   positive  accuracy   macro avg  weighted avg\n",
      "precision   0.370370   0.647887     0.528    0.509129      0.547981\n",
      "recall      0.444444   0.575000     0.528    0.509722      0.528000\n",
      "f1-score    0.404040   0.609272     0.528    0.506656      0.535388\n",
      "support    45.000000  80.000000     0.528  125.000000    125.000000\n",
      "            negative   positive  accuracy   macro avg  weighted avg\n",
      "precision   0.545455   0.788889  0.708955    0.667172      0.710772\n",
      "recall      0.558140   0.780220  0.708955    0.669180      0.708955\n",
      "f1-score    0.551724   0.784530  0.708955    0.668127      0.709824\n",
      "support    43.000000  91.000000  0.708955  134.000000    134.000000\n"
     ]
    }
   ],
   "source": [
    "# Model E\n",
    "model_E_clf = classify_multi_h(model_E_forecast_dict)\n",
    "\n",
    "model_E_results = get_clf_res(y_actual_clf_dict, model_E_clf)\n",
    "\n",
    "# Inspect Results for h = 1, 4 and 12\n",
    "print(model_E_results[1])\n",
    "print(model_E_results[4])\n",
    "print(model_E_results[12])"
   ]
  },
  {
   "cell_type": "code",
   "execution_count": 38,
   "metadata": {},
   "outputs": [
    {
     "name": "stdout",
     "output_type": "stream",
     "text": [
      "            negative    positive  accuracy   macro avg  weighted avg\n",
      "precision   0.216667    0.723684       0.5    0.470175      0.596930\n",
      "recall      0.382353    0.539216       0.5    0.460784      0.500000\n",
      "f1-score    0.276596    0.617978       0.5    0.447287      0.532632\n",
      "support    34.000000  102.000000       0.5  136.000000    136.000000\n",
      "            negative   positive  accuracy   macro avg  weighted avg\n",
      "precision   0.578947   0.810811  0.709924    0.694879      0.727623\n",
      "recall      0.702128   0.714286  0.709924    0.708207      0.709924\n",
      "f1-score    0.634615   0.759494  0.709924    0.697055      0.714690\n",
      "support    47.000000  84.000000  0.709924  131.000000    131.000000\n",
      "            negative   positive  accuracy   macro avg  weighted avg\n",
      "precision   0.909091   0.888889     0.896    0.898990      0.896808\n",
      "recall      0.816327   0.947368     0.896    0.881847      0.896000\n",
      "f1-score    0.860215   0.917197     0.896    0.888706      0.894860\n",
      "support    49.000000  76.000000     0.896  125.000000    125.000000\n"
     ]
    }
   ],
   "source": [
    "# Model F\n",
    "model_F_clf = classify_multi_h(model_F_forecast_dict)\n",
    "\n",
    "model_F_results = get_clf_res(y_actual_clf_dict, model_F_clf)\n",
    "\n",
    "# Inspect Results for h = 1, 4 and 12\n",
    "print(model_F_results[1])\n",
    "print(model_F_results[4])\n",
    "print(model_F_results[12])"
   ]
  },
  {
   "cell_type": "markdown",
   "metadata": {},
   "source": [
    "### Plot Accuracy and F-1"
   ]
  },
  {
   "cell_type": "code",
   "execution_count": 69,
   "metadata": {},
   "outputs": [],
   "source": [
    "accuracy_dict = []\n",
    "\n",
    "for i in range(1, 13):\n",
    "    baseline_acc = model_A_results[i][\"accuracy\"].iloc[0]\n",
    "    model_A_acc = model_B_results[i][\"accuracy\"].iloc[0]\n",
    "    model_B_acc = model_F_results[i][\"accuracy\"].iloc[0]\n",
    "    model_C_acc = model_C_results[i][\"accuracy\"].iloc[0]\n",
    "    model_D_acc = model_D_results[i][\"accuracy\"].iloc[0]\n",
    "    model_E_acc = model_E_results[i][\"accuracy\"].iloc[0]\n",
    "\n",
    "    baseline_f1 = model_A_results[i][\"accuracy\"].iloc[0]\n",
    "    model_A_f1 = model_B_results[i][\"macro avg\"][\"f1-score\"]\n",
    "    model_B_f1 = model_F_results[i][\"macro avg\"][\"f1-score\"]\n",
    "    model_C_f1 = model_C_results[i][\"macro avg\"][\"f1-score\"]\n",
    "    model_D_f1 = model_D_results[i][\"macro avg\"][\"f1-score\"]\n",
    "    model_E_f1 = model_E_results[i][\"macro avg\"][\"f1-score\"]\n",
    "    accuracy_dict.extend(\n",
    "        [\n",
    "            {\n",
    "                \"model\": \"Baseline\",\n",
    "                \"horizon\": i,\n",
    "                \"accuracy\": baseline_acc,\n",
    "                \"f1-macro\": baseline_f1,\n",
    "            },\n",
    "            {\n",
    "                \"model\": \"Model A\",\n",
    "                \"horizon\": i,\n",
    "                \"accuracy\": model_A_acc,\n",
    "                \"f1-macro\": model_A_f1,\n",
    "            },\n",
    "            {\n",
    "                \"model\": \"Model B\",\n",
    "                \"horizon\": i,\n",
    "                \"accuracy\": model_B_acc,\n",
    "                \"f1-macro\": model_B_f1,\n",
    "            },\n",
    "            {\n",
    "                \"model\": \"Model C\",\n",
    "                \"horizon\": i,\n",
    "                \"accuracy\": model_C_acc,\n",
    "                \"f1-macro\": model_C_f1,\n",
    "            },\n",
    "            {\n",
    "                \"model\": \"Model D\",\n",
    "                \"horizon\": i,\n",
    "                \"accuracy\": model_D_acc,\n",
    "                \"f1-macro\": model_D_f1,\n",
    "            },\n",
    "            {\n",
    "                \"model\": \"Model E\",\n",
    "                \"horizon\": i,\n",
    "                \"accuracy\": model_E_acc,\n",
    "                \"f1-macro\": model_E_f1,\n",
    "            },\n",
    "        ]\n",
    "    )"
   ]
  },
  {
   "cell_type": "code",
   "execution_count": 70,
   "metadata": {},
   "outputs": [],
   "source": [
    "clf_results_df = pd.DataFrame(accuracy_dict)"
   ]
  },
  {
   "cell_type": "code",
   "execution_count": 71,
   "metadata": {},
   "outputs": [
    {
     "data": {
      "text/html": [
       "\n",
       "<div id=\"altair-viz-9c451e5e5a014ba0958b445354c00f02\"></div>\n",
       "<script type=\"text/javascript\">\n",
       "  var VEGA_DEBUG = (typeof VEGA_DEBUG == \"undefined\") ? {} : VEGA_DEBUG;\n",
       "  (function(spec, embedOpt){\n",
       "    let outputDiv = document.currentScript.previousElementSibling;\n",
       "    if (outputDiv.id !== \"altair-viz-9c451e5e5a014ba0958b445354c00f02\") {\n",
       "      outputDiv = document.getElementById(\"altair-viz-9c451e5e5a014ba0958b445354c00f02\");\n",
       "    }\n",
       "    const paths = {\n",
       "      \"vega\": \"https://cdn.jsdelivr.net/npm//vega@5?noext\",\n",
       "      \"vega-lib\": \"https://cdn.jsdelivr.net/npm//vega-lib?noext\",\n",
       "      \"vega-lite\": \"https://cdn.jsdelivr.net/npm//vega-lite@4.17.0?noext\",\n",
       "      \"vega-embed\": \"https://cdn.jsdelivr.net/npm//vega-embed@6?noext\",\n",
       "    };\n",
       "\n",
       "    function maybeLoadScript(lib, version) {\n",
       "      var key = `${lib.replace(\"-\", \"\")}_version`;\n",
       "      return (VEGA_DEBUG[key] == version) ?\n",
       "        Promise.resolve(paths[lib]) :\n",
       "        new Promise(function(resolve, reject) {\n",
       "          var s = document.createElement('script');\n",
       "          document.getElementsByTagName(\"head\")[0].appendChild(s);\n",
       "          s.async = true;\n",
       "          s.onload = () => {\n",
       "            VEGA_DEBUG[key] = version;\n",
       "            return resolve(paths[lib]);\n",
       "          };\n",
       "          s.onerror = () => reject(`Error loading script: ${paths[lib]}`);\n",
       "          s.src = paths[lib];\n",
       "        });\n",
       "    }\n",
       "\n",
       "    function showError(err) {\n",
       "      outputDiv.innerHTML = `<div class=\"error\" style=\"color:red;\">${err}</div>`;\n",
       "      throw err;\n",
       "    }\n",
       "\n",
       "    function displayChart(vegaEmbed) {\n",
       "      vegaEmbed(outputDiv, spec, embedOpt)\n",
       "        .catch(err => showError(`Javascript Error: ${err.message}<br>This usually means there's a typo in your chart specification. See the javascript console for the full traceback.`));\n",
       "    }\n",
       "\n",
       "    if(typeof define === \"function\" && define.amd) {\n",
       "      requirejs.config({paths});\n",
       "      require([\"vega-embed\"], displayChart, err => showError(`Error loading script: ${err.message}`));\n",
       "    } else {\n",
       "      maybeLoadScript(\"vega\", \"5\")\n",
       "        .then(() => maybeLoadScript(\"vega-lite\", \"4.17.0\"))\n",
       "        .then(() => maybeLoadScript(\"vega-embed\", \"6\"))\n",
       "        .catch(showError)\n",
       "        .then(() => displayChart(vegaEmbed));\n",
       "    }\n",
       "  })({\"config\": {\"view\": {\"continuousWidth\": 400, \"continuousHeight\": 300}}, \"layer\": [{\"data\": {\"name\": \"data-178fcd1d249b79d38a4f5a1387b2bf1f\"}, \"mark\": \"line\", \"encoding\": {\"color\": {\"field\": \"model\", \"type\": \"nominal\"}, \"x\": {\"field\": \"horizon\", \"scale\": {\"domain\": [0, 12]}, \"title\": \"Horizon (h)\", \"type\": \"quantitative\"}, \"y\": {\"field\": \"accuracy\", \"scale\": {\"domain\": [0, 1]}, \"title\": \"Accuracy\", \"type\": \"quantitative\"}}, \"width\": 600}, {\"data\": {\"name\": \"empty\"}, \"mark\": {\"type\": \"rule\", \"strokeDash\": [10, 10]}, \"encoding\": {\"y\": {\"datum\": 0.5}}}], \"$schema\": \"https://vega.github.io/schema/vega-lite/v4.17.0.json\", \"datasets\": {\"data-178fcd1d249b79d38a4f5a1387b2bf1f\": [{\"model\": \"Baseline\", \"horizon\": 1, \"accuracy\": 0.4921875, \"f1-macro\": 0.4921875}, {\"model\": \"Model A\", \"horizon\": 1, \"accuracy\": 0.47244094488188976, \"f1-macro\": 0.4529029769176365}, {\"model\": \"Model B\", \"horizon\": 1, \"accuracy\": 0.5, \"f1-macro\": 0.44728663638536936}, {\"model\": \"Model C\", \"horizon\": 1, \"accuracy\": 0.48, \"f1-macro\": 0.46009701641305073}, {\"model\": \"Model D\", \"horizon\": 1, \"accuracy\": 0.5151515151515151, \"f1-macro\": 0.49857549857549854}, {\"model\": \"Model E\", \"horizon\": 1, \"accuracy\": 0.4883720930232558, \"f1-macro\": 0.4649321266968326}, {\"model\": \"Baseline\", \"horizon\": 2, \"accuracy\": 0.5038759689922481, \"f1-macro\": 0.5038759689922481}, {\"model\": \"Model A\", \"horizon\": 2, \"accuracy\": 0.5158730158730159, \"f1-macro\": 0.4846798524974857}, {\"model\": \"Model B\", \"horizon\": 2, \"accuracy\": 0.5149253731343284, \"f1-macro\": 0.4748899740760837}, {\"model\": \"Model C\", \"horizon\": 2, \"accuracy\": 0.4921875, \"f1-macro\": 0.4560313828048382}, {\"model\": \"Model D\", \"horizon\": 2, \"accuracy\": 0.5413533834586466, \"f1-macro\": 0.5259159703149652}, {\"model\": \"Model E\", \"horizon\": 2, \"accuracy\": 0.4921875, \"f1-macro\": 0.4560313828048382}, {\"model\": \"Baseline\", \"horizon\": 3, \"accuracy\": 0.592, \"f1-macro\": 0.592}, {\"model\": \"Model A\", \"horizon\": 3, \"accuracy\": 0.568, \"f1-macro\": 0.53125}, {\"model\": \"Model B\", \"horizon\": 3, \"accuracy\": 0.762962962962963, \"f1-macro\": 0.7458823529411764}, {\"model\": \"Model C\", \"horizon\": 3, \"accuracy\": 0.5433070866141733, \"f1-macro\": 0.5057702630166399}, {\"model\": \"Model D\", \"horizon\": 3, \"accuracy\": 0.648854961832061, \"f1-macro\": 0.5861263736263737}, {\"model\": \"Model E\", \"horizon\": 3, \"accuracy\": 0.6230769230769231, \"f1-macro\": 0.571764705882353}, {\"model\": \"Baseline\", \"horizon\": 4, \"accuracy\": 0.5590551181102362, \"f1-macro\": 0.5590551181102362}, {\"model\": \"Model A\", \"horizon\": 4, \"accuracy\": 0.6153846153846154, \"f1-macro\": 0.5834401435529352}, {\"model\": \"Model B\", \"horizon\": 4, \"accuracy\": 0.7099236641221374, \"f1-macro\": 0.6970545277507303}, {\"model\": \"Model C\", \"horizon\": 4, \"accuracy\": 0.5634920634920635, \"f1-macro\": 0.5390754905221151}, {\"model\": \"Model D\", \"horizon\": 4, \"accuracy\": 0.6153846153846154, \"f1-macro\": 0.5834401435529352}, {\"model\": \"Model E\", \"horizon\": 4, \"accuracy\": 0.528, \"f1-macro\": 0.506655963609606}, {\"model\": \"Baseline\", \"horizon\": 5, \"accuracy\": 0.6190476190476191, \"f1-macro\": 0.6190476190476191}, {\"model\": \"Model A\", \"horizon\": 5, \"accuracy\": 0.7251908396946565, \"f1-macro\": 0.6920062695924765}, {\"model\": \"Model B\", \"horizon\": 5, \"accuracy\": 0.7153846153846154, \"f1-macro\": 0.6931419457735247}, {\"model\": \"Model C\", \"horizon\": 5, \"accuracy\": 0.6666666666666666, \"f1-macro\": 0.6501860377120515}, {\"model\": \"Model D\", \"horizon\": 5, \"accuracy\": 0.8432835820895522, \"f1-macro\": 0.83316535246339}, {\"model\": \"Model E\", \"horizon\": 5, \"accuracy\": 0.7251908396946565, \"f1-macro\": 0.6920062695924765}, {\"model\": \"Baseline\", \"horizon\": 6, \"accuracy\": 0.5, \"f1-macro\": 0.5}, {\"model\": \"Model A\", \"horizon\": 6, \"accuracy\": 0.8571428571428571, \"f1-macro\": 0.8523344825571203}, {\"model\": \"Model B\", \"horizon\": 6, \"accuracy\": 0.8257575757575758, \"f1-macro\": 0.82030186445694}, {\"model\": \"Model C\", \"horizon\": 6, \"accuracy\": 0.8636363636363636, \"f1-macro\": 0.8562091503267973}, {\"model\": \"Model D\", \"horizon\": 6, \"accuracy\": 0.7555555555555555, \"f1-macro\": 0.736842105263158}, {\"model\": \"Model E\", \"horizon\": 6, \"accuracy\": 0.8571428571428571, \"f1-macro\": 0.8514665255980721}, {\"model\": \"Baseline\", \"horizon\": 7, \"accuracy\": 0.7761194029850746, \"f1-macro\": 0.7761194029850746}, {\"model\": \"Model A\", \"horizon\": 7, \"accuracy\": 0.8712121212121212, \"f1-macro\": 0.8646806970994392}, {\"model\": \"Model B\", \"horizon\": 7, \"accuracy\": 0.8421052631578947, \"f1-macro\": 0.8376634699215344}, {\"model\": \"Model C\", \"horizon\": 7, \"accuracy\": 0.8421052631578947, \"f1-macro\": 0.8358314230294481}, {\"model\": \"Model D\", \"horizon\": 7, \"accuracy\": 0.47058823529411764, \"f1-macro\": 0.3878469617404351}, {\"model\": \"Model E\", \"horizon\": 7, \"accuracy\": 0.7142857142857143, \"f1-macro\": 0.6971153846153846}, {\"model\": \"Baseline\", \"horizon\": 8, \"accuracy\": 0.7111111111111111, \"f1-macro\": 0.7111111111111111}, {\"model\": \"Model A\", \"horizon\": 8, \"accuracy\": 0.5294117647058824, \"f1-macro\": 0.43333333333333335}, {\"model\": \"Model B\", \"horizon\": 8, \"accuracy\": 0.746031746031746, \"f1-macro\": 0.728521411257743}, {\"model\": \"Model C\", \"horizon\": 8, \"accuracy\": 0.8244274809160306, \"f1-macro\": 0.7971999730766641}, {\"model\": \"Model D\", \"horizon\": 8, \"accuracy\": 0.7619047619047619, \"f1-macro\": 0.7454888230541341}, {\"model\": \"Model E\", \"horizon\": 8, \"accuracy\": 0.7795275590551181, \"f1-macro\": 0.7673992673992674}, {\"model\": \"Baseline\", \"horizon\": 9, \"accuracy\": 0.8625954198473282, \"f1-macro\": 0.8625954198473282}, {\"model\": \"Model A\", \"horizon\": 9, \"accuracy\": 0.6814814814814815, \"f1-macro\": 0.6473482777474029}, {\"model\": \"Model B\", \"horizon\": 9, \"accuracy\": 0.828125, \"f1-macro\": 0.8133616118769884}, {\"model\": \"Model C\", \"horizon\": 9, \"accuracy\": 0.8846153846153846, \"f1-macro\": 0.8672656728609351}, {\"model\": \"Model D\", \"horizon\": 9, \"accuracy\": 0.8188976377952756, \"f1-macro\": 0.8049155145929341}, {\"model\": \"Model E\", \"horizon\": 9, \"accuracy\": 0.8712121212121212, \"f1-macro\": 0.8602304578013079}, {\"model\": \"Baseline\", \"horizon\": 10, \"accuracy\": 0.8923076923076924, \"f1-macro\": 0.8923076923076924}, {\"model\": \"Model A\", \"horizon\": 10, \"accuracy\": 0.753731343283582, \"f1-macro\": 0.7224279706233131}, {\"model\": \"Model B\", \"horizon\": 10, \"accuracy\": 0.8914728682170543, \"f1-macro\": 0.8817443687794657}, {\"model\": \"Model C\", \"horizon\": 10, \"accuracy\": 0.753731343283582, \"f1-macro\": 0.7191846065917318}, {\"model\": \"Model D\", \"horizon\": 10, \"accuracy\": 0.824, \"f1-macro\": 0.8090277777777778}, {\"model\": \"Model E\", \"horizon\": 10, \"accuracy\": 0.4632352941176471, \"f1-macro\": 0.35828323960959213}, {\"model\": \"Baseline\", \"horizon\": 11, \"accuracy\": 0.8484848484848485, \"f1-macro\": 0.8484848484848485}, {\"model\": \"Model A\", \"horizon\": 11, \"accuracy\": 0.9147286821705426, \"f1-macro\": 0.9056578684927864}, {\"model\": \"Model B\", \"horizon\": 11, \"accuracy\": 0.9133858267716536, \"f1-macro\": 0.905818108272096}, {\"model\": \"Model C\", \"horizon\": 11, \"accuracy\": 0.6666666666666666, \"f1-macro\": 0.6309458720612355}, {\"model\": \"Model D\", \"horizon\": 11, \"accuracy\": 0.90625, \"f1-macro\": 0.8949384404924761}, {\"model\": \"Model E\", \"horizon\": 11, \"accuracy\": 0.6592592592592592, \"f1-macro\": 0.6166666666666667}, {\"model\": \"Baseline\", \"horizon\": 12, \"accuracy\": 0.7518796992481203, \"f1-macro\": 0.7518796992481203}, {\"model\": \"Model A\", \"horizon\": 12, \"accuracy\": 0.921875, \"f1-macro\": 0.9124487004103967}, {\"model\": \"Model B\", \"horizon\": 12, \"accuracy\": 0.896, \"f1-macro\": 0.8887062529963701}, {\"model\": \"Model C\", \"horizon\": 12, \"accuracy\": 0.5735294117647058, \"f1-macro\": 0.5184371184371184}, {\"model\": \"Model D\", \"horizon\": 12, \"accuracy\": 0.8682170542635659, \"f1-macro\": 0.8541985240343063}, {\"model\": \"Model E\", \"horizon\": 12, \"accuracy\": 0.7089552238805971, \"f1-macro\": 0.668127262335683}], \"empty\": [{}]}}, {\"mode\": \"vega-lite\"});\n",
       "</script>"
      ],
      "text/plain": [
       "alt.LayerChart(...)"
      ]
     },
     "execution_count": 71,
     "metadata": {},
     "output_type": "execute_result"
    }
   ],
   "source": [
    "# Plot Accuracy\n",
    "clf_acc_plot = (\n",
    "    alt.Chart(clf_results_df)\n",
    "    .mark_line()\n",
    "    .encode(\n",
    "        x=alt.X(\"horizon:Q\", title=\"Horizon (h)\", scale=alt.Scale(domain=[0, 12])),\n",
    "        y=alt.Y(\"accuracy:Q\", title=\"Accuracy\", scale=alt.Scale(domain=[0, 1])),\n",
    "        color=\"model\",\n",
    "    )\n",
    "    .properties(width=600)\n",
    ")\n",
    "\n",
    "line = alt.Chart().mark_rule(strokeDash=[10, 10]).encode(y=alt.datum(0.50))\n",
    "\n",
    "clf_acc_plot + line"
   ]
  },
  {
   "cell_type": "code",
   "execution_count": 72,
   "metadata": {},
   "outputs": [
    {
     "data": {
      "text/html": [
       "\n",
       "<div id=\"altair-viz-fa8c8bb65e4446ae85c1f5ca34d17040\"></div>\n",
       "<script type=\"text/javascript\">\n",
       "  var VEGA_DEBUG = (typeof VEGA_DEBUG == \"undefined\") ? {} : VEGA_DEBUG;\n",
       "  (function(spec, embedOpt){\n",
       "    let outputDiv = document.currentScript.previousElementSibling;\n",
       "    if (outputDiv.id !== \"altair-viz-fa8c8bb65e4446ae85c1f5ca34d17040\") {\n",
       "      outputDiv = document.getElementById(\"altair-viz-fa8c8bb65e4446ae85c1f5ca34d17040\");\n",
       "    }\n",
       "    const paths = {\n",
       "      \"vega\": \"https://cdn.jsdelivr.net/npm//vega@5?noext\",\n",
       "      \"vega-lib\": \"https://cdn.jsdelivr.net/npm//vega-lib?noext\",\n",
       "      \"vega-lite\": \"https://cdn.jsdelivr.net/npm//vega-lite@4.17.0?noext\",\n",
       "      \"vega-embed\": \"https://cdn.jsdelivr.net/npm//vega-embed@6?noext\",\n",
       "    };\n",
       "\n",
       "    function maybeLoadScript(lib, version) {\n",
       "      var key = `${lib.replace(\"-\", \"\")}_version`;\n",
       "      return (VEGA_DEBUG[key] == version) ?\n",
       "        Promise.resolve(paths[lib]) :\n",
       "        new Promise(function(resolve, reject) {\n",
       "          var s = document.createElement('script');\n",
       "          document.getElementsByTagName(\"head\")[0].appendChild(s);\n",
       "          s.async = true;\n",
       "          s.onload = () => {\n",
       "            VEGA_DEBUG[key] = version;\n",
       "            return resolve(paths[lib]);\n",
       "          };\n",
       "          s.onerror = () => reject(`Error loading script: ${paths[lib]}`);\n",
       "          s.src = paths[lib];\n",
       "        });\n",
       "    }\n",
       "\n",
       "    function showError(err) {\n",
       "      outputDiv.innerHTML = `<div class=\"error\" style=\"color:red;\">${err}</div>`;\n",
       "      throw err;\n",
       "    }\n",
       "\n",
       "    function displayChart(vegaEmbed) {\n",
       "      vegaEmbed(outputDiv, spec, embedOpt)\n",
       "        .catch(err => showError(`Javascript Error: ${err.message}<br>This usually means there's a typo in your chart specification. See the javascript console for the full traceback.`));\n",
       "    }\n",
       "\n",
       "    if(typeof define === \"function\" && define.amd) {\n",
       "      requirejs.config({paths});\n",
       "      require([\"vega-embed\"], displayChart, err => showError(`Error loading script: ${err.message}`));\n",
       "    } else {\n",
       "      maybeLoadScript(\"vega\", \"5\")\n",
       "        .then(() => maybeLoadScript(\"vega-lite\", \"4.17.0\"))\n",
       "        .then(() => maybeLoadScript(\"vega-embed\", \"6\"))\n",
       "        .catch(showError)\n",
       "        .then(() => displayChart(vegaEmbed));\n",
       "    }\n",
       "  })({\"config\": {\"view\": {\"continuousWidth\": 400, \"continuousHeight\": 300}}, \"data\": {\"name\": \"data-178fcd1d249b79d38a4f5a1387b2bf1f\"}, \"mark\": \"line\", \"encoding\": {\"color\": {\"field\": \"model\", \"type\": \"nominal\"}, \"x\": {\"field\": \"horizon\", \"scale\": {\"domain\": [0, 12]}, \"title\": \"Horizon (h)\", \"type\": \"quantitative\"}, \"y\": {\"field\": \"f1-macro\", \"title\": \"F1 (Macro-Avg)\", \"type\": \"quantitative\"}}, \"width\": 600, \"$schema\": \"https://vega.github.io/schema/vega-lite/v4.17.0.json\", \"datasets\": {\"data-178fcd1d249b79d38a4f5a1387b2bf1f\": [{\"model\": \"Baseline\", \"horizon\": 1, \"accuracy\": 0.4921875, \"f1-macro\": 0.4921875}, {\"model\": \"Model A\", \"horizon\": 1, \"accuracy\": 0.47244094488188976, \"f1-macro\": 0.4529029769176365}, {\"model\": \"Model B\", \"horizon\": 1, \"accuracy\": 0.5, \"f1-macro\": 0.44728663638536936}, {\"model\": \"Model C\", \"horizon\": 1, \"accuracy\": 0.48, \"f1-macro\": 0.46009701641305073}, {\"model\": \"Model D\", \"horizon\": 1, \"accuracy\": 0.5151515151515151, \"f1-macro\": 0.49857549857549854}, {\"model\": \"Model E\", \"horizon\": 1, \"accuracy\": 0.4883720930232558, \"f1-macro\": 0.4649321266968326}, {\"model\": \"Baseline\", \"horizon\": 2, \"accuracy\": 0.5038759689922481, \"f1-macro\": 0.5038759689922481}, {\"model\": \"Model A\", \"horizon\": 2, \"accuracy\": 0.5158730158730159, \"f1-macro\": 0.4846798524974857}, {\"model\": \"Model B\", \"horizon\": 2, \"accuracy\": 0.5149253731343284, \"f1-macro\": 0.4748899740760837}, {\"model\": \"Model C\", \"horizon\": 2, \"accuracy\": 0.4921875, \"f1-macro\": 0.4560313828048382}, {\"model\": \"Model D\", \"horizon\": 2, \"accuracy\": 0.5413533834586466, \"f1-macro\": 0.5259159703149652}, {\"model\": \"Model E\", \"horizon\": 2, \"accuracy\": 0.4921875, \"f1-macro\": 0.4560313828048382}, {\"model\": \"Baseline\", \"horizon\": 3, \"accuracy\": 0.592, \"f1-macro\": 0.592}, {\"model\": \"Model A\", \"horizon\": 3, \"accuracy\": 0.568, \"f1-macro\": 0.53125}, {\"model\": \"Model B\", \"horizon\": 3, \"accuracy\": 0.762962962962963, \"f1-macro\": 0.7458823529411764}, {\"model\": \"Model C\", \"horizon\": 3, \"accuracy\": 0.5433070866141733, \"f1-macro\": 0.5057702630166399}, {\"model\": \"Model D\", \"horizon\": 3, \"accuracy\": 0.648854961832061, \"f1-macro\": 0.5861263736263737}, {\"model\": \"Model E\", \"horizon\": 3, \"accuracy\": 0.6230769230769231, \"f1-macro\": 0.571764705882353}, {\"model\": \"Baseline\", \"horizon\": 4, \"accuracy\": 0.5590551181102362, \"f1-macro\": 0.5590551181102362}, {\"model\": \"Model A\", \"horizon\": 4, \"accuracy\": 0.6153846153846154, \"f1-macro\": 0.5834401435529352}, {\"model\": \"Model B\", \"horizon\": 4, \"accuracy\": 0.7099236641221374, \"f1-macro\": 0.6970545277507303}, {\"model\": \"Model C\", \"horizon\": 4, \"accuracy\": 0.5634920634920635, \"f1-macro\": 0.5390754905221151}, {\"model\": \"Model D\", \"horizon\": 4, \"accuracy\": 0.6153846153846154, \"f1-macro\": 0.5834401435529352}, {\"model\": \"Model E\", \"horizon\": 4, \"accuracy\": 0.528, \"f1-macro\": 0.506655963609606}, {\"model\": \"Baseline\", \"horizon\": 5, \"accuracy\": 0.6190476190476191, \"f1-macro\": 0.6190476190476191}, {\"model\": \"Model A\", \"horizon\": 5, \"accuracy\": 0.7251908396946565, \"f1-macro\": 0.6920062695924765}, {\"model\": \"Model B\", \"horizon\": 5, \"accuracy\": 0.7153846153846154, \"f1-macro\": 0.6931419457735247}, {\"model\": \"Model C\", \"horizon\": 5, \"accuracy\": 0.6666666666666666, \"f1-macro\": 0.6501860377120515}, {\"model\": \"Model D\", \"horizon\": 5, \"accuracy\": 0.8432835820895522, \"f1-macro\": 0.83316535246339}, {\"model\": \"Model E\", \"horizon\": 5, \"accuracy\": 0.7251908396946565, \"f1-macro\": 0.6920062695924765}, {\"model\": \"Baseline\", \"horizon\": 6, \"accuracy\": 0.5, \"f1-macro\": 0.5}, {\"model\": \"Model A\", \"horizon\": 6, \"accuracy\": 0.8571428571428571, \"f1-macro\": 0.8523344825571203}, {\"model\": \"Model B\", \"horizon\": 6, \"accuracy\": 0.8257575757575758, \"f1-macro\": 0.82030186445694}, {\"model\": \"Model C\", \"horizon\": 6, \"accuracy\": 0.8636363636363636, \"f1-macro\": 0.8562091503267973}, {\"model\": \"Model D\", \"horizon\": 6, \"accuracy\": 0.7555555555555555, \"f1-macro\": 0.736842105263158}, {\"model\": \"Model E\", \"horizon\": 6, \"accuracy\": 0.8571428571428571, \"f1-macro\": 0.8514665255980721}, {\"model\": \"Baseline\", \"horizon\": 7, \"accuracy\": 0.7761194029850746, \"f1-macro\": 0.7761194029850746}, {\"model\": \"Model A\", \"horizon\": 7, \"accuracy\": 0.8712121212121212, \"f1-macro\": 0.8646806970994392}, {\"model\": \"Model B\", \"horizon\": 7, \"accuracy\": 0.8421052631578947, \"f1-macro\": 0.8376634699215344}, {\"model\": \"Model C\", \"horizon\": 7, \"accuracy\": 0.8421052631578947, \"f1-macro\": 0.8358314230294481}, {\"model\": \"Model D\", \"horizon\": 7, \"accuracy\": 0.47058823529411764, \"f1-macro\": 0.3878469617404351}, {\"model\": \"Model E\", \"horizon\": 7, \"accuracy\": 0.7142857142857143, \"f1-macro\": 0.6971153846153846}, {\"model\": \"Baseline\", \"horizon\": 8, \"accuracy\": 0.7111111111111111, \"f1-macro\": 0.7111111111111111}, {\"model\": \"Model A\", \"horizon\": 8, \"accuracy\": 0.5294117647058824, \"f1-macro\": 0.43333333333333335}, {\"model\": \"Model B\", \"horizon\": 8, \"accuracy\": 0.746031746031746, \"f1-macro\": 0.728521411257743}, {\"model\": \"Model C\", \"horizon\": 8, \"accuracy\": 0.8244274809160306, \"f1-macro\": 0.7971999730766641}, {\"model\": \"Model D\", \"horizon\": 8, \"accuracy\": 0.7619047619047619, \"f1-macro\": 0.7454888230541341}, {\"model\": \"Model E\", \"horizon\": 8, \"accuracy\": 0.7795275590551181, \"f1-macro\": 0.7673992673992674}, {\"model\": \"Baseline\", \"horizon\": 9, \"accuracy\": 0.8625954198473282, \"f1-macro\": 0.8625954198473282}, {\"model\": \"Model A\", \"horizon\": 9, \"accuracy\": 0.6814814814814815, \"f1-macro\": 0.6473482777474029}, {\"model\": \"Model B\", \"horizon\": 9, \"accuracy\": 0.828125, \"f1-macro\": 0.8133616118769884}, {\"model\": \"Model C\", \"horizon\": 9, \"accuracy\": 0.8846153846153846, \"f1-macro\": 0.8672656728609351}, {\"model\": \"Model D\", \"horizon\": 9, \"accuracy\": 0.8188976377952756, \"f1-macro\": 0.8049155145929341}, {\"model\": \"Model E\", \"horizon\": 9, \"accuracy\": 0.8712121212121212, \"f1-macro\": 0.8602304578013079}, {\"model\": \"Baseline\", \"horizon\": 10, \"accuracy\": 0.8923076923076924, \"f1-macro\": 0.8923076923076924}, {\"model\": \"Model A\", \"horizon\": 10, \"accuracy\": 0.753731343283582, \"f1-macro\": 0.7224279706233131}, {\"model\": \"Model B\", \"horizon\": 10, \"accuracy\": 0.8914728682170543, \"f1-macro\": 0.8817443687794657}, {\"model\": \"Model C\", \"horizon\": 10, \"accuracy\": 0.753731343283582, \"f1-macro\": 0.7191846065917318}, {\"model\": \"Model D\", \"horizon\": 10, \"accuracy\": 0.824, \"f1-macro\": 0.8090277777777778}, {\"model\": \"Model E\", \"horizon\": 10, \"accuracy\": 0.4632352941176471, \"f1-macro\": 0.35828323960959213}, {\"model\": \"Baseline\", \"horizon\": 11, \"accuracy\": 0.8484848484848485, \"f1-macro\": 0.8484848484848485}, {\"model\": \"Model A\", \"horizon\": 11, \"accuracy\": 0.9147286821705426, \"f1-macro\": 0.9056578684927864}, {\"model\": \"Model B\", \"horizon\": 11, \"accuracy\": 0.9133858267716536, \"f1-macro\": 0.905818108272096}, {\"model\": \"Model C\", \"horizon\": 11, \"accuracy\": 0.6666666666666666, \"f1-macro\": 0.6309458720612355}, {\"model\": \"Model D\", \"horizon\": 11, \"accuracy\": 0.90625, \"f1-macro\": 0.8949384404924761}, {\"model\": \"Model E\", \"horizon\": 11, \"accuracy\": 0.6592592592592592, \"f1-macro\": 0.6166666666666667}, {\"model\": \"Baseline\", \"horizon\": 12, \"accuracy\": 0.7518796992481203, \"f1-macro\": 0.7518796992481203}, {\"model\": \"Model A\", \"horizon\": 12, \"accuracy\": 0.921875, \"f1-macro\": 0.9124487004103967}, {\"model\": \"Model B\", \"horizon\": 12, \"accuracy\": 0.896, \"f1-macro\": 0.8887062529963701}, {\"model\": \"Model C\", \"horizon\": 12, \"accuracy\": 0.5735294117647058, \"f1-macro\": 0.5184371184371184}, {\"model\": \"Model D\", \"horizon\": 12, \"accuracy\": 0.8682170542635659, \"f1-macro\": 0.8541985240343063}, {\"model\": \"Model E\", \"horizon\": 12, \"accuracy\": 0.7089552238805971, \"f1-macro\": 0.668127262335683}]}}, {\"mode\": \"vega-lite\"});\n",
       "</script>"
      ],
      "text/plain": [
       "alt.Chart(...)"
      ]
     },
     "execution_count": 72,
     "metadata": {},
     "output_type": "execute_result"
    }
   ],
   "source": [
    "# Plot f1\n",
    "clf_f1_plot = (\n",
    "    alt.Chart(clf_results_df)\n",
    "    .mark_line()\n",
    "    .encode(\n",
    "        x=alt.X(\"horizon:Q\", title=\"Horizon (h)\", scale=alt.Scale(domain=[0, 12])),\n",
    "        y=alt.Y(\"f1-macro:Q\", title=\"F1 (Macro-Avg)\"),\n",
    "        color=\"model\",\n",
    "    )\n",
    "    .properties(width=600)\n",
    ")\n",
    "\n",
    "clf_f1_plot"
   ]
  },
  {
   "cell_type": "code",
   "execution_count": 74,
   "metadata": {},
   "outputs": [
    {
     "data": {
      "text/html": [
       "<div>\n",
       "<style scoped>\n",
       "    .dataframe tbody tr th:only-of-type {\n",
       "        vertical-align: middle;\n",
       "    }\n",
       "\n",
       "    .dataframe tbody tr th {\n",
       "        vertical-align: top;\n",
       "    }\n",
       "\n",
       "    .dataframe thead th {\n",
       "        text-align: right;\n",
       "    }\n",
       "</style>\n",
       "<table border=\"1\" class=\"dataframe\">\n",
       "  <thead>\n",
       "    <tr style=\"text-align: right;\">\n",
       "      <th></th>\n",
       "      <th>model</th>\n",
       "      <th>horizon</th>\n",
       "      <th>accuracy</th>\n",
       "      <th>f1-macro</th>\n",
       "    </tr>\n",
       "  </thead>\n",
       "  <tbody>\n",
       "    <tr>\n",
       "      <th>18</th>\n",
       "      <td>Baseline</td>\n",
       "      <td>4</td>\n",
       "      <td>0.559055</td>\n",
       "      <td>0.559055</td>\n",
       "    </tr>\n",
       "    <tr>\n",
       "      <th>19</th>\n",
       "      <td>Model A</td>\n",
       "      <td>4</td>\n",
       "      <td>0.615385</td>\n",
       "      <td>0.583440</td>\n",
       "    </tr>\n",
       "    <tr>\n",
       "      <th>20</th>\n",
       "      <td>Model B</td>\n",
       "      <td>4</td>\n",
       "      <td>0.709924</td>\n",
       "      <td>0.697055</td>\n",
       "    </tr>\n",
       "    <tr>\n",
       "      <th>21</th>\n",
       "      <td>Model C</td>\n",
       "      <td>4</td>\n",
       "      <td>0.563492</td>\n",
       "      <td>0.539075</td>\n",
       "    </tr>\n",
       "    <tr>\n",
       "      <th>22</th>\n",
       "      <td>Model D</td>\n",
       "      <td>4</td>\n",
       "      <td>0.615385</td>\n",
       "      <td>0.583440</td>\n",
       "    </tr>\n",
       "    <tr>\n",
       "      <th>23</th>\n",
       "      <td>Model E</td>\n",
       "      <td>4</td>\n",
       "      <td>0.528000</td>\n",
       "      <td>0.506656</td>\n",
       "    </tr>\n",
       "  </tbody>\n",
       "</table>\n",
       "</div>"
      ],
      "text/plain": [
       "       model  horizon  accuracy  f1-macro\n",
       "18  Baseline        4  0.559055  0.559055\n",
       "19   Model A        4  0.615385  0.583440\n",
       "20   Model B        4  0.709924  0.697055\n",
       "21   Model C        4  0.563492  0.539075\n",
       "22   Model D        4  0.615385  0.583440\n",
       "23   Model E        4  0.528000  0.506656"
      ]
     },
     "execution_count": 74,
     "metadata": {},
     "output_type": "execute_result"
    }
   ],
   "source": [
    "clf_results_df[clf_results_df[\"horizon\"] == 4]"
   ]
  }
 ],
 "metadata": {
  "interpreter": {
   "hash": "26fa31afa754fb971b44a94a9612d34d26997a00d823853c42f1b189c287d4b1"
  },
  "kernelspec": {
   "display_name": "Python 3.8.12 ('crypto-uncertainty-index-SX872G0E-py3.8': poetry)",
   "language": "python",
   "name": "python3"
  },
  "language_info": {
   "codemirror_mode": {
    "name": "ipython",
    "version": 3
   },
   "file_extension": ".py",
   "mimetype": "text/x-python",
   "name": "python",
   "nbconvert_exporter": "python",
   "pygments_lexer": "ipython3",
   "version": "3.8.13"
  },
  "orig_nbformat": 4
 },
 "nbformat": 4,
 "nbformat_minor": 2
}
