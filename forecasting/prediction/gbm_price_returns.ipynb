{
 "cells": [
  {
   "cell_type": "markdown",
   "metadata": {},
   "source": [
    "## Tree Based Ensemble Models for Price Returns Forecasting\n",
    "\n",
    "### Approach\n",
    "1. Set Up\n",
    "2. Identifying Suitable Lags for Price, Volume & Uncertainty Indices\n",
    "3. Modelling w/ Grid Search & Forecast Evaluation\n",
    "   1. LightGBM (h = 1, 4, 12) [MOVE TO SEPARATE NOTEBOOK]\n",
    "      1. Model A (With Price Returns, Price & Volume)\n",
    "      2. Model B (With A + Lucey Original Price) \n",
    "      3. Model C (With A + Lucey Reddit Price)\n",
    "      4. Model D (With A + LDA Reddit Price)\n",
    "      5. Model E (With A + Top2Vec Reddit Price)\n",
    "      6. Model F (With A + VCRIX)\n",
    "      7. Policy Basd Models?\n",
    "\n",
    "References:\n",
    "* https://neptune.ai/blog/lightgbm-parameters-guide\n",
    "\n",
    "TBD:\n",
    "1. Use Technical Indicators Common Factors as additional Baseline\n",
    "2. Add in More Horizon Values\n",
    "3. Use AIC / BIC \n",
    "4. Add in Historical Forecast Plots\n",
    "\n",
    "### Set Up"
   ]
  },
  {
   "cell_type": "code",
   "execution_count": 1,
   "metadata": {},
   "outputs": [],
   "source": [
    "# NB config\n",
    "%load_ext autoreload\n",
    "%autoreload 2\n",
    "\n",
    "# Load Libraries\n",
    "import os\n",
    "\n",
    "os.chdir(\"../../\")\n",
    "from typing import Dict, Optional\n",
    "import pandas as pd\n",
    "import numpy as np\n",
    "from pprint import pprint\n",
    "from pathlib import Path\n",
    "from datetime import datetime\n",
    "from darts import TimeSeries\n",
    "from darts.metrics import (\n",
    "    mape,\n",
    "    mse,\n",
    ")\n",
    "from tqdm import tqdm\n",
    "from darts import concatenate\n",
    "from darts.models.forecasting.gradient_boosted_model import (\n",
    "    LightGBMModel,\n",
    ")\n",
    "from sklearn.model_selection import ParameterGrid\n",
    "import warnings\n",
    "\n",
    "warnings.filterwarnings(\"ignore\")"
   ]
  },
  {
   "cell_type": "markdown",
   "metadata": {},
   "source": [
    "### Data Preparation"
   ]
  },
  {
   "cell_type": "code",
   "execution_count": 2,
   "metadata": {},
   "outputs": [],
   "source": [
    "# Data Dir\n",
    "data_dir = Path(\"forecasting/data/modelling\")\n",
    "\n",
    "# BTC-USD data\n",
    "btc_usd_fp = data_dir / \"btc_usd_weekly.csv\"\n",
    "btc_usd_df = pd.read_csv(btc_usd_fp)\n",
    "\n",
    "# UCRY Indices data\n",
    "ucry_fp = data_dir / \"ucry_indices_weekly.csv\"\n",
    "ucry_df = pd.read_csv(ucry_fp)"
   ]
  },
  {
   "cell_type": "markdown",
   "metadata": {},
   "source": [
    "#### Create ***h***-weeks Log Price Returns Time Series"
   ]
  },
  {
   "cell_type": "code",
   "execution_count": 3,
   "metadata": {},
   "outputs": [],
   "source": [
    "# h = 1 (Weekly Price Returns)\n",
    "btc_usd_df[\"Price Returns (h=1)\"] = np.log1p(btc_usd_df[[\"Price\"]].pct_change(1))\n",
    "\n",
    "# h = 4 (4 Week Price Returns)\n",
    "btc_usd_df[\"Price Returns (h=4)\"] = np.log1p(btc_usd_df[[\"Price\"]].pct_change(4))\n",
    "\n",
    "# h = 12 (12 Week Price Returns)\n",
    "btc_usd_df[\"Price Returns (h=12)\"] = np.log1p(btc_usd_df[[\"Price\"]].pct_change(12))\n",
    "\n",
    "# Create TimeSeries\n",
    "# h = 1 (Weekly Price Returns)\n",
    "btc_usd1_ts = TimeSeries.from_dataframe(\n",
    "    btc_usd_df[[\"Date\", \"Price Returns (h=1)\"]].dropna(), time_col=\"Date\"\n",
    ")\n",
    "\n",
    "# h = 4 (4 Week Price Returns)\n",
    "btc_usd4_ts = TimeSeries.from_dataframe(\n",
    "    btc_usd_df[[\"Date\", \"Price Returns (h=4)\"]].dropna(), time_col=\"Date\"\n",
    ")\n",
    "\n",
    "# h = 12 (12 Week Price Returns)\n",
    "btc_usd12_ts = TimeSeries.from_dataframe(\n",
    "    btc_usd_df[[\"Date\", \"Price Returns (h=12)\"]].dropna(), time_col=\"Date\"\n",
    ")"
   ]
  },
  {
   "cell_type": "markdown",
   "metadata": {},
   "source": [
    "### Create Price and Volume Time Series"
   ]
  },
  {
   "cell_type": "code",
   "execution_count": 4,
   "metadata": {},
   "outputs": [],
   "source": [
    "price_ts = TimeSeries.from_dataframe(btc_usd_df[[\"Date\", \"Price\"]], time_col=\"Date\")"
   ]
  },
  {
   "cell_type": "code",
   "execution_count": 5,
   "metadata": {},
   "outputs": [],
   "source": [
    "vol_ts = TimeSeries.from_dataframe(btc_usd_df[[\"Date\", \"Volume\"]], time_col=\"Date\")"
   ]
  },
  {
   "cell_type": "markdown",
   "metadata": {},
   "source": [
    "#### Create UCRY Indices Time Series"
   ]
  },
  {
   "cell_type": "code",
   "execution_count": 6,
   "metadata": {},
   "outputs": [],
   "source": [
    "# Create TimeSeries\n",
    "sel_cols = [\"Date\", \"Index Value\"]\n",
    "time_col = \"Date\"\n",
    "\n",
    "# Lucey Price\n",
    "lucey_price = TimeSeries.from_dataframe(\n",
    "    ucry_df[ucry_df.Index == \"Lucey-Original-Price\"].reset_index()[sel_cols],\n",
    "    time_col=time_col,\n",
    ")\n",
    "\n",
    "# Lucey Reddit Price\n",
    "lucey_reddit_price = TimeSeries.from_dataframe(\n",
    "    ucry_df[ucry_df.Index == \"Lucey-Reddit-Price\"].reset_index()[sel_cols],\n",
    "    time_col=time_col,\n",
    ")\n",
    "\n",
    "# LDA Price\n",
    "lda_price = TimeSeries.from_dataframe(\n",
    "    ucry_df[ucry_df.Index == \"LDA-Reddit-Price\"].reset_index()[sel_cols],\n",
    "    time_col=time_col,\n",
    ")\n",
    "\n",
    "# Top2Vec Price\n",
    "t2v_price = TimeSeries.from_dataframe(\n",
    "    ucry_df[ucry_df.Index == \"Top2Vec-Reddit-Price\"].reset_index()[sel_cols],\n",
    "    time_col=time_col,\n",
    ")\n",
    "\n",
    "# VCRIX\n",
    "vcrix = TimeSeries.from_dataframe(\n",
    "    ucry_df[ucry_df.Index == \"VCRIX\"].reset_index()[sel_cols], time_col=time_col\n",
    ")"
   ]
  },
  {
   "cell_type": "markdown",
   "metadata": {},
   "source": [
    "#### Train Test Split Date"
   ]
  },
  {
   "cell_type": "code",
   "execution_count": 7,
   "metadata": {},
   "outputs": [],
   "source": [
    "# Split into Train and Test\n",
    "split_date = pd.Timestamp(\"20190527\")"
   ]
  },
  {
   "cell_type": "markdown",
   "metadata": {},
   "source": [
    "### Identify Suitable Lags for UCRY Index Time Series\n",
    "* STATUS: Use **t** variables to predict **t + h** variables for now"
   ]
  },
  {
   "cell_type": "markdown",
   "metadata": {},
   "source": [
    "### Random Forest Forecasting Model & Evaluation\n",
    "\n",
    "#### Define Params Grid for Grid Search"
   ]
  },
  {
   "cell_type": "code",
   "execution_count": 8,
   "metadata": {},
   "outputs": [
    {
     "data": {
      "text/plain": [
       "16"
      ]
     },
     "execution_count": 8,
     "metadata": {},
     "output_type": "execute_result"
    }
   ],
   "source": [
    "# Params Grid\n",
    "\n",
    "gbm_params_grid = {\n",
    "    \"boosting_type\": [\"gbdt\", \"dart\"],\n",
    "    \"num_boost_round\": [300],\n",
    "    \"early_stopping_rounds\": [30],\n",
    "    \"num_iterations\": [500],\n",
    "    \"learning_rate\": [0.01, 0.1],\n",
    "    \"max_depth\": [2, 5],\n",
    "    \"num_leaves\": [4, 32],\n",
    "    \"feature_fraction\": [0.8],\n",
    "    \"subsample\": [0.2],\n",
    "    \"random_state\": [42],\n",
    "}\n",
    "\n",
    "\n",
    "gbm_params_list = list(ParameterGrid(gbm_params_grid))\n",
    "len(gbm_params_list)"
   ]
  },
  {
   "cell_type": "markdown",
   "metadata": {},
   "source": [
    "### LightGBM GridSearch Helper"
   ]
  },
  {
   "cell_type": "code",
   "execution_count": 9,
   "metadata": {},
   "outputs": [],
   "source": [
    "# Homemade LightGBM Grid Search\n",
    "\n",
    "\n",
    "def gridsearch_GBM(\n",
    "    series: TimeSeries,\n",
    "    past_covariates: TimeSeries,\n",
    "    forecast_horizon: int,\n",
    "    lags: int,\n",
    "    lags_past_covariates: int,\n",
    "    verbose: bool = False,\n",
    "):\n",
    "\n",
    "    min_error = np.float(\"inf\")\n",
    "    best_params = None\n",
    "\n",
    "    for params in tqdm(gbm_params_list):\n",
    "        model = LightGBMModel(lags=lags, lags_past_covariates=lags_past_covariates)\n",
    "        error = model.backtest(\n",
    "            series=series,\n",
    "            past_covariates=past_covariates,\n",
    "            forecast_horizon=forecast_horizon,\n",
    "            stride=1,\n",
    "            start=split_date,\n",
    "            metric=mape,\n",
    "            reduction=np.mean,\n",
    "            verbose=verbose,\n",
    "        )\n",
    "        if error < min_error:\n",
    "            min_error = error\n",
    "            best_params = params\n",
    "\n",
    "    print(\"Average error (min_error) over all historical forecasts: %.2f\" % min_error)\n",
    "    print(\"Best Params: %s\" % str(best_params))\n",
    "\n",
    "    return best_params, min_error"
   ]
  },
  {
   "cell_type": "markdown",
   "metadata": {},
   "source": [
    "#### Model A (Price Returns, Price & Volume)"
   ]
  },
  {
   "cell_type": "markdown",
   "metadata": {},
   "source": [
    "##### h = 1"
   ]
  },
  {
   "cell_type": "code",
   "execution_count": 10,
   "metadata": {},
   "outputs": [],
   "source": [
    "# Model A (h = 1) Past Covariates\n",
    "gbmA_1_past_covs = concatenate(\n",
    "    [\n",
    "        btc_usd1_ts,\n",
    "        price_ts.slice_intersect(btc_usd1_ts),\n",
    "        vol_ts.slice_intersect(btc_usd1_ts),\n",
    "    ],\n",
    "    axis=1,\n",
    ")"
   ]
  },
  {
   "cell_type": "code",
   "execution_count": 11,
   "metadata": {},
   "outputs": [
    {
     "name": "stderr",
     "output_type": "stream",
     "text": [
      "100%|██████████| 16/16 [12:39<00:00, 47.46s/it]"
     ]
    },
    {
     "name": "stdout",
     "output_type": "stream",
     "text": [
      "Average error (min_error) over all historical forecasts: 237.09\n",
      "Best Params: {'boosting_type': 'gbdt', 'early_stopping_rounds': 30, 'feature_fraction': 0.8, 'learning_rate': 0.01, 'max_depth': 2, 'num_boost_round': 300, 'num_iterations': 500, 'num_leaves': 4, 'random_state': 42, 'subsample': 0.2}\n"
     ]
    },
    {
     "name": "stderr",
     "output_type": "stream",
     "text": [
      "\n"
     ]
    }
   ],
   "source": [
    "gbmA_1_best_params, gbmA_1_min_error = gridsearch_GBM(\n",
    "    btc_usd1_ts, gbmA_1_past_covs, 1, 1, 1\n",
    ")"
   ]
  },
  {
   "cell_type": "markdown",
   "metadata": {},
   "source": [
    "#### h = 4"
   ]
  },
  {
   "cell_type": "code",
   "execution_count": 12,
   "metadata": {},
   "outputs": [],
   "source": [
    "# Model A (h = 4) Past Covariates\n",
    "gbmA_4_past_covs = concatenate(\n",
    "    [\n",
    "        btc_usd4_ts,\n",
    "        price_ts.slice_intersect(btc_usd4_ts),\n",
    "        vol_ts.slice_intersect(btc_usd4_ts),\n",
    "    ],\n",
    "    axis=1,\n",
    ")"
   ]
  },
  {
   "cell_type": "code",
   "execution_count": 13,
   "metadata": {},
   "outputs": [
    {
     "name": "stderr",
     "output_type": "stream",
     "text": [
      "100%|██████████| 16/16 [09:17<00:00, 34.85s/it]"
     ]
    },
    {
     "name": "stdout",
     "output_type": "stream",
     "text": [
      "Average error (min_error) over all historical forecasts: 1223.52\n",
      "Best Params: {'boosting_type': 'gbdt', 'early_stopping_rounds': 30, 'feature_fraction': 0.8, 'learning_rate': 0.01, 'max_depth': 2, 'num_boost_round': 300, 'num_iterations': 500, 'num_leaves': 4, 'random_state': 42, 'subsample': 0.2}\n"
     ]
    },
    {
     "name": "stderr",
     "output_type": "stream",
     "text": [
      "\n"
     ]
    }
   ],
   "source": [
    "gbmA_4_best_params, gbmA_4_min_error = gridsearch_GBM(\n",
    "    btc_usd4_ts, gbmA_4_past_covs, 1, 1, 1\n",
    ")"
   ]
  },
  {
   "cell_type": "markdown",
   "metadata": {},
   "source": [
    "#### h = 12"
   ]
  },
  {
   "cell_type": "code",
   "execution_count": 14,
   "metadata": {},
   "outputs": [],
   "source": [
    "# Model A (h = 12) Past Covariates\n",
    "gbmA_12_past_covs = concatenate(\n",
    "    [\n",
    "        btc_usd12_ts,\n",
    "        price_ts.slice_intersect(btc_usd12_ts),\n",
    "        vol_ts.slice_intersect(btc_usd12_ts),\n",
    "    ],\n",
    "    axis=1,\n",
    ")"
   ]
  },
  {
   "cell_type": "code",
   "execution_count": 15,
   "metadata": {},
   "outputs": [
    {
     "name": "stderr",
     "output_type": "stream",
     "text": [
      "100%|██████████| 16/16 [08:53<00:00, 33.33s/it]"
     ]
    },
    {
     "name": "stdout",
     "output_type": "stream",
     "text": [
      "Average error (min_error) over all historical forecasts: 87.78\n",
      "Best Params: {'boosting_type': 'gbdt', 'early_stopping_rounds': 30, 'feature_fraction': 0.8, 'learning_rate': 0.01, 'max_depth': 2, 'num_boost_round': 300, 'num_iterations': 500, 'num_leaves': 4, 'random_state': 42, 'subsample': 0.2}\n"
     ]
    },
    {
     "name": "stderr",
     "output_type": "stream",
     "text": [
      "\n"
     ]
    }
   ],
   "source": [
    "gbmA_12_best_params, gbmA_12_min_error = gridsearch_GBM(\n",
    "    btc_usd12_ts, gbmA_12_past_covs, 1, 1, 1\n",
    ")"
   ]
  },
  {
   "cell_type": "markdown",
   "metadata": {},
   "source": [
    "#### Model B (Price Returns, Price & Volume + Lucey Price Index)"
   ]
  },
  {
   "cell_type": "markdown",
   "metadata": {},
   "source": [
    "#### h = 1"
   ]
  },
  {
   "cell_type": "code",
   "execution_count": 16,
   "metadata": {},
   "outputs": [],
   "source": [
    "# Model B (h = 1) Past Covariates\n",
    "gbmB_1_past_covs = concatenate(\n",
    "    [\n",
    "        btc_usd1_ts,\n",
    "        price_ts.slice_intersect(btc_usd1_ts),\n",
    "        vol_ts.slice_intersect(btc_usd1_ts),\n",
    "        lucey_price.slice_intersect(btc_usd1_ts),\n",
    "    ],\n",
    "    axis=1,\n",
    ")"
   ]
  },
  {
   "cell_type": "code",
   "execution_count": 17,
   "metadata": {},
   "outputs": [
    {
     "name": "stderr",
     "output_type": "stream",
     "text": [
      "100%|██████████| 16/16 [09:26<00:00, 35.44s/it]"
     ]
    },
    {
     "name": "stdout",
     "output_type": "stream",
     "text": [
      "Average error (min_error) over all historical forecasts: 245.44\n",
      "Best Params: {'boosting_type': 'gbdt', 'early_stopping_rounds': 30, 'feature_fraction': 0.8, 'learning_rate': 0.01, 'max_depth': 2, 'num_boost_round': 300, 'num_iterations': 500, 'num_leaves': 4, 'random_state': 42, 'subsample': 0.2}\n"
     ]
    },
    {
     "name": "stderr",
     "output_type": "stream",
     "text": [
      "\n"
     ]
    }
   ],
   "source": [
    "gbmB_1_best_params, gbmB_1_min_error = gridsearch_GBM(\n",
    "    btc_usd1_ts, gbmB_1_past_covs, 1, 1, 1\n",
    ")"
   ]
  },
  {
   "cell_type": "markdown",
   "metadata": {},
   "source": [
    "#### h = 4"
   ]
  },
  {
   "cell_type": "code",
   "execution_count": 18,
   "metadata": {},
   "outputs": [],
   "source": [
    "# Model B (h = 4) Past Covariates\n",
    "gbmB_4_past_covs = concatenate(\n",
    "    [\n",
    "        btc_usd4_ts,\n",
    "        price_ts.slice_intersect(btc_usd4_ts),\n",
    "        vol_ts.slice_intersect(btc_usd4_ts),\n",
    "        lucey_price.slice_intersect(btc_usd4_ts),\n",
    "    ],\n",
    "    axis=1,\n",
    ")"
   ]
  },
  {
   "cell_type": "code",
   "execution_count": 19,
   "metadata": {},
   "outputs": [
    {
     "name": "stderr",
     "output_type": "stream",
     "text": [
      "100%|██████████| 16/16 [09:13<00:00, 34.59s/it]"
     ]
    },
    {
     "name": "stdout",
     "output_type": "stream",
     "text": [
      "Average error (min_error) over all historical forecasts: 995.14\n",
      "Best Params: {'boosting_type': 'gbdt', 'early_stopping_rounds': 30, 'feature_fraction': 0.8, 'learning_rate': 0.01, 'max_depth': 2, 'num_boost_round': 300, 'num_iterations': 500, 'num_leaves': 4, 'random_state': 42, 'subsample': 0.2}\n"
     ]
    },
    {
     "name": "stderr",
     "output_type": "stream",
     "text": [
      "\n"
     ]
    }
   ],
   "source": [
    "gbmB_4_best_params, gbmB_4_min_error = gridsearch_GBM(\n",
    "    btc_usd4_ts, gbmB_4_past_covs, 1, 1, 1\n",
    ")"
   ]
  },
  {
   "cell_type": "markdown",
   "metadata": {},
   "source": [
    "#### h = 12"
   ]
  },
  {
   "cell_type": "code",
   "execution_count": 20,
   "metadata": {},
   "outputs": [],
   "source": [
    "# Model B (h = 12) Past Covariates\n",
    "gbmB_12_past_covs = concatenate(\n",
    "    [\n",
    "        btc_usd12_ts,\n",
    "        price_ts.slice_intersect(btc_usd12_ts),\n",
    "        vol_ts.slice_intersect(btc_usd12_ts),\n",
    "        lucey_price.slice_intersect(btc_usd12_ts),\n",
    "    ],\n",
    "    axis=1,\n",
    ")"
   ]
  },
  {
   "cell_type": "code",
   "execution_count": 21,
   "metadata": {},
   "outputs": [
    {
     "name": "stderr",
     "output_type": "stream",
     "text": [
      "100%|██████████| 16/16 [08:56<00:00, 33.55s/it]"
     ]
    },
    {
     "name": "stdout",
     "output_type": "stream",
     "text": [
      "Average error (min_error) over all historical forecasts: 90.91\n",
      "Best Params: {'boosting_type': 'gbdt', 'early_stopping_rounds': 30, 'feature_fraction': 0.8, 'learning_rate': 0.01, 'max_depth': 2, 'num_boost_round': 300, 'num_iterations': 500, 'num_leaves': 4, 'random_state': 42, 'subsample': 0.2}\n"
     ]
    },
    {
     "name": "stderr",
     "output_type": "stream",
     "text": [
      "\n"
     ]
    }
   ],
   "source": [
    "gbmB_12_best_params, gbmB_12_min_error = gridsearch_GBM(\n",
    "    btc_usd12_ts, gbmB_12_past_covs, 1, 1, 1\n",
    ")"
   ]
  },
  {
   "cell_type": "markdown",
   "metadata": {},
   "source": [
    "#### Model C (Price Returns, Price & Volume + Lucey Reddit Price Index)"
   ]
  },
  {
   "cell_type": "markdown",
   "metadata": {},
   "source": [
    "#### h = 1"
   ]
  },
  {
   "cell_type": "code",
   "execution_count": 22,
   "metadata": {},
   "outputs": [],
   "source": [
    "# Model C (h = 1) Past Covariates\n",
    "gbmC_1_past_covs = concatenate(\n",
    "    [\n",
    "        btc_usd1_ts,\n",
    "        price_ts.slice_intersect(btc_usd1_ts),\n",
    "        vol_ts.slice_intersect(btc_usd1_ts),\n",
    "        lucey_reddit_price.slice_intersect(btc_usd1_ts),\n",
    "    ],\n",
    "    axis=1,\n",
    ")"
   ]
  },
  {
   "cell_type": "code",
   "execution_count": 23,
   "metadata": {},
   "outputs": [
    {
     "name": "stderr",
     "output_type": "stream",
     "text": [
      "100%|██████████| 16/16 [09:25<00:00, 35.35s/it]"
     ]
    },
    {
     "name": "stdout",
     "output_type": "stream",
     "text": [
      "Average error (min_error) over all historical forecasts: 235.32\n",
      "Best Params: {'boosting_type': 'gbdt', 'early_stopping_rounds': 30, 'feature_fraction': 0.8, 'learning_rate': 0.01, 'max_depth': 2, 'num_boost_round': 300, 'num_iterations': 500, 'num_leaves': 4, 'random_state': 42, 'subsample': 0.2}\n"
     ]
    },
    {
     "name": "stderr",
     "output_type": "stream",
     "text": [
      "\n"
     ]
    }
   ],
   "source": [
    "gbmC_1_best_params, gbmC_1_min_error = gridsearch_GBM(\n",
    "    btc_usd1_ts, gbmC_1_past_covs, 1, 1, 1\n",
    ")"
   ]
  },
  {
   "cell_type": "markdown",
   "metadata": {},
   "source": [
    "#### h = 4"
   ]
  },
  {
   "cell_type": "code",
   "execution_count": 24,
   "metadata": {},
   "outputs": [],
   "source": [
    "# Model C (h = 4) Past Covariates\n",
    "gbmC_4_past_covs = concatenate(\n",
    "    [\n",
    "        btc_usd4_ts,\n",
    "        price_ts.slice_intersect(btc_usd4_ts),\n",
    "        vol_ts.slice_intersect(btc_usd4_ts),\n",
    "        lucey_reddit_price.slice_intersect(btc_usd4_ts),\n",
    "    ],\n",
    "    axis=1,\n",
    ")"
   ]
  },
  {
   "cell_type": "code",
   "execution_count": 25,
   "metadata": {},
   "outputs": [
    {
     "name": "stderr",
     "output_type": "stream",
     "text": [
      "100%|██████████| 16/16 [09:55<00:00, 37.24s/it]"
     ]
    },
    {
     "name": "stdout",
     "output_type": "stream",
     "text": [
      "Average error (min_error) over all historical forecasts: 1531.62\n",
      "Best Params: {'boosting_type': 'gbdt', 'early_stopping_rounds': 30, 'feature_fraction': 0.8, 'learning_rate': 0.01, 'max_depth': 2, 'num_boost_round': 300, 'num_iterations': 500, 'num_leaves': 4, 'random_state': 42, 'subsample': 0.2}\n"
     ]
    },
    {
     "name": "stderr",
     "output_type": "stream",
     "text": [
      "\n"
     ]
    }
   ],
   "source": [
    "gbmC_4_best_params, gbmC_4_min_error = gridsearch_GBM(\n",
    "    btc_usd4_ts, gbmC_4_past_covs, 1, 1, 1\n",
    ")"
   ]
  },
  {
   "cell_type": "markdown",
   "metadata": {},
   "source": [
    "#### h = 12"
   ]
  },
  {
   "cell_type": "code",
   "execution_count": 26,
   "metadata": {},
   "outputs": [],
   "source": [
    "# Model C (h = 12) Past Covariates\n",
    "gbmC_12_past_covs = concatenate(\n",
    "    [\n",
    "        btc_usd12_ts,\n",
    "        price_ts.slice_intersect(btc_usd12_ts),\n",
    "        vol_ts.slice_intersect(btc_usd12_ts),\n",
    "        lucey_reddit_price.slice_intersect(btc_usd12_ts),\n",
    "    ],\n",
    "    axis=1,\n",
    ")"
   ]
  },
  {
   "cell_type": "code",
   "execution_count": 27,
   "metadata": {},
   "outputs": [
    {
     "name": "stderr",
     "output_type": "stream",
     "text": [
      "100%|██████████| 16/16 [08:54<00:00, 33.42s/it]"
     ]
    },
    {
     "name": "stdout",
     "output_type": "stream",
     "text": [
      "Average error (min_error) over all historical forecasts: 96.24\n",
      "Best Params: {'boosting_type': 'gbdt', 'early_stopping_rounds': 30, 'feature_fraction': 0.8, 'learning_rate': 0.01, 'max_depth': 2, 'num_boost_round': 300, 'num_iterations': 500, 'num_leaves': 4, 'random_state': 42, 'subsample': 0.2}\n"
     ]
    },
    {
     "name": "stderr",
     "output_type": "stream",
     "text": [
      "\n"
     ]
    }
   ],
   "source": [
    "gbmC_12_best_params, gbmC_12_min_error = gridsearch_GBM(\n",
    "    btc_usd12_ts, gbmC_12_past_covs, 1, 1, 1\n",
    ")"
   ]
  },
  {
   "cell_type": "markdown",
   "metadata": {},
   "source": [
    "#### Model D (Price Returns, Price & Volume + LDA Reddit Price Index)"
   ]
  },
  {
   "cell_type": "markdown",
   "metadata": {},
   "source": [
    "#### h = 1"
   ]
  },
  {
   "cell_type": "code",
   "execution_count": 28,
   "metadata": {},
   "outputs": [],
   "source": [
    "# Model D (h = 1) Past Covariates\n",
    "gbmD_1_past_covs = concatenate(\n",
    "    [\n",
    "        btc_usd1_ts,\n",
    "        price_ts.slice_intersect(btc_usd1_ts),\n",
    "        vol_ts.slice_intersect(btc_usd1_ts),\n",
    "        lda_price.slice_intersect(btc_usd1_ts),\n",
    "    ],\n",
    "    axis=1,\n",
    ")"
   ]
  },
  {
   "cell_type": "code",
   "execution_count": 29,
   "metadata": {},
   "outputs": [
    {
     "name": "stderr",
     "output_type": "stream",
     "text": [
      "100%|██████████| 16/16 [09:28<00:00, 35.56s/it]"
     ]
    },
    {
     "name": "stdout",
     "output_type": "stream",
     "text": [
      "Average error (min_error) over all historical forecasts: 281.33\n",
      "Best Params: {'boosting_type': 'gbdt', 'early_stopping_rounds': 30, 'feature_fraction': 0.8, 'learning_rate': 0.01, 'max_depth': 2, 'num_boost_round': 300, 'num_iterations': 500, 'num_leaves': 4, 'random_state': 42, 'subsample': 0.2}\n"
     ]
    },
    {
     "name": "stderr",
     "output_type": "stream",
     "text": [
      "\n"
     ]
    }
   ],
   "source": [
    "gbmD_1_best_params, gbmD_1_min_error = gridsearch_GBM(\n",
    "    btc_usd1_ts, gbmD_1_past_covs, 1, 1, 1\n",
    ")"
   ]
  },
  {
   "cell_type": "markdown",
   "metadata": {},
   "source": [
    "#### h = 4"
   ]
  },
  {
   "cell_type": "code",
   "execution_count": 30,
   "metadata": {},
   "outputs": [],
   "source": [
    "# Model D (h = 4) Past Covariates\n",
    "gbmD_4_past_covs = concatenate(\n",
    "    [\n",
    "        btc_usd4_ts,\n",
    "        price_ts.slice_intersect(btc_usd4_ts),\n",
    "        vol_ts.slice_intersect(btc_usd4_ts),\n",
    "        lda_price.slice_intersect(btc_usd4_ts),\n",
    "    ],\n",
    "    axis=1,\n",
    ")"
   ]
  },
  {
   "cell_type": "code",
   "execution_count": 31,
   "metadata": {},
   "outputs": [
    {
     "name": "stderr",
     "output_type": "stream",
     "text": [
      "100%|██████████| 16/16 [09:13<00:00, 34.61s/it]"
     ]
    },
    {
     "name": "stdout",
     "output_type": "stream",
     "text": [
      "Average error (min_error) over all historical forecasts: 1186.64\n",
      "Best Params: {'boosting_type': 'gbdt', 'early_stopping_rounds': 30, 'feature_fraction': 0.8, 'learning_rate': 0.01, 'max_depth': 2, 'num_boost_round': 300, 'num_iterations': 500, 'num_leaves': 4, 'random_state': 42, 'subsample': 0.2}\n"
     ]
    },
    {
     "name": "stderr",
     "output_type": "stream",
     "text": [
      "\n"
     ]
    }
   ],
   "source": [
    "gbmD_4_best_params, gbmD_4_min_error = gridsearch_GBM(\n",
    "    btc_usd4_ts, gbmD_4_past_covs, 1, 1, 1\n",
    ")"
   ]
  },
  {
   "cell_type": "markdown",
   "metadata": {},
   "source": [
    "#### h = 12"
   ]
  },
  {
   "cell_type": "code",
   "execution_count": 32,
   "metadata": {},
   "outputs": [],
   "source": [
    "# Model D (h = 12) Past Covariates\n",
    "gbmD_12_past_covs = concatenate(\n",
    "    [\n",
    "        btc_usd12_ts,\n",
    "        price_ts.slice_intersect(btc_usd12_ts),\n",
    "        vol_ts.slice_intersect(btc_usd12_ts),\n",
    "        lda_price.slice_intersect(btc_usd12_ts),\n",
    "    ],\n",
    "    axis=1,\n",
    ")"
   ]
  },
  {
   "cell_type": "code",
   "execution_count": 33,
   "metadata": {},
   "outputs": [
    {
     "name": "stderr",
     "output_type": "stream",
     "text": [
      "100%|██████████| 16/16 [09:01<00:00, 33.83s/it]"
     ]
    },
    {
     "name": "stdout",
     "output_type": "stream",
     "text": [
      "Average error (min_error) over all historical forecasts: 78.04\n",
      "Best Params: {'boosting_type': 'gbdt', 'early_stopping_rounds': 30, 'feature_fraction': 0.8, 'learning_rate': 0.01, 'max_depth': 2, 'num_boost_round': 300, 'num_iterations': 500, 'num_leaves': 4, 'random_state': 42, 'subsample': 0.2}\n"
     ]
    },
    {
     "name": "stderr",
     "output_type": "stream",
     "text": [
      "\n"
     ]
    }
   ],
   "source": [
    "gbmD_12_best_params, gbmD_12_min_error = gridsearch_GBM(\n",
    "    btc_usd12_ts, gbmD_12_past_covs, 1, 1, 1\n",
    ")"
   ]
  },
  {
   "cell_type": "markdown",
   "metadata": {},
   "source": [
    "#### Model E (Price Returns, Price & Volume + Top2Vec Reddit Price Index)"
   ]
  },
  {
   "cell_type": "markdown",
   "metadata": {},
   "source": [
    "#### h = 1"
   ]
  },
  {
   "cell_type": "code",
   "execution_count": 34,
   "metadata": {},
   "outputs": [],
   "source": [
    "# Model E (h = 1) Past Covariates\n",
    "gbmE_1_past_covs = concatenate(\n",
    "    [\n",
    "        btc_usd1_ts,\n",
    "        price_ts.slice_intersect(btc_usd1_ts),\n",
    "        vol_ts.slice_intersect(btc_usd1_ts),\n",
    "        t2v_price.slice_intersect(btc_usd1_ts),\n",
    "    ],\n",
    "    axis=1,\n",
    ")"
   ]
  },
  {
   "cell_type": "code",
   "execution_count": 35,
   "metadata": {},
   "outputs": [
    {
     "name": "stderr",
     "output_type": "stream",
     "text": [
      "100%|██████████| 16/16 [09:25<00:00, 35.36s/it]"
     ]
    },
    {
     "name": "stdout",
     "output_type": "stream",
     "text": [
      "Average error (min_error) over all historical forecasts: 258.84\n",
      "Best Params: {'boosting_type': 'gbdt', 'early_stopping_rounds': 30, 'feature_fraction': 0.8, 'learning_rate': 0.01, 'max_depth': 2, 'num_boost_round': 300, 'num_iterations': 500, 'num_leaves': 4, 'random_state': 42, 'subsample': 0.2}\n"
     ]
    },
    {
     "name": "stderr",
     "output_type": "stream",
     "text": [
      "\n"
     ]
    }
   ],
   "source": [
    "gbmE_1_best_params, gbmE_1_min_error = gridsearch_GBM(\n",
    "    btc_usd1_ts, gbmE_1_past_covs, 1, 1, 1\n",
    ")"
   ]
  },
  {
   "cell_type": "markdown",
   "metadata": {},
   "source": [
    "#### h = 4"
   ]
  },
  {
   "cell_type": "code",
   "execution_count": 36,
   "metadata": {},
   "outputs": [],
   "source": [
    "# Model E (h = 4) Past Covariates\n",
    "gbmE_4_past_covs = concatenate(\n",
    "    [\n",
    "        btc_usd4_ts,\n",
    "        price_ts.slice_intersect(btc_usd4_ts),\n",
    "        vol_ts.slice_intersect(btc_usd4_ts),\n",
    "        t2v_price.slice_intersect(btc_usd4_ts),\n",
    "    ],\n",
    "    axis=1,\n",
    ")"
   ]
  },
  {
   "cell_type": "code",
   "execution_count": 37,
   "metadata": {},
   "outputs": [
    {
     "name": "stderr",
     "output_type": "stream",
     "text": [
      "100%|██████████| 16/16 [09:33<00:00, 35.82s/it]"
     ]
    },
    {
     "name": "stdout",
     "output_type": "stream",
     "text": [
      "Average error (min_error) over all historical forecasts: 1140.39\n",
      "Best Params: {'boosting_type': 'gbdt', 'early_stopping_rounds': 30, 'feature_fraction': 0.8, 'learning_rate': 0.01, 'max_depth': 2, 'num_boost_round': 300, 'num_iterations': 500, 'num_leaves': 4, 'random_state': 42, 'subsample': 0.2}\n"
     ]
    },
    {
     "name": "stderr",
     "output_type": "stream",
     "text": [
      "\n"
     ]
    }
   ],
   "source": [
    "gbmE_4_best_params, gbmE_4_min_error = gridsearch_GBM(\n",
    "    btc_usd4_ts, gbmE_4_past_covs, 1, 1, 1\n",
    ")"
   ]
  },
  {
   "cell_type": "markdown",
   "metadata": {},
   "source": [
    "#### h = 12"
   ]
  },
  {
   "cell_type": "code",
   "execution_count": 38,
   "metadata": {},
   "outputs": [],
   "source": [
    "# Model E (h = 12) Past Covariates\n",
    "gbmE_12_past_covs = concatenate(\n",
    "    [\n",
    "        btc_usd12_ts,\n",
    "        price_ts.slice_intersect(btc_usd12_ts),\n",
    "        vol_ts.slice_intersect(btc_usd12_ts),\n",
    "        t2v_price.slice_intersect(btc_usd12_ts),\n",
    "    ],\n",
    "    axis=1,\n",
    ")"
   ]
  },
  {
   "cell_type": "code",
   "execution_count": 39,
   "metadata": {},
   "outputs": [
    {
     "name": "stderr",
     "output_type": "stream",
     "text": [
      "100%|██████████| 16/16 [09:43<00:00, 36.47s/it]"
     ]
    },
    {
     "name": "stdout",
     "output_type": "stream",
     "text": [
      "Average error (min_error) over all historical forecasts: 85.94\n",
      "Best Params: {'boosting_type': 'gbdt', 'early_stopping_rounds': 30, 'feature_fraction': 0.8, 'learning_rate': 0.01, 'max_depth': 2, 'num_boost_round': 300, 'num_iterations': 500, 'num_leaves': 4, 'random_state': 42, 'subsample': 0.2}\n"
     ]
    },
    {
     "name": "stderr",
     "output_type": "stream",
     "text": [
      "\n"
     ]
    }
   ],
   "source": [
    "gbmE_12_best_params, gbmE_12_min_error = gridsearch_GBM(\n",
    "    btc_usd12_ts, gbmE_12_past_covs, 1, 1, 1\n",
    ")"
   ]
  },
  {
   "cell_type": "markdown",
   "metadata": {},
   "source": [
    "#### Model F (Price Returns, Price & Volume + VCRIX)"
   ]
  },
  {
   "cell_type": "markdown",
   "metadata": {},
   "source": [
    "#### h = 1"
   ]
  },
  {
   "cell_type": "code",
   "execution_count": 41,
   "metadata": {},
   "outputs": [],
   "source": [
    "# Model F (h = 1) Past Covariates\n",
    "gbmF_1_past_covs = concatenate(\n",
    "    [\n",
    "        btc_usd1_ts,\n",
    "        price_ts.slice_intersect(btc_usd1_ts),\n",
    "        vol_ts.slice_intersect(btc_usd1_ts),\n",
    "        t2v_price.slice_intersect(btc_usd1_ts),\n",
    "    ],\n",
    "    axis=1,\n",
    ")"
   ]
  },
  {
   "cell_type": "code",
   "execution_count": 42,
   "metadata": {},
   "outputs": [
    {
     "name": "stderr",
     "output_type": "stream",
     "text": [
      "100%|██████████| 16/16 [17:51<00:00, 66.99s/it]"
     ]
    },
    {
     "name": "stdout",
     "output_type": "stream",
     "text": [
      "Average error (min_error) over all historical forecasts: 258.84\n",
      "Best Params: {'boosting_type': 'gbdt', 'early_stopping_rounds': 30, 'feature_fraction': 0.8, 'learning_rate': 0.01, 'max_depth': 2, 'num_boost_round': 300, 'num_iterations': 500, 'num_leaves': 4, 'random_state': 42, 'subsample': 0.2}\n"
     ]
    },
    {
     "name": "stderr",
     "output_type": "stream",
     "text": [
      "\n"
     ]
    }
   ],
   "source": [
    "gbmF_1_best_params, gbmF_1_min_error = gridsearch_GBM(\n",
    "    btc_usd1_ts, gbmF_1_past_covs, 1, 1, 1\n",
    ")"
   ]
  },
  {
   "cell_type": "markdown",
   "metadata": {},
   "source": [
    "#### h = 4"
   ]
  },
  {
   "cell_type": "code",
   "execution_count": 43,
   "metadata": {},
   "outputs": [],
   "source": [
    "# Model F (h = 4) Past Covariates\n",
    "gbmF_4_past_covs = concatenate(\n",
    "    [\n",
    "        btc_usd4_ts,\n",
    "        price_ts.slice_intersect(btc_usd4_ts),\n",
    "        vol_ts.slice_intersect(btc_usd4_ts),\n",
    "        t2v_price.slice_intersect(btc_usd4_ts),\n",
    "    ],\n",
    "    axis=1,\n",
    ")"
   ]
  },
  {
   "cell_type": "code",
   "execution_count": 44,
   "metadata": {},
   "outputs": [
    {
     "name": "stderr",
     "output_type": "stream",
     "text": [
      "100%|██████████| 16/16 [09:11<00:00, 34.46s/it]"
     ]
    },
    {
     "name": "stdout",
     "output_type": "stream",
     "text": [
      "Average error (min_error) over all historical forecasts: 1140.39\n",
      "Best Params: {'boosting_type': 'gbdt', 'early_stopping_rounds': 30, 'feature_fraction': 0.8, 'learning_rate': 0.01, 'max_depth': 2, 'num_boost_round': 300, 'num_iterations': 500, 'num_leaves': 4, 'random_state': 42, 'subsample': 0.2}\n"
     ]
    },
    {
     "name": "stderr",
     "output_type": "stream",
     "text": [
      "\n"
     ]
    }
   ],
   "source": [
    "gbmF_4_best_params, gbmF_4_min_error = gridsearch_GBM(\n",
    "    btc_usd4_ts, gbmF_4_past_covs, 1, 1, 1\n",
    ")"
   ]
  },
  {
   "cell_type": "markdown",
   "metadata": {},
   "source": [
    "#### h = 12"
   ]
  },
  {
   "cell_type": "code",
   "execution_count": 45,
   "metadata": {},
   "outputs": [],
   "source": [
    "# Model F (h = 12) Past Covariates\n",
    "gbmF_12_past_covs = concatenate(\n",
    "    [\n",
    "        btc_usd12_ts,\n",
    "        price_ts.slice_intersect(btc_usd12_ts),\n",
    "        vol_ts.slice_intersect(btc_usd12_ts),\n",
    "        t2v_price.slice_intersect(btc_usd12_ts),\n",
    "    ],\n",
    "    axis=1,\n",
    ")"
   ]
  },
  {
   "cell_type": "code",
   "execution_count": 46,
   "metadata": {},
   "outputs": [
    {
     "name": "stderr",
     "output_type": "stream",
     "text": [
      "100%|██████████| 16/16 [08:37<00:00, 32.33s/it]"
     ]
    },
    {
     "name": "stdout",
     "output_type": "stream",
     "text": [
      "Average error (min_error) over all historical forecasts: 85.94\n",
      "Best Params: {'boosting_type': 'gbdt', 'early_stopping_rounds': 30, 'feature_fraction': 0.8, 'learning_rate': 0.01, 'max_depth': 2, 'num_boost_round': 300, 'num_iterations': 500, 'num_leaves': 4, 'random_state': 42, 'subsample': 0.2}\n"
     ]
    },
    {
     "name": "stderr",
     "output_type": "stream",
     "text": [
      "\n"
     ]
    }
   ],
   "source": [
    "gbmF_12_best_params, gbmF_12_min_error = gridsearch_GBM(\n",
    "    btc_usd12_ts, gbmF_12_past_covs, 1, 1, 1\n",
    ")"
   ]
  }
 ],
 "metadata": {
  "interpreter": {
   "hash": "26fa31afa754fb971b44a94a9612d34d26997a00d823853c42f1b189c287d4b1"
  },
  "kernelspec": {
   "display_name": "Python 3.8.12 ('crypto-uncertainty-index-SX872G0E-py3.8': poetry)",
   "language": "python",
   "name": "python3"
  },
  "language_info": {
   "codemirror_mode": {
    "name": "ipython",
    "version": 3
   },
   "file_extension": ".py",
   "mimetype": "text/x-python",
   "name": "python",
   "nbconvert_exporter": "python",
   "pygments_lexer": "ipython3",
   "version": "3.8.12"
  },
  "orig_nbformat": 4
 },
 "nbformat": 4,
 "nbformat_minor": 2
}
