{
 "cells": [
  {
   "cell_type": "markdown",
   "metadata": {},
   "source": [
    "## Tree Based Ensemble Models for Price Returns Forecasting\n",
    "\n",
    "### Approach\n",
    "1. Set Up\n",
    "2. Identifying Suitable Lags for Price, Volume & Uncertainty Indices\n",
    "3. Modelling w/ Grid Search & Forecast Evaluation\n",
    "   1. Random Forest (h = 1, 4, 12)\n",
    "      1. Model A (With Price Returns, Price & Volume)\n",
    "      2. Model B (With A + Lucey Original Price) \n",
    "      3. Model C (With A + Lucey Reddit Price)\n",
    "      4. Model D (With A + LDA Reddit Price)\n",
    "      5. Model E (With A + Top2Vec Reddit Price)\n",
    "      6. Model F (With A + VCRIX)\n",
    "      7. Policy Based Models?\n",
    "\n",
    "TBD:\n",
    "1. Use Technical Indicators Common Factors as additional Baseline\n",
    "2. Add in More Horizon Values\n",
    "3. Use AIC / BIC \n",
    "4. Add in Historical Forecast Plots\n",
    "\n",
    "### Set Up"
   ]
  },
  {
   "cell_type": "code",
   "execution_count": 1,
   "metadata": {},
   "outputs": [],
   "source": [
    "# NB config\n",
    "%load_ext autoreload\n",
    "%autoreload 2\n",
    "\n",
    "# Load Libraries\n",
    "import os\n",
    "os.chdir(\"../../\")\n",
    "from typing import Dict, Optional\n",
    "import pandas as pd\n",
    "import numpy as np\n",
    "from pprint import pprint\n",
    "from pathlib import Path\n",
    "from datetime import datetime\n",
    "from darts import TimeSeries\n",
    "from darts.metrics import (\n",
    "    mape,\n",
    "    mse,\n",
    ")\n",
    "from tqdm import tqdm\n",
    "from darts import concatenate\n",
    "from darts.utils import statistics as dstats\n",
    "from darts.models.forecasting.random_forest import (\n",
    "    RandomForest,\n",
    ")\n",
    "from darts.models.forecasting.gradient_boosted_model import (\n",
    "    LightGBMModel,\n",
    ")\n",
    "from sklearn.model_selection import ParameterGrid\n",
    "import warnings\n",
    "warnings.filterwarnings(\"ignore\")"
   ]
  },
  {
   "cell_type": "markdown",
   "metadata": {},
   "source": [
    "### Data Preparation"
   ]
  },
  {
   "cell_type": "code",
   "execution_count": 2,
   "metadata": {},
   "outputs": [],
   "source": [
    "# Data Dir\n",
    "data_dir = Path(\"forecasting/data/modelling\")\n",
    "\n",
    "# BTC-USD data\n",
    "btc_usd_fp = data_dir / \"btc_usd_weekly.csv\"\n",
    "btc_usd_df = pd.read_csv(btc_usd_fp)\n",
    "\n",
    "# UCRY Indices data\n",
    "ucry_fp = data_dir / \"ucry_indices_weekly.csv\"\n",
    "ucry_df = pd.read_csv(ucry_fp)\n"
   ]
  },
  {
   "cell_type": "markdown",
   "metadata": {},
   "source": [
    "#### Create ***h***-weeks Log Price Returns Time Series"
   ]
  },
  {
   "cell_type": "code",
   "execution_count": 3,
   "metadata": {},
   "outputs": [],
   "source": [
    "# h = 1 (Weekly Price Returns)\n",
    "btc_usd_df[\"Price Returns (h=1)\"] = np.log1p(btc_usd_df[[\"Price\"]].pct_change(1))\n",
    "\n",
    "# h = 4 (4 Week Price Returns)\n",
    "btc_usd_df[\"Price Returns (h=4)\"] = np.log1p(btc_usd_df[[\"Price\"]].pct_change(4))\n",
    "\n",
    "# h = 12 (12 Week Price Returns)\n",
    "btc_usd_df[\"Price Returns (h=12)\"] = np.log1p(btc_usd_df[[\"Price\"]].pct_change(12))\n",
    "\n",
    "# Create TimeSeries\n",
    "# h = 1 (Weekly Price Returns)\n",
    "btc_usd1_ts = TimeSeries.from_dataframe(btc_usd_df[[\"Date\", \"Price Returns (h=1)\"]].dropna(), time_col=\"Date\")\n",
    "\n",
    "# h = 4 (4 Week Price Returns)\n",
    "btc_usd4_ts = TimeSeries.from_dataframe(btc_usd_df[[\"Date\", \"Price Returns (h=4)\"]].dropna(), time_col=\"Date\")\n",
    "\n",
    "# h = 12 (12 Week Price Returns)\n",
    "btc_usd12_ts = TimeSeries.from_dataframe(btc_usd_df[[\"Date\", \"Price Returns (h=12)\"]].dropna(), time_col=\"Date\")"
   ]
  },
  {
   "cell_type": "markdown",
   "metadata": {},
   "source": [
    "### Create Price and Volume Time Series"
   ]
  },
  {
   "cell_type": "code",
   "execution_count": 4,
   "metadata": {},
   "outputs": [],
   "source": [
    "price_ts = TimeSeries.from_dataframe(btc_usd_df[[\"Date\", \"Price\"]], time_col=\"Date\")"
   ]
  },
  {
   "cell_type": "code",
   "execution_count": 5,
   "metadata": {},
   "outputs": [],
   "source": [
    "vol_ts = TimeSeries.from_dataframe(btc_usd_df[[\"Date\", \"Volume\"]], time_col=\"Date\")"
   ]
  },
  {
   "cell_type": "markdown",
   "metadata": {},
   "source": [
    "#### Create UCRY Indices Time Series"
   ]
  },
  {
   "cell_type": "code",
   "execution_count": 6,
   "metadata": {},
   "outputs": [],
   "source": [
    "# Create TimeSeries\n",
    "sel_cols = [\"Date\", \"Index Value\"]\n",
    "time_col = \"Date\"\n",
    "\n",
    "# Lucey Price\n",
    "lucey_price = (\n",
    "    TimeSeries.from_dataframe(\n",
    "        ucry_df[ucry_df.Index == \"Lucey-Original-Price\"].reset_index()[sel_cols],\n",
    "        time_col=time_col\n",
    "    )\n",
    ")\n",
    "\n",
    "# Lucey Reddit Price\n",
    "lucey_reddit_price = (\n",
    "    TimeSeries.from_dataframe(\n",
    "        ucry_df[ucry_df.Index == \"Lucey-Reddit-Price\"].reset_index()[sel_cols],\n",
    "        time_col=time_col\n",
    "    )\n",
    ")\n",
    "\n",
    "# LDA Price\n",
    "lda_price = (\n",
    "    TimeSeries.from_dataframe(\n",
    "        ucry_df[ucry_df.Index == \"LDA-Reddit-Price\"].reset_index()[sel_cols],\n",
    "        time_col=time_col\n",
    "    )\n",
    ")\n",
    "\n",
    "# Top2Vec Price\n",
    "t2v_price = (\n",
    "    TimeSeries.from_dataframe(\n",
    "        ucry_df[ucry_df.Index == \"Top2Vec-Reddit-Price\"].reset_index()[sel_cols],\n",
    "        time_col=time_col\n",
    "    )\n",
    ")\n",
    "\n",
    "# VCRIX\n",
    "vcrix = (\n",
    "    TimeSeries.from_dataframe(\n",
    "        ucry_df[ucry_df.Index == \"VCRIX\"].reset_index()[sel_cols],\n",
    "        time_col=time_col\n",
    "    )\n",
    ")"
   ]
  },
  {
   "cell_type": "markdown",
   "metadata": {},
   "source": [
    "#### Train Test Split Date"
   ]
  },
  {
   "cell_type": "code",
   "execution_count": 7,
   "metadata": {},
   "outputs": [],
   "source": [
    "# Split into Train and Test\n",
    "split_date = pd.Timestamp(\"20190527\")"
   ]
  },
  {
   "cell_type": "markdown",
   "metadata": {},
   "source": [
    "### Identify Suitable Lags for UCRY Index Time Series\n",
    "* STATUS: Use **t** variables to predict **t + h** variables for now"
   ]
  },
  {
   "cell_type": "markdown",
   "metadata": {},
   "source": [
    "### Random Forest Forecasting Model & Evaluation\n",
    "\n",
    "#### Define Params Grid for Grid Search"
   ]
  },
  {
   "cell_type": "code",
   "execution_count": 8,
   "metadata": {},
   "outputs": [
    {
     "data": {
      "text/plain": [
       "18"
      ]
     },
     "execution_count": 8,
     "metadata": {},
     "output_type": "execute_result"
    }
   ],
   "source": [
    "# Params Grid\n",
    "\n",
    "rf_params_grid = {\n",
    "    'n_estimators': [50, 100, 300],\n",
    "    'max_depth': [2, 5, 10],\n",
    "    'criterion': ['squared_error'],\n",
    "    'max_features': [1/3, 'auto'],\n",
    "    'n_jobs': [-1],\n",
    "}\n",
    "\n",
    "rf_params_list = list(ParameterGrid(rf_params_grid))\n",
    "len(rf_params_list)"
   ]
  },
  {
   "cell_type": "markdown",
   "metadata": {},
   "source": [
    "### Random Forest GridSearch Helper"
   ]
  },
  {
   "cell_type": "code",
   "execution_count": 9,
   "metadata": {},
   "outputs": [],
   "source": [
    "# Run Grid Search (Runs for super long may be buggy - Revisit in the future)\n",
    "# rfA_1_best_model, rfA_1_best_params = RandomForest(\n",
    "#    lags=1,\n",
    "#     lags_past_covariates=1\n",
    "# ).gridsearch(\n",
    "#     parameters=rf_params_grid,\n",
    "#     series=btc_usd1_ts,\n",
    "#     past_covariates=rfA_1_past_covs,\n",
    "#     forecast_horizon=1,\n",
    "#     stride=1,\n",
    "#     start=split_date,\n",
    "#     metric=mape,\n",
    "#     reduction=np.mean,\n",
    "#     verbose=True,\n",
    "#     n_jobs=-1\n",
    "# )\n",
    "# \n",
    "# pprint(rfA_1_best_params)"
   ]
  },
  {
   "cell_type": "code",
   "execution_count": 10,
   "metadata": {},
   "outputs": [],
   "source": [
    "# Homemade RF Grid Search\n",
    "\n",
    "def gridsearch_RF(\n",
    "    series: TimeSeries,\n",
    "    past_covariates: TimeSeries,\n",
    "    forecast_horizon: int, \n",
    "    lags: int,\n",
    "    lags_past_covariates: int,\n",
    "    verbose: bool = False,\n",
    "):\n",
    "\n",
    "    min_error = np.float(\"inf\")\n",
    "    best_params = None\n",
    "\n",
    "    for params in tqdm(rf_params_list):\n",
    "        model = RandomForest(\n",
    "            lags=lags,\n",
    "            lags_past_covariates=lags_past_covariates\n",
    "        )\n",
    "        error = model.backtest(\n",
    "            series=series,\n",
    "            past_covariates=past_covariates,\n",
    "            forecast_horizon=forecast_horizon,\n",
    "            stride=1,\n",
    "            start=split_date,\n",
    "            metric=mape,\n",
    "            reduction=np.mean,\n",
    "            verbose=verbose,\n",
    "        )\n",
    "        if error < min_error:\n",
    "            min_error = error\n",
    "            best_params = params\n",
    "\n",
    "    print(\"Average error (min_error) over all historical forecasts: %.2f\" % min_error)\n",
    "    print(\"Best Params: %s\" % str(best_params))\n",
    "\n",
    "    return best_params, min_error"
   ]
  },
  {
   "cell_type": "markdown",
   "metadata": {},
   "source": [
    "#### Model A (Price Returns, Price & Volume)"
   ]
  },
  {
   "cell_type": "markdown",
   "metadata": {},
   "source": [
    "##### h = 1"
   ]
  },
  {
   "cell_type": "code",
   "execution_count": 11,
   "metadata": {},
   "outputs": [],
   "source": [
    "# Model A (h = 1) Past Covariates\n",
    "rfA_1_past_covs = concatenate(\n",
    "    [btc_usd1_ts,\n",
    "    price_ts.slice_intersect(btc_usd1_ts),\n",
    "    vol_ts.slice_intersect(btc_usd1_ts)],\n",
    "    axis=1\n",
    ")"
   ]
  },
  {
   "cell_type": "code",
   "execution_count": 12,
   "metadata": {},
   "outputs": [
    {
     "name": "stderr",
     "output_type": "stream",
     "text": [
      "100%|██████████| 18/18 [03:39<00:00, 12.20s/it]"
     ]
    },
    {
     "name": "stdout",
     "output_type": "stream",
     "text": [
      "Average error (min_error) over all historical forecasts: 211.96\n",
      "Best Params: {'criterion': 'squared_error', 'max_depth': 2, 'max_features': 'auto', 'n_estimators': 100, 'n_jobs': -1}\n"
     ]
    },
    {
     "name": "stderr",
     "output_type": "stream",
     "text": [
      "\n"
     ]
    }
   ],
   "source": [
    "rfA_1_best_params, rfA_1_min_error = gridsearch_RF(\n",
    "    btc_usd1_ts,\n",
    "    rfA_1_past_covs,\n",
    "    1,\n",
    "    1,\n",
    "    1\n",
    ")"
   ]
  },
  {
   "cell_type": "markdown",
   "metadata": {},
   "source": [
    "#### h = 4"
   ]
  },
  {
   "cell_type": "code",
   "execution_count": 13,
   "metadata": {},
   "outputs": [],
   "source": [
    "# Model A (h = 4) Past Covariates\n",
    "rfA_4_past_covs = concatenate(\n",
    "    [btc_usd4_ts,\n",
    "    price_ts.slice_intersect(btc_usd4_ts),\n",
    "    vol_ts.slice_intersect(btc_usd4_ts)],\n",
    "    axis=1\n",
    ")"
   ]
  },
  {
   "cell_type": "code",
   "execution_count": 14,
   "metadata": {},
   "outputs": [
    {
     "name": "stderr",
     "output_type": "stream",
     "text": [
      "100%|██████████| 18/18 [03:11<00:00, 10.61s/it]"
     ]
    },
    {
     "name": "stdout",
     "output_type": "stream",
     "text": [
      "Average error (min_error) over all historical forecasts: 823.02\n",
      "Best Params: {'criterion': 'squared_error', 'max_depth': 2, 'max_features': 0.3333333333333333, 'n_estimators': 50, 'n_jobs': -1}\n"
     ]
    },
    {
     "name": "stderr",
     "output_type": "stream",
     "text": [
      "\n"
     ]
    }
   ],
   "source": [
    "rfA_4_best_params, rfA_4_min_error = gridsearch_RF(\n",
    "    btc_usd4_ts,\n",
    "    rfA_4_past_covs,\n",
    "    1,\n",
    "    1,\n",
    "    1\n",
    ")"
   ]
  },
  {
   "cell_type": "markdown",
   "metadata": {},
   "source": [
    "#### h = 12"
   ]
  },
  {
   "cell_type": "code",
   "execution_count": 15,
   "metadata": {},
   "outputs": [],
   "source": [
    "# Model A (h = 12) Past Covariates\n",
    "rfA_12_past_covs = concatenate(\n",
    "    [btc_usd12_ts,\n",
    "    price_ts.slice_intersect(btc_usd12_ts),\n",
    "    vol_ts.slice_intersect(btc_usd12_ts)],\n",
    "    axis=1\n",
    ")"
   ]
  },
  {
   "cell_type": "code",
   "execution_count": 16,
   "metadata": {},
   "outputs": [
    {
     "name": "stderr",
     "output_type": "stream",
     "text": [
      "100%|██████████| 18/18 [03:08<00:00, 10.46s/it]"
     ]
    },
    {
     "name": "stdout",
     "output_type": "stream",
     "text": [
      "Average error (min_error) over all historical forecasts: 92.26\n",
      "Best Params: {'criterion': 'squared_error', 'max_depth': 2, 'max_features': 'auto', 'n_estimators': 300, 'n_jobs': -1}\n"
     ]
    },
    {
     "name": "stderr",
     "output_type": "stream",
     "text": [
      "\n"
     ]
    }
   ],
   "source": [
    "rfA_12_best_params, rfA_12_min_error = gridsearch_RF(\n",
    "    btc_usd12_ts,\n",
    "    rfA_12_past_covs,\n",
    "    1,\n",
    "    1,\n",
    "    1\n",
    ")"
   ]
  },
  {
   "cell_type": "markdown",
   "metadata": {},
   "source": [
    "#### Model B (Price Returns, Price & Volume + Lucey Price Index)"
   ]
  },
  {
   "cell_type": "markdown",
   "metadata": {},
   "source": [
    "#### h = 1"
   ]
  },
  {
   "cell_type": "code",
   "execution_count": 19,
   "metadata": {},
   "outputs": [],
   "source": [
    "# Model B (h = 1) Past Covariates\n",
    "rfB_1_past_covs = concatenate(\n",
    "    [btc_usd1_ts,\n",
    "    price_ts.slice_intersect(btc_usd1_ts),\n",
    "    vol_ts.slice_intersect(btc_usd1_ts),\n",
    "    lucey_price.slice_intersect(btc_usd1_ts)],\n",
    "    axis=1\n",
    ")"
   ]
  },
  {
   "cell_type": "code",
   "execution_count": 20,
   "metadata": {},
   "outputs": [
    {
     "name": "stderr",
     "output_type": "stream",
     "text": [
      "100%|██████████| 18/18 [04:02<00:00, 13.48s/it]"
     ]
    },
    {
     "name": "stdout",
     "output_type": "stream",
     "text": [
      "Average error (min_error) over all historical forecasts: 245.69\n",
      "Best Params: {'criterion': 'squared_error', 'max_depth': 2, 'max_features': 0.3333333333333333, 'n_estimators': 100, 'n_jobs': -1}\n"
     ]
    },
    {
     "name": "stderr",
     "output_type": "stream",
     "text": [
      "\n"
     ]
    }
   ],
   "source": [
    "rfB_1_best_params, rfB_1_min_error = gridsearch_RF(\n",
    "    btc_usd1_ts,\n",
    "    rfB_1_past_covs,\n",
    "    1,\n",
    "    1,\n",
    "    1\n",
    ")"
   ]
  },
  {
   "cell_type": "markdown",
   "metadata": {},
   "source": [
    "#### h = 4"
   ]
  },
  {
   "cell_type": "code",
   "execution_count": 21,
   "metadata": {},
   "outputs": [],
   "source": [
    "# Model B (h = 4) Past Covariates\n",
    "rfB_4_past_covs = concatenate(\n",
    "    [btc_usd4_ts,\n",
    "    price_ts.slice_intersect(btc_usd4_ts),\n",
    "    vol_ts.slice_intersect(btc_usd4_ts),\n",
    "    lucey_price.slice_intersect(btc_usd4_ts)],\n",
    "    axis=1\n",
    ")"
   ]
  },
  {
   "cell_type": "code",
   "execution_count": 22,
   "metadata": {},
   "outputs": [
    {
     "name": "stderr",
     "output_type": "stream",
     "text": [
      "100%|██████████| 18/18 [03:33<00:00, 11.86s/it]"
     ]
    },
    {
     "name": "stdout",
     "output_type": "stream",
     "text": [
      "Average error (min_error) over all historical forecasts: 609.11\n",
      "Best Params: {'criterion': 'squared_error', 'max_depth': 2, 'max_features': 'auto', 'n_estimators': 50, 'n_jobs': -1}\n"
     ]
    },
    {
     "name": "stderr",
     "output_type": "stream",
     "text": [
      "\n"
     ]
    }
   ],
   "source": [
    "rfB_4_best_params, rfB_4_min_error = gridsearch_RF(\n",
    "    btc_usd4_ts,\n",
    "    rfB_4_past_covs,\n",
    "    1,\n",
    "    1,\n",
    "    1\n",
    ")"
   ]
  },
  {
   "cell_type": "markdown",
   "metadata": {},
   "source": [
    "#### h = 12"
   ]
  },
  {
   "cell_type": "code",
   "execution_count": 23,
   "metadata": {},
   "outputs": [],
   "source": [
    "# Model B (h = 12) Past Covariates\n",
    "rfB_12_past_covs = concatenate(\n",
    "    [btc_usd12_ts,\n",
    "    price_ts.slice_intersect(btc_usd12_ts),\n",
    "    vol_ts.slice_intersect(btc_usd12_ts),\n",
    "    lucey_price.slice_intersect(btc_usd12_ts)],\n",
    "    axis=1\n",
    ")"
   ]
  },
  {
   "cell_type": "code",
   "execution_count": 24,
   "metadata": {},
   "outputs": [
    {
     "name": "stderr",
     "output_type": "stream",
     "text": [
      "100%|██████████| 18/18 [03:23<00:00, 11.28s/it]"
     ]
    },
    {
     "name": "stdout",
     "output_type": "stream",
     "text": [
      "Average error (min_error) over all historical forecasts: 91.07\n",
      "Best Params: {'criterion': 'squared_error', 'max_depth': 5, 'max_features': 'auto', 'n_estimators': 300, 'n_jobs': -1}\n"
     ]
    },
    {
     "name": "stderr",
     "output_type": "stream",
     "text": [
      "\n"
     ]
    }
   ],
   "source": [
    "rfB_12_best_params, rfB_12_min_error = gridsearch_RF(\n",
    "    btc_usd12_ts,\n",
    "    rfB_12_past_covs,\n",
    "    1,\n",
    "    1,\n",
    "    1\n",
    ")"
   ]
  },
  {
   "cell_type": "markdown",
   "metadata": {},
   "source": [
    "#### Model C (Price Returns, Price & Volume + Lucey Reddit Price Index)"
   ]
  },
  {
   "cell_type": "markdown",
   "metadata": {},
   "source": [
    "#### h = 1"
   ]
  },
  {
   "cell_type": "code",
   "execution_count": 25,
   "metadata": {},
   "outputs": [],
   "source": [
    "# Model C (h = 1) Past Covariates\n",
    "rfC_1_past_covs = concatenate(\n",
    "    [btc_usd1_ts,\n",
    "    price_ts.slice_intersect(btc_usd1_ts),\n",
    "    vol_ts.slice_intersect(btc_usd1_ts),\n",
    "    lucey_reddit_price.slice_intersect(btc_usd1_ts)],\n",
    "    axis=1\n",
    ")"
   ]
  },
  {
   "cell_type": "code",
   "execution_count": 26,
   "metadata": {},
   "outputs": [
    {
     "name": "stderr",
     "output_type": "stream",
     "text": [
      "100%|██████████| 18/18 [04:09<00:00, 13.84s/it]"
     ]
    },
    {
     "name": "stdout",
     "output_type": "stream",
     "text": [
      "Average error (min_error) over all historical forecasts: 178.86\n",
      "Best Params: {'criterion': 'squared_error', 'max_depth': 5, 'max_features': 'auto', 'n_estimators': 100, 'n_jobs': -1}\n"
     ]
    },
    {
     "name": "stderr",
     "output_type": "stream",
     "text": [
      "\n"
     ]
    }
   ],
   "source": [
    "rfC_1_best_params, rfC_1_min_error = gridsearch_RF(\n",
    "    btc_usd1_ts,\n",
    "    rfC_1_past_covs,\n",
    "    1,\n",
    "    1,\n",
    "    1\n",
    ")"
   ]
  },
  {
   "cell_type": "markdown",
   "metadata": {},
   "source": [
    "#### h = 4"
   ]
  },
  {
   "cell_type": "code",
   "execution_count": 27,
   "metadata": {},
   "outputs": [],
   "source": [
    "# Model C (h = 4) Past Covariates\n",
    "rfC_4_past_covs = concatenate(\n",
    "    [btc_usd4_ts,\n",
    "    price_ts.slice_intersect(btc_usd4_ts),\n",
    "    vol_ts.slice_intersect(btc_usd4_ts),\n",
    "    lucey_reddit_price.slice_intersect(btc_usd4_ts)],\n",
    "    axis=1\n",
    ")"
   ]
  },
  {
   "cell_type": "code",
   "execution_count": 28,
   "metadata": {},
   "outputs": [
    {
     "name": "stderr",
     "output_type": "stream",
     "text": [
      "100%|██████████| 18/18 [03:32<00:00, 11.82s/it]"
     ]
    },
    {
     "name": "stdout",
     "output_type": "stream",
     "text": [
      "Average error (min_error) over all historical forecasts: 1213.74\n",
      "Best Params: {'criterion': 'squared_error', 'max_depth': 10, 'max_features': 0.3333333333333333, 'n_estimators': 50, 'n_jobs': -1}\n"
     ]
    },
    {
     "name": "stderr",
     "output_type": "stream",
     "text": [
      "\n"
     ]
    }
   ],
   "source": [
    "rfC_4_best_params, rfC_4_min_error = gridsearch_RF(\n",
    "    btc_usd4_ts,\n",
    "    rfC_4_past_covs,\n",
    "    1,\n",
    "    1,\n",
    "    1\n",
    ")"
   ]
  },
  {
   "cell_type": "markdown",
   "metadata": {},
   "source": [
    "#### h = 12"
   ]
  },
  {
   "cell_type": "code",
   "execution_count": 30,
   "metadata": {},
   "outputs": [],
   "source": [
    "# Model C (h = 12) Past Covariates\n",
    "rfC_12_past_covs = concatenate(\n",
    "    [btc_usd12_ts,\n",
    "    price_ts.slice_intersect(btc_usd12_ts),\n",
    "    vol_ts.slice_intersect(btc_usd12_ts),\n",
    "    lucey_reddit_price.slice_intersect(btc_usd12_ts)],\n",
    "    axis=1\n",
    ")"
   ]
  },
  {
   "cell_type": "code",
   "execution_count": 31,
   "metadata": {},
   "outputs": [
    {
     "name": "stderr",
     "output_type": "stream",
     "text": [
      "100%|██████████| 18/18 [03:19<00:00, 11.10s/it]"
     ]
    },
    {
     "name": "stdout",
     "output_type": "stream",
     "text": [
      "Average error (min_error) over all historical forecasts: 94.07\n",
      "Best Params: {'criterion': 'squared_error', 'max_depth': 2, 'max_features': 0.3333333333333333, 'n_estimators': 50, 'n_jobs': -1}\n"
     ]
    },
    {
     "name": "stderr",
     "output_type": "stream",
     "text": [
      "\n"
     ]
    }
   ],
   "source": [
    "rfC_12_best_params, rfC_12_min_error = gridsearch_RF(\n",
    "    btc_usd12_ts,\n",
    "    rfC_12_past_covs,\n",
    "    1,\n",
    "    1,\n",
    "    1\n",
    ")"
   ]
  },
  {
   "cell_type": "markdown",
   "metadata": {},
   "source": [
    "#### Model D (Price Returns, Price & Volume + LDA Reddit Price Index)"
   ]
  },
  {
   "cell_type": "markdown",
   "metadata": {},
   "source": [
    "#### h = 1"
   ]
  },
  {
   "cell_type": "code",
   "execution_count": 32,
   "metadata": {},
   "outputs": [],
   "source": [
    "# Model D (h = 1) Past Covariates\n",
    "rfD_1_past_covs = concatenate(\n",
    "    [btc_usd1_ts,\n",
    "    price_ts.slice_intersect(btc_usd1_ts),\n",
    "    vol_ts.slice_intersect(btc_usd1_ts),\n",
    "    lda_price.slice_intersect(btc_usd1_ts)],\n",
    "    axis=1\n",
    ")"
   ]
  },
  {
   "cell_type": "code",
   "execution_count": 33,
   "metadata": {},
   "outputs": [
    {
     "name": "stderr",
     "output_type": "stream",
     "text": [
      "100%|██████████| 18/18 [04:04<00:00, 13.59s/it]"
     ]
    },
    {
     "name": "stdout",
     "output_type": "stream",
     "text": [
      "Average error (min_error) over all historical forecasts: 200.91\n",
      "Best Params: {'criterion': 'squared_error', 'max_depth': 5, 'max_features': 'auto', 'n_estimators': 300, 'n_jobs': -1}\n"
     ]
    },
    {
     "name": "stderr",
     "output_type": "stream",
     "text": [
      "\n"
     ]
    }
   ],
   "source": [
    "rfD_1_best_params, rfD_1_min_error = gridsearch_RF(\n",
    "    btc_usd1_ts,\n",
    "    rfD_1_past_covs,\n",
    "    1,\n",
    "    1,\n",
    "    1\n",
    ")"
   ]
  },
  {
   "cell_type": "markdown",
   "metadata": {},
   "source": [
    "#### h = 4"
   ]
  },
  {
   "cell_type": "code",
   "execution_count": 34,
   "metadata": {},
   "outputs": [],
   "source": [
    "# Model D (h = 4) Past Covariates\n",
    "rfD_4_past_covs = concatenate(\n",
    "    [btc_usd4_ts,\n",
    "    price_ts.slice_intersect(btc_usd4_ts),\n",
    "    vol_ts.slice_intersect(btc_usd4_ts),\n",
    "    lda_price.slice_intersect(btc_usd4_ts)],\n",
    "    axis=1\n",
    ")"
   ]
  },
  {
   "cell_type": "code",
   "execution_count": 35,
   "metadata": {},
   "outputs": [
    {
     "name": "stderr",
     "output_type": "stream",
     "text": [
      "100%|██████████| 18/18 [03:32<00:00, 11.82s/it]"
     ]
    },
    {
     "name": "stdout",
     "output_type": "stream",
     "text": [
      "Average error (min_error) over all historical forecasts: 785.84\n",
      "Best Params: {'criterion': 'squared_error', 'max_depth': 5, 'max_features': 'auto', 'n_estimators': 100, 'n_jobs': -1}\n"
     ]
    },
    {
     "name": "stderr",
     "output_type": "stream",
     "text": [
      "\n"
     ]
    }
   ],
   "source": [
    "rfD_4_best_params, rfD_4_min_error = gridsearch_RF(\n",
    "    btc_usd4_ts,\n",
    "    rfD_4_past_covs,\n",
    "    1,\n",
    "    1,\n",
    "    1\n",
    ")"
   ]
  },
  {
   "cell_type": "markdown",
   "metadata": {},
   "source": [
    "#### h = 12"
   ]
  },
  {
   "cell_type": "code",
   "execution_count": 36,
   "metadata": {},
   "outputs": [],
   "source": [
    "# Model D (h = 12) Past Covariates\n",
    "rfD_12_past_covs = concatenate(\n",
    "    [btc_usd12_ts,\n",
    "    price_ts.slice_intersect(btc_usd12_ts),\n",
    "    vol_ts.slice_intersect(btc_usd12_ts),\n",
    "    lda_price.slice_intersect(btc_usd12_ts)],\n",
    "    axis=1\n",
    ")"
   ]
  },
  {
   "cell_type": "code",
   "execution_count": 37,
   "metadata": {},
   "outputs": [
    {
     "name": "stderr",
     "output_type": "stream",
     "text": [
      "100%|██████████| 18/18 [03:20<00:00, 11.11s/it]"
     ]
    },
    {
     "name": "stdout",
     "output_type": "stream",
     "text": [
      "Average error (min_error) over all historical forecasts: 87.88\n",
      "Best Params: {'criterion': 'squared_error', 'max_depth': 2, 'max_features': 0.3333333333333333, 'n_estimators': 100, 'n_jobs': -1}\n"
     ]
    },
    {
     "name": "stderr",
     "output_type": "stream",
     "text": [
      "\n"
     ]
    }
   ],
   "source": [
    "rfD_12_best_params, rfD_12_min_error = gridsearch_RF(\n",
    "    btc_usd12_ts,\n",
    "    rfD_12_past_covs,\n",
    "    1,\n",
    "    1,\n",
    "    1\n",
    ")"
   ]
  },
  {
   "cell_type": "markdown",
   "metadata": {},
   "source": [
    "#### Model E (Price Returns, Price & Volume + Top2Vec Reddit Price Index)"
   ]
  },
  {
   "cell_type": "markdown",
   "metadata": {},
   "source": [
    "#### h = 1"
   ]
  },
  {
   "cell_type": "code",
   "execution_count": 38,
   "metadata": {},
   "outputs": [],
   "source": [
    "# Model E (h = 1) Past Covariates\n",
    "rfE_1_past_covs = concatenate(\n",
    "    [btc_usd1_ts,\n",
    "    price_ts.slice_intersect(btc_usd1_ts),\n",
    "    vol_ts.slice_intersect(btc_usd1_ts),\n",
    "    t2v_price.slice_intersect(btc_usd1_ts)],\n",
    "    axis=1\n",
    ")"
   ]
  },
  {
   "cell_type": "code",
   "execution_count": 39,
   "metadata": {},
   "outputs": [
    {
     "name": "stderr",
     "output_type": "stream",
     "text": [
      "100%|██████████| 18/18 [04:07<00:00, 13.77s/it]"
     ]
    },
    {
     "name": "stdout",
     "output_type": "stream",
     "text": [
      "Average error (min_error) over all historical forecasts: 180.42\n",
      "Best Params: {'criterion': 'squared_error', 'max_depth': 2, 'max_features': 'auto', 'n_estimators': 50, 'n_jobs': -1}\n"
     ]
    },
    {
     "name": "stderr",
     "output_type": "stream",
     "text": [
      "\n"
     ]
    }
   ],
   "source": [
    "rfE_1_best_params, rfE_1_min_error = gridsearch_RF(\n",
    "    btc_usd1_ts,\n",
    "    rfE_1_past_covs,\n",
    "    1,\n",
    "    1,\n",
    "    1\n",
    ")"
   ]
  },
  {
   "cell_type": "markdown",
   "metadata": {},
   "source": [
    "#### h = 4"
   ]
  },
  {
   "cell_type": "code",
   "execution_count": 40,
   "metadata": {},
   "outputs": [],
   "source": [
    "# Model E (h = 4) Past Covariates\n",
    "rfE_4_past_covs = concatenate(\n",
    "    [btc_usd4_ts,\n",
    "    price_ts.slice_intersect(btc_usd4_ts),\n",
    "    vol_ts.slice_intersect(btc_usd4_ts),\n",
    "    t2v_price.slice_intersect(btc_usd4_ts)],\n",
    "    axis=1\n",
    ")"
   ]
  },
  {
   "cell_type": "code",
   "execution_count": 41,
   "metadata": {},
   "outputs": [
    {
     "name": "stderr",
     "output_type": "stream",
     "text": [
      "100%|██████████| 18/18 [03:36<00:00, 12.01s/it]"
     ]
    },
    {
     "name": "stdout",
     "output_type": "stream",
     "text": [
      "Average error (min_error) over all historical forecasts: 805.87\n",
      "Best Params: {'criterion': 'squared_error', 'max_depth': 10, 'max_features': 0.3333333333333333, 'n_estimators': 50, 'n_jobs': -1}\n"
     ]
    },
    {
     "name": "stderr",
     "output_type": "stream",
     "text": [
      "\n"
     ]
    }
   ],
   "source": [
    "rfE_4_best_params, rfE_4_min_error = gridsearch_RF(\n",
    "    btc_usd4_ts,\n",
    "    rfE_4_past_covs,\n",
    "    1,\n",
    "    1,\n",
    "    1\n",
    ")"
   ]
  },
  {
   "cell_type": "markdown",
   "metadata": {},
   "source": [
    "#### h = 12"
   ]
  },
  {
   "cell_type": "code",
   "execution_count": 42,
   "metadata": {},
   "outputs": [],
   "source": [
    "# Model E (h = 12) Past Covariates\n",
    "rfE_12_past_covs = concatenate(\n",
    "    [btc_usd12_ts,\n",
    "    price_ts.slice_intersect(btc_usd12_ts),\n",
    "    vol_ts.slice_intersect(btc_usd12_ts),\n",
    "    t2v_price.slice_intersect(btc_usd12_ts)],\n",
    "    axis=1\n",
    ")"
   ]
  },
  {
   "cell_type": "code",
   "execution_count": 43,
   "metadata": {},
   "outputs": [
    {
     "name": "stderr",
     "output_type": "stream",
     "text": [
      "100%|██████████| 18/18 [03:30<00:00, 11.70s/it]"
     ]
    },
    {
     "name": "stdout",
     "output_type": "stream",
     "text": [
      "Average error (min_error) over all historical forecasts: 88.07\n",
      "Best Params: {'criterion': 'squared_error', 'max_depth': 5, 'max_features': 'auto', 'n_estimators': 100, 'n_jobs': -1}\n"
     ]
    },
    {
     "name": "stderr",
     "output_type": "stream",
     "text": [
      "\n"
     ]
    }
   ],
   "source": [
    "rfE_12_best_params, rfE_12_min_error = gridsearch_RF(\n",
    "    btc_usd12_ts,\n",
    "    rfE_12_past_covs,\n",
    "    1,\n",
    "    1,\n",
    "    1\n",
    ")"
   ]
  },
  {
   "cell_type": "markdown",
   "metadata": {},
   "source": [
    "#### Model F (Price Returns, Price & Volume + VCRIX)"
   ]
  },
  {
   "cell_type": "markdown",
   "metadata": {},
   "source": [
    "#### h = 1"
   ]
  },
  {
   "cell_type": "code",
   "execution_count": 60,
   "metadata": {},
   "outputs": [],
   "source": [
    "# Model F (h = 1) Past Covariates\n",
    "rfF_1_past_covs = concatenate(\n",
    "    [btc_usd1_ts.slice_intersect(vcrix),\n",
    "    price_ts.slice_intersect(vcrix),\n",
    "    vol_ts.slice_intersect(vcrix),\n",
    "    vcrix.slice_intersect(btc_usd1_ts.slice_intersect(vcrix))],\n",
    "    axis=1\n",
    ")"
   ]
  },
  {
   "cell_type": "code",
   "execution_count": 61,
   "metadata": {},
   "outputs": [
    {
     "name": "stderr",
     "output_type": "stream",
     "text": [
      "100%|██████████| 18/18 [03:18<00:00, 11.05s/it]"
     ]
    },
    {
     "name": "stdout",
     "output_type": "stream",
     "text": [
      "Average error (min_error) over all historical forecasts: 170.98\n",
      "Best Params: {'criterion': 'squared_error', 'max_depth': 5, 'max_features': 'auto', 'n_estimators': 50, 'n_jobs': -1}\n"
     ]
    },
    {
     "name": "stderr",
     "output_type": "stream",
     "text": [
      "\n"
     ]
    }
   ],
   "source": [
    "rfF_1_best_params, rfF_1_min_error = gridsearch_RF(\n",
    "    btc_usd1_ts,\n",
    "    rfF_1_past_covs,\n",
    "    1,\n",
    "    1,\n",
    "    1\n",
    ")"
   ]
  },
  {
   "cell_type": "markdown",
   "metadata": {},
   "source": [
    "#### h = 4"
   ]
  },
  {
   "cell_type": "code",
   "execution_count": 62,
   "metadata": {},
   "outputs": [],
   "source": [
    "# Model F (h = 4) Past Covariates\n",
    "rfF_4_past_covs = concatenate(\n",
    "    [btc_usd4_ts.slice_intersect(vcrix),\n",
    "    price_ts.slice_intersect(vcrix),\n",
    "    vol_ts.slice_intersect(vcrix),\n",
    "    vcrix.slice_intersect(btc_usd1_ts.slice_intersect(vcrix))],\n",
    "    axis=1\n",
    ")"
   ]
  },
  {
   "cell_type": "code",
   "execution_count": 63,
   "metadata": {},
   "outputs": [
    {
     "name": "stderr",
     "output_type": "stream",
     "text": [
      "100%|██████████| 18/18 [03:06<00:00, 10.34s/it]"
     ]
    },
    {
     "name": "stdout",
     "output_type": "stream",
     "text": [
      "Average error (min_error) over all historical forecasts: 921.30\n",
      "Best Params: {'criterion': 'squared_error', 'max_depth': 10, 'max_features': 0.3333333333333333, 'n_estimators': 100, 'n_jobs': -1}\n"
     ]
    },
    {
     "name": "stderr",
     "output_type": "stream",
     "text": [
      "\n"
     ]
    }
   ],
   "source": [
    "rfF_4_best_params, rfF_4_min_error = gridsearch_RF(\n",
    "    btc_usd4_ts,\n",
    "    rfF_4_past_covs,\n",
    "    1,\n",
    "    1,\n",
    "    1\n",
    ")"
   ]
  },
  {
   "cell_type": "markdown",
   "metadata": {},
   "source": [
    "#### h = 12"
   ]
  },
  {
   "cell_type": "code",
   "execution_count": 64,
   "metadata": {},
   "outputs": [],
   "source": [
    "# Model F (h = 12) Past Covariates\n",
    "rfF_12_past_covs = concatenate(\n",
    "    [btc_usd12_ts.slice_intersect(vcrix),\n",
    "    price_ts.slice_intersect(vcrix),\n",
    "    vol_ts.slice_intersect(vcrix),\n",
    "    vcrix.slice_intersect(btc_usd1_ts.slice_intersect(vcrix))],\n",
    "    axis=1\n",
    ")"
   ]
  },
  {
   "cell_type": "code",
   "execution_count": 65,
   "metadata": {},
   "outputs": [
    {
     "name": "stderr",
     "output_type": "stream",
     "text": [
      "100%|██████████| 18/18 [02:58<00:00,  9.93s/it]"
     ]
    },
    {
     "name": "stdout",
     "output_type": "stream",
     "text": [
      "Average error (min_error) over all historical forecasts: 89.80\n",
      "Best Params: {'criterion': 'squared_error', 'max_depth': 10, 'max_features': 0.3333333333333333, 'n_estimators': 100, 'n_jobs': -1}\n"
     ]
    },
    {
     "name": "stderr",
     "output_type": "stream",
     "text": [
      "\n"
     ]
    }
   ],
   "source": [
    "rfF_12_best_params, rfF_12_min_error = gridsearch_RF(\n",
    "    btc_usd12_ts,\n",
    "    rfF_12_past_covs,\n",
    "    1,\n",
    "    1,\n",
    "    1\n",
    ")"
   ]
  }
 ],
 "metadata": {
  "interpreter": {
   "hash": "26fa31afa754fb971b44a94a9612d34d26997a00d823853c42f1b189c287d4b1"
  },
  "kernelspec": {
   "display_name": "Python 3.8.12 ('crypto-uncertainty-index-SX872G0E-py3.8': poetry)",
   "language": "python",
   "name": "python3"
  },
  "language_info": {
   "codemirror_mode": {
    "name": "ipython",
    "version": 3
   },
   "file_extension": ".py",
   "mimetype": "text/x-python",
   "name": "python",
   "nbconvert_exporter": "python",
   "pygments_lexer": "ipython3",
   "version": "3.8.12"
  },
  "orig_nbformat": 4
 },
 "nbformat": 4,
 "nbformat_minor": 2
}
