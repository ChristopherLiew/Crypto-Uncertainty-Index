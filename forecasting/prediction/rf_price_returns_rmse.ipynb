{
 "cells": [
  {
   "cell_type": "markdown",
   "metadata": {},
   "source": [
    "## Tree Based Ensemble Models for Price Returns Forecasting\n",
    "\n",
    "### Approach\n",
    "1. Set Up\n",
    "2. Identifying Suitable Lags for Price, Volume & Uncertainty Indices\n",
    "3. Modelling w/ Grid Search & Forecast Evaluation\n",
    "   1. Random Forest (h = 1 to 12)\n",
    "      1. Model A (With Price Returns, Price & Volume)\n",
    "      2. Model B (With A + Lucey Original Price) \n",
    "      3. Model C (With A + Lucey Reddit Price)\n",
    "      4. Model D (With A + LDA Reddit Price)\n",
    "      5. Model E (With A + Top2Vec Reddit Price)\n",
    "      6. Model F (With A + VCRIX)\n",
    "      7. Policy Based Models?\n",
    "\n",
    "TBD:\n",
    "1. Add in More Horizon Values [Running]\n",
    "2. Compute historical forecasts with best models => Direction of Forecast\n",
    "\n",
    "### Set Up"
   ]
  },
  {
   "cell_type": "code",
   "execution_count": 66,
   "metadata": {},
   "outputs": [
    {
     "name": "stdout",
     "output_type": "stream",
     "text": [
      "The autoreload extension is already loaded. To reload it, use:\n",
      "  %reload_ext autoreload\n"
     ]
    }
   ],
   "source": [
    "# NB config\n",
    "%load_ext autoreload\n",
    "%autoreload 2\n",
    "\n",
    "# Load Libraries\n",
    "import os\n",
    "\n",
    "os.chdir(\"../../\")\n",
    "from typing import Any, List, Dict, Union\n",
    "import pandas as pd\n",
    "import numpy as np\n",
    "from pathlib import Path\n",
    "from darts import TimeSeries\n",
    "from darts.metrics import (\n",
    "    rmse,\n",
    ")\n",
    "from tqdm import tqdm\n",
    "from darts import concatenate\n",
    "from darts.models.forecasting.random_forest import (\n",
    "    RandomForest,\n",
    ")\n",
    "from sklearn.model_selection import ParameterGrid\n",
    "import warnings\n",
    "\n",
    "warnings.filterwarnings(\"ignore\")"
   ]
  },
  {
   "cell_type": "markdown",
   "metadata": {},
   "source": [
    "### Data Preparation"
   ]
  },
  {
   "cell_type": "code",
   "execution_count": 2,
   "metadata": {},
   "outputs": [],
   "source": [
    "# Data Dir\n",
    "data_dir = Path(\"forecasting/data/modelling\")\n",
    "\n",
    "# BTC-USD data\n",
    "btc_usd_fp = data_dir / \"btc_usd_weekly.csv\"\n",
    "btc_usd_df = pd.read_csv(btc_usd_fp)\n",
    "\n",
    "# UCRY Indices data\n",
    "ucry_fp = data_dir / \"ucry_indices_weekly.csv\"\n",
    "ucry_df = pd.read_csv(ucry_fp)"
   ]
  },
  {
   "cell_type": "markdown",
   "metadata": {},
   "source": [
    "#### Create ***h***-weeks Log Price Returns Time Series"
   ]
  },
  {
   "cell_type": "code",
   "execution_count": 3,
   "metadata": {},
   "outputs": [],
   "source": [
    "# h = 1 (Weekly Price Returns)\n",
    "btc_usd_df[\"Price Returns (h=1)\"] = np.log1p(btc_usd_df[[\"Price\"]].pct_change(1))\n",
    "\n",
    "# h = 4 (4 Week Price Returns)\n",
    "btc_usd_df[\"Price Returns (h=4)\"] = np.log1p(btc_usd_df[[\"Price\"]].pct_change(4))\n",
    "\n",
    "# h = 12 (12 Week Price Returns)\n",
    "btc_usd_df[\"Price Returns (h=12)\"] = np.log1p(btc_usd_df[[\"Price\"]].pct_change(12))\n",
    "\n",
    "# Create TimeSeries\n",
    "# h = 1 (Weekly Price Returns)\n",
    "btc_usd1_ts = TimeSeries.from_dataframe(\n",
    "    btc_usd_df[[\"Date\", \"Price Returns (h=1)\"]].dropna(), time_col=\"Date\"\n",
    ")\n",
    "\n",
    "# h = 4 (4 Week Price Returns)\n",
    "btc_usd4_ts = TimeSeries.from_dataframe(\n",
    "    btc_usd_df[[\"Date\", \"Price Returns (h=4)\"]].dropna(), time_col=\"Date\"\n",
    ")\n",
    "\n",
    "# h = 12 (12 Week Price Returns)\n",
    "btc_usd12_ts = TimeSeries.from_dataframe(\n",
    "    btc_usd_df[[\"Date\", \"Price Returns (h=12)\"]].dropna(), time_col=\"Date\"\n",
    ")"
   ]
  },
  {
   "cell_type": "code",
   "execution_count": 4,
   "metadata": {},
   "outputs": [],
   "source": [
    "def gen_log_price_returns(\n",
    "    series: pd.DataFrame, h: int, date_col: str = \"Date\", var_col: str = \"Price\"\n",
    ") -> TimeSeries:\n",
    "    new_col_name = f\"Price Returns (h={h})\"\n",
    "    series[new_col_name] = np.log1p(series[[var_col]].pct_change(h))\n",
    "    new_ts = TimeSeries.from_dataframe(\n",
    "        series[[date_col, new_col_name]].dropna(), time_col=date_col\n",
    "    )\n",
    "    return new_ts"
   ]
  },
  {
   "cell_type": "markdown",
   "metadata": {},
   "source": [
    "### Create Price and Volume Time Series"
   ]
  },
  {
   "cell_type": "code",
   "execution_count": 5,
   "metadata": {},
   "outputs": [],
   "source": [
    "# Price\n",
    "price_ts = TimeSeries.from_dataframe(btc_usd_df[[\"Date\", \"Price\"]], time_col=\"Date\")\n",
    "\n",
    "# Volume\n",
    "vol_ts = TimeSeries.from_dataframe(btc_usd_df[[\"Date\", \"Volume\"]], time_col=\"Date\")"
   ]
  },
  {
   "cell_type": "markdown",
   "metadata": {},
   "source": [
    "#### Create UCRY Indices Time Series"
   ]
  },
  {
   "cell_type": "code",
   "execution_count": 6,
   "metadata": {},
   "outputs": [],
   "source": [
    "# Create TimeSeries\n",
    "sel_cols = [\"Date\", \"Index Value\"]\n",
    "time_col = \"Date\"\n",
    "\n",
    "# Lucey Price\n",
    "lucey_price = TimeSeries.from_dataframe(\n",
    "    ucry_df[ucry_df.Index == \"Lucey-Original-Price\"].reset_index()[sel_cols],\n",
    "    time_col=time_col,\n",
    ")\n",
    "\n",
    "# Lucey Reddit Price\n",
    "lucey_reddit_price = TimeSeries.from_dataframe(\n",
    "    ucry_df[ucry_df.Index == \"Lucey-Reddit-Price\"].reset_index()[sel_cols],\n",
    "    time_col=time_col,\n",
    ")\n",
    "\n",
    "# LDA Price\n",
    "lda_price = TimeSeries.from_dataframe(\n",
    "    ucry_df[ucry_df.Index == \"LDA-Reddit-Price\"].reset_index()[sel_cols],\n",
    "    time_col=time_col,\n",
    ")\n",
    "\n",
    "# Top2Vec Price\n",
    "t2v_price = TimeSeries.from_dataframe(\n",
    "    ucry_df[ucry_df.Index == \"Top2Vec-Reddit-Price\"].reset_index()[sel_cols],\n",
    "    time_col=time_col,\n",
    ")\n",
    "\n",
    "# VCRIX\n",
    "vcrix = TimeSeries.from_dataframe(\n",
    "    ucry_df[ucry_df.Index == \"VCRIX\"].reset_index()[sel_cols], time_col=time_col\n",
    ")"
   ]
  },
  {
   "cell_type": "markdown",
   "metadata": {},
   "source": [
    "#### Train Test Split Date"
   ]
  },
  {
   "cell_type": "code",
   "execution_count": 7,
   "metadata": {},
   "outputs": [],
   "source": [
    "# Split into Train and Test\n",
    "split_date = pd.Timestamp(\"20190527\")"
   ]
  },
  {
   "cell_type": "markdown",
   "metadata": {},
   "source": [
    "### Identify Suitable Lags for UCRY Index Time Series\n",
    "* STATUS: Use **t** variables to predict **t + h** variables for now"
   ]
  },
  {
   "cell_type": "markdown",
   "metadata": {},
   "source": [
    "### Random Forest Forecasting Model & Evaluation\n",
    "\n",
    "#### Define Params Grid for Grid Search"
   ]
  },
  {
   "cell_type": "code",
   "execution_count": 8,
   "metadata": {},
   "outputs": [
    {
     "data": {
      "text/plain": [
       "18"
      ]
     },
     "execution_count": 8,
     "metadata": {},
     "output_type": "execute_result"
    }
   ],
   "source": [
    "# Params Grid\n",
    "rf_params_grid = {\n",
    "    \"n_estimators\": [50, 100, 300],\n",
    "    \"max_depth\": [2, 5, 10],\n",
    "    \"criterion\": [\"squared_error\"],\n",
    "    \"max_features\": [1 / 3, \"auto\"],\n",
    "    \"n_jobs\": [-1],\n",
    "    \"random_state\": [42],\n",
    "    \"oob_score\": [True],\n",
    "}\n",
    "\n",
    "rf_params_list = list(ParameterGrid(rf_params_grid))\n",
    "len(rf_params_list)"
   ]
  },
  {
   "cell_type": "markdown",
   "metadata": {},
   "source": [
    "### Define Forecast Horizons"
   ]
  },
  {
   "cell_type": "code",
   "execution_count": 9,
   "metadata": {},
   "outputs": [],
   "source": [
    "horizons = list(range(1, 13))"
   ]
  },
  {
   "cell_type": "markdown",
   "metadata": {},
   "source": [
    "### Random Forest GridSearch Helper"
   ]
  },
  {
   "cell_type": "code",
   "execution_count": 10,
   "metadata": {},
   "outputs": [],
   "source": [
    "# Run Grid Search (Runs for super long may be buggy - Revisit in the future)\n",
    "# rfA_1_best_model, rfA_1_best_params = RandomForest(\n",
    "#    lags=1,\n",
    "#     lags_past_covariates=1\n",
    "# ).gridsearch(\n",
    "#     parameters=rf_params_grid,\n",
    "#     series=btc_usd1_ts,\n",
    "#     past_covariates=rfA_1_past_covs,\n",
    "#     forecast_horizon=1,\n",
    "#     stride=1,\n",
    "#     start=split_date,\n",
    "#     metric=mse,\n",
    "#     reduction=np.mean,\n",
    "#     verbose=True,\n",
    "#     n_jobs=-1\n",
    "# )\n",
    "#\n",
    "# pprint(rfA_1_best_params)"
   ]
  },
  {
   "cell_type": "code",
   "execution_count": 11,
   "metadata": {},
   "outputs": [],
   "source": [
    "# Homemade RF Grid Search\n",
    "\n",
    "\n",
    "def gridsearch_RF(\n",
    "    series: TimeSeries,\n",
    "    past_covariates: TimeSeries,\n",
    "    forecast_horizon: int,\n",
    "    lags: int,\n",
    "    lags_past_covariates: int,\n",
    "    verbose: bool = False,\n",
    "    params_list: List[Any] = rf_params_list,\n",
    "    error_metric: Any = rmse,\n",
    "    split_date: pd.Timestamp = split_date,\n",
    "):\n",
    "\n",
    "    min_error = np.float(\"inf\")\n",
    "    best_params = None\n",
    "    for params in tqdm(params_list, leave=True):\n",
    "        model = RandomForest(\n",
    "            lags=lags, lags_past_covariates=lags_past_covariates, **params\n",
    "        )\n",
    "        error = model.backtest(\n",
    "            series=series,\n",
    "            past_covariates=past_covariates,\n",
    "            forecast_horizon=forecast_horizon,\n",
    "            stride=1,\n",
    "            start=split_date,\n",
    "            metric=error_metric,\n",
    "            reduction=np.mean,\n",
    "            verbose=verbose,\n",
    "        )\n",
    "        if error < min_error:\n",
    "            min_error = error\n",
    "            best_params = params\n",
    "\n",
    "    print(\"Average RMSE over all historical forecasts: %.2f\" % min_error)\n",
    "    print(\"Best Params: %s\" % str(best_params))\n",
    "\n",
    "    return best_params, min_error"
   ]
  },
  {
   "cell_type": "code",
   "execution_count": 12,
   "metadata": {},
   "outputs": [],
   "source": [
    "# Multi Horizon Forecasting Helper\n",
    "\n",
    "\n",
    "def multi_forecast_GS_RF(\n",
    "    target_df: pd.DataFrame,\n",
    "    past_covariates: List[TimeSeries],\n",
    "    forecast_horizons: List[int] = horizons,\n",
    "    lags: int = 1,\n",
    "    past_covariates_lags: int = 1,\n",
    "    verbose: bool = False,\n",
    "    error_metric: Any = rmse,\n",
    "    params_list: List[Any] = rf_params_list,\n",
    "    split_date: pd.Timestamp = split_date,\n",
    ") -> None:\n",
    "\n",
    "    best_results = {}\n",
    "\n",
    "    for h in tqdm(forecast_horizons):\n",
    "        print(f\"Recursively Forecasting horizon={h} with Random Forest + Grid Search\")\n",
    "\n",
    "        # Generate Appropriate TS Data\n",
    "        target_cov = gen_log_price_returns(target_df, h)\n",
    "        past_cov_list = [target_cov]\n",
    "        (\n",
    "            past_cov_list.extend(\n",
    "                list(map(lambda x: x.slice_intersect(target_cov), past_covariates))\n",
    "            )\n",
    "        )\n",
    "        past_cov_list_tidy = concatenate(past_cov_list, axis=1)\n",
    "        # Run Grid Search RF\n",
    "        best_params, min_error = gridsearch_RF(\n",
    "            target_cov,\n",
    "            past_cov_list_tidy,\n",
    "            h,\n",
    "            lags,\n",
    "            past_covariates_lags,\n",
    "            verbose,\n",
    "            params_list,\n",
    "            error_metric,\n",
    "            split_date,\n",
    "        )\n",
    "\n",
    "        best_results[h] = {\"best_params\": best_params, \"min_error\": min_error}\n",
    "\n",
    "    return best_results"
   ]
  },
  {
   "cell_type": "markdown",
   "metadata": {},
   "source": [
    "#### Model A (Price Returns, Price & Volume) for h = 1 to 12"
   ]
  },
  {
   "cell_type": "code",
   "execution_count": 13,
   "metadata": {},
   "outputs": [
    {
     "name": "stderr",
     "output_type": "stream",
     "text": [
      "  0%|          | 0/12 [00:00<?, ?it/s]"
     ]
    },
    {
     "name": "stdout",
     "output_type": "stream",
     "text": [
      "Recursively Forecasting horizon=1 with Random Forest + Grid Search\n"
     ]
    },
    {
     "name": "stderr",
     "output_type": "stream",
     "text": [
      "100%|██████████| 18/18 [05:22<00:00, 17.90s/it]\n",
      "  8%|▊         | 1/12 [05:22<59:04, 322.26s/it]"
     ]
    },
    {
     "name": "stdout",
     "output_type": "stream",
     "text": [
      "Average RMSE over all historical forecasts: 0.08\n",
      "Best Params: {'criterion': 'squared_error', 'max_depth': 2, 'max_features': 0.3333333333333333, 'n_estimators': 100, 'n_jobs': -1, 'oob_score': True, 'random_state': 42}\n",
      "Recursively Forecasting horizon=2 with Random Forest + Grid Search\n"
     ]
    },
    {
     "name": "stderr",
     "output_type": "stream",
     "text": [
      "100%|██████████| 18/18 [05:50<00:00, 19.48s/it]\n",
      " 17%|█▋        | 2/12 [11:12<56:29, 339.00s/it]"
     ]
    },
    {
     "name": "stdout",
     "output_type": "stream",
     "text": [
      "Average RMSE over all historical forecasts: 0.11\n",
      "Best Params: {'criterion': 'squared_error', 'max_depth': 2, 'max_features': 0.3333333333333333, 'n_estimators': 100, 'n_jobs': -1, 'oob_score': True, 'random_state': 42}\n",
      "Recursively Forecasting horizon=3 with Random Forest + Grid Search\n"
     ]
    },
    {
     "name": "stderr",
     "output_type": "stream",
     "text": [
      "100%|██████████| 18/18 [06:23<00:00, 21.29s/it]\n",
      " 25%|██▌       | 3/12 [17:36<53:52, 359.19s/it]"
     ]
    },
    {
     "name": "stdout",
     "output_type": "stream",
     "text": [
      "Average RMSE over all historical forecasts: 0.14\n",
      "Best Params: {'criterion': 'squared_error', 'max_depth': 2, 'max_features': 'auto', 'n_estimators': 100, 'n_jobs': -1, 'oob_score': True, 'random_state': 42}\n",
      "Recursively Forecasting horizon=4 with Random Forest + Grid Search\n"
     ]
    },
    {
     "name": "stderr",
     "output_type": "stream",
     "text": [
      "100%|██████████| 18/18 [07:36<00:00, 25.37s/it]\n",
      " 33%|███▎      | 4/12 [25:12<53:01, 397.66s/it]"
     ]
    },
    {
     "name": "stdout",
     "output_type": "stream",
     "text": [
      "Average RMSE over all historical forecasts: 0.14\n",
      "Best Params: {'criterion': 'squared_error', 'max_depth': 2, 'max_features': 'auto', 'n_estimators': 50, 'n_jobs': -1, 'oob_score': True, 'random_state': 42}\n",
      "Recursively Forecasting horizon=5 with Random Forest + Grid Search\n"
     ]
    },
    {
     "name": "stderr",
     "output_type": "stream",
     "text": [
      "100%|██████████| 18/18 [07:53<00:00, 26.29s/it]\n",
      " 42%|████▏     | 5/12 [33:06<49:34, 424.89s/it]"
     ]
    },
    {
     "name": "stdout",
     "output_type": "stream",
     "text": [
      "Average RMSE over all historical forecasts: 0.15\n",
      "Best Params: {'criterion': 'squared_error', 'max_depth': 2, 'max_features': 'auto', 'n_estimators': 100, 'n_jobs': -1, 'oob_score': True, 'random_state': 42}\n",
      "Recursively Forecasting horizon=6 with Random Forest + Grid Search\n"
     ]
    },
    {
     "name": "stderr",
     "output_type": "stream",
     "text": [
      "100%|██████████| 18/18 [07:50<00:00, 26.17s/it]\n",
      " 50%|█████     | 6/12 [40:56<44:03, 440.57s/it]"
     ]
    },
    {
     "name": "stdout",
     "output_type": "stream",
     "text": [
      "Average RMSE over all historical forecasts: 0.15\n",
      "Best Params: {'criterion': 'squared_error', 'max_depth': 2, 'max_features': 'auto', 'n_estimators': 100, 'n_jobs': -1, 'oob_score': True, 'random_state': 42}\n",
      "Recursively Forecasting horizon=7 with Random Forest + Grid Search\n"
     ]
    },
    {
     "name": "stderr",
     "output_type": "stream",
     "text": [
      "100%|██████████| 18/18 [07:58<00:00, 26.58s/it]\n",
      " 58%|█████▊    | 7/12 [48:55<37:44, 452.96s/it]"
     ]
    },
    {
     "name": "stdout",
     "output_type": "stream",
     "text": [
      "Average RMSE over all historical forecasts: 0.17\n",
      "Best Params: {'criterion': 'squared_error', 'max_depth': 2, 'max_features': 'auto', 'n_estimators': 100, 'n_jobs': -1, 'oob_score': True, 'random_state': 42}\n",
      "Recursively Forecasting horizon=8 with Random Forest + Grid Search\n"
     ]
    },
    {
     "name": "stderr",
     "output_type": "stream",
     "text": [
      "100%|██████████| 18/18 [08:12<00:00, 27.34s/it]\n",
      " 67%|██████▋   | 8/12 [57:07<31:01, 465.46s/it]"
     ]
    },
    {
     "name": "stdout",
     "output_type": "stream",
     "text": [
      "Average RMSE over all historical forecasts: 0.16\n",
      "Best Params: {'criterion': 'squared_error', 'max_depth': 2, 'max_features': 'auto', 'n_estimators': 100, 'n_jobs': -1, 'oob_score': True, 'random_state': 42}\n",
      "Recursively Forecasting horizon=9 with Random Forest + Grid Search\n"
     ]
    },
    {
     "name": "stderr",
     "output_type": "stream",
     "text": [
      "100%|██████████| 18/18 [08:23<00:00, 27.99s/it]\n",
      " 75%|███████▌  | 9/12 [1:05:31<23:52, 477.48s/it]"
     ]
    },
    {
     "name": "stdout",
     "output_type": "stream",
     "text": [
      "Average RMSE over all historical forecasts: 0.17\n",
      "Best Params: {'criterion': 'squared_error', 'max_depth': 2, 'max_features': 'auto', 'n_estimators': 100, 'n_jobs': -1, 'oob_score': True, 'random_state': 42}\n",
      "Recursively Forecasting horizon=10 with Random Forest + Grid Search\n"
     ]
    },
    {
     "name": "stderr",
     "output_type": "stream",
     "text": [
      "100%|██████████| 18/18 [08:36<00:00, 28.69s/it]\n",
      " 83%|████████▎ | 10/12 [1:14:08<16:18, 489.50s/it]"
     ]
    },
    {
     "name": "stdout",
     "output_type": "stream",
     "text": [
      "Average RMSE over all historical forecasts: 0.17\n",
      "Best Params: {'criterion': 'squared_error', 'max_depth': 2, 'max_features': 'auto', 'n_estimators': 100, 'n_jobs': -1, 'oob_score': True, 'random_state': 42}\n",
      "Recursively Forecasting horizon=11 with Random Forest + Grid Search\n"
     ]
    },
    {
     "name": "stderr",
     "output_type": "stream",
     "text": [
      "100%|██████████| 18/18 [08:47<00:00, 29.33s/it]\n",
      " 92%|█████████▏| 11/12 [1:22:55<08:21, 501.26s/it]"
     ]
    },
    {
     "name": "stdout",
     "output_type": "stream",
     "text": [
      "Average RMSE over all historical forecasts: 0.18\n",
      "Best Params: {'criterion': 'squared_error', 'max_depth': 2, 'max_features': 'auto', 'n_estimators': 50, 'n_jobs': -1, 'oob_score': True, 'random_state': 42}\n",
      "Recursively Forecasting horizon=12 with Random Forest + Grid Search\n"
     ]
    },
    {
     "name": "stderr",
     "output_type": "stream",
     "text": [
      "100%|██████████| 18/18 [09:00<00:00, 30.01s/it]\n",
      "100%|██████████| 12/12 [1:31:56<00:00, 459.68s/it]"
     ]
    },
    {
     "name": "stdout",
     "output_type": "stream",
     "text": [
      "Average RMSE over all historical forecasts: 0.17\n",
      "Best Params: {'criterion': 'squared_error', 'max_depth': 2, 'max_features': 'auto', 'n_estimators': 50, 'n_jobs': -1, 'oob_score': True, 'random_state': 42}\n"
     ]
    },
    {
     "name": "stderr",
     "output_type": "stream",
     "text": [
      "\n"
     ]
    }
   ],
   "source": [
    "# Model A Multi Horizon\n",
    "RF_A_results = multi_forecast_GS_RF(\n",
    "    btc_usd_df,\n",
    "    [price_ts, vol_ts],\n",
    ")"
   ]
  },
  {
   "cell_type": "markdown",
   "metadata": {},
   "source": [
    "#### Model B (Price Returns, Price & Volume + Lucey Price Index)"
   ]
  },
  {
   "cell_type": "code",
   "execution_count": 14,
   "metadata": {},
   "outputs": [
    {
     "name": "stderr",
     "output_type": "stream",
     "text": [
      "  0%|          | 0/12 [00:00<?, ?it/s]"
     ]
    },
    {
     "name": "stdout",
     "output_type": "stream",
     "text": [
      "Recursively Forecasting horizon=1 with Random Forest + Grid Search\n"
     ]
    },
    {
     "name": "stderr",
     "output_type": "stream",
     "text": [
      "100%|██████████| 18/18 [06:30<00:00, 21.69s/it]\n",
      "  8%|▊         | 1/12 [06:30<1:11:34, 390.42s/it]"
     ]
    },
    {
     "name": "stdout",
     "output_type": "stream",
     "text": [
      "Average RMSE over all historical forecasts: 0.08\n",
      "Best Params: {'criterion': 'squared_error', 'max_depth': 2, 'max_features': 0.3333333333333333, 'n_estimators': 300, 'n_jobs': -1, 'oob_score': True, 'random_state': 42}\n",
      "Recursively Forecasting horizon=2 with Random Forest + Grid Search\n"
     ]
    },
    {
     "name": "stderr",
     "output_type": "stream",
     "text": [
      "100%|██████████| 18/18 [06:49<00:00, 22.73s/it]\n",
      " 17%|█▋        | 2/12 [13:19<1:06:54, 401.45s/it]"
     ]
    },
    {
     "name": "stdout",
     "output_type": "stream",
     "text": [
      "Average RMSE over all historical forecasts: 0.11\n",
      "Best Params: {'criterion': 'squared_error', 'max_depth': 2, 'max_features': 0.3333333333333333, 'n_estimators': 50, 'n_jobs': -1, 'oob_score': True, 'random_state': 42}\n",
      "Recursively Forecasting horizon=3 with Random Forest + Grid Search\n"
     ]
    },
    {
     "name": "stderr",
     "output_type": "stream",
     "text": [
      "100%|██████████| 18/18 [07:04<00:00, 23.59s/it]\n",
      " 25%|██▌       | 3/12 [20:24<1:01:48, 412.04s/it]"
     ]
    },
    {
     "name": "stdout",
     "output_type": "stream",
     "text": [
      "Average RMSE over all historical forecasts: 0.14\n",
      "Best Params: {'criterion': 'squared_error', 'max_depth': 2, 'max_features': 'auto', 'n_estimators': 300, 'n_jobs': -1, 'oob_score': True, 'random_state': 42}\n",
      "Recursively Forecasting horizon=4 with Random Forest + Grid Search\n"
     ]
    },
    {
     "name": "stderr",
     "output_type": "stream",
     "text": [
      "100%|██████████| 18/18 [07:18<00:00, 24.34s/it]\n",
      " 33%|███▎      | 4/12 [27:42<56:18, 422.34s/it]  "
     ]
    },
    {
     "name": "stdout",
     "output_type": "stream",
     "text": [
      "Average RMSE over all historical forecasts: 0.14\n",
      "Best Params: {'criterion': 'squared_error', 'max_depth': 2, 'max_features': 'auto', 'n_estimators': 300, 'n_jobs': -1, 'oob_score': True, 'random_state': 42}\n",
      "Recursively Forecasting horizon=5 with Random Forest + Grid Search\n"
     ]
    },
    {
     "name": "stderr",
     "output_type": "stream",
     "text": [
      "100%|██████████| 18/18 [07:31<00:00, 25.10s/it]\n",
      " 42%|████▏     | 5/12 [35:14<50:30, 432.97s/it]"
     ]
    },
    {
     "name": "stdout",
     "output_type": "stream",
     "text": [
      "Average RMSE over all historical forecasts: 0.15\n",
      "Best Params: {'criterion': 'squared_error', 'max_depth': 2, 'max_features': 'auto', 'n_estimators': 300, 'n_jobs': -1, 'oob_score': True, 'random_state': 42}\n",
      "Recursively Forecasting horizon=6 with Random Forest + Grid Search\n"
     ]
    },
    {
     "name": "stderr",
     "output_type": "stream",
     "text": [
      "100%|██████████| 18/18 [07:45<00:00, 25.84s/it]\n",
      " 50%|█████     | 6/12 [42:59<44:23, 443.89s/it]"
     ]
    },
    {
     "name": "stdout",
     "output_type": "stream",
     "text": [
      "Average RMSE over all historical forecasts: 0.15\n",
      "Best Params: {'criterion': 'squared_error', 'max_depth': 2, 'max_features': 'auto', 'n_estimators': 300, 'n_jobs': -1, 'oob_score': True, 'random_state': 42}\n",
      "Recursively Forecasting horizon=7 with Random Forest + Grid Search\n"
     ]
    },
    {
     "name": "stderr",
     "output_type": "stream",
     "text": [
      "100%|██████████| 18/18 [07:58<00:00, 26.60s/it]\n",
      " 58%|█████▊    | 7/12 [50:58<37:56, 455.31s/it]"
     ]
    },
    {
     "name": "stdout",
     "output_type": "stream",
     "text": [
      "Average RMSE over all historical forecasts: 0.17\n",
      "Best Params: {'criterion': 'squared_error', 'max_depth': 2, 'max_features': 'auto', 'n_estimators': 300, 'n_jobs': -1, 'oob_score': True, 'random_state': 42}\n",
      "Recursively Forecasting horizon=8 with Random Forest + Grid Search\n"
     ]
    },
    {
     "name": "stderr",
     "output_type": "stream",
     "text": [
      "100%|██████████| 18/18 [08:11<00:00, 27.28s/it]\n",
      " 67%|██████▋   | 8/12 [59:09<31:06, 466.68s/it]"
     ]
    },
    {
     "name": "stdout",
     "output_type": "stream",
     "text": [
      "Average RMSE over all historical forecasts: 0.16\n",
      "Best Params: {'criterion': 'squared_error', 'max_depth': 2, 'max_features': 'auto', 'n_estimators': 300, 'n_jobs': -1, 'oob_score': True, 'random_state': 42}\n",
      "Recursively Forecasting horizon=9 with Random Forest + Grid Search\n"
     ]
    },
    {
     "name": "stderr",
     "output_type": "stream",
     "text": [
      "100%|██████████| 18/18 [08:23<00:00, 27.98s/it]\n",
      " 75%|███████▌  | 9/12 [1:07:32<23:54, 478.25s/it]"
     ]
    },
    {
     "name": "stdout",
     "output_type": "stream",
     "text": [
      "Average RMSE over all historical forecasts: 0.17\n",
      "Best Params: {'criterion': 'squared_error', 'max_depth': 2, 'max_features': 'auto', 'n_estimators': 300, 'n_jobs': -1, 'oob_score': True, 'random_state': 42}\n",
      "Recursively Forecasting horizon=10 with Random Forest + Grid Search\n"
     ]
    },
    {
     "name": "stderr",
     "output_type": "stream",
     "text": [
      "100%|██████████| 18/18 [08:36<00:00, 28.67s/it]\n",
      " 83%|████████▎ | 10/12 [1:16:08<16:19, 489.93s/it]"
     ]
    },
    {
     "name": "stdout",
     "output_type": "stream",
     "text": [
      "Average RMSE over all historical forecasts: 0.18\n",
      "Best Params: {'criterion': 'squared_error', 'max_depth': 2, 'max_features': 'auto', 'n_estimators': 300, 'n_jobs': -1, 'oob_score': True, 'random_state': 42}\n",
      "Recursively Forecasting horizon=11 with Random Forest + Grid Search\n"
     ]
    },
    {
     "name": "stderr",
     "output_type": "stream",
     "text": [
      "100%|██████████| 18/18 [08:47<00:00, 29.32s/it]\n",
      " 92%|█████████▏| 11/12 [1:24:56<08:21, 501.51s/it]"
     ]
    },
    {
     "name": "stdout",
     "output_type": "stream",
     "text": [
      "Average RMSE over all historical forecasts: 0.18\n",
      "Best Params: {'criterion': 'squared_error', 'max_depth': 2, 'max_features': 'auto', 'n_estimators': 50, 'n_jobs': -1, 'oob_score': True, 'random_state': 42}\n",
      "Recursively Forecasting horizon=12 with Random Forest + Grid Search\n"
     ]
    },
    {
     "name": "stderr",
     "output_type": "stream",
     "text": [
      "100%|██████████| 18/18 [08:59<00:00, 30.00s/it]\n",
      "100%|██████████| 12/12 [1:33:56<00:00, 469.72s/it]"
     ]
    },
    {
     "name": "stdout",
     "output_type": "stream",
     "text": [
      "Average RMSE over all historical forecasts: 0.17\n",
      "Best Params: {'criterion': 'squared_error', 'max_depth': 2, 'max_features': 'auto', 'n_estimators': 300, 'n_jobs': -1, 'oob_score': True, 'random_state': 42}\n"
     ]
    },
    {
     "name": "stderr",
     "output_type": "stream",
     "text": [
      "\n"
     ]
    }
   ],
   "source": [
    "# Model B Multi Horizon\n",
    "RF_B_results = multi_forecast_GS_RF(\n",
    "    btc_usd_df,\n",
    "    [price_ts, vol_ts, lucey_price],\n",
    ")"
   ]
  },
  {
   "cell_type": "markdown",
   "metadata": {},
   "source": [
    "#### Model C (Price Returns, Price & Volume + Lucey Reddit Price Index)"
   ]
  },
  {
   "cell_type": "code",
   "execution_count": 15,
   "metadata": {},
   "outputs": [
    {
     "name": "stderr",
     "output_type": "stream",
     "text": [
      "  0%|          | 0/12 [00:00<?, ?it/s]"
     ]
    },
    {
     "name": "stdout",
     "output_type": "stream",
     "text": [
      "Recursively Forecasting horizon=1 with Random Forest + Grid Search\n"
     ]
    },
    {
     "name": "stderr",
     "output_type": "stream",
     "text": [
      "100%|██████████| 18/18 [06:30<00:00, 21.72s/it]\n",
      "  8%|▊         | 1/12 [06:30<1:11:40, 390.92s/it]"
     ]
    },
    {
     "name": "stdout",
     "output_type": "stream",
     "text": [
      "Average RMSE over all historical forecasts: 0.08\n",
      "Best Params: {'criterion': 'squared_error', 'max_depth': 5, 'max_features': 0.3333333333333333, 'n_estimators': 100, 'n_jobs': -1, 'oob_score': True, 'random_state': 42}\n",
      "Recursively Forecasting horizon=2 with Random Forest + Grid Search\n"
     ]
    },
    {
     "name": "stderr",
     "output_type": "stream",
     "text": [
      "100%|██████████| 18/18 [06:48<00:00, 22.70s/it]\n",
      " 17%|█▋        | 2/12 [13:19<1:06:53, 401.38s/it]"
     ]
    },
    {
     "name": "stdout",
     "output_type": "stream",
     "text": [
      "Average RMSE over all historical forecasts: 0.11\n",
      "Best Params: {'criterion': 'squared_error', 'max_depth': 2, 'max_features': 0.3333333333333333, 'n_estimators': 50, 'n_jobs': -1, 'oob_score': True, 'random_state': 42}\n",
      "Recursively Forecasting horizon=3 with Random Forest + Grid Search\n"
     ]
    },
    {
     "name": "stderr",
     "output_type": "stream",
     "text": [
      "100%|██████████| 18/18 [07:04<00:00, 23.57s/it]\n",
      " 25%|██▌       | 3/12 [20:23<1:01:46, 411.82s/it]"
     ]
    },
    {
     "name": "stdout",
     "output_type": "stream",
     "text": [
      "Average RMSE over all historical forecasts: 0.14\n",
      "Best Params: {'criterion': 'squared_error', 'max_depth': 2, 'max_features': 'auto', 'n_estimators': 300, 'n_jobs': -1, 'oob_score': True, 'random_state': 42}\n",
      "Recursively Forecasting horizon=4 with Random Forest + Grid Search\n"
     ]
    },
    {
     "name": "stderr",
     "output_type": "stream",
     "text": [
      "100%|██████████| 18/18 [07:18<00:00, 24.35s/it]\n",
      " 33%|███▎      | 4/12 [27:42<56:18, 422.31s/it]  "
     ]
    },
    {
     "name": "stdout",
     "output_type": "stream",
     "text": [
      "Average RMSE over all historical forecasts: 0.14\n",
      "Best Params: {'criterion': 'squared_error', 'max_depth': 2, 'max_features': 'auto', 'n_estimators': 300, 'n_jobs': -1, 'oob_score': True, 'random_state': 42}\n",
      "Recursively Forecasting horizon=5 with Random Forest + Grid Search\n"
     ]
    },
    {
     "name": "stderr",
     "output_type": "stream",
     "text": [
      "100%|██████████| 18/18 [07:32<00:00, 25.11s/it]\n",
      " 42%|████▏     | 5/12 [35:14<50:31, 433.03s/it]"
     ]
    },
    {
     "name": "stdout",
     "output_type": "stream",
     "text": [
      "Average RMSE over all historical forecasts: 0.15\n",
      "Best Params: {'criterion': 'squared_error', 'max_depth': 2, 'max_features': 'auto', 'n_estimators': 300, 'n_jobs': -1, 'oob_score': True, 'random_state': 42}\n",
      "Recursively Forecasting horizon=6 with Random Forest + Grid Search\n"
     ]
    },
    {
     "name": "stderr",
     "output_type": "stream",
     "text": [
      "100%|██████████| 18/18 [07:44<00:00, 25.83s/it]\n",
      " 50%|█████     | 6/12 [42:59<44:23, 443.89s/it]"
     ]
    },
    {
     "name": "stdout",
     "output_type": "stream",
     "text": [
      "Average RMSE over all historical forecasts: 0.15\n",
      "Best Params: {'criterion': 'squared_error', 'max_depth': 2, 'max_features': 'auto', 'n_estimators': 300, 'n_jobs': -1, 'oob_score': True, 'random_state': 42}\n",
      "Recursively Forecasting horizon=7 with Random Forest + Grid Search\n"
     ]
    },
    {
     "name": "stderr",
     "output_type": "stream",
     "text": [
      "100%|██████████| 18/18 [07:59<00:00, 26.62s/it]\n",
      " 58%|█████▊    | 7/12 [50:58<37:57, 455.42s/it]"
     ]
    },
    {
     "name": "stdout",
     "output_type": "stream",
     "text": [
      "Average RMSE over all historical forecasts: 0.17\n",
      "Best Params: {'criterion': 'squared_error', 'max_depth': 2, 'max_features': 'auto', 'n_estimators': 300, 'n_jobs': -1, 'oob_score': True, 'random_state': 42}\n",
      "Recursively Forecasting horizon=8 with Random Forest + Grid Search\n"
     ]
    },
    {
     "name": "stderr",
     "output_type": "stream",
     "text": [
      "100%|██████████| 18/18 [08:11<00:00, 27.29s/it]\n",
      " 67%|██████▋   | 8/12 [59:09<31:07, 466.81s/it]"
     ]
    },
    {
     "name": "stdout",
     "output_type": "stream",
     "text": [
      "Average RMSE over all historical forecasts: 0.16\n",
      "Best Params: {'criterion': 'squared_error', 'max_depth': 2, 'max_features': 'auto', 'n_estimators': 300, 'n_jobs': -1, 'oob_score': True, 'random_state': 42}\n",
      "Recursively Forecasting horizon=9 with Random Forest + Grid Search\n"
     ]
    },
    {
     "name": "stderr",
     "output_type": "stream",
     "text": [
      "100%|██████████| 18/18 [08:24<00:00, 28.01s/it]\n",
      " 75%|███████▌  | 9/12 [1:07:33<23:55, 478.50s/it]"
     ]
    },
    {
     "name": "stdout",
     "output_type": "stream",
     "text": [
      "Average RMSE over all historical forecasts: 0.17\n",
      "Best Params: {'criterion': 'squared_error', 'max_depth': 2, 'max_features': 'auto', 'n_estimators': 300, 'n_jobs': -1, 'oob_score': True, 'random_state': 42}\n",
      "Recursively Forecasting horizon=10 with Random Forest + Grid Search\n"
     ]
    },
    {
     "name": "stderr",
     "output_type": "stream",
     "text": [
      "100%|██████████| 18/18 [08:36<00:00, 28.70s/it]\n",
      " 83%|████████▎ | 10/12 [1:16:10<16:20, 490.28s/it]"
     ]
    },
    {
     "name": "stdout",
     "output_type": "stream",
     "text": [
      "Average RMSE over all historical forecasts: 0.18\n",
      "Best Params: {'criterion': 'squared_error', 'max_depth': 2, 'max_features': 'auto', 'n_estimators': 300, 'n_jobs': -1, 'oob_score': True, 'random_state': 42}\n",
      "Recursively Forecasting horizon=11 with Random Forest + Grid Search\n"
     ]
    },
    {
     "name": "stderr",
     "output_type": "stream",
     "text": [
      "100%|██████████| 18/18 [08:48<00:00, 29.35s/it]\n",
      " 92%|█████████▏| 11/12 [1:24:58<08:21, 501.94s/it]"
     ]
    },
    {
     "name": "stdout",
     "output_type": "stream",
     "text": [
      "Average RMSE over all historical forecasts: 0.18\n",
      "Best Params: {'criterion': 'squared_error', 'max_depth': 2, 'max_features': 'auto', 'n_estimators': 50, 'n_jobs': -1, 'oob_score': True, 'random_state': 42}\n",
      "Recursively Forecasting horizon=12 with Random Forest + Grid Search\n"
     ]
    },
    {
     "name": "stderr",
     "output_type": "stream",
     "text": [
      "100%|██████████| 18/18 [09:00<00:00, 30.01s/it]\n",
      "100%|██████████| 12/12 [1:33:59<00:00, 469.92s/it]"
     ]
    },
    {
     "name": "stdout",
     "output_type": "stream",
     "text": [
      "Average RMSE over all historical forecasts: 0.17\n",
      "Best Params: {'criterion': 'squared_error', 'max_depth': 2, 'max_features': 'auto', 'n_estimators': 300, 'n_jobs': -1, 'oob_score': True, 'random_state': 42}\n"
     ]
    },
    {
     "name": "stderr",
     "output_type": "stream",
     "text": [
      "\n"
     ]
    }
   ],
   "source": [
    "# Model C Multi Horizon\n",
    "RF_C_results = multi_forecast_GS_RF(\n",
    "    btc_usd_df,\n",
    "    [price_ts, vol_ts, lucey_reddit_price],\n",
    ")"
   ]
  },
  {
   "cell_type": "markdown",
   "metadata": {},
   "source": [
    "#### Model D (Price Returns, Price & Volume + LDA Reddit Price Index)"
   ]
  },
  {
   "cell_type": "code",
   "execution_count": 16,
   "metadata": {},
   "outputs": [
    {
     "name": "stderr",
     "output_type": "stream",
     "text": [
      "  0%|          | 0/12 [00:00<?, ?it/s]"
     ]
    },
    {
     "name": "stdout",
     "output_type": "stream",
     "text": [
      "Recursively Forecasting horizon=1 with Random Forest + Grid Search\n"
     ]
    },
    {
     "name": "stderr",
     "output_type": "stream",
     "text": [
      "100%|██████████| 18/18 [06:30<00:00, 21.70s/it]\n",
      "  8%|▊         | 1/12 [06:30<1:11:37, 390.68s/it]"
     ]
    },
    {
     "name": "stdout",
     "output_type": "stream",
     "text": [
      "Average RMSE over all historical forecasts: 0.08\n",
      "Best Params: {'criterion': 'squared_error', 'max_depth': 2, 'max_features': 0.3333333333333333, 'n_estimators': 50, 'n_jobs': -1, 'oob_score': True, 'random_state': 42}\n",
      "Recursively Forecasting horizon=2 with Random Forest + Grid Search\n"
     ]
    },
    {
     "name": "stderr",
     "output_type": "stream",
     "text": [
      "100%|██████████| 18/18 [06:48<00:00, 22.70s/it]\n",
      " 17%|█▋        | 2/12 [13:19<1:06:52, 401.21s/it]"
     ]
    },
    {
     "name": "stdout",
     "output_type": "stream",
     "text": [
      "Average RMSE over all historical forecasts: 0.11\n",
      "Best Params: {'criterion': 'squared_error', 'max_depth': 2, 'max_features': 0.3333333333333333, 'n_estimators': 50, 'n_jobs': -1, 'oob_score': True, 'random_state': 42}\n",
      "Recursively Forecasting horizon=3 with Random Forest + Grid Search\n"
     ]
    },
    {
     "name": "stderr",
     "output_type": "stream",
     "text": [
      "100%|██████████| 18/18 [07:04<00:00, 23.57s/it]\n",
      " 25%|██▌       | 3/12 [20:23<1:01:45, 411.73s/it]"
     ]
    },
    {
     "name": "stdout",
     "output_type": "stream",
     "text": [
      "Average RMSE over all historical forecasts: 0.14\n",
      "Best Params: {'criterion': 'squared_error', 'max_depth': 2, 'max_features': 'auto', 'n_estimators': 300, 'n_jobs': -1, 'oob_score': True, 'random_state': 42}\n",
      "Recursively Forecasting horizon=4 with Random Forest + Grid Search\n"
     ]
    },
    {
     "name": "stderr",
     "output_type": "stream",
     "text": [
      "100%|██████████| 18/18 [07:18<00:00, 24.37s/it]\n",
      " 33%|███▎      | 4/12 [27:42<56:18, 422.37s/it]  "
     ]
    },
    {
     "name": "stdout",
     "output_type": "stream",
     "text": [
      "Average RMSE over all historical forecasts: 0.14\n",
      "Best Params: {'criterion': 'squared_error', 'max_depth': 2, 'max_features': 'auto', 'n_estimators': 300, 'n_jobs': -1, 'oob_score': True, 'random_state': 42}\n",
      "Recursively Forecasting horizon=5 with Random Forest + Grid Search\n"
     ]
    },
    {
     "name": "stderr",
     "output_type": "stream",
     "text": [
      "100%|██████████| 18/18 [07:31<00:00, 25.09s/it]\n",
      " 42%|████▏     | 5/12 [35:13<50:30, 432.94s/it]"
     ]
    },
    {
     "name": "stdout",
     "output_type": "stream",
     "text": [
      "Average RMSE over all historical forecasts: 0.15\n",
      "Best Params: {'criterion': 'squared_error', 'max_depth': 2, 'max_features': 'auto', 'n_estimators': 300, 'n_jobs': -1, 'oob_score': True, 'random_state': 42}\n",
      "Recursively Forecasting horizon=6 with Random Forest + Grid Search\n"
     ]
    },
    {
     "name": "stderr",
     "output_type": "stream",
     "text": [
      "100%|██████████| 18/18 [07:44<00:00, 25.80s/it]\n",
      " 50%|█████     | 6/12 [42:58<44:21, 443.66s/it]"
     ]
    },
    {
     "name": "stdout",
     "output_type": "stream",
     "text": [
      "Average RMSE over all historical forecasts: 0.15\n",
      "Best Params: {'criterion': 'squared_error', 'max_depth': 2, 'max_features': 'auto', 'n_estimators': 300, 'n_jobs': -1, 'oob_score': True, 'random_state': 42}\n",
      "Recursively Forecasting horizon=7 with Random Forest + Grid Search\n"
     ]
    },
    {
     "name": "stderr",
     "output_type": "stream",
     "text": [
      "100%|██████████| 18/18 [07:58<00:00, 26.60s/it]\n",
      " 58%|█████▊    | 7/12 [50:57<37:55, 455.15s/it]"
     ]
    },
    {
     "name": "stdout",
     "output_type": "stream",
     "text": [
      "Average RMSE over all historical forecasts: 0.17\n",
      "Best Params: {'criterion': 'squared_error', 'max_depth': 2, 'max_features': 'auto', 'n_estimators': 300, 'n_jobs': -1, 'oob_score': True, 'random_state': 42}\n",
      "Recursively Forecasting horizon=8 with Random Forest + Grid Search\n"
     ]
    },
    {
     "name": "stderr",
     "output_type": "stream",
     "text": [
      "100%|██████████| 18/18 [08:10<00:00, 27.26s/it]\n",
      " 67%|██████▋   | 8/12 [59:07<31:05, 466.46s/it]"
     ]
    },
    {
     "name": "stdout",
     "output_type": "stream",
     "text": [
      "Average RMSE over all historical forecasts: 0.16\n",
      "Best Params: {'criterion': 'squared_error', 'max_depth': 2, 'max_features': 'auto', 'n_estimators': 300, 'n_jobs': -1, 'oob_score': True, 'random_state': 42}\n",
      "Recursively Forecasting horizon=9 with Random Forest + Grid Search\n"
     ]
    },
    {
     "name": "stderr",
     "output_type": "stream",
     "text": [
      "100%|██████████| 18/18 [08:23<00:00, 27.99s/it]\n",
      " 75%|███████▌  | 9/12 [1:07:31<23:54, 478.13s/it]"
     ]
    },
    {
     "name": "stdout",
     "output_type": "stream",
     "text": [
      "Average RMSE over all historical forecasts: 0.17\n",
      "Best Params: {'criterion': 'squared_error', 'max_depth': 2, 'max_features': 'auto', 'n_estimators': 300, 'n_jobs': -1, 'oob_score': True, 'random_state': 42}\n",
      "Recursively Forecasting horizon=10 with Random Forest + Grid Search\n"
     ]
    },
    {
     "name": "stderr",
     "output_type": "stream",
     "text": [
      "100%|██████████| 18/18 [08:36<00:00, 28.69s/it]\n",
      " 83%|████████▎ | 10/12 [1:16:08<16:19, 489.96s/it]"
     ]
    },
    {
     "name": "stdout",
     "output_type": "stream",
     "text": [
      "Average RMSE over all historical forecasts: 0.18\n",
      "Best Params: {'criterion': 'squared_error', 'max_depth': 2, 'max_features': 'auto', 'n_estimators': 300, 'n_jobs': -1, 'oob_score': True, 'random_state': 42}\n",
      "Recursively Forecasting horizon=11 with Random Forest + Grid Search\n"
     ]
    },
    {
     "name": "stderr",
     "output_type": "stream",
     "text": [
      "100%|██████████| 18/18 [08:47<00:00, 29.32s/it]\n",
      " 92%|█████████▏| 11/12 [1:24:55<08:21, 501.51s/it]"
     ]
    },
    {
     "name": "stdout",
     "output_type": "stream",
     "text": [
      "Average RMSE over all historical forecasts: 0.18\n",
      "Best Params: {'criterion': 'squared_error', 'max_depth': 2, 'max_features': 'auto', 'n_estimators': 50, 'n_jobs': -1, 'oob_score': True, 'random_state': 42}\n",
      "Recursively Forecasting horizon=12 with Random Forest + Grid Search\n"
     ]
    },
    {
     "name": "stderr",
     "output_type": "stream",
     "text": [
      "100%|██████████| 18/18 [08:59<00:00, 30.00s/it]\n",
      "100%|██████████| 12/12 [1:33:55<00:00, 469.65s/it]"
     ]
    },
    {
     "name": "stdout",
     "output_type": "stream",
     "text": [
      "Average RMSE over all historical forecasts: 0.17\n",
      "Best Params: {'criterion': 'squared_error', 'max_depth': 2, 'max_features': 'auto', 'n_estimators': 300, 'n_jobs': -1, 'oob_score': True, 'random_state': 42}\n"
     ]
    },
    {
     "name": "stderr",
     "output_type": "stream",
     "text": [
      "\n"
     ]
    }
   ],
   "source": [
    "# Model D Multi Horizon\n",
    "RF_D_results = multi_forecast_GS_RF(\n",
    "    btc_usd_df,\n",
    "    [price_ts, vol_ts, lda_price],\n",
    ")"
   ]
  },
  {
   "cell_type": "markdown",
   "metadata": {},
   "source": [
    "#### Model E (Price Returns, Price & Volume + Top2Vec Reddit Price Index)"
   ]
  },
  {
   "cell_type": "code",
   "execution_count": 21,
   "metadata": {},
   "outputs": [
    {
     "name": "stderr",
     "output_type": "stream",
     "text": [
      "  0%|          | 0/12 [00:00<?, ?it/s]"
     ]
    },
    {
     "name": "stdout",
     "output_type": "stream",
     "text": [
      "Recursively Forecasting horizon=1 with Random Forest + Grid Search\n"
     ]
    },
    {
     "name": "stderr",
     "output_type": "stream",
     "text": [
      "100%|██████████| 18/18 [06:31<00:00, 21.73s/it]\n",
      "  8%|▊         | 1/12 [06:31<1:11:43, 391.25s/it]"
     ]
    },
    {
     "name": "stdout",
     "output_type": "stream",
     "text": [
      "Average RMSE over all historical forecasts: 0.08\n",
      "Best Params: {'criterion': 'squared_error', 'max_depth': 2, 'max_features': 0.3333333333333333, 'n_estimators': 50, 'n_jobs': -1, 'oob_score': True, 'random_state': 42}\n",
      "Recursively Forecasting horizon=2 with Random Forest + Grid Search\n"
     ]
    },
    {
     "name": "stderr",
     "output_type": "stream",
     "text": [
      "100%|██████████| 18/18 [06:49<00:00, 22.75s/it]\n",
      " 17%|█▋        | 2/12 [13:20<1:06:59, 401.98s/it]"
     ]
    },
    {
     "name": "stdout",
     "output_type": "stream",
     "text": [
      "Average RMSE over all historical forecasts: 0.11\n",
      "Best Params: {'criterion': 'squared_error', 'max_depth': 2, 'max_features': 0.3333333333333333, 'n_estimators': 50, 'n_jobs': -1, 'oob_score': True, 'random_state': 42}\n",
      "Recursively Forecasting horizon=3 with Random Forest + Grid Search\n"
     ]
    },
    {
     "name": "stderr",
     "output_type": "stream",
     "text": [
      "100%|██████████| 18/18 [07:05<00:00, 23.62s/it]\n",
      " 25%|██▌       | 3/12 [20:25<1:01:53, 412.60s/it]"
     ]
    },
    {
     "name": "stdout",
     "output_type": "stream",
     "text": [
      "Average RMSE over all historical forecasts: 0.14\n",
      "Best Params: {'criterion': 'squared_error', 'max_depth': 2, 'max_features': 'auto', 'n_estimators': 300, 'n_jobs': -1, 'oob_score': True, 'random_state': 42}\n",
      "Recursively Forecasting horizon=4 with Random Forest + Grid Search\n"
     ]
    },
    {
     "name": "stderr",
     "output_type": "stream",
     "text": [
      "100%|██████████| 18/18 [07:19<00:00, 24.41s/it]\n",
      " 33%|███▎      | 4/12 [27:45<56:25, 423.15s/it]  "
     ]
    },
    {
     "name": "stdout",
     "output_type": "stream",
     "text": [
      "Average RMSE over all historical forecasts: 0.14\n",
      "Best Params: {'criterion': 'squared_error', 'max_depth': 2, 'max_features': 'auto', 'n_estimators': 300, 'n_jobs': -1, 'oob_score': True, 'random_state': 42}\n",
      "Recursively Forecasting horizon=5 with Random Forest + Grid Search\n"
     ]
    },
    {
     "name": "stderr",
     "output_type": "stream",
     "text": [
      "100%|██████████| 18/18 [07:33<00:00, 25.17s/it]\n",
      " 42%|████▏     | 5/12 [35:18<50:37, 433.92s/it]"
     ]
    },
    {
     "name": "stdout",
     "output_type": "stream",
     "text": [
      "Average RMSE over all historical forecasts: 0.15\n",
      "Best Params: {'criterion': 'squared_error', 'max_depth': 2, 'max_features': 'auto', 'n_estimators': 300, 'n_jobs': -1, 'oob_score': True, 'random_state': 42}\n",
      "Recursively Forecasting horizon=6 with Random Forest + Grid Search\n"
     ]
    },
    {
     "name": "stderr",
     "output_type": "stream",
     "text": [
      "100%|██████████| 18/18 [07:46<00:00, 25.90s/it]\n",
      " 50%|█████     | 6/12 [43:04<44:29, 444.90s/it]"
     ]
    },
    {
     "name": "stdout",
     "output_type": "stream",
     "text": [
      "Average RMSE over all historical forecasts: 0.15\n",
      "Best Params: {'criterion': 'squared_error', 'max_depth': 2, 'max_features': 'auto', 'n_estimators': 300, 'n_jobs': -1, 'oob_score': True, 'random_state': 42}\n",
      "Recursively Forecasting horizon=7 with Random Forest + Grid Search\n"
     ]
    },
    {
     "name": "stderr",
     "output_type": "stream",
     "text": [
      "100%|██████████| 18/18 [07:59<00:00, 26.66s/it]\n",
      " 58%|█████▊    | 7/12 [51:04<38:01, 456.36s/it]"
     ]
    },
    {
     "name": "stdout",
     "output_type": "stream",
     "text": [
      "Average RMSE over all historical forecasts: 0.17\n",
      "Best Params: {'criterion': 'squared_error', 'max_depth': 2, 'max_features': 'auto', 'n_estimators': 300, 'n_jobs': -1, 'oob_score': True, 'random_state': 42}\n",
      "Recursively Forecasting horizon=8 with Random Forest + Grid Search\n"
     ]
    },
    {
     "name": "stderr",
     "output_type": "stream",
     "text": [
      "100%|██████████| 18/18 [08:12<00:00, 27.37s/it]\n",
      " 67%|██████▋   | 8/12 [59:17<31:11, 467.93s/it]"
     ]
    },
    {
     "name": "stdout",
     "output_type": "stream",
     "text": [
      "Average RMSE over all historical forecasts: 0.16\n",
      "Best Params: {'criterion': 'squared_error', 'max_depth': 2, 'max_features': 'auto', 'n_estimators': 300, 'n_jobs': -1, 'oob_score': True, 'random_state': 42}\n",
      "Recursively Forecasting horizon=9 with Random Forest + Grid Search\n"
     ]
    },
    {
     "name": "stderr",
     "output_type": "stream",
     "text": [
      "100%|██████████| 18/18 [08:25<00:00, 28.09s/it]\n",
      " 75%|███████▌  | 9/12 [1:07:42<23:59, 479.71s/it]"
     ]
    },
    {
     "name": "stdout",
     "output_type": "stream",
     "text": [
      "Average RMSE over all historical forecasts: 0.17\n",
      "Best Params: {'criterion': 'squared_error', 'max_depth': 2, 'max_features': 'auto', 'n_estimators': 300, 'n_jobs': -1, 'oob_score': True, 'random_state': 42}\n",
      "Recursively Forecasting horizon=10 with Random Forest + Grid Search\n"
     ]
    },
    {
     "name": "stderr",
     "output_type": "stream",
     "text": [
      "100%|██████████| 18/18 [08:38<00:00, 28.79s/it]\n",
      " 83%|████████▎ | 10/12 [1:16:21<16:23, 491.60s/it]"
     ]
    },
    {
     "name": "stdout",
     "output_type": "stream",
     "text": [
      "Average RMSE over all historical forecasts: 0.18\n",
      "Best Params: {'criterion': 'squared_error', 'max_depth': 2, 'max_features': 'auto', 'n_estimators': 300, 'n_jobs': -1, 'oob_score': True, 'random_state': 42}\n",
      "Recursively Forecasting horizon=11 with Random Forest + Grid Search\n"
     ]
    },
    {
     "name": "stderr",
     "output_type": "stream",
     "text": [
      "100%|██████████| 18/18 [08:49<00:00, 29.41s/it]\n",
      " 92%|█████████▏| 11/12 [1:25:10<08:23, 503.17s/it]"
     ]
    },
    {
     "name": "stdout",
     "output_type": "stream",
     "text": [
      "Average RMSE over all historical forecasts: 0.18\n",
      "Best Params: {'criterion': 'squared_error', 'max_depth': 2, 'max_features': 'auto', 'n_estimators': 50, 'n_jobs': -1, 'oob_score': True, 'random_state': 42}\n",
      "Recursively Forecasting horizon=12 with Random Forest + Grid Search\n"
     ]
    },
    {
     "name": "stderr",
     "output_type": "stream",
     "text": [
      "100%|██████████| 18/18 [09:01<00:00, 30.10s/it]\n",
      "100%|██████████| 12/12 [1:34:12<00:00, 471.02s/it]"
     ]
    },
    {
     "name": "stdout",
     "output_type": "stream",
     "text": [
      "Average RMSE over all historical forecasts: 0.17\n",
      "Best Params: {'criterion': 'squared_error', 'max_depth': 5, 'max_features': 'auto', 'n_estimators': 300, 'n_jobs': -1, 'oob_score': True, 'random_state': 42}\n"
     ]
    },
    {
     "name": "stderr",
     "output_type": "stream",
     "text": [
      "\n"
     ]
    }
   ],
   "source": [
    "# Model E Multi Horizon\n",
    "RF_E_results = multi_forecast_GS_RF(\n",
    "    btc_usd_df,\n",
    "    [price_ts, vol_ts, t2v_price],\n",
    ")"
   ]
  },
  {
   "cell_type": "markdown",
   "metadata": {},
   "source": [
    "#### Model F (Price Returns, Price & Volume + VCRIX) [TBD: Special Case due to cov concat]"
   ]
  },
  {
   "cell_type": "code",
   "execution_count": 19,
   "metadata": {},
   "outputs": [],
   "source": [
    "def multi_forecast_GS_RF_VCRIX(\n",
    "    target_df: pd.DataFrame,\n",
    "    forecast_horizons: List[int] = horizons,\n",
    "    lags: int = 1,\n",
    "    past_covariates_lags: int = 1,\n",
    "    verbose: bool = False,\n",
    "    error_metric: Any = rmse,\n",
    "    params_list: List[Any] = rf_params_list,\n",
    "    split_date: pd.Timestamp = split_date,\n",
    ") -> None:\n",
    "\n",
    "    best_results = {}\n",
    "\n",
    "    for h in tqdm(forecast_horizons):\n",
    "        print(f\"Recursively Forecasting horizon={h} with Random Forest + Grid Search\")\n",
    "\n",
    "        # Generate Appropriate TS Data\n",
    "        target_cov = gen_log_price_returns(target_df, h)\n",
    "        past_cov_list = concatenate(\n",
    "            [\n",
    "                target_cov.slice_intersect(vcrix),\n",
    "                price_ts.slice_intersect(vcrix),\n",
    "                vol_ts.slice_intersect(vcrix),\n",
    "                vcrix.slice_intersect(target_cov.slice_intersect(vcrix)),\n",
    "            ],\n",
    "            axis=1,\n",
    "        )\n",
    "        # Run Grid Search RF\n",
    "        best_params, min_error = gridsearch_RF(\n",
    "            target_cov,\n",
    "            past_cov_list,\n",
    "            h,\n",
    "            lags,\n",
    "            past_covariates_lags,\n",
    "            verbose,\n",
    "            params_list,\n",
    "            error_metric,\n",
    "            split_date,\n",
    "        )\n",
    "\n",
    "        best_results[h] = {\"best_params\": best_params, \"min_error\": min_error}\n",
    "\n",
    "    return best_results"
   ]
  },
  {
   "cell_type": "code",
   "execution_count": 20,
   "metadata": {},
   "outputs": [
    {
     "name": "stderr",
     "output_type": "stream",
     "text": [
      "  0%|          | 0/12 [00:00<?, ?it/s]"
     ]
    },
    {
     "name": "stdout",
     "output_type": "stream",
     "text": [
      "Recursively Forecasting horizon=1 with Random Forest + Grid Search\n"
     ]
    },
    {
     "name": "stderr",
     "output_type": "stream",
     "text": [
      "100%|██████████| 18/18 [05:18<00:00, 17.72s/it]\n",
      "  8%|▊         | 1/12 [05:18<58:28, 318.94s/it]"
     ]
    },
    {
     "name": "stdout",
     "output_type": "stream",
     "text": [
      "Average RMSE over all historical forecasts: 0.08\n",
      "Best Params: {'criterion': 'squared_error', 'max_depth': 2, 'max_features': 0.3333333333333333, 'n_estimators': 100, 'n_jobs': -1, 'oob_score': True, 'random_state': 42}\n",
      "Recursively Forecasting horizon=2 with Random Forest + Grid Search\n"
     ]
    },
    {
     "name": "stderr",
     "output_type": "stream",
     "text": [
      "100%|██████████| 18/18 [05:33<00:00, 18.51s/it]\n",
      " 17%|█▋        | 2/12 [10:52<54:33, 327.34s/it]"
     ]
    },
    {
     "name": "stdout",
     "output_type": "stream",
     "text": [
      "Average RMSE over all historical forecasts: 0.11\n",
      "Best Params: {'criterion': 'squared_error', 'max_depth': 2, 'max_features': 0.3333333333333333, 'n_estimators': 50, 'n_jobs': -1, 'oob_score': True, 'random_state': 42}\n",
      "Recursively Forecasting horizon=3 with Random Forest + Grid Search\n"
     ]
    },
    {
     "name": "stderr",
     "output_type": "stream",
     "text": [
      "100%|██████████| 18/18 [05:47<00:00, 19.33s/it]\n",
      " 25%|██▌       | 3/12 [16:40<50:30, 336.74s/it]"
     ]
    },
    {
     "name": "stdout",
     "output_type": "stream",
     "text": [
      "Average RMSE over all historical forecasts: 0.14\n",
      "Best Params: {'criterion': 'squared_error', 'max_depth': 2, 'max_features': 'auto', 'n_estimators': 300, 'n_jobs': -1, 'oob_score': True, 'random_state': 42}\n",
      "Recursively Forecasting horizon=4 with Random Forest + Grid Search\n"
     ]
    },
    {
     "name": "stderr",
     "output_type": "stream",
     "text": [
      "100%|██████████| 18/18 [06:05<00:00, 20.28s/it]\n",
      " 33%|███▎      | 4/12 [22:45<46:23, 347.95s/it]"
     ]
    },
    {
     "name": "stdout",
     "output_type": "stream",
     "text": [
      "Average RMSE over all historical forecasts: 0.14\n",
      "Best Params: {'criterion': 'squared_error', 'max_depth': 2, 'max_features': 'auto', 'n_estimators': 300, 'n_jobs': -1, 'oob_score': True, 'random_state': 42}\n",
      "Recursively Forecasting horizon=5 with Random Forest + Grid Search\n"
     ]
    },
    {
     "name": "stderr",
     "output_type": "stream",
     "text": [
      "100%|██████████| 18/18 [07:25<00:00, 24.73s/it]\n",
      " 42%|████▏     | 5/12 [30:10<44:40, 383.00s/it]"
     ]
    },
    {
     "name": "stdout",
     "output_type": "stream",
     "text": [
      "Average RMSE over all historical forecasts: 0.15\n",
      "Best Params: {'criterion': 'squared_error', 'max_depth': 2, 'max_features': 'auto', 'n_estimators': 300, 'n_jobs': -1, 'oob_score': True, 'random_state': 42}\n",
      "Recursively Forecasting horizon=6 with Random Forest + Grid Search\n"
     ]
    },
    {
     "name": "stderr",
     "output_type": "stream",
     "text": [
      "100%|██████████| 18/18 [07:42<00:00, 25.68s/it]\n",
      " 50%|█████     | 6/12 [37:52<40:59, 409.97s/it]"
     ]
    },
    {
     "name": "stdout",
     "output_type": "stream",
     "text": [
      "Average RMSE over all historical forecasts: 0.16\n",
      "Best Params: {'criterion': 'squared_error', 'max_depth': 2, 'max_features': 'auto', 'n_estimators': 300, 'n_jobs': -1, 'oob_score': True, 'random_state': 42}\n",
      "Recursively Forecasting horizon=7 with Random Forest + Grid Search\n"
     ]
    },
    {
     "name": "stderr",
     "output_type": "stream",
     "text": [
      "100%|██████████| 18/18 [07:56<00:00, 26.47s/it]\n",
      " 58%|█████▊    | 7/12 [45:49<35:58, 431.72s/it]"
     ]
    },
    {
     "name": "stdout",
     "output_type": "stream",
     "text": [
      "Average RMSE over all historical forecasts: 0.17\n",
      "Best Params: {'criterion': 'squared_error', 'max_depth': 2, 'max_features': 'auto', 'n_estimators': 300, 'n_jobs': -1, 'oob_score': True, 'random_state': 42}\n",
      "Recursively Forecasting horizon=8 with Random Forest + Grid Search\n"
     ]
    },
    {
     "name": "stderr",
     "output_type": "stream",
     "text": [
      "100%|██████████| 18/18 [08:09<00:00, 27.18s/it]\n",
      " 67%|██████▋   | 8/12 [53:58<30:00, 450.05s/it]"
     ]
    },
    {
     "name": "stdout",
     "output_type": "stream",
     "text": [
      "Average RMSE over all historical forecasts: 0.16\n",
      "Best Params: {'criterion': 'squared_error', 'max_depth': 2, 'max_features': 'auto', 'n_estimators': 300, 'n_jobs': -1, 'oob_score': True, 'random_state': 42}\n",
      "Recursively Forecasting horizon=9 with Random Forest + Grid Search\n"
     ]
    },
    {
     "name": "stderr",
     "output_type": "stream",
     "text": [
      "100%|██████████| 18/18 [08:21<00:00, 27.89s/it]\n",
      " 75%|███████▌  | 9/12 [1:02:20<23:18, 466.29s/it]"
     ]
    },
    {
     "name": "stdout",
     "output_type": "stream",
     "text": [
      "Average RMSE over all historical forecasts: 0.17\n",
      "Best Params: {'criterion': 'squared_error', 'max_depth': 2, 'max_features': 'auto', 'n_estimators': 300, 'n_jobs': -1, 'oob_score': True, 'random_state': 42}\n",
      "Recursively Forecasting horizon=10 with Random Forest + Grid Search\n"
     ]
    },
    {
     "name": "stderr",
     "output_type": "stream",
     "text": [
      "100%|██████████| 18/18 [08:34<00:00, 28.58s/it]\n",
      " 83%|████████▎ | 10/12 [1:10:55<16:02, 481.18s/it]"
     ]
    },
    {
     "name": "stdout",
     "output_type": "stream",
     "text": [
      "Average RMSE over all historical forecasts: 0.17\n",
      "Best Params: {'criterion': 'squared_error', 'max_depth': 2, 'max_features': 'auto', 'n_estimators': 300, 'n_jobs': -1, 'oob_score': True, 'random_state': 42}\n",
      "Recursively Forecasting horizon=11 with Random Forest + Grid Search\n"
     ]
    },
    {
     "name": "stderr",
     "output_type": "stream",
     "text": [
      "100%|██████████| 18/18 [08:46<00:00, 29.23s/it]\n",
      " 92%|█████████▏| 11/12 [1:19:41<08:14, 494.96s/it]"
     ]
    },
    {
     "name": "stdout",
     "output_type": "stream",
     "text": [
      "Average RMSE over all historical forecasts: 0.18\n",
      "Best Params: {'criterion': 'squared_error', 'max_depth': 5, 'max_features': 'auto', 'n_estimators': 300, 'n_jobs': -1, 'oob_score': True, 'random_state': 42}\n",
      "Recursively Forecasting horizon=12 with Random Forest + Grid Search\n"
     ]
    },
    {
     "name": "stderr",
     "output_type": "stream",
     "text": [
      "100%|██████████| 18/18 [08:58<00:00, 29.92s/it]\n",
      "100%|██████████| 12/12 [1:28:39<00:00, 443.32s/it]"
     ]
    },
    {
     "name": "stdout",
     "output_type": "stream",
     "text": [
      "Average RMSE over all historical forecasts: 0.17\n",
      "Best Params: {'criterion': 'squared_error', 'max_depth': 2, 'max_features': 'auto', 'n_estimators': 300, 'n_jobs': -1, 'oob_score': True, 'random_state': 42}\n"
     ]
    },
    {
     "name": "stderr",
     "output_type": "stream",
     "text": [
      "\n"
     ]
    }
   ],
   "source": [
    "RF_F_results = multi_forecast_GS_RF_VCRIX(btc_usd_df)"
   ]
  },
  {
   "cell_type": "markdown",
   "metadata": {},
   "source": [
    "### Consolidate and Save Best Model Results [Add to end of each GridSearch later]\n"
   ]
  },
  {
   "cell_type": "code",
   "execution_count": 50,
   "metadata": {},
   "outputs": [],
   "source": [
    "save_data_dir = Path(\n",
    "    \"/Users/christopherliew/Desktop/Y4S1/HT/crypto_uncertainty_index/forecasting/data/forecasts/random_forest\"\n",
    ")"
   ]
  },
  {
   "cell_type": "code",
   "execution_count": 51,
   "metadata": {},
   "outputs": [],
   "source": [
    "def format_results(res_dict: Dict[int, Any], model_name: str) -> pd.DataFrame:\n",
    "    df = pd.DataFrame(res_dict).T.reset_index().rename(columns={\"index\": \"horizon\"})\n",
    "    df[\"model\"] = model_name\n",
    "    return df"
   ]
  },
  {
   "cell_type": "code",
   "execution_count": 52,
   "metadata": {},
   "outputs": [],
   "source": [
    "RF_A_results_df = format_results(RF_A_results, \"A\")\n",
    "RF_B_results_df = format_results(RF_B_results, \"B\")\n",
    "RF_C_results_df = format_results(RF_C_results, \"C\")\n",
    "RF_D_results_df = format_results(RF_D_results, \"D\")\n",
    "RF_E_results_df = format_results(RF_E_results, \"E\")\n",
    "RF_F_results_df = format_results(RF_F_results, \"F\")"
   ]
  },
  {
   "cell_type": "code",
   "execution_count": 53,
   "metadata": {},
   "outputs": [],
   "source": [
    "# Save as csv\n",
    "models = [\"A\", \"B\", \"C\", \"D\", \"E\", \"F\"]\n",
    "\n",
    "res = [\n",
    "    RF_A_results_df,\n",
    "    RF_B_results_df,\n",
    "    RF_C_results_df,\n",
    "    RF_D_results_df,\n",
    "    RF_E_results_df,\n",
    "    RF_F_results_df,\n",
    "]\n",
    "\n",
    "model_res_collection = zip(models, res)\n",
    "\n",
    "for name, res in model_res_collection:\n",
    "    path = save_data_dir / f\"model_{name}_results.csv\"\n",
    "    res.to_csv(path, index=False)"
   ]
  },
  {
   "cell_type": "code",
   "execution_count": 61,
   "metadata": {},
   "outputs": [
    {
     "data": {
      "text/plain": [
       "{'criterion': 'squared_error',\n",
       " 'max_depth': 2,\n",
       " 'max_features': 0.3333333333333333,\n",
       " 'n_estimators': 100,\n",
       " 'n_jobs': -1,\n",
       " 'oob_score': True,\n",
       " 'random_state': 42}"
      ]
     },
     "execution_count": 61,
     "metadata": {},
     "output_type": "execute_result"
    }
   ],
   "source": [
    "RF_A_results_df.query(\"horizon == 1\").best_params.iloc[0]"
   ]
  },
  {
   "cell_type": "markdown",
   "metadata": {},
   "source": [
    "### Historical Forecasts with Best Model"
   ]
  },
  {
   "cell_type": "code",
   "execution_count": 88,
   "metadata": {},
   "outputs": [],
   "source": [
    "hist_forecast_save_dir = Path(\n",
    "    \"/Users/christopherliew/Desktop/Y4S1/HT/crypto_uncertainty_index/forecasting/data/forecasts/random_forest\"\n",
    ")"
   ]
  },
  {
   "cell_type": "code",
   "execution_count": 89,
   "metadata": {},
   "outputs": [],
   "source": [
    "# Homemade RF Grid Search\n",
    "\n",
    "\n",
    "def hist_forecast_RF(\n",
    "    series: TimeSeries,\n",
    "    past_covariates: TimeSeries,\n",
    "    forecast_horizon: int,\n",
    "    best_params: Dict[str, Any],\n",
    "    lags: int,\n",
    "    lags_past_covariates: int,\n",
    "    verbose: bool = False,\n",
    "    split_date: pd.Timestamp = split_date,\n",
    "):\n",
    "\n",
    "    model = RandomForest(\n",
    "        lags=lags, lags_past_covariates=lags_past_covariates, **best_params\n",
    "    )\n",
    "    hist_forecast = model.historical_forecasts(\n",
    "        series=series,\n",
    "        past_covariates=past_covariates,\n",
    "        forecast_horizon=forecast_horizon,\n",
    "        stride=1,\n",
    "        start=split_date,\n",
    "        verbose=verbose,\n",
    "    )\n",
    "    return hist_forecast"
   ]
  },
  {
   "cell_type": "code",
   "execution_count": 93,
   "metadata": {},
   "outputs": [],
   "source": [
    "def multi_hist_forecast_RF(\n",
    "    target_df: pd.DataFrame,\n",
    "    past_covariates: List[TimeSeries],\n",
    "    best_params_dict: Dict[int, Any],\n",
    "    save_data_dir: Union[str, Path],\n",
    "    model_name: str,\n",
    "    lags: int = 1,\n",
    "    past_covariates_lags: int = 1,\n",
    "    verbose: bool = True,\n",
    "    split_date: pd.Timestamp = split_date,\n",
    ") -> None:\n",
    "\n",
    "    for h in tqdm(best_params_dict.keys()):\n",
    "        print(f\"Recursively Forecasting horizon={h} with Random Forest\")\n",
    "\n",
    "        # Generate Appropriate TS Data\n",
    "        target_cov = gen_log_price_returns(target_df, h)\n",
    "        past_cov_list = [target_cov]\n",
    "        (\n",
    "            past_cov_list.extend(\n",
    "                list(map(lambda x: x.slice_intersect(target_cov), past_covariates))\n",
    "            )\n",
    "        )\n",
    "        past_cov_list_tidy = concatenate(past_cov_list, axis=1)\n",
    "        # Run Historical Forecast\n",
    "        hist_forecast = hist_forecast_RF(\n",
    "            target_cov,\n",
    "            past_cov_list_tidy,\n",
    "            h,\n",
    "            best_params_dict[h],\n",
    "            lags,\n",
    "            past_covariates_lags,\n",
    "            verbose,\n",
    "            split_date,\n",
    "        )\n",
    "        print(f\"Saving forecasts ...\")\n",
    "        forecast_df = hist_forecast.with_columns_renamed([\"0\"], [\"price_return\"])\n",
    "        forecast_df.to_csv(Path(save_data_dir) / f\"rf_model_{model_name}_h{h}.csv\")"
   ]
  },
  {
   "cell_type": "markdown",
   "metadata": {},
   "source": [
    "### Model A"
   ]
  },
  {
   "cell_type": "code",
   "execution_count": 94,
   "metadata": {},
   "outputs": [],
   "source": [
    "RF_A_best_params_dict = RF_A_results_df.set_index(\"horizon\")[[\"best_params\"]].to_dict()[\n",
    "    \"best_params\"\n",
    "]"
   ]
  },
  {
   "cell_type": "code",
   "execution_count": 95,
   "metadata": {},
   "outputs": [
    {
     "name": "stderr",
     "output_type": "stream",
     "text": [
      "  0%|          | 0/12 [00:00<?, ?it/s]"
     ]
    },
    {
     "name": "stdout",
     "output_type": "stream",
     "text": [
      "Recursively Forecasting horizon=1 with Random Forest\n"
     ]
    },
    {
     "data": {
      "application/vnd.jupyter.widget-view+json": {
       "model_id": "19699c3ccb5a48a08690f643599b5533",
       "version_major": 2,
       "version_minor": 0
      },
      "text/plain": [
       "  0%|          | 0/136 [00:00<?, ?it/s]"
      ]
     },
     "metadata": {},
     "output_type": "display_data"
    },
    {
     "name": "stderr",
     "output_type": "stream",
     "text": [
      "  8%|▊         | 1/12 [00:11<02:01, 11.03s/it]"
     ]
    },
    {
     "name": "stdout",
     "output_type": "stream",
     "text": [
      "Saving forecasts ...\n",
      "Recursively Forecasting horizon=2 with Random Forest\n"
     ]
    },
    {
     "data": {
      "application/vnd.jupyter.widget-view+json": {
       "model_id": "66d794771fc046afa8a5ab0e1c81a1cf",
       "version_major": 2,
       "version_minor": 0
      },
      "text/plain": [
       "  0%|          | 0/135 [00:00<?, ?it/s]"
      ]
     },
     "metadata": {},
     "output_type": "display_data"
    },
    {
     "name": "stderr",
     "output_type": "stream",
     "text": [
      " 17%|█▋        | 2/12 [00:22<01:55, 11.58s/it]"
     ]
    },
    {
     "name": "stdout",
     "output_type": "stream",
     "text": [
      "Saving forecasts ...\n",
      "Recursively Forecasting horizon=3 with Random Forest\n"
     ]
    },
    {
     "data": {
      "application/vnd.jupyter.widget-view+json": {
       "model_id": "483d0c785f0c49bdba3764abe4fb2a9b",
       "version_major": 2,
       "version_minor": 0
      },
      "text/plain": [
       "  0%|          | 0/134 [00:00<?, ?it/s]"
      ]
     },
     "metadata": {},
     "output_type": "display_data"
    },
    {
     "name": "stderr",
     "output_type": "stream",
     "text": [
      " 25%|██▌       | 3/12 [00:35<01:48, 12.07s/it]"
     ]
    },
    {
     "name": "stdout",
     "output_type": "stream",
     "text": [
      "Saving forecasts ...\n",
      "Recursively Forecasting horizon=4 with Random Forest\n"
     ]
    },
    {
     "data": {
      "application/vnd.jupyter.widget-view+json": {
       "model_id": "fa5c26988a9e4c4a81f0aa5b7b3575f7",
       "version_major": 2,
       "version_minor": 0
      },
      "text/plain": [
       "  0%|          | 0/133 [00:00<?, ?it/s]"
      ]
     },
     "metadata": {},
     "output_type": "display_data"
    },
    {
     "name": "stderr",
     "output_type": "stream",
     "text": [
      " 33%|███▎      | 4/12 [00:43<01:22, 10.29s/it]"
     ]
    },
    {
     "name": "stdout",
     "output_type": "stream",
     "text": [
      "Saving forecasts ...\n",
      "Recursively Forecasting horizon=5 with Random Forest\n"
     ]
    },
    {
     "data": {
      "application/vnd.jupyter.widget-view+json": {
       "model_id": "75da6f38183348b985fbc1ce6e3cf8d7",
       "version_major": 2,
       "version_minor": 0
      },
      "text/plain": [
       "  0%|          | 0/132 [00:00<?, ?it/s]"
      ]
     },
     "metadata": {},
     "output_type": "display_data"
    },
    {
     "name": "stderr",
     "output_type": "stream",
     "text": [
      " 42%|████▏     | 5/12 [00:57<01:21, 11.65s/it]"
     ]
    },
    {
     "name": "stdout",
     "output_type": "stream",
     "text": [
      "Saving forecasts ...\n",
      "Recursively Forecasting horizon=6 with Random Forest\n"
     ]
    },
    {
     "data": {
      "application/vnd.jupyter.widget-view+json": {
       "model_id": "4d045258419b4aaf88cdf686d62f7148",
       "version_major": 2,
       "version_minor": 0
      },
      "text/plain": [
       "  0%|          | 0/131 [00:00<?, ?it/s]"
      ]
     },
     "metadata": {},
     "output_type": "display_data"
    },
    {
     "name": "stderr",
     "output_type": "stream",
     "text": [
      " 50%|█████     | 6/12 [01:11<01:14, 12.49s/it]"
     ]
    },
    {
     "name": "stdout",
     "output_type": "stream",
     "text": [
      "Saving forecasts ...\n",
      "Recursively Forecasting horizon=7 with Random Forest\n"
     ]
    },
    {
     "data": {
      "application/vnd.jupyter.widget-view+json": {
       "model_id": "44518a3f0e234ec3b6490e28439ae569",
       "version_major": 2,
       "version_minor": 0
      },
      "text/plain": [
       "  0%|          | 0/130 [00:00<?, ?it/s]"
      ]
     },
     "metadata": {},
     "output_type": "display_data"
    },
    {
     "name": "stderr",
     "output_type": "stream",
     "text": [
      " 58%|█████▊    | 7/12 [01:26<01:06, 13.29s/it]"
     ]
    },
    {
     "name": "stdout",
     "output_type": "stream",
     "text": [
      "Saving forecasts ...\n",
      "Recursively Forecasting horizon=8 with Random Forest\n"
     ]
    },
    {
     "data": {
      "application/vnd.jupyter.widget-view+json": {
       "model_id": "e14bf32e54d7485ab7a7da7293e70ff1",
       "version_major": 2,
       "version_minor": 0
      },
      "text/plain": [
       "  0%|          | 0/129 [00:00<?, ?it/s]"
      ]
     },
     "metadata": {},
     "output_type": "display_data"
    },
    {
     "name": "stderr",
     "output_type": "stream",
     "text": [
      " 67%|██████▋   | 8/12 [01:41<00:55, 13.98s/it]"
     ]
    },
    {
     "name": "stdout",
     "output_type": "stream",
     "text": [
      "Saving forecasts ...\n",
      "Recursively Forecasting horizon=9 with Random Forest\n"
     ]
    },
    {
     "data": {
      "application/vnd.jupyter.widget-view+json": {
       "model_id": "ef07a496227944bf8abce85f825876ff",
       "version_major": 2,
       "version_minor": 0
      },
      "text/plain": [
       "  0%|          | 0/128 [00:00<?, ?it/s]"
      ]
     },
     "metadata": {},
     "output_type": "display_data"
    },
    {
     "name": "stderr",
     "output_type": "stream",
     "text": [
      " 75%|███████▌  | 9/12 [01:57<00:43, 14.53s/it]"
     ]
    },
    {
     "name": "stdout",
     "output_type": "stream",
     "text": [
      "Saving forecasts ...\n",
      "Recursively Forecasting horizon=10 with Random Forest\n"
     ]
    },
    {
     "data": {
      "application/vnd.jupyter.widget-view+json": {
       "model_id": "e91dbe7bbc5545fbb3aa11a444f5bda5",
       "version_major": 2,
       "version_minor": 0
      },
      "text/plain": [
       "  0%|          | 0/127 [00:00<?, ?it/s]"
      ]
     },
     "metadata": {},
     "output_type": "display_data"
    },
    {
     "name": "stderr",
     "output_type": "stream",
     "text": [
      " 83%|████████▎ | 10/12 [02:13<00:30, 15.09s/it]"
     ]
    },
    {
     "name": "stdout",
     "output_type": "stream",
     "text": [
      "Saving forecasts ...\n",
      "Recursively Forecasting horizon=11 with Random Forest\n"
     ]
    },
    {
     "data": {
      "application/vnd.jupyter.widget-view+json": {
       "model_id": "8bc54518af7548d6ad7cec9a3f0d89c2",
       "version_major": 2,
       "version_minor": 0
      },
      "text/plain": [
       "  0%|          | 0/126 [00:00<?, ?it/s]"
      ]
     },
     "metadata": {},
     "output_type": "display_data"
    },
    {
     "name": "stderr",
     "output_type": "stream",
     "text": [
      " 92%|█████████▏| 11/12 [02:23<00:13, 13.46s/it]"
     ]
    },
    {
     "name": "stdout",
     "output_type": "stream",
     "text": [
      "Saving forecasts ...\n",
      "Recursively Forecasting horizon=12 with Random Forest\n"
     ]
    },
    {
     "data": {
      "application/vnd.jupyter.widget-view+json": {
       "model_id": "eabf19641987479292512c30d86483a5",
       "version_major": 2,
       "version_minor": 0
      },
      "text/plain": [
       "  0%|          | 0/125 [00:00<?, ?it/s]"
      ]
     },
     "metadata": {},
     "output_type": "display_data"
    },
    {
     "name": "stderr",
     "output_type": "stream",
     "text": [
      "100%|██████████| 12/12 [02:33<00:00, 12.83s/it]"
     ]
    },
    {
     "name": "stdout",
     "output_type": "stream",
     "text": [
      "Saving forecasts ...\n"
     ]
    },
    {
     "name": "stderr",
     "output_type": "stream",
     "text": [
      "\n"
     ]
    }
   ],
   "source": [
    "multi_hist_forecast_RF(\n",
    "    btc_usd_df, [price_ts, vol_ts], RF_A_best_params_dict, hist_forecast_save_dir, \"A\"\n",
    ")"
   ]
  },
  {
   "cell_type": "markdown",
   "metadata": {},
   "source": [
    "### Model B"
   ]
  },
  {
   "cell_type": "code",
   "execution_count": 96,
   "metadata": {},
   "outputs": [],
   "source": [
    "RF_B_best_params_dict = RF_B_results_df.set_index(\"horizon\")[[\"best_params\"]].to_dict()[\n",
    "    \"best_params\"\n",
    "]"
   ]
  },
  {
   "cell_type": "code",
   "execution_count": 97,
   "metadata": {},
   "outputs": [
    {
     "name": "stderr",
     "output_type": "stream",
     "text": [
      "  0%|          | 0/12 [00:00<?, ?it/s]"
     ]
    },
    {
     "name": "stdout",
     "output_type": "stream",
     "text": [
      "Recursively Forecasting horizon=1 with Random Forest\n"
     ]
    },
    {
     "data": {
      "application/vnd.jupyter.widget-view+json": {
       "model_id": "21df90977f1e4240b3106306bc247619",
       "version_major": 2,
       "version_minor": 0
      },
      "text/plain": [
       "  0%|          | 0/136 [00:00<?, ?it/s]"
      ]
     },
     "metadata": {},
     "output_type": "display_data"
    },
    {
     "name": "stderr",
     "output_type": "stream",
     "text": [
      "  8%|▊         | 1/12 [00:30<05:34, 30.37s/it]"
     ]
    },
    {
     "name": "stdout",
     "output_type": "stream",
     "text": [
      "Saving forecasts ...\n",
      "Recursively Forecasting horizon=2 with Random Forest\n"
     ]
    },
    {
     "data": {
      "application/vnd.jupyter.widget-view+json": {
       "model_id": "44709e60920646e2bec37ff72e9e1d75",
       "version_major": 2,
       "version_minor": 0
      },
      "text/plain": [
       "  0%|          | 0/135 [00:00<?, ?it/s]"
      ]
     },
     "metadata": {},
     "output_type": "display_data"
    },
    {
     "name": "stderr",
     "output_type": "stream",
     "text": [
      " 17%|█▋        | 2/12 [00:36<02:43, 16.38s/it]"
     ]
    },
    {
     "name": "stdout",
     "output_type": "stream",
     "text": [
      "Saving forecasts ...\n",
      "Recursively Forecasting horizon=3 with Random Forest\n"
     ]
    },
    {
     "data": {
      "application/vnd.jupyter.widget-view+json": {
       "model_id": "aee63870810c490aa8d18968512fda35",
       "version_major": 2,
       "version_minor": 0
      },
      "text/plain": [
       "  0%|          | 0/134 [00:00<?, ?it/s]"
      ]
     },
     "metadata": {},
     "output_type": "display_data"
    },
    {
     "name": "stderr",
     "output_type": "stream",
     "text": [
      " 25%|██▌       | 3/12 [01:10<03:37, 24.16s/it]"
     ]
    },
    {
     "name": "stdout",
     "output_type": "stream",
     "text": [
      "Saving forecasts ...\n",
      "Recursively Forecasting horizon=4 with Random Forest\n"
     ]
    },
    {
     "data": {
      "application/vnd.jupyter.widget-view+json": {
       "model_id": "3a589adf6b734c0a8c326f5ff084bd17",
       "version_major": 2,
       "version_minor": 0
      },
      "text/plain": [
       "  0%|          | 0/133 [00:00<?, ?it/s]"
      ]
     },
     "metadata": {},
     "output_type": "display_data"
    },
    {
     "name": "stderr",
     "output_type": "stream",
     "text": [
      " 33%|███▎      | 4/12 [01:44<03:46, 28.26s/it]"
     ]
    },
    {
     "name": "stdout",
     "output_type": "stream",
     "text": [
      "Saving forecasts ...\n",
      "Recursively Forecasting horizon=5 with Random Forest\n"
     ]
    },
    {
     "data": {
      "application/vnd.jupyter.widget-view+json": {
       "model_id": "26ea13835df840d28d2431806862daea",
       "version_major": 2,
       "version_minor": 0
      },
      "text/plain": [
       "  0%|          | 0/132 [00:00<?, ?it/s]"
      ]
     },
     "metadata": {},
     "output_type": "display_data"
    },
    {
     "name": "stderr",
     "output_type": "stream",
     "text": [
      " 42%|████▏     | 5/12 [02:20<03:36, 30.96s/it]"
     ]
    },
    {
     "name": "stdout",
     "output_type": "stream",
     "text": [
      "Saving forecasts ...\n",
      "Recursively Forecasting horizon=6 with Random Forest\n"
     ]
    },
    {
     "data": {
      "application/vnd.jupyter.widget-view+json": {
       "model_id": "9da61b5973894cc4a8b87dd9f769ebc1",
       "version_major": 2,
       "version_minor": 0
      },
      "text/plain": [
       "  0%|          | 0/131 [00:00<?, ?it/s]"
      ]
     },
     "metadata": {},
     "output_type": "display_data"
    },
    {
     "name": "stderr",
     "output_type": "stream",
     "text": [
      " 50%|█████     | 6/12 [02:57<03:18, 33.08s/it]"
     ]
    },
    {
     "name": "stdout",
     "output_type": "stream",
     "text": [
      "Saving forecasts ...\n",
      "Recursively Forecasting horizon=7 with Random Forest\n"
     ]
    },
    {
     "data": {
      "application/vnd.jupyter.widget-view+json": {
       "model_id": "a35ffe886aa94383ab07ba312af90d47",
       "version_major": 2,
       "version_minor": 0
      },
      "text/plain": [
       "  0%|          | 0/130 [00:00<?, ?it/s]"
      ]
     },
     "metadata": {},
     "output_type": "display_data"
    },
    {
     "name": "stderr",
     "output_type": "stream",
     "text": [
      " 58%|█████▊    | 7/12 [03:36<02:54, 34.81s/it]"
     ]
    },
    {
     "name": "stdout",
     "output_type": "stream",
     "text": [
      "Saving forecasts ...\n",
      "Recursively Forecasting horizon=8 with Random Forest\n"
     ]
    },
    {
     "data": {
      "application/vnd.jupyter.widget-view+json": {
       "model_id": "61ad81ab16a345a08623eb99ae12fc4b",
       "version_major": 2,
       "version_minor": 0
      },
      "text/plain": [
       "  0%|          | 0/129 [00:00<?, ?it/s]"
      ]
     },
     "metadata": {},
     "output_type": "display_data"
    },
    {
     "name": "stderr",
     "output_type": "stream",
     "text": [
      " 67%|██████▋   | 8/12 [04:16<02:25, 36.39s/it]"
     ]
    },
    {
     "name": "stdout",
     "output_type": "stream",
     "text": [
      "Saving forecasts ...\n",
      "Recursively Forecasting horizon=9 with Random Forest\n"
     ]
    },
    {
     "data": {
      "application/vnd.jupyter.widget-view+json": {
       "model_id": "272dfcdaabab4856a2647ff2c8075fd9",
       "version_major": 2,
       "version_minor": 0
      },
      "text/plain": [
       "  0%|          | 0/128 [00:00<?, ?it/s]"
      ]
     },
     "metadata": {},
     "output_type": "display_data"
    },
    {
     "name": "stderr",
     "output_type": "stream",
     "text": [
      " 75%|███████▌  | 9/12 [04:57<01:53, 37.86s/it]"
     ]
    },
    {
     "name": "stdout",
     "output_type": "stream",
     "text": [
      "Saving forecasts ...\n",
      "Recursively Forecasting horizon=10 with Random Forest\n"
     ]
    },
    {
     "data": {
      "application/vnd.jupyter.widget-view+json": {
       "model_id": "fe4931a54db04c64a038424b27fa53d1",
       "version_major": 2,
       "version_minor": 0
      },
      "text/plain": [
       "  0%|          | 0/127 [00:00<?, ?it/s]"
      ]
     },
     "metadata": {},
     "output_type": "display_data"
    },
    {
     "name": "stderr",
     "output_type": "stream",
     "text": [
      " 83%|████████▎ | 10/12 [05:39<01:18, 39.16s/it]"
     ]
    },
    {
     "name": "stdout",
     "output_type": "stream",
     "text": [
      "Saving forecasts ...\n",
      "Recursively Forecasting horizon=11 with Random Forest\n"
     ]
    },
    {
     "data": {
      "application/vnd.jupyter.widget-view+json": {
       "model_id": "e44b3e0fd1414cd69a2a2ce589303e8b",
       "version_major": 2,
       "version_minor": 0
      },
      "text/plain": [
       "  0%|          | 0/126 [00:00<?, ?it/s]"
      ]
     },
     "metadata": {},
     "output_type": "display_data"
    },
    {
     "name": "stderr",
     "output_type": "stream",
     "text": [
      " 92%|█████████▏| 11/12 [05:48<00:30, 30.16s/it]"
     ]
    },
    {
     "name": "stdout",
     "output_type": "stream",
     "text": [
      "Saving forecasts ...\n",
      "Recursively Forecasting horizon=12 with Random Forest\n"
     ]
    },
    {
     "data": {
      "application/vnd.jupyter.widget-view+json": {
       "model_id": "c9bac18c7591435d8896f3f31b65df69",
       "version_major": 2,
       "version_minor": 0
      },
      "text/plain": [
       "  0%|          | 0/125 [00:00<?, ?it/s]"
      ]
     },
     "metadata": {},
     "output_type": "display_data"
    },
    {
     "name": "stderr",
     "output_type": "stream",
     "text": [
      "100%|██████████| 12/12 [06:33<00:00, 32.80s/it]"
     ]
    },
    {
     "name": "stdout",
     "output_type": "stream",
     "text": [
      "Saving forecasts ...\n"
     ]
    },
    {
     "name": "stderr",
     "output_type": "stream",
     "text": [
      "\n"
     ]
    }
   ],
   "source": [
    "multi_hist_forecast_RF(\n",
    "    btc_usd_df,\n",
    "    [price_ts, vol_ts, lucey_price],\n",
    "    RF_B_best_params_dict,\n",
    "    hist_forecast_save_dir,\n",
    "    \"B\",\n",
    ")"
   ]
  },
  {
   "cell_type": "markdown",
   "metadata": {},
   "source": [
    "### Model C"
   ]
  },
  {
   "cell_type": "code",
   "execution_count": 98,
   "metadata": {},
   "outputs": [],
   "source": [
    "RF_C_best_params_dict = RF_C_results_df.set_index(\"horizon\")[[\"best_params\"]].to_dict()[\n",
    "    \"best_params\"\n",
    "]"
   ]
  },
  {
   "cell_type": "code",
   "execution_count": 99,
   "metadata": {},
   "outputs": [
    {
     "name": "stderr",
     "output_type": "stream",
     "text": [
      "  0%|          | 0/12 [00:00<?, ?it/s]"
     ]
    },
    {
     "name": "stdout",
     "output_type": "stream",
     "text": [
      "Recursively Forecasting horizon=1 with Random Forest\n"
     ]
    },
    {
     "data": {
      "application/vnd.jupyter.widget-view+json": {
       "model_id": "09408df7d364422e9a383832fe8f65ba",
       "version_major": 2,
       "version_minor": 0
      },
      "text/plain": [
       "  0%|          | 0/136 [00:00<?, ?it/s]"
      ]
     },
     "metadata": {},
     "output_type": "display_data"
    },
    {
     "name": "stderr",
     "output_type": "stream",
     "text": [
      "  8%|▊         | 1/12 [00:11<02:08, 11.66s/it]"
     ]
    },
    {
     "name": "stdout",
     "output_type": "stream",
     "text": [
      "Saving forecasts ...\n",
      "Recursively Forecasting horizon=2 with Random Forest\n"
     ]
    },
    {
     "data": {
      "application/vnd.jupyter.widget-view+json": {
       "model_id": "4fa1faf8e67c46e2baee1803c018b4ca",
       "version_major": 2,
       "version_minor": 0
      },
      "text/plain": [
       "  0%|          | 0/135 [00:00<?, ?it/s]"
      ]
     },
     "metadata": {},
     "output_type": "display_data"
    },
    {
     "name": "stderr",
     "output_type": "stream",
     "text": [
      " 17%|█▋        | 2/12 [00:18<01:25,  8.58s/it]"
     ]
    },
    {
     "name": "stdout",
     "output_type": "stream",
     "text": [
      "Saving forecasts ...\n",
      "Recursively Forecasting horizon=3 with Random Forest\n"
     ]
    },
    {
     "data": {
      "application/vnd.jupyter.widget-view+json": {
       "model_id": "dd2a92e567a44413ad6eb5c285ea2075",
       "version_major": 2,
       "version_minor": 0
      },
      "text/plain": [
       "  0%|          | 0/134 [00:00<?, ?it/s]"
      ]
     },
     "metadata": {},
     "output_type": "display_data"
    },
    {
     "name": "stderr",
     "output_type": "stream",
     "text": [
      " 25%|██▌       | 3/12 [00:51<02:58, 19.83s/it]"
     ]
    },
    {
     "name": "stdout",
     "output_type": "stream",
     "text": [
      "Saving forecasts ...\n",
      "Recursively Forecasting horizon=4 with Random Forest\n"
     ]
    },
    {
     "data": {
      "application/vnd.jupyter.widget-view+json": {
       "model_id": "860687e57dcd4b55b2ca5349d4a7f5d7",
       "version_major": 2,
       "version_minor": 0
      },
      "text/plain": [
       "  0%|          | 0/133 [00:00<?, ?it/s]"
      ]
     },
     "metadata": {},
     "output_type": "display_data"
    },
    {
     "name": "stderr",
     "output_type": "stream",
     "text": [
      " 33%|███▎      | 4/12 [01:25<03:25, 25.67s/it]"
     ]
    },
    {
     "name": "stdout",
     "output_type": "stream",
     "text": [
      "Saving forecasts ...\n",
      "Recursively Forecasting horizon=5 with Random Forest\n"
     ]
    },
    {
     "data": {
      "application/vnd.jupyter.widget-view+json": {
       "model_id": "5fc868bdab4c44bcb71581c4d7211a61",
       "version_major": 2,
       "version_minor": 0
      },
      "text/plain": [
       "  0%|          | 0/132 [00:00<?, ?it/s]"
      ]
     },
     "metadata": {},
     "output_type": "display_data"
    },
    {
     "name": "stderr",
     "output_type": "stream",
     "text": [
      " 42%|████▏     | 5/12 [02:01<03:25, 29.40s/it]"
     ]
    },
    {
     "name": "stdout",
     "output_type": "stream",
     "text": [
      "Saving forecasts ...\n",
      "Recursively Forecasting horizon=6 with Random Forest\n"
     ]
    },
    {
     "data": {
      "application/vnd.jupyter.widget-view+json": {
       "model_id": "4a6e55d257384a7cbe005c426388fcaf",
       "version_major": 2,
       "version_minor": 0
      },
      "text/plain": [
       "  0%|          | 0/131 [00:00<?, ?it/s]"
      ]
     },
     "metadata": {},
     "output_type": "display_data"
    },
    {
     "name": "stderr",
     "output_type": "stream",
     "text": [
      " 50%|█████     | 6/12 [02:38<03:11, 31.99s/it]"
     ]
    },
    {
     "name": "stdout",
     "output_type": "stream",
     "text": [
      "Saving forecasts ...\n",
      "Recursively Forecasting horizon=7 with Random Forest\n"
     ]
    },
    {
     "data": {
      "application/vnd.jupyter.widget-view+json": {
       "model_id": "82c402fd9b7041a694ed307ec44f0c4f",
       "version_major": 2,
       "version_minor": 0
      },
      "text/plain": [
       "  0%|          | 0/130 [00:00<?, ?it/s]"
      ]
     },
     "metadata": {},
     "output_type": "display_data"
    },
    {
     "name": "stderr",
     "output_type": "stream",
     "text": [
      " 58%|█████▊    | 7/12 [03:17<02:50, 34.13s/it]"
     ]
    },
    {
     "name": "stdout",
     "output_type": "stream",
     "text": [
      "Saving forecasts ...\n",
      "Recursively Forecasting horizon=8 with Random Forest\n"
     ]
    },
    {
     "data": {
      "application/vnd.jupyter.widget-view+json": {
       "model_id": "905e44bddfcd43e4b9bd5d54bfb09b07",
       "version_major": 2,
       "version_minor": 0
      },
      "text/plain": [
       "  0%|          | 0/129 [00:00<?, ?it/s]"
      ]
     },
     "metadata": {},
     "output_type": "display_data"
    },
    {
     "name": "stderr",
     "output_type": "stream",
     "text": [
      " 67%|██████▋   | 8/12 [03:57<02:23, 35.93s/it]"
     ]
    },
    {
     "name": "stdout",
     "output_type": "stream",
     "text": [
      "Saving forecasts ...\n",
      "Recursively Forecasting horizon=9 with Random Forest\n"
     ]
    },
    {
     "data": {
      "application/vnd.jupyter.widget-view+json": {
       "model_id": "92c5d77a85584e4bbed3b6d45b9b105c",
       "version_major": 2,
       "version_minor": 0
      },
      "text/plain": [
       "  0%|          | 0/128 [00:00<?, ?it/s]"
      ]
     },
     "metadata": {},
     "output_type": "display_data"
    },
    {
     "name": "stderr",
     "output_type": "stream",
     "text": [
      " 75%|███████▌  | 9/12 [04:38<01:52, 37.49s/it]"
     ]
    },
    {
     "name": "stdout",
     "output_type": "stream",
     "text": [
      "Saving forecasts ...\n",
      "Recursively Forecasting horizon=10 with Random Forest\n"
     ]
    },
    {
     "data": {
      "application/vnd.jupyter.widget-view+json": {
       "model_id": "b60d161110874ec98953c38bc00c80fb",
       "version_major": 2,
       "version_minor": 0
      },
      "text/plain": [
       "  0%|          | 0/127 [00:00<?, ?it/s]"
      ]
     },
     "metadata": {},
     "output_type": "display_data"
    },
    {
     "name": "stderr",
     "output_type": "stream",
     "text": [
      " 83%|████████▎ | 10/12 [05:20<01:17, 38.94s/it]"
     ]
    },
    {
     "name": "stdout",
     "output_type": "stream",
     "text": [
      "Saving forecasts ...\n",
      "Recursively Forecasting horizon=11 with Random Forest\n"
     ]
    },
    {
     "data": {
      "application/vnd.jupyter.widget-view+json": {
       "model_id": "394003572f87426da9716f016cb3e0e8",
       "version_major": 2,
       "version_minor": 0
      },
      "text/plain": [
       "  0%|          | 0/126 [00:00<?, ?it/s]"
      ]
     },
     "metadata": {},
     "output_type": "display_data"
    },
    {
     "name": "stderr",
     "output_type": "stream",
     "text": [
      " 92%|█████████▏| 11/12 [05:29<00:29, 29.96s/it]"
     ]
    },
    {
     "name": "stdout",
     "output_type": "stream",
     "text": [
      "Saving forecasts ...\n",
      "Recursively Forecasting horizon=12 with Random Forest\n"
     ]
    },
    {
     "data": {
      "application/vnd.jupyter.widget-view+json": {
       "model_id": "7e42f96faf80470892b498a09d849e60",
       "version_major": 2,
       "version_minor": 0
      },
      "text/plain": [
       "  0%|          | 0/125 [00:00<?, ?it/s]"
      ]
     },
     "metadata": {},
     "output_type": "display_data"
    },
    {
     "name": "stderr",
     "output_type": "stream",
     "text": [
      "100%|██████████| 12/12 [06:14<00:00, 31.20s/it]"
     ]
    },
    {
     "name": "stdout",
     "output_type": "stream",
     "text": [
      "Saving forecasts ...\n"
     ]
    },
    {
     "name": "stderr",
     "output_type": "stream",
     "text": [
      "\n"
     ]
    }
   ],
   "source": [
    "multi_hist_forecast_RF(\n",
    "    btc_usd_df,\n",
    "    [price_ts, vol_ts, lucey_reddit_price],\n",
    "    RF_C_best_params_dict,\n",
    "    hist_forecast_save_dir,\n",
    "    \"C\",\n",
    ")"
   ]
  },
  {
   "cell_type": "markdown",
   "metadata": {},
   "source": [
    "### Model D"
   ]
  },
  {
   "cell_type": "code",
   "execution_count": 100,
   "metadata": {},
   "outputs": [],
   "source": [
    "RF_D_best_params_dict = RF_D_results_df.set_index(\"horizon\")[[\"best_params\"]].to_dict()[\n",
    "    \"best_params\"\n",
    "]"
   ]
  },
  {
   "cell_type": "code",
   "execution_count": 101,
   "metadata": {},
   "outputs": [
    {
     "name": "stderr",
     "output_type": "stream",
     "text": [
      "  0%|          | 0/12 [00:00<?, ?it/s]"
     ]
    },
    {
     "name": "stdout",
     "output_type": "stream",
     "text": [
      "Recursively Forecasting horizon=1 with Random Forest\n"
     ]
    },
    {
     "data": {
      "application/vnd.jupyter.widget-view+json": {
       "model_id": "a1088d007e8a43b0902cd08151a06034",
       "version_major": 2,
       "version_minor": 0
      },
      "text/plain": [
       "  0%|          | 0/136 [00:00<?, ?it/s]"
      ]
     },
     "metadata": {},
     "output_type": "display_data"
    },
    {
     "name": "stderr",
     "output_type": "stream",
     "text": [
      "  8%|▊         | 1/12 [00:06<01:08,  6.24s/it]"
     ]
    },
    {
     "name": "stdout",
     "output_type": "stream",
     "text": [
      "Saving forecasts ...\n",
      "Recursively Forecasting horizon=2 with Random Forest\n"
     ]
    },
    {
     "data": {
      "application/vnd.jupyter.widget-view+json": {
       "model_id": "957e1ec7817a4845b8808248518a3fda",
       "version_major": 2,
       "version_minor": 0
      },
      "text/plain": [
       "  0%|          | 0/135 [00:00<?, ?it/s]"
      ]
     },
     "metadata": {},
     "output_type": "display_data"
    },
    {
     "name": "stderr",
     "output_type": "stream",
     "text": [
      " 17%|█▋        | 2/12 [00:12<01:03,  6.36s/it]"
     ]
    },
    {
     "name": "stdout",
     "output_type": "stream",
     "text": [
      "Saving forecasts ...\n",
      "Recursively Forecasting horizon=3 with Random Forest\n"
     ]
    },
    {
     "data": {
      "application/vnd.jupyter.widget-view+json": {
       "model_id": "798defceed224c7ca76048fcca682c9b",
       "version_major": 2,
       "version_minor": 0
      },
      "text/plain": [
       "  0%|          | 0/134 [00:00<?, ?it/s]"
      ]
     },
     "metadata": {},
     "output_type": "display_data"
    },
    {
     "name": "stderr",
     "output_type": "stream",
     "text": [
      " 25%|██▌       | 3/12 [00:45<02:47, 18.65s/it]"
     ]
    },
    {
     "name": "stdout",
     "output_type": "stream",
     "text": [
      "Saving forecasts ...\n",
      "Recursively Forecasting horizon=4 with Random Forest\n"
     ]
    },
    {
     "data": {
      "application/vnd.jupyter.widget-view+json": {
       "model_id": "75732ed931ff454791db7b1cd0fec73d",
       "version_major": 2,
       "version_minor": 0
      },
      "text/plain": [
       "  0%|          | 0/133 [00:00<?, ?it/s]"
      ]
     },
     "metadata": {},
     "output_type": "display_data"
    },
    {
     "name": "stderr",
     "output_type": "stream",
     "text": [
      " 33%|███▎      | 4/12 [01:21<03:21, 25.16s/it]"
     ]
    },
    {
     "name": "stdout",
     "output_type": "stream",
     "text": [
      "Saving forecasts ...\n",
      "Recursively Forecasting horizon=5 with Random Forest\n"
     ]
    },
    {
     "data": {
      "application/vnd.jupyter.widget-view+json": {
       "model_id": "4a9d6f0f34c34aa2b46853130f7a9017",
       "version_major": 2,
       "version_minor": 0
      },
      "text/plain": [
       "  0%|          | 0/132 [00:00<?, ?it/s]"
      ]
     },
     "metadata": {},
     "output_type": "display_data"
    },
    {
     "name": "stderr",
     "output_type": "stream",
     "text": [
      " 42%|████▏     | 5/12 [01:57<03:24, 29.17s/it]"
     ]
    },
    {
     "name": "stdout",
     "output_type": "stream",
     "text": [
      "Saving forecasts ...\n",
      "Recursively Forecasting horizon=6 with Random Forest\n"
     ]
    },
    {
     "data": {
      "application/vnd.jupyter.widget-view+json": {
       "model_id": "659e80d38975421e9a0f5c5e428137d1",
       "version_major": 2,
       "version_minor": 0
      },
      "text/plain": [
       "  0%|          | 0/131 [00:00<?, ?it/s]"
      ]
     },
     "metadata": {},
     "output_type": "display_data"
    },
    {
     "name": "stderr",
     "output_type": "stream",
     "text": [
      " 50%|█████     | 6/12 [02:34<03:11, 31.87s/it]"
     ]
    },
    {
     "name": "stdout",
     "output_type": "stream",
     "text": [
      "Saving forecasts ...\n",
      "Recursively Forecasting horizon=7 with Random Forest\n"
     ]
    },
    {
     "data": {
      "application/vnd.jupyter.widget-view+json": {
       "model_id": "b4d1ad7c4f9346a6ac5b35d1b3f9d625",
       "version_major": 2,
       "version_minor": 0
      },
      "text/plain": [
       "  0%|          | 0/130 [00:00<?, ?it/s]"
      ]
     },
     "metadata": {},
     "output_type": "display_data"
    },
    {
     "name": "stderr",
     "output_type": "stream",
     "text": [
      " 58%|█████▊    | 7/12 [03:13<02:50, 34.05s/it]"
     ]
    },
    {
     "name": "stdout",
     "output_type": "stream",
     "text": [
      "Saving forecasts ...\n",
      "Recursively Forecasting horizon=8 with Random Forest\n"
     ]
    },
    {
     "data": {
      "application/vnd.jupyter.widget-view+json": {
       "model_id": "62f8d9e44d0e45f79b956c26c51923f5",
       "version_major": 2,
       "version_minor": 0
      },
      "text/plain": [
       "  0%|          | 0/129 [00:00<?, ?it/s]"
      ]
     },
     "metadata": {},
     "output_type": "display_data"
    },
    {
     "name": "stderr",
     "output_type": "stream",
     "text": [
      " 67%|██████▋   | 8/12 [03:52<02:23, 35.87s/it]"
     ]
    },
    {
     "name": "stdout",
     "output_type": "stream",
     "text": [
      "Saving forecasts ...\n",
      "Recursively Forecasting horizon=9 with Random Forest\n"
     ]
    },
    {
     "data": {
      "application/vnd.jupyter.widget-view+json": {
       "model_id": "79fd66c557484a24ad59c00a244aa002",
       "version_major": 2,
       "version_minor": 0
      },
      "text/plain": [
       "  0%|          | 0/128 [00:00<?, ?it/s]"
      ]
     },
     "metadata": {},
     "output_type": "display_data"
    },
    {
     "name": "stderr",
     "output_type": "stream",
     "text": [
      " 75%|███████▌  | 9/12 [04:33<01:52, 37.51s/it]"
     ]
    },
    {
     "name": "stdout",
     "output_type": "stream",
     "text": [
      "Saving forecasts ...\n",
      "Recursively Forecasting horizon=10 with Random Forest\n"
     ]
    },
    {
     "data": {
      "application/vnd.jupyter.widget-view+json": {
       "model_id": "f9f708c1518b4a6381d250d4db9ad06a",
       "version_major": 2,
       "version_minor": 0
      },
      "text/plain": [
       "  0%|          | 0/127 [00:00<?, ?it/s]"
      ]
     },
     "metadata": {},
     "output_type": "display_data"
    },
    {
     "name": "stderr",
     "output_type": "stream",
     "text": [
      " 83%|████████▎ | 10/12 [05:16<01:18, 39.02s/it]"
     ]
    },
    {
     "name": "stdout",
     "output_type": "stream",
     "text": [
      "Saving forecasts ...\n",
      "Recursively Forecasting horizon=11 with Random Forest\n"
     ]
    },
    {
     "data": {
      "application/vnd.jupyter.widget-view+json": {
       "model_id": "4172411b5a2c4bba94a24f45b443f3c0",
       "version_major": 2,
       "version_minor": 0
      },
      "text/plain": [
       "  0%|          | 0/126 [00:00<?, ?it/s]"
      ]
     },
     "metadata": {},
     "output_type": "display_data"
    },
    {
     "name": "stderr",
     "output_type": "stream",
     "text": [
      " 92%|█████████▏| 11/12 [05:25<00:29, 29.99s/it]"
     ]
    },
    {
     "name": "stdout",
     "output_type": "stream",
     "text": [
      "Saving forecasts ...\n",
      "Recursively Forecasting horizon=12 with Random Forest\n"
     ]
    },
    {
     "data": {
      "application/vnd.jupyter.widget-view+json": {
       "model_id": "e09e220336964b3490bec8741c971f69",
       "version_major": 2,
       "version_minor": 0
      },
      "text/plain": [
       "  0%|          | 0/125 [00:00<?, ?it/s]"
      ]
     },
     "metadata": {},
     "output_type": "display_data"
    },
    {
     "name": "stderr",
     "output_type": "stream",
     "text": [
      "100%|██████████| 12/12 [06:10<00:00, 30.88s/it]"
     ]
    },
    {
     "name": "stdout",
     "output_type": "stream",
     "text": [
      "Saving forecasts ...\n"
     ]
    },
    {
     "name": "stderr",
     "output_type": "stream",
     "text": [
      "\n"
     ]
    }
   ],
   "source": [
    "multi_hist_forecast_RF(\n",
    "    btc_usd_df,\n",
    "    [price_ts, vol_ts, lda_price],\n",
    "    RF_D_best_params_dict,\n",
    "    hist_forecast_save_dir,\n",
    "    \"D\",\n",
    ")"
   ]
  },
  {
   "cell_type": "markdown",
   "metadata": {},
   "source": [
    "### Model E"
   ]
  },
  {
   "cell_type": "code",
   "execution_count": 102,
   "metadata": {},
   "outputs": [],
   "source": [
    "RF_E_best_params_dict = RF_E_results_df.set_index(\"horizon\")[[\"best_params\"]].to_dict()[\n",
    "    \"best_params\"\n",
    "]"
   ]
  },
  {
   "cell_type": "code",
   "execution_count": 103,
   "metadata": {},
   "outputs": [
    {
     "name": "stderr",
     "output_type": "stream",
     "text": [
      "  0%|          | 0/12 [00:00<?, ?it/s]"
     ]
    },
    {
     "name": "stdout",
     "output_type": "stream",
     "text": [
      "Recursively Forecasting horizon=1 with Random Forest\n"
     ]
    },
    {
     "data": {
      "application/vnd.jupyter.widget-view+json": {
       "model_id": "dcc998e9e116456ba5111d9c83680370",
       "version_major": 2,
       "version_minor": 0
      },
      "text/plain": [
       "  0%|          | 0/136 [00:00<?, ?it/s]"
      ]
     },
     "metadata": {},
     "output_type": "display_data"
    },
    {
     "name": "stderr",
     "output_type": "stream",
     "text": [
      "  8%|▊         | 1/12 [00:06<01:06,  6.09s/it]"
     ]
    },
    {
     "name": "stdout",
     "output_type": "stream",
     "text": [
      "Saving forecasts ...\n",
      "Recursively Forecasting horizon=2 with Random Forest\n"
     ]
    },
    {
     "data": {
      "application/vnd.jupyter.widget-view+json": {
       "model_id": "955a1d97ccca49228afd91cfb3ff2e66",
       "version_major": 2,
       "version_minor": 0
      },
      "text/plain": [
       "  0%|          | 0/135 [00:00<?, ?it/s]"
      ]
     },
     "metadata": {},
     "output_type": "display_data"
    },
    {
     "name": "stderr",
     "output_type": "stream",
     "text": [
      " 17%|█▋        | 2/12 [00:12<01:02,  6.29s/it]"
     ]
    },
    {
     "name": "stdout",
     "output_type": "stream",
     "text": [
      "Saving forecasts ...\n",
      "Recursively Forecasting horizon=3 with Random Forest\n"
     ]
    },
    {
     "data": {
      "application/vnd.jupyter.widget-view+json": {
       "model_id": "33c55a06a547499d93501aaac31b350a",
       "version_major": 2,
       "version_minor": 0
      },
      "text/plain": [
       "  0%|          | 0/134 [00:00<?, ?it/s]"
      ]
     },
     "metadata": {},
     "output_type": "display_data"
    },
    {
     "name": "stderr",
     "output_type": "stream",
     "text": [
      " 25%|██▌       | 3/12 [00:45<02:47, 18.60s/it]"
     ]
    },
    {
     "name": "stdout",
     "output_type": "stream",
     "text": [
      "Saving forecasts ...\n",
      "Recursively Forecasting horizon=4 with Random Forest\n"
     ]
    },
    {
     "data": {
      "application/vnd.jupyter.widget-view+json": {
       "model_id": "6805c71da4194cc0ba4a1f6537a5bd4b",
       "version_major": 2,
       "version_minor": 0
      },
      "text/plain": [
       "  0%|          | 0/133 [00:00<?, ?it/s]"
      ]
     },
     "metadata": {},
     "output_type": "display_data"
    },
    {
     "name": "stderr",
     "output_type": "stream",
     "text": [
      " 33%|███▎      | 4/12 [01:20<03:18, 24.84s/it]"
     ]
    },
    {
     "name": "stdout",
     "output_type": "stream",
     "text": [
      "Saving forecasts ...\n",
      "Recursively Forecasting horizon=5 with Random Forest\n"
     ]
    },
    {
     "data": {
      "application/vnd.jupyter.widget-view+json": {
       "model_id": "c2e5448d31584d4e9858f6da7544290c",
       "version_major": 2,
       "version_minor": 0
      },
      "text/plain": [
       "  0%|          | 0/132 [00:00<?, ?it/s]"
      ]
     },
     "metadata": {},
     "output_type": "display_data"
    },
    {
     "name": "stderr",
     "output_type": "stream",
     "text": [
      " 42%|████▏     | 5/12 [01:56<03:22, 28.91s/it]"
     ]
    },
    {
     "name": "stdout",
     "output_type": "stream",
     "text": [
      "Saving forecasts ...\n",
      "Recursively Forecasting horizon=6 with Random Forest\n"
     ]
    },
    {
     "data": {
      "application/vnd.jupyter.widget-view+json": {
       "model_id": "c240bde8b30b47f09b9f66bb88b55cc3",
       "version_major": 2,
       "version_minor": 0
      },
      "text/plain": [
       "  0%|          | 0/131 [00:00<?, ?it/s]"
      ]
     },
     "metadata": {},
     "output_type": "display_data"
    },
    {
     "name": "stderr",
     "output_type": "stream",
     "text": [
      " 50%|█████     | 6/12 [02:33<03:10, 31.72s/it]"
     ]
    },
    {
     "name": "stdout",
     "output_type": "stream",
     "text": [
      "Saving forecasts ...\n",
      "Recursively Forecasting horizon=7 with Random Forest\n"
     ]
    },
    {
     "data": {
      "application/vnd.jupyter.widget-view+json": {
       "model_id": "bbd8a3f4ac8e42558908bcf4c220a8d6",
       "version_major": 2,
       "version_minor": 0
      },
      "text/plain": [
       "  0%|          | 0/130 [00:00<?, ?it/s]"
      ]
     },
     "metadata": {},
     "output_type": "display_data"
    },
    {
     "name": "stderr",
     "output_type": "stream",
     "text": [
      " 58%|█████▊    | 7/12 [03:12<02:50, 34.17s/it]"
     ]
    },
    {
     "name": "stdout",
     "output_type": "stream",
     "text": [
      "Saving forecasts ...\n",
      "Recursively Forecasting horizon=8 with Random Forest\n"
     ]
    },
    {
     "data": {
      "application/vnd.jupyter.widget-view+json": {
       "model_id": "91026705a1c34cad956a13783e82d423",
       "version_major": 2,
       "version_minor": 0
      },
      "text/plain": [
       "  0%|          | 0/129 [00:00<?, ?it/s]"
      ]
     },
     "metadata": {},
     "output_type": "display_data"
    },
    {
     "name": "stderr",
     "output_type": "stream",
     "text": [
      " 67%|██████▋   | 8/12 [03:52<02:24, 36.07s/it]"
     ]
    },
    {
     "name": "stdout",
     "output_type": "stream",
     "text": [
      "Saving forecasts ...\n",
      "Recursively Forecasting horizon=9 with Random Forest\n"
     ]
    },
    {
     "data": {
      "application/vnd.jupyter.widget-view+json": {
       "model_id": "bf2f27e71bbf43b083e806ea263c2020",
       "version_major": 2,
       "version_minor": 0
      },
      "text/plain": [
       "  0%|          | 0/128 [00:00<?, ?it/s]"
      ]
     },
     "metadata": {},
     "output_type": "display_data"
    },
    {
     "name": "stderr",
     "output_type": "stream",
     "text": [
      " 75%|███████▌  | 9/12 [04:34<01:53, 37.71s/it]"
     ]
    },
    {
     "name": "stdout",
     "output_type": "stream",
     "text": [
      "Saving forecasts ...\n",
      "Recursively Forecasting horizon=10 with Random Forest\n"
     ]
    },
    {
     "data": {
      "application/vnd.jupyter.widget-view+json": {
       "model_id": "b847c0008e3349bf904a19e25c42c74e",
       "version_major": 2,
       "version_minor": 0
      },
      "text/plain": [
       "  0%|          | 0/127 [00:00<?, ?it/s]"
      ]
     },
     "metadata": {},
     "output_type": "display_data"
    },
    {
     "name": "stderr",
     "output_type": "stream",
     "text": [
      " 83%|████████▎ | 10/12 [05:16<01:18, 39.26s/it]"
     ]
    },
    {
     "name": "stdout",
     "output_type": "stream",
     "text": [
      "Saving forecasts ...\n",
      "Recursively Forecasting horizon=11 with Random Forest\n"
     ]
    },
    {
     "data": {
      "application/vnd.jupyter.widget-view+json": {
       "model_id": "5d551b30d1a946bbbdacfa1b9fd50fae",
       "version_major": 2,
       "version_minor": 0
      },
      "text/plain": [
       "  0%|          | 0/126 [00:00<?, ?it/s]"
      ]
     },
     "metadata": {},
     "output_type": "display_data"
    },
    {
     "name": "stderr",
     "output_type": "stream",
     "text": [
      " 92%|█████████▏| 11/12 [05:26<00:30, 30.12s/it]"
     ]
    },
    {
     "name": "stdout",
     "output_type": "stream",
     "text": [
      "Saving forecasts ...\n",
      "Recursively Forecasting horizon=12 with Random Forest\n"
     ]
    },
    {
     "data": {
      "application/vnd.jupyter.widget-view+json": {
       "model_id": "d1fb5aefa09b495d82d7f1285dbc4fdd",
       "version_major": 2,
       "version_minor": 0
      },
      "text/plain": [
       "  0%|          | 0/125 [00:00<?, ?it/s]"
      ]
     },
     "metadata": {},
     "output_type": "display_data"
    },
    {
     "name": "stderr",
     "output_type": "stream",
     "text": [
      "100%|██████████| 12/12 [06:13<00:00, 31.16s/it]"
     ]
    },
    {
     "name": "stdout",
     "output_type": "stream",
     "text": [
      "Saving forecasts ...\n"
     ]
    },
    {
     "name": "stderr",
     "output_type": "stream",
     "text": [
      "\n"
     ]
    }
   ],
   "source": [
    "multi_hist_forecast_RF(\n",
    "    btc_usd_df,\n",
    "    [price_ts, vol_ts, t2v_price],\n",
    "    RF_E_best_params_dict,\n",
    "    hist_forecast_save_dir,\n",
    "    \"E\",\n",
    ")"
   ]
  },
  {
   "cell_type": "markdown",
   "metadata": {},
   "source": [
    "### Model F"
   ]
  },
  {
   "cell_type": "code",
   "execution_count": 110,
   "metadata": {},
   "outputs": [],
   "source": [
    "def multi_hist_forecast_RF_VCRIX(\n",
    "    target_df: pd.DataFrame,\n",
    "    best_params_dict: Dict[int, Any],\n",
    "    save_data_dir: Union[str, Path],\n",
    "    model_name: str,\n",
    "    lags: int = 1,\n",
    "    past_covariates_lags: int = 1,\n",
    "    verbose: bool = True,\n",
    "    split_date: pd.Timestamp = split_date,\n",
    ") -> None:\n",
    "\n",
    "    for h in tqdm(best_params_dict.keys()):\n",
    "        print(f\"Recursively Forecasting horizon={h} with Random Forest\")\n",
    "\n",
    "        # Generate Appropriate TS Data\n",
    "        target_cov = gen_log_price_returns(target_df, h)\n",
    "        past_cov_list = concatenate(\n",
    "            [\n",
    "                target_cov.slice_intersect(vcrix),\n",
    "                price_ts.slice_intersect(vcrix),\n",
    "                vol_ts.slice_intersect(vcrix),\n",
    "                vcrix.slice_intersect(target_cov.slice_intersect(vcrix)),\n",
    "            ],\n",
    "            axis=1,\n",
    "        )\n",
    "\n",
    "        # Run Historical Forecast\n",
    "        hist_forecast = hist_forecast_RF(\n",
    "            target_cov,\n",
    "            past_cov_list,\n",
    "            h,\n",
    "            best_params_dict[h],\n",
    "            lags,\n",
    "            past_covariates_lags,\n",
    "            verbose,\n",
    "            split_date,\n",
    "        )\n",
    "        print(f\"Saving forecasts ...\")\n",
    "        forecast_df = hist_forecast.with_columns_renamed([\"0\"], [\"price_return\"])\n",
    "        forecast_df.to_csv(Path(save_data_dir) / f\"rf_model_{model_name}_h{h}.csv\")"
   ]
  },
  {
   "cell_type": "code",
   "execution_count": 111,
   "metadata": {},
   "outputs": [],
   "source": [
    "RF_F_best_params_dict = RF_F_results_df.set_index(\"horizon\")[[\"best_params\"]].to_dict()[\n",
    "    \"best_params\"\n",
    "]"
   ]
  },
  {
   "cell_type": "code",
   "execution_count": 112,
   "metadata": {},
   "outputs": [
    {
     "name": "stderr",
     "output_type": "stream",
     "text": [
      "  0%|          | 0/12 [00:00<?, ?it/s]"
     ]
    },
    {
     "name": "stdout",
     "output_type": "stream",
     "text": [
      "Recursively Forecasting horizon=1 with Random Forest\n"
     ]
    },
    {
     "data": {
      "application/vnd.jupyter.widget-view+json": {
       "model_id": "fef8974cb1834ecfa477e7fa8bc06cac",
       "version_major": 2,
       "version_minor": 0
      },
      "text/plain": [
       "  0%|          | 0/136 [00:00<?, ?it/s]"
      ]
     },
     "metadata": {},
     "output_type": "display_data"
    },
    {
     "name": "stderr",
     "output_type": "stream",
     "text": [
      "  8%|▊         | 1/12 [00:10<01:57, 10.69s/it]"
     ]
    },
    {
     "name": "stdout",
     "output_type": "stream",
     "text": [
      "Saving forecasts ...\n",
      "Recursively Forecasting horizon=2 with Random Forest\n"
     ]
    },
    {
     "data": {
      "application/vnd.jupyter.widget-view+json": {
       "model_id": "f456c0b46ab944309ad9de78031fc933",
       "version_major": 2,
       "version_minor": 0
      },
      "text/plain": [
       "  0%|          | 0/135 [00:00<?, ?it/s]"
      ]
     },
     "metadata": {},
     "output_type": "display_data"
    },
    {
     "name": "stderr",
     "output_type": "stream",
     "text": [
      " 17%|█▋        | 2/12 [00:16<01:20,  8.10s/it]"
     ]
    },
    {
     "name": "stdout",
     "output_type": "stream",
     "text": [
      "Saving forecasts ...\n",
      "Recursively Forecasting horizon=3 with Random Forest\n"
     ]
    },
    {
     "data": {
      "application/vnd.jupyter.widget-view+json": {
       "model_id": "cc8050343ec94bb99b074b27392044b7",
       "version_major": 2,
       "version_minor": 0
      },
      "text/plain": [
       "  0%|          | 0/134 [00:00<?, ?it/s]"
      ]
     },
     "metadata": {},
     "output_type": "display_data"
    },
    {
     "name": "stderr",
     "output_type": "stream",
     "text": [
      " 25%|██▌       | 3/12 [00:50<02:56, 19.64s/it]"
     ]
    },
    {
     "name": "stdout",
     "output_type": "stream",
     "text": [
      "Saving forecasts ...\n",
      "Recursively Forecasting horizon=4 with Random Forest\n"
     ]
    },
    {
     "data": {
      "application/vnd.jupyter.widget-view+json": {
       "model_id": "ea015d90c3d2466eacd46701c931cd6b",
       "version_major": 2,
       "version_minor": 0
      },
      "text/plain": [
       "  0%|          | 0/133 [00:00<?, ?it/s]"
      ]
     },
     "metadata": {},
     "output_type": "display_data"
    },
    {
     "name": "stderr",
     "output_type": "stream",
     "text": [
      " 33%|███▎      | 4/12 [01:24<03:24, 25.55s/it]"
     ]
    },
    {
     "name": "stdout",
     "output_type": "stream",
     "text": [
      "Saving forecasts ...\n",
      "Recursively Forecasting horizon=5 with Random Forest\n"
     ]
    },
    {
     "data": {
      "application/vnd.jupyter.widget-view+json": {
       "model_id": "f4c03d0b628840d69deedc5189844c92",
       "version_major": 2,
       "version_minor": 0
      },
      "text/plain": [
       "  0%|          | 0/132 [00:00<?, ?it/s]"
      ]
     },
     "metadata": {},
     "output_type": "display_data"
    },
    {
     "name": "stderr",
     "output_type": "stream",
     "text": [
      " 42%|████▏     | 5/12 [02:01<03:25, 29.42s/it]"
     ]
    },
    {
     "name": "stdout",
     "output_type": "stream",
     "text": [
      "Saving forecasts ...\n",
      "Recursively Forecasting horizon=6 with Random Forest\n"
     ]
    },
    {
     "data": {
      "application/vnd.jupyter.widget-view+json": {
       "model_id": "1dd85896d49941ab8bd2349e89c802e8",
       "version_major": 2,
       "version_minor": 0
      },
      "text/plain": [
       "  0%|          | 0/131 [00:00<?, ?it/s]"
      ]
     },
     "metadata": {},
     "output_type": "display_data"
    },
    {
     "name": "stderr",
     "output_type": "stream",
     "text": [
      " 50%|█████     | 6/12 [02:38<03:12, 32.09s/it]"
     ]
    },
    {
     "name": "stdout",
     "output_type": "stream",
     "text": [
      "Saving forecasts ...\n",
      "Recursively Forecasting horizon=7 with Random Forest\n"
     ]
    },
    {
     "data": {
      "application/vnd.jupyter.widget-view+json": {
       "model_id": "c86d6d0438f9441ab21758f6674ad5dd",
       "version_major": 2,
       "version_minor": 0
      },
      "text/plain": [
       "  0%|          | 0/130 [00:00<?, ?it/s]"
      ]
     },
     "metadata": {},
     "output_type": "display_data"
    },
    {
     "name": "stderr",
     "output_type": "stream",
     "text": [
      " 58%|█████▊    | 7/12 [03:17<02:51, 34.28s/it]"
     ]
    },
    {
     "name": "stdout",
     "output_type": "stream",
     "text": [
      "Saving forecasts ...\n",
      "Recursively Forecasting horizon=8 with Random Forest\n"
     ]
    },
    {
     "data": {
      "application/vnd.jupyter.widget-view+json": {
       "model_id": "be87a1110d9347fd894ee39911534eab",
       "version_major": 2,
       "version_minor": 0
      },
      "text/plain": [
       "  0%|          | 0/129 [00:00<?, ?it/s]"
      ]
     },
     "metadata": {},
     "output_type": "display_data"
    },
    {
     "name": "stderr",
     "output_type": "stream",
     "text": [
      " 67%|██████▋   | 8/12 [03:58<02:25, 36.44s/it]"
     ]
    },
    {
     "name": "stdout",
     "output_type": "stream",
     "text": [
      "Saving forecasts ...\n",
      "Recursively Forecasting horizon=9 with Random Forest\n"
     ]
    },
    {
     "data": {
      "application/vnd.jupyter.widget-view+json": {
       "model_id": "e63285cda3fe46dca9aed3ffd6affd81",
       "version_major": 2,
       "version_minor": 0
      },
      "text/plain": [
       "  0%|          | 0/128 [00:00<?, ?it/s]"
      ]
     },
     "metadata": {},
     "output_type": "display_data"
    },
    {
     "name": "stderr",
     "output_type": "stream",
     "text": [
      " 75%|███████▌  | 9/12 [04:41<01:55, 38.43s/it]"
     ]
    },
    {
     "name": "stdout",
     "output_type": "stream",
     "text": [
      "Saving forecasts ...\n",
      "Recursively Forecasting horizon=10 with Random Forest\n"
     ]
    },
    {
     "data": {
      "application/vnd.jupyter.widget-view+json": {
       "model_id": "362e0f09b1ba4ee19c6771a9712cf3c9",
       "version_major": 2,
       "version_minor": 0
      },
      "text/plain": [
       "  0%|          | 0/127 [00:00<?, ?it/s]"
      ]
     },
     "metadata": {},
     "output_type": "display_data"
    },
    {
     "name": "stderr",
     "output_type": "stream",
     "text": [
      " 83%|████████▎ | 10/12 [05:24<01:19, 39.98s/it]"
     ]
    },
    {
     "name": "stdout",
     "output_type": "stream",
     "text": [
      "Saving forecasts ...\n",
      "Recursively Forecasting horizon=11 with Random Forest\n"
     ]
    },
    {
     "data": {
      "application/vnd.jupyter.widget-view+json": {
       "model_id": "8290d4fbc290439fb0e646b4ac4127ce",
       "version_major": 2,
       "version_minor": 0
      },
      "text/plain": [
       "  0%|          | 0/126 [00:00<?, ?it/s]"
      ]
     },
     "metadata": {},
     "output_type": "display_data"
    },
    {
     "name": "stderr",
     "output_type": "stream",
     "text": [
      " 92%|█████████▏| 11/12 [06:12<00:42, 42.25s/it]"
     ]
    },
    {
     "name": "stdout",
     "output_type": "stream",
     "text": [
      "Saving forecasts ...\n",
      "Recursively Forecasting horizon=12 with Random Forest\n"
     ]
    },
    {
     "data": {
      "application/vnd.jupyter.widget-view+json": {
       "model_id": "7ec334c28db044b2a8c85ccc7c6f4d32",
       "version_major": 2,
       "version_minor": 0
      },
      "text/plain": [
       "  0%|          | 0/125 [00:00<?, ?it/s]"
      ]
     },
     "metadata": {},
     "output_type": "display_data"
    },
    {
     "name": "stderr",
     "output_type": "stream",
     "text": [
      "100%|██████████| 12/12 [06:58<00:00, 34.86s/it]"
     ]
    },
    {
     "name": "stdout",
     "output_type": "stream",
     "text": [
      "Saving forecasts ...\n"
     ]
    },
    {
     "name": "stderr",
     "output_type": "stream",
     "text": [
      "\n"
     ]
    }
   ],
   "source": [
    "multi_hist_forecast_RF_VCRIX(\n",
    "    btc_usd_df, RF_F_best_params_dict, hist_forecast_save_dir, \"F\"\n",
    ")"
   ]
  }
 ],
 "metadata": {
  "interpreter": {
   "hash": "26fa31afa754fb971b44a94a9612d34d26997a00d823853c42f1b189c287d4b1"
  },
  "kernelspec": {
   "display_name": "Python 3.8.12 ('crypto-uncertainty-index-SX872G0E-py3.8': poetry)",
   "language": "python",
   "name": "python3"
  },
  "language_info": {
   "codemirror_mode": {
    "name": "ipython",
    "version": 3
   },
   "file_extension": ".py",
   "mimetype": "text/x-python",
   "name": "python",
   "nbconvert_exporter": "python",
   "pygments_lexer": "ipython3",
   "version": "3.8.13"
  },
  "orig_nbformat": 4
 },
 "nbformat": 4,
 "nbformat_minor": 2
}
