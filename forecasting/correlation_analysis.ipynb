{
 "cells": [
  {
   "cell_type": "markdown",
   "metadata": {},
   "source": [
    "## Time Series Correlation Analysis across various UCRY indices\n",
    "### Set Up"
   ]
  },
  {
   "cell_type": "code",
   "execution_count": 1,
   "metadata": {},
   "outputs": [],
   "source": [
    "# Load Libraries\n",
    "import os\n",
    "os.chdir(\"..\")\n",
    "import pandas as pd\n",
    "from datetime import datetime\n",
    "import isoweek\n",
    "import numpy as np\n",
    "import scipy.stats as stats\n",
    "from pathlib import Path\n",
    "from datetime import datetime"
   ]
  },
  {
   "cell_type": "code",
   "execution_count": 2,
   "metadata": {},
   "outputs": [],
   "source": [
    "# Index data\n",
    "index_data_path = Path(\"pipelines/crypto_index\") / \"index_data\"\n",
    "\n",
    "# Original Lucey\n",
    "ucry_original = pd.read_csv(index_data_path / \"ucry_lucey_original_.csv\")\n",
    "ucry_original_policy = ucry_original[[\"Date\", \"UCRY Policy\"]]\n",
    "ucry_original_price = ucry_original[[\"Date\", \"UCRY Price\"]]\n",
    "\n",
    "# Reddit based index\n",
    "ucry_reddit_price = pd.read_csv(index_data_path / \"ucry_lucey_price.csv\")\n",
    "ucry_reddit_policy = pd.read_csv(index_data_path / \"ucry_lucey_policy.csv\")"
   ]
  },
  {
   "cell_type": "code",
   "execution_count": 3,
   "metadata": {},
   "outputs": [],
   "source": [
    "def get_week_start_end_from_date(date):\n",
    "    date = datetime.strptime(date, '%Y-%m-%d')\n",
    "    year, week = date.isocalendar()[0], date.isocalendar()[1] # year, week, weekday\n",
    "    w = isoweek.Week(year, week)\n",
    "    return w.monday(), w.sunday()"
   ]
  },
  {
   "cell_type": "code",
   "execution_count": 4,
   "metadata": {},
   "outputs": [],
   "source": [
    "# Create start date and end date\n",
    "ucry_original_policy[[\"start_date\", \"end_date\"]] = (\n",
    "    pd.DataFrame(\n",
    "        ucry_original_policy[\"Date\"]\n",
    "        .apply(lambda x: get_week_start_end_from_date(x)).tolist(),\n",
    "        index=ucry_original_policy.index\n",
    "    )\n",
    ")\n",
    "\n",
    "ucry_original_policy.drop(columns=[\"Date\"], inplace=True)\n",
    "\n",
    "ucry_original_price[[\"start_date\", \"end_date\"]] = (\n",
    "    pd.DataFrame(\n",
    "        ucry_original_price[\"Date\"]\n",
    "        .apply(lambda x: get_week_start_end_from_date(x)).tolist(),\n",
    "        index=ucry_original_price.index\n",
    "    )\n",
    ")\n",
    "\n",
    "ucry_original_price.drop(columns=[\"Date\"], inplace=True)"
   ]
  },
  {
   "cell_type": "code",
   "execution_count": 5,
   "metadata": {},
   "outputs": [],
   "source": [
    "# Convert to datetime\n",
    "ucry_reddit_policy[\"start_date\"], ucry_reddit_policy[\"end_date\"] = (\n",
    "    pd.to_datetime(ucry_reddit_policy[\"start_date\"], utc=True),\n",
    "    pd.to_datetime(ucry_reddit_policy[\"end_date\"], utc=True),\n",
    ")\n",
    "\n",
    "ucry_reddit_price[\"start_date\"], ucry_reddit_price[\"end_date\"] = (\n",
    "    pd.to_datetime(ucry_reddit_price[\"start_date\"], utc=True),\n",
    "    pd.to_datetime(ucry_reddit_price[\"end_date\"], utc=True),\n",
    ")"
   ]
  },
  {
   "cell_type": "markdown",
   "metadata": {},
   "source": [
    "### Pearson Correlation Analysis\n",
    "**Price Correlation Analysis**"
   ]
  },
  {
   "cell_type": "code",
   "execution_count": 6,
   "metadata": {},
   "outputs": [
    {
     "name": "stdout",
     "output_type": "stream",
     "text": [
      "Price Index Correlation: 0.278213014756129 | P-Value: 7.222720390237522e-09\n"
     ]
    }
   ],
   "source": [
    "r, p = stats.pearsonr(\n",
    "    ucry_original_price.dropna()[\"UCRY Price\"],\n",
    "    ucry_reddit_price.dropna()[\"index_value\"],\n",
    ")\n",
    "\n",
    "print(f\"Price Index Correlation: {r} | P-Value: {p}\")"
   ]
  },
  {
   "cell_type": "markdown",
   "metadata": {},
   "source": [
    "**Policy Correlation Analysis**"
   ]
  },
  {
   "cell_type": "code",
   "execution_count": 7,
   "metadata": {},
   "outputs": [
    {
     "name": "stdout",
     "output_type": "stream",
     "text": [
      "Policy Index Correlation: 0.37919918520286205 | P-Value: 9.633226768940495e-16\n"
     ]
    }
   ],
   "source": [
    "r, p = stats.pearsonr(\n",
    "    ucry_original_policy.dropna()[\"UCRY Policy\"],\n",
    "    ucry_reddit_policy.dropna()[\"index_value\"],\n",
    ")\n",
    "\n",
    "print(f\"Policy Index Correlation: {r} | P-Value: {p}\")"
   ]
  },
  {
   "cell_type": "markdown",
   "metadata": {},
   "source": [
    "**Reddit Price Vs Policy**"
   ]
  },
  {
   "cell_type": "code",
   "execution_count": 8,
   "metadata": {},
   "outputs": [
    {
     "name": "stdout",
     "output_type": "stream",
     "text": [
      "Reddit Price vs Policy Index Correlation: 0.642649657345846 | P-Value: 4.567062351223928e-50\n"
     ]
    }
   ],
   "source": [
    "r, p = stats.pearsonr(\n",
    "    ucry_reddit_price.dropna()[\"index_value\"],\n",
    "    ucry_reddit_policy.dropna()[\"index_value\"],\n",
    ")\n",
    "\n",
    "print(f\"Reddit Price vs Policy Index Correlation: {r} | P-Value: {p}\")"
   ]
  },
  {
   "cell_type": "markdown",
   "metadata": {},
   "source": [
    "**Reddit Price Vs Lucey Policy**"
   ]
  },
  {
   "cell_type": "code",
   "execution_count": 10,
   "metadata": {},
   "outputs": [
    {
     "name": "stdout",
     "output_type": "stream",
     "text": [
      "Reddit Price vs Lucey Policy Index Correlation: 0.2734892581431104 | P-Value: 1.319883396166118e-08\n"
     ]
    }
   ],
   "source": [
    "r, p = stats.pearsonr(\n",
    "    ucry_reddit_price.dropna()[\"index_value\"],\n",
    "    ucry_original_policy.dropna()[\"UCRY Policy\"],\n",
    ")\n",
    "\n",
    "print(f\"Reddit Price vs Lucey Policy Index Correlation: {r} | P-Value: {p}\")"
   ]
  },
  {
   "cell_type": "markdown",
   "metadata": {},
   "source": [
    "**Reddit Policy Vs Lucey Price**"
   ]
  },
  {
   "cell_type": "code",
   "execution_count": 11,
   "metadata": {},
   "outputs": [
    {
     "name": "stdout",
     "output_type": "stream",
     "text": [
      "Lucey Price vs Reddit Policy Index Correlation: 0.37698508935483005 | P-Value: 1.4544683744023738e-15\n"
     ]
    }
   ],
   "source": [
    "r, p = stats.pearsonr(\n",
    "    ucry_reddit_policy.dropna()[\"index_value\"],\n",
    "    ucry_original_price.dropna()[\"UCRY Price\"],\n",
    ")\n",
    "\n",
    "print(f\"Lucey Price vs Reddit Policy Index Correlation: {r} | P-Value: {p}\")"
   ]
  },
  {
   "cell_type": "markdown",
   "metadata": {},
   "source": [
    "**Lucey Vs Lucey**"
   ]
  },
  {
   "cell_type": "code",
   "execution_count": 12,
   "metadata": {},
   "outputs": [
    {
     "name": "stdout",
     "output_type": "stream",
     "text": [
      "Lucey Price vs Lucey Policy Index Correlation: 0.9884880677506681 | P-Value: 0.0\n"
     ]
    }
   ],
   "source": [
    "r, p = stats.pearsonr(\n",
    "    ucry_original_policy.dropna()[\"UCRY Policy\"],\n",
    "    ucry_original_price.dropna()[\"UCRY Price\"],\n",
    ")\n",
    "\n",
    "print(f\"Lucey Price vs Lucey Policy Index Correlation: {r} | P-Value: {p}\")"
   ]
  }
 ],
 "metadata": {
  "interpreter": {
   "hash": "a27c1d8681405ad51c9f3519679e19b0a54f6a81e03666ec8b5f4d814cba4ac5"
  },
  "kernelspec": {
   "display_name": "Python 3.8.12 64-bit ('crypto-uncertainty-index-NHOdNUJC-py3.8': poetry)",
   "language": "python",
   "name": "python3"
  },
  "language_info": {
   "codemirror_mode": {
    "name": "ipython",
    "version": 3
   },
   "file_extension": ".py",
   "mimetype": "text/x-python",
   "name": "python",
   "nbconvert_exporter": "python",
   "pygments_lexer": "ipython3",
   "version": "3.8.12"
  },
  "orig_nbformat": 4
 },
 "nbformat": 4,
 "nbformat_minor": 2
}
