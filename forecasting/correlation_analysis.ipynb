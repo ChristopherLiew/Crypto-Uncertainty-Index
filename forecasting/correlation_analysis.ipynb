{
 "cells": [
  {
   "cell_type": "markdown",
   "metadata": {},
   "source": [
    "## Time Series Correlation Analysis across various UCRY indices\n",
    "### Set Up"
   ]
  },
  {
   "cell_type": "code",
   "execution_count": 30,
   "metadata": {},
   "outputs": [],
   "source": [
    "# Load Libraries\n",
    "import os\n",
    "\n",
    "os.chdir(\"..\")\n",
    "import pandas as pd\n",
    "import numpy as np\n",
    "import scipy.stats as stats\n",
    "from pathlib import Path\n",
    "from datetime import datetime"
   ]
  },
  {
   "cell_type": "code",
   "execution_count": 13,
   "metadata": {},
   "outputs": [],
   "source": [
    "# Index data\n",
    "index_data_path = Path(\"crypto_index\") / \"index_data\"\n",
    "\n",
    "# Original Lucey\n",
    "ucry_original = pd.read_csv(index_data_path / \"ucry_lucey_original.csv\")\n",
    "ucry_original_policy = ucry_original[[\"Timeline\", \"UCRY Policy Index\"]]\n",
    "ucry_original_price = ucry_original[[\"Timeline\", \"UCRY Price Index\"]]\n",
    "\n",
    "# Reddit based index\n",
    "ucry_reddit_price = pd.read_csv(index_data_path / \"ucry_lucey_price.csv\")\n",
    "ucry_reddit_policy = pd.read_csv(index_data_path / \"ucry_lucey_policy.csv\")"
   ]
  },
  {
   "cell_type": "code",
   "execution_count": 25,
   "metadata": {},
   "outputs": [],
   "source": [
    "# Break up timeline column\n",
    "ucry_original_policy[[\"start_date\", \"end_date\"]] = ucry_original_policy[\n",
    "    \"Timeline\"\n",
    "].str.split(\" - \", expand=True)\n",
    "\n",
    "ucry_original_price[[\"start_date\", \"end_date\"]] = ucry_original_price[\n",
    "    \"Timeline\"\n",
    "].str.split(\" - \", expand=True)"
   ]
  },
  {
   "cell_type": "code",
   "execution_count": 34,
   "metadata": {},
   "outputs": [],
   "source": [
    "# Convert to datetime\n",
    "ucry_reddit_policy[\"start_date\"], ucry_reddit_policy[\"end_date\"] = (\n",
    "    pd.to_datetime(ucry_reddit_policy[\"start_date\"], utc=True),\n",
    "    pd.to_datetime(ucry_reddit_policy[\"end_date\"], utc=True),\n",
    ")\n",
    "\n",
    "ucry_reddit_price[\"start_date\"], ucry_reddit_price[\"end_date\"] = (\n",
    "    pd.to_datetime(ucry_reddit_price[\"start_date\"], utc=True),\n",
    "    pd.to_datetime(ucry_reddit_price[\"end_date\"], utc=True),\n",
    ")"
   ]
  },
  {
   "cell_type": "markdown",
   "metadata": {},
   "source": [
    "### Pearson Correlation Analysis\n",
    "**Price Correlation Analysis**"
   ]
  },
  {
   "cell_type": "code",
   "execution_count": 40,
   "metadata": {},
   "outputs": [],
   "source": [
    "# Filter Reddit based Indcies to end at 21/02/2021\n",
    "ucry_reddit_price_trim = ucry_reddit_price[ucry_reddit_price.end_date <= \"2021-02-22\"]\n",
    "ucry_reddit_policy_trim = ucry_reddit_policy[ucry_reddit_price.end_date <= \"2021-02-22\"]"
   ]
  },
  {
   "cell_type": "code",
   "execution_count": 41,
   "metadata": {},
   "outputs": [
    {
     "name": "stdout",
     "output_type": "stream",
     "text": [
      "Price Index Correlation: 0.30448683031496315 | P-Value: 1.9247203819116855e-09\n"
     ]
    }
   ],
   "source": [
    "r, p = stats.pearsonr(\n",
    "    ucry_original_price.dropna()[\"UCRY Price Index\"],\n",
    "    ucry_reddit_price_trim.dropna()[\"index_value\"],\n",
    ")\n",
    "\n",
    "print(f\"Price Index Correlation: {r} | P-Value: {p}\")"
   ]
  },
  {
   "cell_type": "markdown",
   "metadata": {},
   "source": [
    "**Policy Correlation Analysis**"
   ]
  },
  {
   "cell_type": "code",
   "execution_count": 42,
   "metadata": {},
   "outputs": [
    {
     "name": "stdout",
     "output_type": "stream",
     "text": [
      "Policy Index Correlation: 0.31024076417114127 | P-Value: 9.161402448878682e-10\n"
     ]
    }
   ],
   "source": [
    "r, p = stats.pearsonr(\n",
    "    ucry_original_policy.dropna()[\"UCRY Policy Index\"],\n",
    "    ucry_reddit_policy_trim.dropna()[\"index_value\"],\n",
    ")\n",
    "\n",
    "print(f\"Policy Index Correlation: {r} | P-Value: {p}\")"
   ]
  },
  {
   "cell_type": "markdown",
   "metadata": {},
   "source": [
    "**Reddit Price Vs Policy**"
   ]
  },
  {
   "cell_type": "code",
   "execution_count": 44,
   "metadata": {},
   "outputs": [
    {
     "name": "stdout",
     "output_type": "stream",
     "text": [
      "Reddit Price vs Policy Index Correlation: 0.6029701377767512 | P-Value: 2.6916336775149503e-38\n"
     ]
    }
   ],
   "source": [
    "r, p = stats.pearsonr(\n",
    "    ucry_reddit_price_trim.dropna()[\"index_value\"],\n",
    "    ucry_reddit_policy_trim.dropna()[\"index_value\"],\n",
    ")\n",
    "\n",
    "print(f\"Reddit Price vs Policy Index Correlation: {r} | P-Value: {p}\")"
   ]
  },
  {
   "cell_type": "markdown",
   "metadata": {},
   "source": [
    "**Reddit Price Vs Lucey Policy**"
   ]
  },
  {
   "cell_type": "code",
   "execution_count": 45,
   "metadata": {},
   "outputs": [
    {
     "name": "stdout",
     "output_type": "stream",
     "text": [
      "Reddit Price vs Lucy Policy Index Correlation: 0.30305844782443936 | P-Value: 2.308465440296555e-09\n"
     ]
    }
   ],
   "source": [
    "r, p = stats.pearsonr(\n",
    "    ucry_reddit_price_trim.dropna()[\"index_value\"],\n",
    "    ucry_original_policy.dropna()[\"UCRY Policy Index\"],\n",
    ")\n",
    "\n",
    "print(f\"Reddit Price vs Lucey Policy Index Correlation: {r} | P-Value: {p}\")"
   ]
  },
  {
   "cell_type": "markdown",
   "metadata": {},
   "source": [
    "**Reddit Policy Vs Lucey Price**"
   ]
  },
  {
   "cell_type": "code",
   "execution_count": 46,
   "metadata": {},
   "outputs": [
    {
     "name": "stdout",
     "output_type": "stream",
     "text": [
      "Lucey Price vs Reddit Policy Index Correlation: 0.30795859373219925 | P-Value: 1.2321787201605176e-09\n"
     ]
    }
   ],
   "source": [
    "r, p = stats.pearsonr(\n",
    "    ucry_reddit_policy_trim.dropna()[\"index_value\"],\n",
    "    ucry_original_price.dropna()[\"UCRY Price Index\"],\n",
    ")\n",
    "\n",
    "print(f\"Lucey Price vs Reddit Policy Index Correlation: {r} | P-Value: {p}\")"
   ]
  },
  {
   "cell_type": "markdown",
   "metadata": {},
   "source": [
    "**Lucey Vs Lucey**"
   ]
  },
  {
   "cell_type": "code",
   "execution_count": 48,
   "metadata": {},
   "outputs": [
    {
     "name": "stdout",
     "output_type": "stream",
     "text": [
      "Lucey Price vs Lucey Policy Index Correlation: 0.9746483492453702 | P-Value: 2.4241584203953726e-243\n"
     ]
    }
   ],
   "source": [
    "r, p = stats.pearsonr(\n",
    "    ucry_original_policy.dropna()[\"UCRY Policy Index\"],\n",
    "    ucry_original_price.dropna()[\"UCRY Price Index\"],\n",
    ")\n",
    "\n",
    "print(f\"Lucey Price vs Lucey Policy Index Correlation: {r} | P-Value: {p}\")"
   ]
  }
 ],
 "metadata": {
  "interpreter": {
   "hash": "a27c1d8681405ad51c9f3519679e19b0a54f6a81e03666ec8b5f4d814cba4ac5"
  },
  "kernelspec": {
   "display_name": "Python 3.8.12 64-bit ('crypto-uncertainty-index-NHOdNUJC-py3.8': poetry)",
   "language": "python",
   "name": "python3"
  },
  "language_info": {
   "codemirror_mode": {
    "name": "ipython",
    "version": 3
   },
   "file_extension": ".py",
   "mimetype": "text/x-python",
   "name": "python",
   "nbconvert_exporter": "python",
   "pygments_lexer": "ipython3",
   "version": "3.8.12"
  },
  "orig_nbformat": 4
 },
 "nbformat": 4,
 "nbformat_minor": 2
}
